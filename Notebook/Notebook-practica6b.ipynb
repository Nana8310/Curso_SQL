{
    "metadata": {
        "kernelspec": {
            "name": "SQL",
            "display_name": "SQL",
            "language": "sql"
        },
        "language_info": {
            "name": "sql",
            "version": ""
        }
    },
    "nbformat_minor": 2,
    "nbformat": 4,
    "cells": [
        {
            "cell_type": "markdown",
            "source": [
                "Definiciones utilizadas en esta hoja de referencia\n",
                "\n",
                "Definiciones utilizadas en esta hoja de referencia\n",
                "\n",
                "**Clave primaria:**\n",
                "\n",
                "Una clave principal es un campo en una tabla que identifica de forma única\n",
                "\n",
                "cada registro de la tabla. En bases de datos relacionales, primarias.\n",
                "\n",
                "Las claves se pueden utilizar como campos para unir tablas.\n",
                "\n",
                "**Clave externa:**\n",
                "\n",
                "Una clave foránea es un campo en una tabla que hace referencia a la\n",
                "\n",
                "clave principal de otra tabla. En una base de datos relacional,\n",
                "\n",
                "Una forma de unir dos mesas es conectando el extranjero.\n",
                "\n",
                "clave de una tabla a la clave principal de otra\n",
                "\n",
                "**Relación uno a uno:**\n",
                "\n",
                "Las relaciones de la base de datos describen las relaciones. <span style=\"color: var(--vscode-foreground);\">entre registros en diferentes tablas. Cuando un uno a uno&nbsp;</span>  <span style=\"color: var(--vscode-foreground);\">existe una relación entre dos tablas, un registro dado en&nbsp;</span> <span style=\"color: var(--vscode-foreground);\">una tabla está relacionada de manera única con exactamente un registro en el</span><span style=\"color: var(--vscode-foreground);\">otra mesa.</span>\n",
                "\n",
                "**Relación uno a muchos:**\n",
                "\n",
                "En una relación de uno a muchos, un registro en una tabla puede <span style=\"color: var(--vscode-foreground);\">estar relacionado con uno o más registros en una segunda tabla.&nbsp;</span> <span style=\"color: var(--vscode-foreground);\">Sin embargo, un registro dado en la segunda tabla sólo será&nbsp;</span> <span style=\"color: var(--vscode-foreground);\">relacionado con un registro en la primera tabla.</span>\n",
                "\n",
                "**Relación de varios a varios:**\n",
                "\n",
                "<span style=\"color: var(--vscode-foreground);\">En una relación de varios a varios, los registros de una tabla A determinada se pueden relacionar con uno o más registros de otra tabla B ,&nbsp;</span> <span style=\"color: var(--vscode-foreground);\">y los registros de la tabla B también pueden relacionarse con muchos registros de la tabla A.</span>\n",
                "\n",
                "**Datos de muestra**"
            ],
            "metadata": {
                "azdata_cell_guid": "3e52b971-30b3-4980-92ef-a71b1587fc6d"
            },
            "attachments": {}
        },
        {
            "cell_type": "code",
            "source": [
                "CREATE SCHEMA practica6b;"
            ],
            "metadata": {
                "azdata_cell_guid": "d129dd4f-920f-4df8-b852-24837ab97ab9",
                "language": "sql"
            },
            "outputs": [
                {
                    "output_type": "display_data",
                    "data": {
                        "text/html": "Commands completed successfully"
                    },
                    "metadata": {}
                },
                {
                    "output_type": "display_data",
                    "data": {
                        "text/html": "Total execution time: 00:00:00.036"
                    },
                    "metadata": {}
                }
            ],
            "execution_count": 6
        },
        {
            "cell_type": "code",
            "source": [
                "CREATE TABLE practica6b.Artista (\r\n",
                "    artist_id INT PRIMARY KEY,\r\n",
                "    nombre NVARCHAR(100)\r\n",
                ");"
            ],
            "metadata": {
                "azdata_cell_guid": "2d1461ba-f903-42dc-9d6f-b5a0bad3e774",
                "language": "sql"
            },
            "outputs": [
                {
                    "output_type": "display_data",
                    "data": {
                        "text/html": "Commands completed successfully"
                    },
                    "metadata": {}
                },
                {
                    "output_type": "display_data",
                    "data": {
                        "text/html": "Total execution time: 00:00:00.048"
                    },
                    "metadata": {}
                }
            ],
            "execution_count": 7
        },
        {
            "cell_type": "code",
            "source": [
                "CREATE TABLE practica6b.Album (\r\n",
                "    album_id INT PRIMARY KEY,\r\n",
                "    titulo NVARCHAR(200),\r\n",
                "    artist_id INT,\r\n",
                "    FOREIGN KEY (artist_id) REFERENCES practica6b.Artista(artist_id)\r\n",
                ");\r\n",
                "\r\n",
                "\r\n",
                ""
            ],
            "metadata": {
                "azdata_cell_guid": "39ae9cdf-267d-4059-bb8a-035abaf85699",
                "language": "sql"
            },
            "outputs": [
                {
                    "output_type": "display_data",
                    "data": {
                        "text/html": "Total execution time: 00:00:00"
                    },
                    "metadata": {}
                },
                {
                    "output_type": "error",
                    "evalue": "1050 (42S01): Table 'album' already exists",
                    "ename": "",
                    "traceback": []
                }
            ],
            "execution_count": 12
        },
        {
            "cell_type": "code",
            "source": [
                "ALTER TABLE practica6b.Album\r\n",
                "RENAME COLUMN titulo TO title;"
            ],
            "metadata": {
                "azdata_cell_guid": "8299139f-c970-4645-8da8-98c9de719416",
                "language": "sql"
            },
            "outputs": [
                {
                    "output_type": "display_data",
                    "data": {
                        "text/html": "Commands completed successfully"
                    },
                    "metadata": {}
                },
                {
                    "output_type": "display_data",
                    "data": {
                        "text/html": "Total execution time: 00:00:00.046"
                    },
                    "metadata": {}
                }
            ],
            "execution_count": 13
        },
        {
            "cell_type": "code",
            "source": [
                "ALTER TABLE practica6b.artista\r\n",
                "RENAME COLUMN nombre TO name;"
            ],
            "metadata": {
                "azdata_cell_guid": "7e5c31e3-4879-4630-81e2-8c014e16fc0a",
                "language": "sql"
            },
            "outputs": [
                {
                    "output_type": "display_data",
                    "data": {
                        "text/html": "Commands completed successfully"
                    },
                    "metadata": {}
                },
                {
                    "output_type": "display_data",
                    "data": {
                        "text/html": "Total execution time: 00:00:00.038"
                    },
                    "metadata": {}
                }
            ],
            "execution_count": 14
        },
        {
            "cell_type": "code",
            "source": [
                "INSERT INTO practica6b.Artista (artist_id, name) VALUES\r\n",
                "    (1, 'AC/DC'),\r\n",
                "    (2, 'Aerosmith'),\r\n",
                "    (3, 'Alanis Morissette');"
            ],
            "metadata": {
                "azdata_cell_guid": "505e99a6-d83a-41cd-a0e8-6bf84f6f49fa",
                "language": "sql"
            },
            "outputs": [
                {
                    "output_type": "display_data",
                    "data": {
                        "text/html": "Commands completed successfully"
                    },
                    "metadata": {}
                },
                {
                    "output_type": "display_data",
                    "data": {
                        "text/html": "Total execution time: 00:00:00.030"
                    },
                    "metadata": {}
                }
            ],
            "execution_count": 16
        },
        {
            "cell_type": "code",
            "source": [
                "SET FOREIGN_KEY_CHECKS = 0;"
            ],
            "metadata": {
                "azdata_cell_guid": "bad395f0-0da8-4e5a-a709-6d22a718d462",
                "language": "sql"
            },
            "outputs": [
                {
                    "output_type": "display_data",
                    "data": {
                        "text/html": "Commands completed successfully"
                    },
                    "metadata": {}
                },
                {
                    "output_type": "display_data",
                    "data": {
                        "text/html": "Total execution time: 00:00:00.003"
                    },
                    "metadata": {}
                }
            ],
            "execution_count": 19
        },
        {
            "cell_type": "code",
            "source": [
                "INSERT INTO practica6b.Album (album_id, title, artist_id) VALUES\r\n",
                "    (1, 'For Those Who Rock', 1),\r\n",
                "    (2, 'Dream On', 2),\r\n",
                "    (3, 'Restless and Wild', 2),\r\n",
                "    (4, 'Let There Be Rock', 1),\r\n",
                "    (5, 'Rumours', 6);"
            ],
            "metadata": {
                "azdata_cell_guid": "74936b42-c210-4d55-9d15-45aaa9013222",
                "language": "sql"
            },
            "outputs": [
                {
                    "output_type": "display_data",
                    "data": {
                        "text/html": "Commands completed successfully"
                    },
                    "metadata": {}
                },
                {
                    "output_type": "display_data",
                    "data": {
                        "text/html": "Total execution time: 00:00:00.025"
                    },
                    "metadata": {}
                }
            ],
            "execution_count": 20
        },
        {
            "cell_type": "markdown",
            "source": [
                "**INNER JOIN**\n",
                "\n",
                "Una combinación interna entre dos tablas <span style=\"color: var(--vscode-foreground);\">devuelve solo los registros en los que una unión&nbsp;</span>  <span style=\"color: var(--vscode-foreground);\">campo, como una clave, encuentra una coincidencia en&nbsp;</span>  <span style=\"color: var(--vscode-foreground);\">Ambas tablas</span>\n",
                "\n",
                "![](data:image/png;base64,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)<span style=\"color: var(--vscode-foreground);\"><br></span>"
            ],
            "metadata": {
                "azdata_cell_guid": "1ef9d190-1bce-468b-bd42-7375b612772d"
            },
            "attachments": {}
        },
        {
            "cell_type": "code",
            "source": [
                "SELECT art.artist_id,art.name,alb.title,album_id\r\n",
                "FROM artista AS art \r\n",
                "INNER JOIN album AS alb \r\n",
                "ON art.artist_id = alb.artist_id;"
            ],
            "metadata": {
                "azdata_cell_guid": "76d34472-24a1-4939-99bb-457a7dca7fda",
                "language": "sql",
                "tags": []
            },
            "outputs": [
                {
                    "output_type": "display_data",
                    "data": {
                        "text/html": "(4 row(s) affected)"
                    },
                    "metadata": {}
                },
                {
                    "output_type": "display_data",
                    "data": {
                        "text/html": "Total execution time: 00:00:01.015"
                    },
                    "metadata": {}
                },
                {
                    "output_type": "execute_result",
                    "metadata": {},
                    "execution_count": 26,
                    "data": {
                        "application/vnd.dataresource+json": {
                            "schema": {
                                "fields": [
                                    {
                                        "name": "artist_id"
                                    },
                                    {
                                        "name": "name"
                                    },
                                    {
                                        "name": "title"
                                    },
                                    {
                                        "name": "album_id"
                                    }
                                ]
                            },
                            "data": [
                                {
                                    "artist_id": "1",
                                    "name": "AC/DC",
                                    "title": "For Those Who Rock",
                                    "album_id": "1"
                                },
                                {
                                    "artist_id": "1",
                                    "name": "AC/DC",
                                    "title": "Let There Be Rock",
                                    "album_id": "4"
                                },
                                {
                                    "artist_id": "2",
                                    "name": "Aerosmith",
                                    "title": "Dream On",
                                    "album_id": "2"
                                },
                                {
                                    "artist_id": "2",
                                    "name": "Aerosmith",
                                    "title": "Restless and Wild",
                                    "album_id": "3"
                                }
                            ]
                        },
                        "text/html": [
                            "<table>",
                            "<tr><th>artist_id</th><th>name</th><th>title</th><th>album_id</th></tr>",
                            "<tr><td>1</td><td>AC/DC</td><td>For Those Who Rock</td><td>1</td></tr>",
                            "<tr><td>1</td><td>AC/DC</td><td>Let There Be Rock</td><td>4</td></tr>",
                            "<tr><td>2</td><td>Aerosmith</td><td>Dream On</td><td>2</td></tr>",
                            "<tr><td>2</td><td>Aerosmith</td><td>Restless and Wild</td><td>3</td></tr>",
                            "</table>"
                        ]
                    }
                }
            ],
            "execution_count": 26
        },
        {
            "cell_type": "markdown",
            "source": [
                "**INNER JOIN with USING**"
            ],
            "metadata": {
                "azdata_cell_guid": "7b541d93-6b52-4cd5-a87c-bf20886344b8"
            },
            "attachments": {}
        },
        {
            "cell_type": "code",
            "source": [
                "SELECT art.artist_id,art.name,alb.title,album_id\r\n",
                "FROM artista AS art \r\n",
                "INNER JOIN album AS alb \r\n",
                "USING (artist_id);"
            ],
            "metadata": {
                "azdata_cell_guid": "7bebd074-59d9-4776-b667-857c53be6348",
                "language": "sql"
            },
            "outputs": [
                {
                    "output_type": "display_data",
                    "data": {
                        "text/html": "(4 row(s) affected)"
                    },
                    "metadata": {}
                },
                {
                    "output_type": "display_data",
                    "data": {
                        "text/html": "Total execution time: 00:00:01.004"
                    },
                    "metadata": {}
                },
                {
                    "output_type": "execute_result",
                    "metadata": {},
                    "execution_count": 27,
                    "data": {
                        "application/vnd.dataresource+json": {
                            "schema": {
                                "fields": [
                                    {
                                        "name": "artist_id"
                                    },
                                    {
                                        "name": "name"
                                    },
                                    {
                                        "name": "title"
                                    },
                                    {
                                        "name": "album_id"
                                    }
                                ]
                            },
                            "data": [
                                {
                                    "artist_id": "1",
                                    "name": "AC/DC",
                                    "title": "For Those Who Rock",
                                    "album_id": "1"
                                },
                                {
                                    "artist_id": "1",
                                    "name": "AC/DC",
                                    "title": "Let There Be Rock",
                                    "album_id": "4"
                                },
                                {
                                    "artist_id": "2",
                                    "name": "Aerosmith",
                                    "title": "Dream On",
                                    "album_id": "2"
                                },
                                {
                                    "artist_id": "2",
                                    "name": "Aerosmith",
                                    "title": "Restless and Wild",
                                    "album_id": "3"
                                }
                            ]
                        },
                        "text/html": [
                            "<table>",
                            "<tr><th>artist_id</th><th>name</th><th>title</th><th>album_id</th></tr>",
                            "<tr><td>1</td><td>AC/DC</td><td>For Those Who Rock</td><td>1</td></tr>",
                            "<tr><td>1</td><td>AC/DC</td><td>Let There Be Rock</td><td>4</td></tr>",
                            "<tr><td>2</td><td>Aerosmith</td><td>Dream On</td><td>2</td></tr>",
                            "<tr><td>2</td><td>Aerosmith</td><td>Restless and Wild</td><td>3</td></tr>",
                            "</table>"
                        ]
                    }
                }
            ],
            "execution_count": 27
        },
        {
            "cell_type": "markdown",
            "source": [
                "**SELF JOIN** \n",
                "\n",
                "Las autouniones se utilizan para comparar los valores de una tabla con otros valores de la misma tabla mediante la unión de diferentes partes <span style=\"color: var(--vscode-foreground);\">de una mesa juntos.</span>"
            ],
            "metadata": {
                "azdata_cell_guid": "11986b5b-ffc3-46a5-b527-98936b267396"
            },
            "attachments": {}
        },
        {
            "cell_type": "code",
            "source": [
                "SELECT alb1.artist_id,\r\n",
                "       alb1.title AS alb1_litle,\r\n",
                "       alb1.title AS alb2_title\r\n",
                "FROM album AS alb1\r\n",
                "INNER JOIN album AS alb2       "
            ],
            "metadata": {
                "azdata_cell_guid": "42479eff-d96d-4bb0-be9b-3eba03dba9d5",
                "language": "sql"
            },
            "outputs": [],
            "execution_count": null
        }
    ]
}