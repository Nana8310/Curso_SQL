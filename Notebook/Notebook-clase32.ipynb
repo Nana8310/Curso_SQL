{
    "metadata": {
        "kernelspec": {
            "name": "SQL",
            "display_name": "SQL",
            "language": "sql"
        },
        "language_info": {
            "name": "sql",
            "version": ""
        }
    },
    "nbformat_minor": 2,
    "nbformat": 4,
    "cells": [
        {
            "cell_type": "code",
            "source": [
                "USE datos;"
            ],
            "metadata": {
                "azdata_cell_guid": "8a13b9c6-8ca5-4709-8f12-b3cdd5b359ca",
                "language": "sql"
            },
            "outputs": [
                {
                    "output_type": "display_data",
                    "data": {
                        "text/html": "Commands completed successfully"
                    },
                    "metadata": {}
                },
                {
                    "output_type": "display_data",
                    "data": {
                        "text/html": "Total execution time: 00:00:00"
                    },
                    "metadata": {}
                }
            ],
            "execution_count": 1
        },
        {
            "cell_type": "markdown",
            "source": [
                "**JOIN:** Se utiliza para combinar filas  de dos  o mas tablas basadas en una columna relacionada"
            ],
            "metadata": {
                "azdata_cell_guid": "18d3fae9-801f-43d8-9880-fda2e45143d3"
            },
            "attachments": {}
        },
        {
            "cell_type": "code",
            "source": [
                "SELECT *\r\n",
                "FROM ventas v\r\n",
                "JOIN local l \r\n",
                "   ON v.ID_local = l.ID_local"
            ],
            "metadata": {
                "azdata_cell_guid": "c07ebfad-50b3-4357-a242-c3ccb5aa77d6",
                "language": "sql"
            },
            "outputs": [
                {
                    "output_type": "display_data",
                    "data": {
                        "text/html": "(22 row(s) affected)"
                    },
                    "metadata": {}
                },
                {
                    "output_type": "display_data",
                    "data": {
                        "text/html": "Total execution time: 00:00:01.018"
                    },
                    "metadata": {}
                },
                {
                    "output_type": "execute_result",
                    "execution_count": 5,
                    "data": {
                        "application/vnd.dataresource+json": {
                            "schema": {
                                "fields": [
                                    {
                                        "name": "ventas_id"
                                    },
                                    {
                                        "name": "Fecha"
                                    },
                                    {
                                        "name": "ID_local"
                                    },
                                    {
                                        "name": "clave_producto"
                                    },
                                    {
                                        "name": "venta"
                                    },
                                    {
                                        "name": "venta_empleado"
                                    },
                                    {
                                        "name": "ID_Local"
                                    },
                                    {
                                        "name": "Letra_zona"
                                    },
                                    {
                                        "name": "Direccion"
                                    },
                                    {
                                        "name": "Telefono"
                                    }
                                ]
                            },
                            "data": [
                                {
                                    "ventas_id": "4",
                                    "Fecha": "2018-10-30 00:00:00",
                                    "ID_local": "1",
                                    "clave_producto": "brr",
                                    "venta": "889",
                                    "venta_empleado": "9922377",
                                    "ID_Local": "1",
                                    "Letra_zona": "A",
                                    "Direccion": "Av de las Rosas 123",
                                    "Telefono": "357894"
                                },
                                {
                                    "ventas_id": "5",
                                    "Fecha": "2018-05-16 00:00:00",
                                    "ID_local": "1",
                                    "clave_producto": "qsd",
                                    "venta": "495",
                                    "venta_empleado": "2520477",
                                    "ID_Local": "1",
                                    "Letra_zona": "A",
                                    "Direccion": "Av de las Rosas 123",
                                    "Telefono": "357894"
                                },
                                {
                                    "ventas_id": "8",
                                    "Fecha": "2018-10-05 00:00:00",
                                    "ID_local": "1",
                                    "clave_producto": "pzz",
                                    "venta": "435",
                                    "venta_empleado": "2520477",
                                    "ID_Local": "1",
                                    "Letra_zona": "A",
                                    "Direccion": "Av de las Rosas 123",
                                    "Telefono": "357894"
                                },
                                {
                                    "ventas_id": "9",
                                    "Fecha": "2018-04-20 00:00:00",
                                    "ID_local": "1",
                                    "clave_producto": "qsd",
                                    "venta": "1203",
                                    "venta_empleado": "9922377",
                                    "ID_Local": "1",
                                    "Letra_zona": "A",
                                    "Direccion": "Av de las Rosas 123",
                                    "Telefono": "357894"
                                },
                                {
                                    "ventas_id": "10",
                                    "Fecha": "2018-06-08 00:00:00",
                                    "ID_local": "1",
                                    "clave_producto": "brr",
                                    "venta": "1038",
                                    "venta_empleado": "6332756",
                                    "ID_Local": "1",
                                    "Letra_zona": "A",
                                    "Direccion": "Av de las Rosas 123",
                                    "Telefono": "357894"
                                },
                                {
                                    "ventas_id": "11",
                                    "Fecha": "2018-08-22 00:00:00",
                                    "ID_local": "1",
                                    "clave_producto": "brr",
                                    "venta": "404",
                                    "venta_empleado": "3833745",
                                    "ID_Local": "1",
                                    "Letra_zona": "A",
                                    "Direccion": "Av de las Rosas 123",
                                    "Telefono": "357894"
                                },
                                {
                                    "ventas_id": "12",
                                    "Fecha": "2019-09-03 00:00:00",
                                    "ID_local": "1",
                                    "clave_producto": "pzz",
                                    "venta": "1362",
                                    "venta_empleado": "5728566",
                                    "ID_Local": "1",
                                    "Letra_zona": "A",
                                    "Direccion": "Av de las Rosas 123",
                                    "Telefono": "357894"
                                },
                                {
                                    "ventas_id": "15",
                                    "Fecha": "2019-12-15 00:00:00",
                                    "ID_local": "1",
                                    "clave_producto": "brr",
                                    "venta": "871",
                                    "venta_empleado": "2520477",
                                    "ID_Local": "1",
                                    "Letra_zona": "A",
                                    "Direccion": "Av de las Rosas 123",
                                    "Telefono": "357894"
                                },
                                {
                                    "ventas_id": "17",
                                    "Fecha": "2019-10-25 00:00:00",
                                    "ID_local": "1",
                                    "clave_producto": "pzz",
                                    "venta": "1376",
                                    "venta_empleado": "6332756",
                                    "ID_Local": "1",
                                    "Letra_zona": "A",
                                    "Direccion": "Av de las Rosas 123",
                                    "Telefono": "357894"
                                },
                                {
                                    "ventas_id": "20",
                                    "Fecha": "2019-12-01 00:00:00",
                                    "ID_local": "1",
                                    "clave_producto": "pzz",
                                    "venta": "1455",
                                    "venta_empleado": "2310967",
                                    "ID_Local": "1",
                                    "Letra_zona": "A",
                                    "Direccion": "Av de las Rosas 123",
                                    "Telefono": "357894"
                                },
                                {
                                    "ventas_id": "1",
                                    "Fecha": "2018-11-18 00:00:00",
                                    "ID_local": "2",
                                    "clave_producto": "pzz",
                                    "venta": "1302",
                                    "venta_empleado": "2630867",
                                    "ID_Local": "2",
                                    "Letra_zona": "B",
                                    "Direccion": "Calle poniente manzana 4",
                                    "Telefono": "377896"
                                },
                                {
                                    "ventas_id": "2",
                                    "Fecha": "2018-09-17 00:00:00",
                                    "ID_local": "2",
                                    "clave_producto": "clz",
                                    "venta": "953",
                                    "venta_empleado": "2310967",
                                    "ID_Local": "2",
                                    "Letra_zona": "B",
                                    "Direccion": "Calle poniente manzana 4",
                                    "Telefono": "377896"
                                },
                                {
                                    "ventas_id": "19",
                                    "Fecha": "2019-08-14 00:00:00",
                                    "ID_local": "2",
                                    "clave_producto": "clz",
                                    "venta": "972",
                                    "venta_empleado": "2310967",
                                    "ID_Local": "2",
                                    "Letra_zona": "B",
                                    "Direccion": "Calle poniente manzana 4",
                                    "Telefono": "377896"
                                },
                                {
                                    "ventas_id": "6",
                                    "Fecha": "2018-12-15 00:00:00",
                                    "ID_local": "3",
                                    "clave_producto": "pzz",
                                    "venta": "544",
                                    "venta_empleado": "9611338",
                                    "ID_Local": "3",
                                    "Letra_zona": "C",
                                    "Direccion": "Insurgentes 558",
                                    "Telefono": "347899"
                                },
                                {
                                    "ventas_id": "13",
                                    "Fecha": "2019-07-16 00:00:00",
                                    "ID_local": "3",
                                    "clave_producto": "qsd",
                                    "venta": "1054",
                                    "venta_empleado": "2310967",
                                    "ID_Local": "3",
                                    "Letra_zona": "C",
                                    "Direccion": "Insurgentes 558",
                                    "Telefono": "347899"
                                },
                                {
                                    "ventas_id": "14",
                                    "Fecha": "2019-08-27 00:00:00",
                                    "ID_local": "3",
                                    "clave_producto": "clz",
                                    "venta": "303",
                                    "venta_empleado": "3833745",
                                    "ID_Local": "3",
                                    "Letra_zona": "C",
                                    "Direccion": "Insurgentes 558",
                                    "Telefono": "347899"
                                },
                                {
                                    "ventas_id": "16",
                                    "Fecha": "2019-07-30 00:00:00",
                                    "ID_local": "3",
                                    "clave_producto": "brr",
                                    "venta": "1062",
                                    "venta_empleado": "5728566",
                                    "ID_Local": "3",
                                    "Letra_zona": "C",
                                    "Direccion": "Insurgentes 558",
                                    "Telefono": "347899"
                                },
                                {
                                    "ventas_id": "18",
                                    "Fecha": "2019-12-14 00:00:00",
                                    "ID_local": "3",
                                    "clave_producto": "pzz",
                                    "venta": "957",
                                    "venta_empleado": "2310967",
                                    "ID_Local": "3",
                                    "Letra_zona": "C",
                                    "Direccion": "Insurgentes 558",
                                    "Telefono": "347899"
                                },
                                {
                                    "ventas_id": "22",
                                    "Fecha": "2019-07-25 00:00:00",
                                    "ID_local": "3",
                                    "clave_producto": "clz",
                                    "venta": "1179",
                                    "venta_empleado": "2310967",
                                    "ID_Local": "3",
                                    "Letra_zona": "C",
                                    "Direccion": "Insurgentes 558",
                                    "Telefono": "347899"
                                },
                                {
                                    "ventas_id": "3",
                                    "Fecha": "2018-10-18 00:00:00",
                                    "ID_local": "4",
                                    "clave_producto": "brr",
                                    "venta": "1286",
                                    "venta_empleado": "6931035",
                                    "ID_Local": "4",
                                    "Letra_zona": "D",
                                    "Direccion": "Rinconada de Magnolias 409",
                                    "Telefono": "378341"
                                },
                                {
                                    "ventas_id": "7",
                                    "Fecha": "2018-07-28 00:00:00",
                                    "ID_local": "4",
                                    "clave_producto": "pzz",
                                    "venta": "1444",
                                    "venta_empleado": "6332756",
                                    "ID_Local": "4",
                                    "Letra_zona": "D",
                                    "Direccion": "Rinconada de Magnolias 409",
                                    "Telefono": "378341"
                                },
                                {
                                    "ventas_id": "21",
                                    "Fecha": "2019-06-08 00:00:00",
                                    "ID_local": "4",
                                    "clave_producto": "qsd",
                                    "venta": "497",
                                    "venta_empleado": "5728566",
                                    "ID_Local": "4",
                                    "Letra_zona": "D",
                                    "Direccion": "Rinconada de Magnolias 409",
                                    "Telefono": "378341"
                                }
                            ]
                        },
                        "text/html": "<table><tr><th>ventas_id</th><th>Fecha</th><th>ID_local</th><th>clave_producto</th><th>venta</th><th>venta_empleado</th><th>ID_Local</th><th>Letra_zona</th><th>Direccion</th><th>Telefono</th></tr><tr><td>4</td><td>2018-10-30 00:00:00</td><td>1</td><td>brr</td><td>889</td><td>9922377</td><td>1</td><td>A</td><td>Av de las Rosas 123</td><td>357894</td></tr><tr><td>5</td><td>2018-05-16 00:00:00</td><td>1</td><td>qsd</td><td>495</td><td>2520477</td><td>1</td><td>A</td><td>Av de las Rosas 123</td><td>357894</td></tr><tr><td>8</td><td>2018-10-05 00:00:00</td><td>1</td><td>pzz</td><td>435</td><td>2520477</td><td>1</td><td>A</td><td>Av de las Rosas 123</td><td>357894</td></tr><tr><td>9</td><td>2018-04-20 00:00:00</td><td>1</td><td>qsd</td><td>1203</td><td>9922377</td><td>1</td><td>A</td><td>Av de las Rosas 123</td><td>357894</td></tr><tr><td>10</td><td>2018-06-08 00:00:00</td><td>1</td><td>brr</td><td>1038</td><td>6332756</td><td>1</td><td>A</td><td>Av de las Rosas 123</td><td>357894</td></tr><tr><td>11</td><td>2018-08-22 00:00:00</td><td>1</td><td>brr</td><td>404</td><td>3833745</td><td>1</td><td>A</td><td>Av de las Rosas 123</td><td>357894</td></tr><tr><td>12</td><td>2019-09-03 00:00:00</td><td>1</td><td>pzz</td><td>1362</td><td>5728566</td><td>1</td><td>A</td><td>Av de las Rosas 123</td><td>357894</td></tr><tr><td>15</td><td>2019-12-15 00:00:00</td><td>1</td><td>brr</td><td>871</td><td>2520477</td><td>1</td><td>A</td><td>Av de las Rosas 123</td><td>357894</td></tr><tr><td>17</td><td>2019-10-25 00:00:00</td><td>1</td><td>pzz</td><td>1376</td><td>6332756</td><td>1</td><td>A</td><td>Av de las Rosas 123</td><td>357894</td></tr><tr><td>20</td><td>2019-12-01 00:00:00</td><td>1</td><td>pzz</td><td>1455</td><td>2310967</td><td>1</td><td>A</td><td>Av de las Rosas 123</td><td>357894</td></tr><tr><td>1</td><td>2018-11-18 00:00:00</td><td>2</td><td>pzz</td><td>1302</td><td>2630867</td><td>2</td><td>B</td><td>Calle poniente manzana 4</td><td>377896</td></tr><tr><td>2</td><td>2018-09-17 00:00:00</td><td>2</td><td>clz</td><td>953</td><td>2310967</td><td>2</td><td>B</td><td>Calle poniente manzana 4</td><td>377896</td></tr><tr><td>19</td><td>2019-08-14 00:00:00</td><td>2</td><td>clz</td><td>972</td><td>2310967</td><td>2</td><td>B</td><td>Calle poniente manzana 4</td><td>377896</td></tr><tr><td>6</td><td>2018-12-15 00:00:00</td><td>3</td><td>pzz</td><td>544</td><td>9611338</td><td>3</td><td>C</td><td>Insurgentes 558</td><td>347899</td></tr><tr><td>13</td><td>2019-07-16 00:00:00</td><td>3</td><td>qsd</td><td>1054</td><td>2310967</td><td>3</td><td>C</td><td>Insurgentes 558</td><td>347899</td></tr><tr><td>14</td><td>2019-08-27 00:00:00</td><td>3</td><td>clz</td><td>303</td><td>3833745</td><td>3</td><td>C</td><td>Insurgentes 558</td><td>347899</td></tr><tr><td>16</td><td>2019-07-30 00:00:00</td><td>3</td><td>brr</td><td>1062</td><td>5728566</td><td>3</td><td>C</td><td>Insurgentes 558</td><td>347899</td></tr><tr><td>18</td><td>2019-12-14 00:00:00</td><td>3</td><td>pzz</td><td>957</td><td>2310967</td><td>3</td><td>C</td><td>Insurgentes 558</td><td>347899</td></tr><tr><td>22</td><td>2019-07-25 00:00:00</td><td>3</td><td>clz</td><td>1179</td><td>2310967</td><td>3</td><td>C</td><td>Insurgentes 558</td><td>347899</td></tr><tr><td>3</td><td>2018-10-18 00:00:00</td><td>4</td><td>brr</td><td>1286</td><td>6931035</td><td>4</td><td>D</td><td>Rinconada de Magnolias 409</td><td>378341</td></tr><tr><td>7</td><td>2018-07-28 00:00:00</td><td>4</td><td>pzz</td><td>1444</td><td>6332756</td><td>4</td><td>D</td><td>Rinconada de Magnolias 409</td><td>378341</td></tr><tr><td>21</td><td>2019-06-08 00:00:00</td><td>4</td><td>qsd</td><td>497</td><td>5728566</td><td>4</td><td>D</td><td>Rinconada de Magnolias 409</td><td>378341</td></tr></table>"
                    },
                    "metadata": {}
                }
            ],
            "execution_count": 5
        },
        {
            "cell_type": "code",
            "source": [
                "SELECT *\r\n",
                "FROM ventas v\r\n",
                "JOIN local l \r\n",
                "  ON v.ID_local = l.ID_local\r\n",
                "JOIN empleados e \r\n",
                "  ON v.venta_empleado = e.ID_empleado; "
            ],
            "metadata": {
                "azdata_cell_guid": "45eaad79-4780-4cb9-97fd-048c0f91e515",
                "language": "sql"
            },
            "outputs": [
                {
                    "output_type": "display_data",
                    "data": {
                        "text/html": "(19 row(s) affected)"
                    },
                    "metadata": {}
                },
                {
                    "output_type": "display_data",
                    "data": {
                        "text/html": "Total execution time: 00:00:01.038"
                    },
                    "metadata": {}
                },
                {
                    "output_type": "execute_result",
                    "execution_count": 6,
                    "data": {
                        "application/vnd.dataresource+json": {
                            "schema": {
                                "fields": [
                                    {
                                        "name": "ventas_id"
                                    },
                                    {
                                        "name": "Fecha"
                                    },
                                    {
                                        "name": "ID_local"
                                    },
                                    {
                                        "name": "clave_producto"
                                    },
                                    {
                                        "name": "venta"
                                    },
                                    {
                                        "name": "venta_empleado"
                                    },
                                    {
                                        "name": "ID_Local"
                                    },
                                    {
                                        "name": "Letra_zona"
                                    },
                                    {
                                        "name": "Direccion"
                                    },
                                    {
                                        "name": "Telefono"
                                    },
                                    {
                                        "name": "ID_empleado"
                                    },
                                    {
                                        "name": "Nombre"
                                    },
                                    {
                                        "name": "Apellido"
                                    },
                                    {
                                        "name": "Telefono"
                                    },
                                    {
                                        "name": "Edad"
                                    },
                                    {
                                        "name": "Domicilio"
                                    },
                                    {
                                        "name": "ID_Gerente"
                                    }
                                ]
                            },
                            "data": [
                                {
                                    "ventas_id": "4",
                                    "Fecha": "2018-10-30 00:00:00",
                                    "ID_local": "1",
                                    "clave_producto": "brr",
                                    "venta": "889",
                                    "venta_empleado": "9922377",
                                    "ID_Local": "1",
                                    "Letra_zona": "A",
                                    "Direccion": "Av de las Rosas 123",
                                    "Telefono": "36554872",
                                    "ID_empleado": "9922377",
                                    "Nombre": "Alexander",
                                    "Apellido": "Martinez",
                                    "Edad": "28",
                                    "Domicilio": "Camino viejo 123",
                                    "ID_Gerente": "5942572"
                                },
                                {
                                    "ventas_id": "5",
                                    "Fecha": "2018-05-16 00:00:00",
                                    "ID_local": "1",
                                    "clave_producto": "qsd",
                                    "venta": "495",
                                    "venta_empleado": "2520477",
                                    "ID_Local": "1",
                                    "Letra_zona": "A",
                                    "Direccion": "Av de las Rosas 123",
                                    "Telefono": "33444383",
                                    "ID_empleado": "2520477",
                                    "Nombre": "Egidio",
                                    "Apellido": "Lopez",
                                    "Edad": "24",
                                    "Domicilio": "Rosas 996",
                                    "ID_Gerente": "5942572"
                                },
                                {
                                    "ventas_id": "8",
                                    "Fecha": "2018-10-05 00:00:00",
                                    "ID_local": "1",
                                    "clave_producto": "pzz",
                                    "venta": "435",
                                    "venta_empleado": "2520477",
                                    "ID_Local": "1",
                                    "Letra_zona": "A",
                                    "Direccion": "Av de las Rosas 123",
                                    "Telefono": "33444383",
                                    "ID_empleado": "2520477",
                                    "Nombre": "Egidio",
                                    "Apellido": "Lopez",
                                    "Edad": "24",
                                    "Domicilio": "Rosas 996",
                                    "ID_Gerente": "5942572"
                                },
                                {
                                    "ventas_id": "9",
                                    "Fecha": "2018-04-20 00:00:00",
                                    "ID_local": "1",
                                    "clave_producto": "qsd",
                                    "venta": "1203",
                                    "venta_empleado": "9922377",
                                    "ID_Local": "1",
                                    "Letra_zona": "A",
                                    "Direccion": "Av de las Rosas 123",
                                    "Telefono": "36554872",
                                    "ID_empleado": "9922377",
                                    "Nombre": "Alexander",
                                    "Apellido": "Martinez",
                                    "Edad": "28",
                                    "Domicilio": "Camino viejo 123",
                                    "ID_Gerente": "5942572"
                                },
                                {
                                    "ventas_id": "10",
                                    "Fecha": "2018-06-08 00:00:00",
                                    "ID_local": "1",
                                    "clave_producto": "brr",
                                    "venta": "1038",
                                    "venta_empleado": "6332756",
                                    "ID_Local": "1",
                                    "Letra_zona": "A",
                                    "Direccion": "Av de las Rosas 123",
                                    "Telefono": "36642727",
                                    "ID_empleado": "6332756",
                                    "Nombre": "Reinaldo",
                                    "Apellido": "Gonzalez",
                                    "Edad": "43",
                                    "Domicilio": "Vallarta 711",
                                    "ID_Gerente": "5942572"
                                },
                                {
                                    "ventas_id": "11",
                                    "Fecha": "2018-08-22 00:00:00",
                                    "ID_local": "1",
                                    "clave_producto": "brr",
                                    "venta": "404",
                                    "venta_empleado": "3833745",
                                    "ID_Local": "1",
                                    "Letra_zona": "A",
                                    "Direccion": "Av de las Rosas 123",
                                    "Telefono": "35354455",
                                    "ID_empleado": "3833745",
                                    "Nombre": "Maria",
                                    "Apellido": "Zapata",
                                    "Edad": "34",
                                    "Domicilio": "Boulevard 85",
                                    "ID_Gerente": "5942572"
                                },
                                {
                                    "ventas_id": "15",
                                    "Fecha": "2019-12-15 00:00:00",
                                    "ID_local": "1",
                                    "clave_producto": "brr",
                                    "venta": "871",
                                    "venta_empleado": "2520477",
                                    "ID_Local": "1",
                                    "Letra_zona": "A",
                                    "Direccion": "Av de las Rosas 123",
                                    "Telefono": "33444383",
                                    "ID_empleado": "2520477",
                                    "Nombre": "Egidio",
                                    "Apellido": "Lopez",
                                    "Edad": "24",
                                    "Domicilio": "Rosas 996",
                                    "ID_Gerente": "5942572"
                                },
                                {
                                    "ventas_id": "17",
                                    "Fecha": "2019-10-25 00:00:00",
                                    "ID_local": "1",
                                    "clave_producto": "pzz",
                                    "venta": "1376",
                                    "venta_empleado": "6332756",
                                    "ID_Local": "1",
                                    "Letra_zona": "A",
                                    "Direccion": "Av de las Rosas 123",
                                    "Telefono": "36642727",
                                    "ID_empleado": "6332756",
                                    "Nombre": "Reinaldo",
                                    "Apellido": "Gonzalez",
                                    "Edad": "43",
                                    "Domicilio": "Vallarta 711",
                                    "ID_Gerente": "5942572"
                                },
                                {
                                    "ventas_id": "20",
                                    "Fecha": "2019-12-01 00:00:00",
                                    "ID_local": "1",
                                    "clave_producto": "pzz",
                                    "venta": "1455",
                                    "venta_empleado": "2310967",
                                    "ID_Local": "1",
                                    "Letra_zona": "A",
                                    "Direccion": "Av de las Rosas 123",
                                    "Telefono": "36403810",
                                    "ID_empleado": "2310967",
                                    "Nombre": "Jairo",
                                    "Apellido": "Mira",
                                    "Edad": "29",
                                    "Domicilio": "Calle 25 interior 2",
                                    "ID_Gerente": "5942572"
                                },
                                {
                                    "ventas_id": "1",
                                    "Fecha": "2018-11-18 00:00:00",
                                    "ID_local": "2",
                                    "clave_producto": "pzz",
                                    "venta": "1302",
                                    "venta_empleado": "2630867",
                                    "ID_Local": "2",
                                    "Letra_zona": "B",
                                    "Direccion": "Calle poniente manzana 4",
                                    "Telefono": "35581732",
                                    "ID_empleado": "2630867",
                                    "Nombre": "Elena",
                                    "Apellido": "Atehortua",
                                    "Edad": "37",
                                    "Domicilio": "Sierra del tigre 299",
                                    "ID_Gerente": "5942572"
                                },
                                {
                                    "ventas_id": "2",
                                    "Fecha": "2018-09-17 00:00:00",
                                    "ID_local": "2",
                                    "clave_producto": "clz",
                                    "venta": "953",
                                    "venta_empleado": "2310967",
                                    "ID_Local": "2",
                                    "Letra_zona": "B",
                                    "Direccion": "Calle poniente manzana 4",
                                    "Telefono": "36403810",
                                    "ID_empleado": "2310967",
                                    "Nombre": "Jairo",
                                    "Apellido": "Mira",
                                    "Edad": "29",
                                    "Domicilio": "Calle 25 interior 2",
                                    "ID_Gerente": "5942572"
                                },
                                {
                                    "ventas_id": "19",
                                    "Fecha": "2019-08-14 00:00:00",
                                    "ID_local": "2",
                                    "clave_producto": "clz",
                                    "venta": "972",
                                    "venta_empleado": "2310967",
                                    "ID_Local": "2",
                                    "Letra_zona": "B",
                                    "Direccion": "Calle poniente manzana 4",
                                    "Telefono": "36403810",
                                    "ID_empleado": "2310967",
                                    "Nombre": "Jairo",
                                    "Apellido": "Mira",
                                    "Edad": "29",
                                    "Domicilio": "Calle 25 interior 2",
                                    "ID_Gerente": "5942572"
                                },
                                {
                                    "ventas_id": "6",
                                    "Fecha": "2018-12-15 00:00:00",
                                    "ID_local": "3",
                                    "clave_producto": "pzz",
                                    "venta": "544",
                                    "venta_empleado": "9611338",
                                    "ID_Local": "3",
                                    "Letra_zona": "C",
                                    "Direccion": "Insurgentes 558",
                                    "Telefono": "35400189",
                                    "ID_empleado": "9611338",
                                    "Nombre": "Haygnes",
                                    "Apellido": "Ortiz",
                                    "Edad": "27",
                                    "Domicilio": "General Diaz 343",
                                    "ID_Gerente": "5942572"
                                },
                                {
                                    "ventas_id": "13",
                                    "Fecha": "2019-07-16 00:00:00",
                                    "ID_local": "3",
                                    "clave_producto": "qsd",
                                    "venta": "1054",
                                    "venta_empleado": "2310967",
                                    "ID_Local": "3",
                                    "Letra_zona": "C",
                                    "Direccion": "Insurgentes 558",
                                    "Telefono": "36403810",
                                    "ID_empleado": "2310967",
                                    "Nombre": "Jairo",
                                    "Apellido": "Mira",
                                    "Edad": "29",
                                    "Domicilio": "Calle 25 interior 2",
                                    "ID_Gerente": "5942572"
                                },
                                {
                                    "ventas_id": "14",
                                    "Fecha": "2019-08-27 00:00:00",
                                    "ID_local": "3",
                                    "clave_producto": "clz",
                                    "venta": "303",
                                    "venta_empleado": "3833745",
                                    "ID_Local": "3",
                                    "Letra_zona": "C",
                                    "Direccion": "Insurgentes 558",
                                    "Telefono": "35354455",
                                    "ID_empleado": "3833745",
                                    "Nombre": "Maria",
                                    "Apellido": "Zapata",
                                    "Edad": "34",
                                    "Domicilio": "Boulevard 85",
                                    "ID_Gerente": "5942572"
                                },
                                {
                                    "ventas_id": "18",
                                    "Fecha": "2019-12-14 00:00:00",
                                    "ID_local": "3",
                                    "clave_producto": "pzz",
                                    "venta": "957",
                                    "venta_empleado": "2310967",
                                    "ID_Local": "3",
                                    "Letra_zona": "C",
                                    "Direccion": "Insurgentes 558",
                                    "Telefono": "36403810",
                                    "ID_empleado": "2310967",
                                    "Nombre": "Jairo",
                                    "Apellido": "Mira",
                                    "Edad": "29",
                                    "Domicilio": "Calle 25 interior 2",
                                    "ID_Gerente": "5942572"
                                },
                                {
                                    "ventas_id": "22",
                                    "Fecha": "2019-07-25 00:00:00",
                                    "ID_local": "3",
                                    "clave_producto": "clz",
                                    "venta": "1179",
                                    "venta_empleado": "2310967",
                                    "ID_Local": "3",
                                    "Letra_zona": "C",
                                    "Direccion": "Insurgentes 558",
                                    "Telefono": "36403810",
                                    "ID_empleado": "2310967",
                                    "Nombre": "Jairo",
                                    "Apellido": "Mira",
                                    "Edad": "29",
                                    "Domicilio": "Calle 25 interior 2",
                                    "ID_Gerente": "5942572"
                                },
                                {
                                    "ventas_id": "3",
                                    "Fecha": "2018-10-18 00:00:00",
                                    "ID_local": "4",
                                    "clave_producto": "brr",
                                    "venta": "1286",
                                    "venta_empleado": "6931035",
                                    "ID_Local": "4",
                                    "Letra_zona": "D",
                                    "Direccion": "Rinconada de Magnolias 409",
                                    "Telefono": "33631010",
                                    "ID_empleado": "6931035",
                                    "Nombre": "Albeiro",
                                    "Apellido": "Villa",
                                    "Edad": "39",
                                    "Domicilio": "Carniceros 233",
                                    "ID_Gerente": "5942572"
                                },
                                {
                                    "ventas_id": "7",
                                    "Fecha": "2018-07-28 00:00:00",
                                    "ID_local": "4",
                                    "clave_producto": "pzz",
                                    "venta": "1444",
                                    "venta_empleado": "6332756",
                                    "ID_Local": "4",
                                    "Letra_zona": "D",
                                    "Direccion": "Rinconada de Magnolias 409",
                                    "Telefono": "36642727",
                                    "ID_empleado": "6332756",
                                    "Nombre": "Reinaldo",
                                    "Apellido": "Gonzalez",
                                    "Edad": "43",
                                    "Domicilio": "Vallarta 711",
                                    "ID_Gerente": "5942572"
                                }
                            ]
                        },
                        "text/html": "<table><tr><th>ventas_id</th><th>Fecha</th><th>ID_local</th><th>clave_producto</th><th>venta</th><th>venta_empleado</th><th>ID_Local</th><th>Letra_zona</th><th>Direccion</th><th>Telefono</th><th>ID_empleado</th><th>Nombre</th><th>Apellido</th><th>Telefono</th><th>Edad</th><th>Domicilio</th><th>ID_Gerente</th></tr><tr><td>4</td><td>2018-10-30 00:00:00</td><td>1</td><td>brr</td><td>889</td><td>9922377</td><td>1</td><td>A</td><td>Av de las Rosas 123</td><td>357894</td><td>9922377</td><td>Alexander</td><td>Martinez</td><td>36554872</td><td>28</td><td>Camino viejo 123</td><td>5942572</td></tr><tr><td>5</td><td>2018-05-16 00:00:00</td><td>1</td><td>qsd</td><td>495</td><td>2520477</td><td>1</td><td>A</td><td>Av de las Rosas 123</td><td>357894</td><td>2520477</td><td>Egidio</td><td>Lopez</td><td>33444383</td><td>24</td><td>Rosas 996</td><td>5942572</td></tr><tr><td>8</td><td>2018-10-05 00:00:00</td><td>1</td><td>pzz</td><td>435</td><td>2520477</td><td>1</td><td>A</td><td>Av de las Rosas 123</td><td>357894</td><td>2520477</td><td>Egidio</td><td>Lopez</td><td>33444383</td><td>24</td><td>Rosas 996</td><td>5942572</td></tr><tr><td>9</td><td>2018-04-20 00:00:00</td><td>1</td><td>qsd</td><td>1203</td><td>9922377</td><td>1</td><td>A</td><td>Av de las Rosas 123</td><td>357894</td><td>9922377</td><td>Alexander</td><td>Martinez</td><td>36554872</td><td>28</td><td>Camino viejo 123</td><td>5942572</td></tr><tr><td>10</td><td>2018-06-08 00:00:00</td><td>1</td><td>brr</td><td>1038</td><td>6332756</td><td>1</td><td>A</td><td>Av de las Rosas 123</td><td>357894</td><td>6332756</td><td>Reinaldo</td><td>Gonzalez</td><td>36642727</td><td>43</td><td>Vallarta 711</td><td>5942572</td></tr><tr><td>11</td><td>2018-08-22 00:00:00</td><td>1</td><td>brr</td><td>404</td><td>3833745</td><td>1</td><td>A</td><td>Av de las Rosas 123</td><td>357894</td><td>3833745</td><td>Maria</td><td>Zapata</td><td>35354455</td><td>34</td><td>Boulevard 85</td><td>5942572</td></tr><tr><td>15</td><td>2019-12-15 00:00:00</td><td>1</td><td>brr</td><td>871</td><td>2520477</td><td>1</td><td>A</td><td>Av de las Rosas 123</td><td>357894</td><td>2520477</td><td>Egidio</td><td>Lopez</td><td>33444383</td><td>24</td><td>Rosas 996</td><td>5942572</td></tr><tr><td>17</td><td>2019-10-25 00:00:00</td><td>1</td><td>pzz</td><td>1376</td><td>6332756</td><td>1</td><td>A</td><td>Av de las Rosas 123</td><td>357894</td><td>6332756</td><td>Reinaldo</td><td>Gonzalez</td><td>36642727</td><td>43</td><td>Vallarta 711</td><td>5942572</td></tr><tr><td>20</td><td>2019-12-01 00:00:00</td><td>1</td><td>pzz</td><td>1455</td><td>2310967</td><td>1</td><td>A</td><td>Av de las Rosas 123</td><td>357894</td><td>2310967</td><td>Jairo</td><td>Mira</td><td>36403810</td><td>29</td><td>Calle 25 interior 2</td><td>5942572</td></tr><tr><td>1</td><td>2018-11-18 00:00:00</td><td>2</td><td>pzz</td><td>1302</td><td>2630867</td><td>2</td><td>B</td><td>Calle poniente manzana 4</td><td>377896</td><td>2630867</td><td>Elena</td><td>Atehortua</td><td>35581732</td><td>37</td><td>Sierra del tigre 299</td><td>5942572</td></tr><tr><td>2</td><td>2018-09-17 00:00:00</td><td>2</td><td>clz</td><td>953</td><td>2310967</td><td>2</td><td>B</td><td>Calle poniente manzana 4</td><td>377896</td><td>2310967</td><td>Jairo</td><td>Mira</td><td>36403810</td><td>29</td><td>Calle 25 interior 2</td><td>5942572</td></tr><tr><td>19</td><td>2019-08-14 00:00:00</td><td>2</td><td>clz</td><td>972</td><td>2310967</td><td>2</td><td>B</td><td>Calle poniente manzana 4</td><td>377896</td><td>2310967</td><td>Jairo</td><td>Mira</td><td>36403810</td><td>29</td><td>Calle 25 interior 2</td><td>5942572</td></tr><tr><td>6</td><td>2018-12-15 00:00:00</td><td>3</td><td>pzz</td><td>544</td><td>9611338</td><td>3</td><td>C</td><td>Insurgentes 558</td><td>347899</td><td>9611338</td><td>Haygnes</td><td>Ortiz</td><td>35400189</td><td>27</td><td>General Diaz 343</td><td>5942572</td></tr><tr><td>13</td><td>2019-07-16 00:00:00</td><td>3</td><td>qsd</td><td>1054</td><td>2310967</td><td>3</td><td>C</td><td>Insurgentes 558</td><td>347899</td><td>2310967</td><td>Jairo</td><td>Mira</td><td>36403810</td><td>29</td><td>Calle 25 interior 2</td><td>5942572</td></tr><tr><td>14</td><td>2019-08-27 00:00:00</td><td>3</td><td>clz</td><td>303</td><td>3833745</td><td>3</td><td>C</td><td>Insurgentes 558</td><td>347899</td><td>3833745</td><td>Maria</td><td>Zapata</td><td>35354455</td><td>34</td><td>Boulevard 85</td><td>5942572</td></tr><tr><td>18</td><td>2019-12-14 00:00:00</td><td>3</td><td>pzz</td><td>957</td><td>2310967</td><td>3</td><td>C</td><td>Insurgentes 558</td><td>347899</td><td>2310967</td><td>Jairo</td><td>Mira</td><td>36403810</td><td>29</td><td>Calle 25 interior 2</td><td>5942572</td></tr><tr><td>22</td><td>2019-07-25 00:00:00</td><td>3</td><td>clz</td><td>1179</td><td>2310967</td><td>3</td><td>C</td><td>Insurgentes 558</td><td>347899</td><td>2310967</td><td>Jairo</td><td>Mira</td><td>36403810</td><td>29</td><td>Calle 25 interior 2</td><td>5942572</td></tr><tr><td>3</td><td>2018-10-18 00:00:00</td><td>4</td><td>brr</td><td>1286</td><td>6931035</td><td>4</td><td>D</td><td>Rinconada de Magnolias 409</td><td>378341</td><td>6931035</td><td>Albeiro</td><td>Villa</td><td>33631010</td><td>39</td><td>Carniceros 233</td><td>5942572</td></tr><tr><td>7</td><td>2018-07-28 00:00:00</td><td>4</td><td>pzz</td><td>1444</td><td>6332756</td><td>4</td><td>D</td><td>Rinconada de Magnolias 409</td><td>378341</td><td>6332756</td><td>Reinaldo</td><td>Gonzalez</td><td>36642727</td><td>43</td><td>Vallarta 711</td><td>5942572</td></tr></table>"
                    },
                    "metadata": {}
                }
            ],
            "execution_count": 6
        },
        {
            "cell_type": "markdown",
            "source": [
                "falta algunas filas"
            ],
            "metadata": {
                "azdata_cell_guid": "ca120b49-b921-45dd-99b0-06b0f07f3a07"
            },
            "attachments": {}
        },
        {
            "cell_type": "code",
            "source": [
                "SELECT \r\n",
                "       v.ventas_id,\r\n",
                "       v.fecha,\r\n",
                "       l.direccion,\r\n",
                "       v.clave_producto,\r\n",
                "       v.venta,\r\n",
                "       e.nombre,\r\n",
                "       e.apellido\r\n",
                " FROM ventas v\r\n",
                " JOIN local l \r\n",
                "      ON v.ID_local = l.ID_local \r\n",
                " JOIN empleados e \r\n",
                "   ON v.venta_empleado = e.ID_empleado;                  \r\n",
                ""
            ],
            "metadata": {
                "azdata_cell_guid": "7ea50a77-54cc-4a09-ad5c-2141a5251ff1",
                "language": "sql"
            },
            "outputs": [
                {
                    "output_type": "display_data",
                    "data": {
                        "text/html": "(19 row(s) affected)"
                    },
                    "metadata": {}
                },
                {
                    "output_type": "display_data",
                    "data": {
                        "text/html": "Total execution time: 00:00:01.014"
                    },
                    "metadata": {}
                },
                {
                    "output_type": "execute_result",
                    "execution_count": 8,
                    "data": {
                        "application/vnd.dataresource+json": {
                            "schema": {
                                "fields": [
                                    {
                                        "name": "ventas_id"
                                    },
                                    {
                                        "name": "fecha"
                                    },
                                    {
                                        "name": "direccion"
                                    },
                                    {
                                        "name": "clave_producto"
                                    },
                                    {
                                        "name": "venta"
                                    },
                                    {
                                        "name": "nombre"
                                    },
                                    {
                                        "name": "apellido"
                                    }
                                ]
                            },
                            "data": [
                                {
                                    "ventas_id": "4",
                                    "fecha": "2018-10-30 00:00:00",
                                    "direccion": "Av de las Rosas 123",
                                    "clave_producto": "brr",
                                    "venta": "889",
                                    "nombre": "Alexander",
                                    "apellido": "Martinez"
                                },
                                {
                                    "ventas_id": "5",
                                    "fecha": "2018-05-16 00:00:00",
                                    "direccion": "Av de las Rosas 123",
                                    "clave_producto": "qsd",
                                    "venta": "495",
                                    "nombre": "Egidio",
                                    "apellido": "Lopez"
                                },
                                {
                                    "ventas_id": "8",
                                    "fecha": "2018-10-05 00:00:00",
                                    "direccion": "Av de las Rosas 123",
                                    "clave_producto": "pzz",
                                    "venta": "435",
                                    "nombre": "Egidio",
                                    "apellido": "Lopez"
                                },
                                {
                                    "ventas_id": "9",
                                    "fecha": "2018-04-20 00:00:00",
                                    "direccion": "Av de las Rosas 123",
                                    "clave_producto": "qsd",
                                    "venta": "1203",
                                    "nombre": "Alexander",
                                    "apellido": "Martinez"
                                },
                                {
                                    "ventas_id": "10",
                                    "fecha": "2018-06-08 00:00:00",
                                    "direccion": "Av de las Rosas 123",
                                    "clave_producto": "brr",
                                    "venta": "1038",
                                    "nombre": "Reinaldo",
                                    "apellido": "Gonzalez"
                                },
                                {
                                    "ventas_id": "11",
                                    "fecha": "2018-08-22 00:00:00",
                                    "direccion": "Av de las Rosas 123",
                                    "clave_producto": "brr",
                                    "venta": "404",
                                    "nombre": "Maria",
                                    "apellido": "Zapata"
                                },
                                {
                                    "ventas_id": "15",
                                    "fecha": "2019-12-15 00:00:00",
                                    "direccion": "Av de las Rosas 123",
                                    "clave_producto": "brr",
                                    "venta": "871",
                                    "nombre": "Egidio",
                                    "apellido": "Lopez"
                                },
                                {
                                    "ventas_id": "17",
                                    "fecha": "2019-10-25 00:00:00",
                                    "direccion": "Av de las Rosas 123",
                                    "clave_producto": "pzz",
                                    "venta": "1376",
                                    "nombre": "Reinaldo",
                                    "apellido": "Gonzalez"
                                },
                                {
                                    "ventas_id": "20",
                                    "fecha": "2019-12-01 00:00:00",
                                    "direccion": "Av de las Rosas 123",
                                    "clave_producto": "pzz",
                                    "venta": "1455",
                                    "nombre": "Jairo",
                                    "apellido": "Mira"
                                },
                                {
                                    "ventas_id": "1",
                                    "fecha": "2018-11-18 00:00:00",
                                    "direccion": "Calle poniente manzana 4",
                                    "clave_producto": "pzz",
                                    "venta": "1302",
                                    "nombre": "Elena",
                                    "apellido": "Atehortua"
                                },
                                {
                                    "ventas_id": "2",
                                    "fecha": "2018-09-17 00:00:00",
                                    "direccion": "Calle poniente manzana 4",
                                    "clave_producto": "clz",
                                    "venta": "953",
                                    "nombre": "Jairo",
                                    "apellido": "Mira"
                                },
                                {
                                    "ventas_id": "19",
                                    "fecha": "2019-08-14 00:00:00",
                                    "direccion": "Calle poniente manzana 4",
                                    "clave_producto": "clz",
                                    "venta": "972",
                                    "nombre": "Jairo",
                                    "apellido": "Mira"
                                },
                                {
                                    "ventas_id": "6",
                                    "fecha": "2018-12-15 00:00:00",
                                    "direccion": "Insurgentes 558",
                                    "clave_producto": "pzz",
                                    "venta": "544",
                                    "nombre": "Haygnes",
                                    "apellido": "Ortiz"
                                },
                                {
                                    "ventas_id": "13",
                                    "fecha": "2019-07-16 00:00:00",
                                    "direccion": "Insurgentes 558",
                                    "clave_producto": "qsd",
                                    "venta": "1054",
                                    "nombre": "Jairo",
                                    "apellido": "Mira"
                                },
                                {
                                    "ventas_id": "14",
                                    "fecha": "2019-08-27 00:00:00",
                                    "direccion": "Insurgentes 558",
                                    "clave_producto": "clz",
                                    "venta": "303",
                                    "nombre": "Maria",
                                    "apellido": "Zapata"
                                },
                                {
                                    "ventas_id": "18",
                                    "fecha": "2019-12-14 00:00:00",
                                    "direccion": "Insurgentes 558",
                                    "clave_producto": "pzz",
                                    "venta": "957",
                                    "nombre": "Jairo",
                                    "apellido": "Mira"
                                },
                                {
                                    "ventas_id": "22",
                                    "fecha": "2019-07-25 00:00:00",
                                    "direccion": "Insurgentes 558",
                                    "clave_producto": "clz",
                                    "venta": "1179",
                                    "nombre": "Jairo",
                                    "apellido": "Mira"
                                },
                                {
                                    "ventas_id": "3",
                                    "fecha": "2018-10-18 00:00:00",
                                    "direccion": "Rinconada de Magnolias 409",
                                    "clave_producto": "brr",
                                    "venta": "1286",
                                    "nombre": "Albeiro",
                                    "apellido": "Villa"
                                },
                                {
                                    "ventas_id": "7",
                                    "fecha": "2018-07-28 00:00:00",
                                    "direccion": "Rinconada de Magnolias 409",
                                    "clave_producto": "pzz",
                                    "venta": "1444",
                                    "nombre": "Reinaldo",
                                    "apellido": "Gonzalez"
                                }
                            ]
                        },
                        "text/html": "<table><tr><th>ventas_id</th><th>fecha</th><th>direccion</th><th>clave_producto</th><th>venta</th><th>nombre</th><th>apellido</th></tr><tr><td>4</td><td>2018-10-30 00:00:00</td><td>Av de las Rosas 123</td><td>brr</td><td>889</td><td>Alexander</td><td>Martinez</td></tr><tr><td>5</td><td>2018-05-16 00:00:00</td><td>Av de las Rosas 123</td><td>qsd</td><td>495</td><td>Egidio</td><td>Lopez</td></tr><tr><td>8</td><td>2018-10-05 00:00:00</td><td>Av de las Rosas 123</td><td>pzz</td><td>435</td><td>Egidio</td><td>Lopez</td></tr><tr><td>9</td><td>2018-04-20 00:00:00</td><td>Av de las Rosas 123</td><td>qsd</td><td>1203</td><td>Alexander</td><td>Martinez</td></tr><tr><td>10</td><td>2018-06-08 00:00:00</td><td>Av de las Rosas 123</td><td>brr</td><td>1038</td><td>Reinaldo</td><td>Gonzalez</td></tr><tr><td>11</td><td>2018-08-22 00:00:00</td><td>Av de las Rosas 123</td><td>brr</td><td>404</td><td>Maria</td><td>Zapata</td></tr><tr><td>15</td><td>2019-12-15 00:00:00</td><td>Av de las Rosas 123</td><td>brr</td><td>871</td><td>Egidio</td><td>Lopez</td></tr><tr><td>17</td><td>2019-10-25 00:00:00</td><td>Av de las Rosas 123</td><td>pzz</td><td>1376</td><td>Reinaldo</td><td>Gonzalez</td></tr><tr><td>20</td><td>2019-12-01 00:00:00</td><td>Av de las Rosas 123</td><td>pzz</td><td>1455</td><td>Jairo</td><td>Mira</td></tr><tr><td>1</td><td>2018-11-18 00:00:00</td><td>Calle poniente manzana 4</td><td>pzz</td><td>1302</td><td>Elena</td><td>Atehortua</td></tr><tr><td>2</td><td>2018-09-17 00:00:00</td><td>Calle poniente manzana 4</td><td>clz</td><td>953</td><td>Jairo</td><td>Mira</td></tr><tr><td>19</td><td>2019-08-14 00:00:00</td><td>Calle poniente manzana 4</td><td>clz</td><td>972</td><td>Jairo</td><td>Mira</td></tr><tr><td>6</td><td>2018-12-15 00:00:00</td><td>Insurgentes 558</td><td>pzz</td><td>544</td><td>Haygnes</td><td>Ortiz</td></tr><tr><td>13</td><td>2019-07-16 00:00:00</td><td>Insurgentes 558</td><td>qsd</td><td>1054</td><td>Jairo</td><td>Mira</td></tr><tr><td>14</td><td>2019-08-27 00:00:00</td><td>Insurgentes 558</td><td>clz</td><td>303</td><td>Maria</td><td>Zapata</td></tr><tr><td>18</td><td>2019-12-14 00:00:00</td><td>Insurgentes 558</td><td>pzz</td><td>957</td><td>Jairo</td><td>Mira</td></tr><tr><td>22</td><td>2019-07-25 00:00:00</td><td>Insurgentes 558</td><td>clz</td><td>1179</td><td>Jairo</td><td>Mira</td></tr><tr><td>3</td><td>2018-10-18 00:00:00</td><td>Rinconada de Magnolias 409</td><td>brr</td><td>1286</td><td>Albeiro</td><td>Villa</td></tr><tr><td>7</td><td>2018-07-28 00:00:00</td><td>Rinconada de Magnolias 409</td><td>pzz</td><td>1444</td><td>Reinaldo</td><td>Gonzalez</td></tr></table>"
                    },
                    "metadata": {}
                }
            ],
            "execution_count": 8
        },
        {
            "cell_type": "markdown",
            "source": [
                "**JOIN** con distintos esquemas (bases de datos)"
            ],
            "metadata": {
                "azdata_cell_guid": "350f0ce6-cf87-4ffc-84eb-ca6eb07a396f"
            },
            "attachments": {}
        },
        {
            "cell_type": "code",
            "source": [
                "SELECT*FROM periodos.periodo1;\r\n",
                ""
            ],
            "metadata": {
                "azdata_cell_guid": "c365bf77-16ff-4b76-b34d-3db3bb2d7f8d",
                "language": "sql"
            },
            "outputs": [
                {
                    "output_type": "display_data",
                    "data": {
                        "text/html": "(11 row(s) affected)"
                    },
                    "metadata": {}
                },
                {
                    "output_type": "display_data",
                    "data": {
                        "text/html": "Total execution time: 00:00:01.027"
                    },
                    "metadata": {}
                },
                {
                    "output_type": "execute_result",
                    "execution_count": 9,
                    "data": {
                        "application/vnd.dataresource+json": {
                            "schema": {
                                "fields": [
                                    {
                                        "name": "periodo1_id"
                                    },
                                    {
                                        "name": "Fecha"
                                    },
                                    {
                                        "name": "ID_Empleado"
                                    },
                                    {
                                        "name": "Local"
                                    },
                                    {
                                        "name": "Turno_completo"
                                    }
                                ]
                            },
                            "data": [
                                {
                                    "periodo1_id": "1",
                                    "Fecha": "2019-09-03 00:00:00",
                                    "ID_Empleado": "5728566",
                                    "Local": "A",
                                    "Turno_completo": "SI"
                                },
                                {
                                    "periodo1_id": "2",
                                    "Fecha": "2019-07-16 00:00:00",
                                    "ID_Empleado": "9611338",
                                    "Local": "A",
                                    "Turno_completo": "NO"
                                },
                                {
                                    "periodo1_id": "3",
                                    "Fecha": "2019-08-27 00:00:00",
                                    "ID_Empleado": "3833745",
                                    "Local": "B",
                                    "Turno_completo": "NO"
                                },
                                {
                                    "periodo1_id": "4",
                                    "Fecha": "2019-12-15 00:00:00",
                                    "ID_Empleado": "5942572",
                                    "Local": "D",
                                    "Turno_completo": "NO"
                                },
                                {
                                    "periodo1_id": "5",
                                    "Fecha": "2019-07-30 00:00:00",
                                    "ID_Empleado": "4245367",
                                    "Local": "C",
                                    "Turno_completo": "SI"
                                },
                                {
                                    "periodo1_id": "6",
                                    "Fecha": "2019-10-25 00:00:00",
                                    "ID_Empleado": "6332756",
                                    "Local": "C",
                                    "Turno_completo": "SI"
                                },
                                {
                                    "periodo1_id": "7",
                                    "Fecha": "2019-12-14 00:00:00",
                                    "ID_Empleado": "5942572",
                                    "Local": "B",
                                    "Turno_completo": "SI"
                                },
                                {
                                    "periodo1_id": "8",
                                    "Fecha": "2019-08-14 00:00:00",
                                    "ID_Empleado": "9922377",
                                    "Local": "C",
                                    "Turno_completo": "SI"
                                },
                                {
                                    "periodo1_id": "9",
                                    "Fecha": "2019-12-01 00:00:00",
                                    "ID_Empleado": "6931035",
                                    "Local": "B",
                                    "Turno_completo": "SI"
                                },
                                {
                                    "periodo1_id": "10",
                                    "Fecha": "2019-06-08 00:00:00",
                                    "ID_Empleado": "6931035",
                                    "Local": "B",
                                    "Turno_completo": "SI"
                                },
                                {
                                    "periodo1_id": "11",
                                    "Fecha": "2019-07-25 00:00:00",
                                    "ID_Empleado": "2310967",
                                    "Local": "B",
                                    "Turno_completo": "SI"
                                }
                            ]
                        },
                        "text/html": "<table><tr><th>periodo1_id</th><th>Fecha</th><th>ID_Empleado</th><th>Local</th><th>Turno_completo</th></tr><tr><td>1</td><td>2019-09-03 00:00:00</td><td>5728566</td><td>A</td><td>SI</td></tr><tr><td>2</td><td>2019-07-16 00:00:00</td><td>9611338</td><td>A</td><td>NO</td></tr><tr><td>3</td><td>2019-08-27 00:00:00</td><td>3833745</td><td>B</td><td>NO</td></tr><tr><td>4</td><td>2019-12-15 00:00:00</td><td>5942572</td><td>D</td><td>NO</td></tr><tr><td>5</td><td>2019-07-30 00:00:00</td><td>4245367</td><td>C</td><td>SI</td></tr><tr><td>6</td><td>2019-10-25 00:00:00</td><td>6332756</td><td>C</td><td>SI</td></tr><tr><td>7</td><td>2019-12-14 00:00:00</td><td>5942572</td><td>B</td><td>SI</td></tr><tr><td>8</td><td>2019-08-14 00:00:00</td><td>9922377</td><td>C</td><td>SI</td></tr><tr><td>9</td><td>2019-12-01 00:00:00</td><td>6931035</td><td>B</td><td>SI</td></tr><tr><td>10</td><td>2019-06-08 00:00:00</td><td>6931035</td><td>B</td><td>SI</td></tr><tr><td>11</td><td>2019-07-25 00:00:00</td><td>2310967</td><td>B</td><td>SI</td></tr></table>"
                    },
                    "metadata": {}
                }
            ],
            "execution_count": 9
        },
        {
            "cell_type": "code",
            "source": [
                "SELECT * FROM periodos.periodo2;"
            ],
            "metadata": {
                "azdata_cell_guid": "8c1e6ae6-05af-4fd3-92e2-7b7558d8eff4",
                "language": "sql"
            },
            "outputs": [
                {
                    "output_type": "display_data",
                    "data": {
                        "text/html": "(11 row(s) affected)"
                    },
                    "metadata": {}
                },
                {
                    "output_type": "display_data",
                    "data": {
                        "text/html": "Total execution time: 00:00:01.014"
                    },
                    "metadata": {}
                },
                {
                    "output_type": "execute_result",
                    "execution_count": 13,
                    "data": {
                        "application/vnd.dataresource+json": {
                            "schema": {
                                "fields": [
                                    {
                                        "name": "periodo2_id"
                                    },
                                    {
                                        "name": "Fecha"
                                    },
                                    {
                                        "name": "ID_Empleado"
                                    },
                                    {
                                        "name": "Local"
                                    },
                                    {
                                        "name": "Turno_completo"
                                    }
                                ]
                            },
                            "data": [
                                {
                                    "periodo2_id": "1",
                                    "Fecha": "2018-11-18 00:00:00",
                                    "ID_Empleado": "1111222",
                                    "Local": "A",
                                    "Turno_completo": "SI"
                                },
                                {
                                    "periodo2_id": "2",
                                    "Fecha": "2018-09-17 00:00:00",
                                    "ID_Empleado": "9922377",
                                    "Local": "A",
                                    "Turno_completo": "NO"
                                },
                                {
                                    "periodo2_id": "3",
                                    "Fecha": "2018-10-18 00:00:00",
                                    "ID_Empleado": "3833745",
                                    "Local": "B",
                                    "Turno_completo": "NO"
                                },
                                {
                                    "periodo2_id": "4",
                                    "Fecha": "2018-10-30 00:00:00",
                                    "ID_Empleado": "2520477",
                                    "Local": "D",
                                    "Turno_completo": "NO"
                                },
                                {
                                    "periodo2_id": "5",
                                    "Fecha": "2018-05-16 00:00:00",
                                    "ID_Empleado": "9611338",
                                    "Local": "C",
                                    "Turno_completo": "SI"
                                },
                                {
                                    "periodo2_id": "6",
                                    "Fecha": "2018-12-15 00:00:00",
                                    "ID_Empleado": "4245367",
                                    "Local": "C",
                                    "Turno_completo": "SI"
                                },
                                {
                                    "periodo2_id": "7",
                                    "Fecha": "2018-07-28 00:00:00",
                                    "ID_Empleado": "5942572",
                                    "Local": "B",
                                    "Turno_completo": "SI"
                                },
                                {
                                    "periodo2_id": "8",
                                    "Fecha": "2018-10-05 00:00:00",
                                    "ID_Empleado": "2630867",
                                    "Local": "C",
                                    "Turno_completo": "SI"
                                },
                                {
                                    "periodo2_id": "9",
                                    "Fecha": "2018-04-20 00:00:00",
                                    "ID_Empleado": "2310967",
                                    "Local": "B",
                                    "Turno_completo": "SI"
                                },
                                {
                                    "periodo2_id": "10",
                                    "Fecha": "2018-06-08 00:00:00",
                                    "ID_Empleado": "6931035",
                                    "Local": "B",
                                    "Turno_completo": "SI"
                                },
                                {
                                    "periodo2_id": "11",
                                    "Fecha": "2018-08-22 00:00:00",
                                    "ID_Empleado": "6332756",
                                    "Local": "B",
                                    "Turno_completo": "SI"
                                }
                            ]
                        },
                        "text/html": "<table><tr><th>periodo2_id</th><th>Fecha</th><th>ID_Empleado</th><th>Local</th><th>Turno_completo</th></tr><tr><td>1</td><td>2018-11-18 00:00:00</td><td>1111222</td><td>A</td><td>SI</td></tr><tr><td>2</td><td>2018-09-17 00:00:00</td><td>9922377</td><td>A</td><td>NO</td></tr><tr><td>3</td><td>2018-10-18 00:00:00</td><td>3833745</td><td>B</td><td>NO</td></tr><tr><td>4</td><td>2018-10-30 00:00:00</td><td>2520477</td><td>D</td><td>NO</td></tr><tr><td>5</td><td>2018-05-16 00:00:00</td><td>9611338</td><td>C</td><td>SI</td></tr><tr><td>6</td><td>2018-12-15 00:00:00</td><td>4245367</td><td>C</td><td>SI</td></tr><tr><td>7</td><td>2018-07-28 00:00:00</td><td>5942572</td><td>B</td><td>SI</td></tr><tr><td>8</td><td>2018-10-05 00:00:00</td><td>2630867</td><td>C</td><td>SI</td></tr><tr><td>9</td><td>2018-04-20 00:00:00</td><td>2310967</td><td>B</td><td>SI</td></tr><tr><td>10</td><td>2018-06-08 00:00:00</td><td>6931035</td><td>B</td><td>SI</td></tr><tr><td>11</td><td>2018-08-22 00:00:00</td><td>6332756</td><td>B</td><td>SI</td></tr></table>"
                    },
                    "metadata": {}
                }
            ],
            "execution_count": 13
        },
        {
            "cell_type": "code",
            "source": [
                "SELECT *\r\n",
                "FROM periodos.periodo1 p\r\n",
                "JOIN datos.empleados e\r\n",
                "  ON p.ID_Empleado = e.ID_empleado;"
            ],
            "metadata": {
                "azdata_cell_guid": "24f266d1-7015-4d00-9f23-ecce2cc14329",
                "language": "sql"
            },
            "outputs": [
                {
                    "output_type": "display_data",
                    "data": {
                        "text/html": "(10 row(s) affected)"
                    },
                    "metadata": {}
                },
                {
                    "output_type": "display_data",
                    "data": {
                        "text/html": "Total execution time: 00:00:01.002"
                    },
                    "metadata": {}
                },
                {
                    "output_type": "execute_result",
                    "execution_count": 18,
                    "data": {
                        "application/vnd.dataresource+json": {
                            "schema": {
                                "fields": [
                                    {
                                        "name": "periodo1_id"
                                    },
                                    {
                                        "name": "Fecha"
                                    },
                                    {
                                        "name": "ID_Empleado"
                                    },
                                    {
                                        "name": "Local"
                                    },
                                    {
                                        "name": "Turno_completo"
                                    },
                                    {
                                        "name": "ID_empleado"
                                    },
                                    {
                                        "name": "Nombre"
                                    },
                                    {
                                        "name": "Apellido"
                                    },
                                    {
                                        "name": "Telefono"
                                    },
                                    {
                                        "name": "Edad"
                                    },
                                    {
                                        "name": "Domicilio"
                                    },
                                    {
                                        "name": "ID_Gerente"
                                    }
                                ]
                            },
                            "data": [
                                {
                                    "periodo1_id": "2",
                                    "Fecha": "2019-07-16 00:00:00",
                                    "ID_Empleado": "9611338",
                                    "Local": "A",
                                    "Turno_completo": "NO",
                                    "ID_empleado": "9611338",
                                    "Nombre": "Haygnes",
                                    "Apellido": "Ortiz",
                                    "Telefono": "35400189",
                                    "Edad": "27",
                                    "Domicilio": "General Diaz 343",
                                    "ID_Gerente": "5942572"
                                },
                                {
                                    "periodo1_id": "3",
                                    "Fecha": "2019-08-27 00:00:00",
                                    "ID_Empleado": "3833745",
                                    "Local": "B",
                                    "Turno_completo": "NO",
                                    "ID_empleado": "3833745",
                                    "Nombre": "Maria",
                                    "Apellido": "Zapata",
                                    "Telefono": "35354455",
                                    "Edad": "34",
                                    "Domicilio": "Boulevard 85",
                                    "ID_Gerente": "5942572"
                                },
                                {
                                    "periodo1_id": "4",
                                    "Fecha": "2019-12-15 00:00:00",
                                    "ID_Empleado": "5942572",
                                    "Local": "D",
                                    "Turno_completo": "NO",
                                    "ID_empleado": "5942572",
                                    "Nombre": "Jesus",
                                    "Apellido": "Agudelo",
                                    "Telefono": "34616222",
                                    "Edad": "35",
                                    "Domicilio": "NULL",
                                    "ID_Gerente": "NULL"
                                },
                                {
                                    "periodo1_id": "5",
                                    "Fecha": "2019-07-30 00:00:00",
                                    "ID_Empleado": "4245367",
                                    "Local": "C",
                                    "Turno_completo": "SI",
                                    "ID_empleado": "4245367",
                                    "Nombre": "Alexandra",
                                    "Apellido": "Zapata",
                                    "Telefono": "33467136",
                                    "Edad": "31",
                                    "Domicilio": "Ingenieros 234",
                                    "ID_Gerente": "5942572"
                                },
                                {
                                    "periodo1_id": "6",
                                    "Fecha": "2019-10-25 00:00:00",
                                    "ID_Empleado": "6332756",
                                    "Local": "C",
                                    "Turno_completo": "SI",
                                    "ID_empleado": "6332756",
                                    "Nombre": "Reinaldo",
                                    "Apellido": "Gonzalez",
                                    "Telefono": "36642727",
                                    "Edad": "43",
                                    "Domicilio": "Vallarta 711",
                                    "ID_Gerente": "5942572"
                                },
                                {
                                    "periodo1_id": "7",
                                    "Fecha": "2019-12-14 00:00:00",
                                    "ID_Empleado": "5942572",
                                    "Local": "B",
                                    "Turno_completo": "SI",
                                    "ID_empleado": "5942572",
                                    "Nombre": "Jesus",
                                    "Apellido": "Agudelo",
                                    "Telefono": "34616222",
                                    "Edad": "35",
                                    "Domicilio": "NULL",
                                    "ID_Gerente": "NULL"
                                },
                                {
                                    "periodo1_id": "8",
                                    "Fecha": "2019-08-14 00:00:00",
                                    "ID_Empleado": "9922377",
                                    "Local": "C",
                                    "Turno_completo": "SI",
                                    "ID_empleado": "9922377",
                                    "Nombre": "Alexander",
                                    "Apellido": "Martinez",
                                    "Telefono": "36554872",
                                    "Edad": "28",
                                    "Domicilio": "Camino viejo 123",
                                    "ID_Gerente": "5942572"
                                },
                                {
                                    "periodo1_id": "9",
                                    "Fecha": "2019-12-01 00:00:00",
                                    "ID_Empleado": "6931035",
                                    "Local": "B",
                                    "Turno_completo": "SI",
                                    "ID_empleado": "6931035",
                                    "Nombre": "Albeiro",
                                    "Apellido": "Villa",
                                    "Telefono": "33631010",
                                    "Edad": "39",
                                    "Domicilio": "Carniceros 233",
                                    "ID_Gerente": "5942572"
                                },
                                {
                                    "periodo1_id": "10",
                                    "Fecha": "2019-06-08 00:00:00",
                                    "ID_Empleado": "6931035",
                                    "Local": "B",
                                    "Turno_completo": "SI",
                                    "ID_empleado": "6931035",
                                    "Nombre": "Albeiro",
                                    "Apellido": "Villa",
                                    "Telefono": "33631010",
                                    "Edad": "39",
                                    "Domicilio": "Carniceros 233",
                                    "ID_Gerente": "5942572"
                                },
                                {
                                    "periodo1_id": "11",
                                    "Fecha": "2019-07-25 00:00:00",
                                    "ID_Empleado": "2310967",
                                    "Local": "B",
                                    "Turno_completo": "SI",
                                    "ID_empleado": "2310967",
                                    "Nombre": "Jairo",
                                    "Apellido": "Mira",
                                    "Telefono": "36403810",
                                    "Edad": "29",
                                    "Domicilio": "Calle 25 interior 2",
                                    "ID_Gerente": "5942572"
                                }
                            ]
                        },
                        "text/html": "<table><tr><th>periodo1_id</th><th>Fecha</th><th>ID_Empleado</th><th>Local</th><th>Turno_completo</th><th>ID_empleado</th><th>Nombre</th><th>Apellido</th><th>Telefono</th><th>Edad</th><th>Domicilio</th><th>ID_Gerente</th></tr><tr><td>2</td><td>2019-07-16 00:00:00</td><td>9611338</td><td>A</td><td>NO</td><td>9611338</td><td>Haygnes</td><td>Ortiz</td><td>35400189</td><td>27</td><td>General Diaz 343</td><td>5942572</td></tr><tr><td>3</td><td>2019-08-27 00:00:00</td><td>3833745</td><td>B</td><td>NO</td><td>3833745</td><td>Maria</td><td>Zapata</td><td>35354455</td><td>34</td><td>Boulevard 85</td><td>5942572</td></tr><tr><td>4</td><td>2019-12-15 00:00:00</td><td>5942572</td><td>D</td><td>NO</td><td>5942572</td><td>Jesus</td><td>Agudelo</td><td>34616222</td><td>35</td><td>NULL</td><td>NULL</td></tr><tr><td>5</td><td>2019-07-30 00:00:00</td><td>4245367</td><td>C</td><td>SI</td><td>4245367</td><td>Alexandra</td><td>Zapata</td><td>33467136</td><td>31</td><td>Ingenieros 234</td><td>5942572</td></tr><tr><td>6</td><td>2019-10-25 00:00:00</td><td>6332756</td><td>C</td><td>SI</td><td>6332756</td><td>Reinaldo</td><td>Gonzalez</td><td>36642727</td><td>43</td><td>Vallarta 711</td><td>5942572</td></tr><tr><td>7</td><td>2019-12-14 00:00:00</td><td>5942572</td><td>B</td><td>SI</td><td>5942572</td><td>Jesus</td><td>Agudelo</td><td>34616222</td><td>35</td><td>NULL</td><td>NULL</td></tr><tr><td>8</td><td>2019-08-14 00:00:00</td><td>9922377</td><td>C</td><td>SI</td><td>9922377</td><td>Alexander</td><td>Martinez</td><td>36554872</td><td>28</td><td>Camino viejo 123</td><td>5942572</td></tr><tr><td>9</td><td>2019-12-01 00:00:00</td><td>6931035</td><td>B</td><td>SI</td><td>6931035</td><td>Albeiro</td><td>Villa</td><td>33631010</td><td>39</td><td>Carniceros 233</td><td>5942572</td></tr><tr><td>10</td><td>2019-06-08 00:00:00</td><td>6931035</td><td>B</td><td>SI</td><td>6931035</td><td>Albeiro</td><td>Villa</td><td>33631010</td><td>39</td><td>Carniceros 233</td><td>5942572</td></tr><tr><td>11</td><td>2019-07-25 00:00:00</td><td>2310967</td><td>B</td><td>SI</td><td>2310967</td><td>Jairo</td><td>Mira</td><td>36403810</td><td>29</td><td>Calle 25 interior 2</td><td>5942572</td></tr></table>"
                    },
                    "metadata": {}
                }
            ],
            "execution_count": 18
        },
        {
            "cell_type": "code",
            "source": [
                "SELECT\r\n",
                "   p.periodo1_ID,\r\n",
                "   p.Fecha,\r\n",
                "   e.Nombre ,\r\n",
                "   e.Apellido,\r\n",
                "   p.Local, \r\n",
                "   p.Turno_Completo\r\n",
                "\r\n",
                " FROM periodos.periodo1 p \r\n",
                " JOIN datos.empleados e \r\n",
                "    ON p.ID_Empleado = e.ID_empleado;   "
            ],
            "metadata": {
                "azdata_cell_guid": "c3032834-b037-40f1-8844-11e6de0ba823",
                "language": "sql"
            },
            "outputs": [
                {
                    "output_type": "display_data",
                    "data": {
                        "text/html": "(10 row(s) affected)"
                    },
                    "metadata": {}
                },
                {
                    "output_type": "display_data",
                    "data": {
                        "text/html": "Total execution time: 00:00:01.007"
                    },
                    "metadata": {}
                },
                {
                    "output_type": "execute_result",
                    "execution_count": 23,
                    "data": {
                        "application/vnd.dataresource+json": {
                            "schema": {
                                "fields": [
                                    {
                                        "name": "periodo1_ID"
                                    },
                                    {
                                        "name": "Fecha"
                                    },
                                    {
                                        "name": "Nombre"
                                    },
                                    {
                                        "name": "Apellido"
                                    },
                                    {
                                        "name": "Local"
                                    },
                                    {
                                        "name": "Turno_Completo"
                                    }
                                ]
                            },
                            "data": [
                                {
                                    "periodo1_ID": "2",
                                    "Fecha": "2019-07-16 00:00:00",
                                    "Nombre": "Haygnes",
                                    "Apellido": "Ortiz",
                                    "Local": "A",
                                    "Turno_Completo": "NO"
                                },
                                {
                                    "periodo1_ID": "3",
                                    "Fecha": "2019-08-27 00:00:00",
                                    "Nombre": "Maria",
                                    "Apellido": "Zapata",
                                    "Local": "B",
                                    "Turno_Completo": "NO"
                                },
                                {
                                    "periodo1_ID": "4",
                                    "Fecha": "2019-12-15 00:00:00",
                                    "Nombre": "Jesus",
                                    "Apellido": "Agudelo",
                                    "Local": "D",
                                    "Turno_Completo": "NO"
                                },
                                {
                                    "periodo1_ID": "5",
                                    "Fecha": "2019-07-30 00:00:00",
                                    "Nombre": "Alexandra",
                                    "Apellido": "Zapata",
                                    "Local": "C",
                                    "Turno_Completo": "SI"
                                },
                                {
                                    "periodo1_ID": "6",
                                    "Fecha": "2019-10-25 00:00:00",
                                    "Nombre": "Reinaldo",
                                    "Apellido": "Gonzalez",
                                    "Local": "C",
                                    "Turno_Completo": "SI"
                                },
                                {
                                    "periodo1_ID": "7",
                                    "Fecha": "2019-12-14 00:00:00",
                                    "Nombre": "Jesus",
                                    "Apellido": "Agudelo",
                                    "Local": "B",
                                    "Turno_Completo": "SI"
                                },
                                {
                                    "periodo1_ID": "8",
                                    "Fecha": "2019-08-14 00:00:00",
                                    "Nombre": "Alexander",
                                    "Apellido": "Martinez",
                                    "Local": "C",
                                    "Turno_Completo": "SI"
                                },
                                {
                                    "periodo1_ID": "9",
                                    "Fecha": "2019-12-01 00:00:00",
                                    "Nombre": "Albeiro",
                                    "Apellido": "Villa",
                                    "Local": "B",
                                    "Turno_Completo": "SI"
                                },
                                {
                                    "periodo1_ID": "10",
                                    "Fecha": "2019-06-08 00:00:00",
                                    "Nombre": "Albeiro",
                                    "Apellido": "Villa",
                                    "Local": "B",
                                    "Turno_Completo": "SI"
                                },
                                {
                                    "periodo1_ID": "11",
                                    "Fecha": "2019-07-25 00:00:00",
                                    "Nombre": "Jairo",
                                    "Apellido": "Mira",
                                    "Local": "B",
                                    "Turno_Completo": "SI"
                                }
                            ]
                        },
                        "text/html": "<table><tr><th>periodo1_ID</th><th>Fecha</th><th>Nombre</th><th>Apellido</th><th>Local</th><th>Turno_Completo</th></tr><tr><td>2</td><td>2019-07-16 00:00:00</td><td>Haygnes</td><td>Ortiz</td><td>A</td><td>NO</td></tr><tr><td>3</td><td>2019-08-27 00:00:00</td><td>Maria</td><td>Zapata</td><td>B</td><td>NO</td></tr><tr><td>4</td><td>2019-12-15 00:00:00</td><td>Jesus</td><td>Agudelo</td><td>D</td><td>NO</td></tr><tr><td>5</td><td>2019-07-30 00:00:00</td><td>Alexandra</td><td>Zapata</td><td>C</td><td>SI</td></tr><tr><td>6</td><td>2019-10-25 00:00:00</td><td>Reinaldo</td><td>Gonzalez</td><td>C</td><td>SI</td></tr><tr><td>7</td><td>2019-12-14 00:00:00</td><td>Jesus</td><td>Agudelo</td><td>B</td><td>SI</td></tr><tr><td>8</td><td>2019-08-14 00:00:00</td><td>Alexander</td><td>Martinez</td><td>C</td><td>SI</td></tr><tr><td>9</td><td>2019-12-01 00:00:00</td><td>Albeiro</td><td>Villa</td><td>B</td><td>SI</td></tr><tr><td>10</td><td>2019-06-08 00:00:00</td><td>Albeiro</td><td>Villa</td><td>B</td><td>SI</td></tr><tr><td>11</td><td>2019-07-25 00:00:00</td><td>Jairo</td><td>Mira</td><td>B</td><td>SI</td></tr></table>"
                    },
                    "metadata": {}
                }
            ],
            "execution_count": 23
        },
        {
            "cell_type": "markdown",
            "source": [
                "**Self-JOIN**\n",
                "\n",
                "Unirse con si mismo"
            ],
            "metadata": {
                "azdata_cell_guid": "3ae30efa-0cc0-4df2-b1a4-18320314cf6c"
            },
            "attachments": {}
        },
        {
            "cell_type": "code",
            "source": [
                "SELECT * FROM datos.empleados;"
            ],
            "metadata": {
                "azdata_cell_guid": "1148c5d1-0f2b-4fb4-ba6a-bc9bd1914cf5",
                "language": "sql"
            },
            "outputs": [
                {
                    "output_type": "display_data",
                    "data": {
                        "text/html": "(11 row(s) affected)"
                    },
                    "metadata": {}
                },
                {
                    "output_type": "display_data",
                    "data": {
                        "text/html": "Total execution time: 00:00:01.021"
                    },
                    "metadata": {}
                },
                {
                    "output_type": "execute_result",
                    "execution_count": 24,
                    "data": {
                        "application/vnd.dataresource+json": {
                            "schema": {
                                "fields": [
                                    {
                                        "name": "ID_empleado"
                                    },
                                    {
                                        "name": "Nombre"
                                    },
                                    {
                                        "name": "Apellido"
                                    },
                                    {
                                        "name": "Telefono"
                                    },
                                    {
                                        "name": "Edad"
                                    },
                                    {
                                        "name": "Domicilio"
                                    },
                                    {
                                        "name": "ID_Gerente"
                                    }
                                ]
                            },
                            "data": [
                                {
                                    "ID_empleado": "1111222",
                                    "Nombre": "Alberto",
                                    "Apellido": "Barrientos",
                                    "Telefono": "34766613",
                                    "Edad": "26",
                                    "Domicilio": "Federal 233",
                                    "ID_Gerente": "5942572"
                                },
                                {
                                    "ID_empleado": "2310967",
                                    "Nombre": "Jairo",
                                    "Apellido": "Mira",
                                    "Telefono": "36403810",
                                    "Edad": "29",
                                    "Domicilio": "Calle 25 interior 2",
                                    "ID_Gerente": "5942572"
                                },
                                {
                                    "ID_empleado": "2520477",
                                    "Nombre": "Egidio",
                                    "Apellido": "Lopez",
                                    "Telefono": "33444383",
                                    "Edad": "24",
                                    "Domicilio": "Rosas 996",
                                    "ID_Gerente": "5942572"
                                },
                                {
                                    "ID_empleado": "2630867",
                                    "Nombre": "Elena",
                                    "Apellido": "Atehortua",
                                    "Telefono": "35581732",
                                    "Edad": "37",
                                    "Domicilio": "Sierra del tigre 299",
                                    "ID_Gerente": "5942572"
                                },
                                {
                                    "ID_empleado": "3833745",
                                    "Nombre": "Maria",
                                    "Apellido": "Zapata",
                                    "Telefono": "35354455",
                                    "Edad": "34",
                                    "Domicilio": "Boulevard 85",
                                    "ID_Gerente": "5942572"
                                },
                                {
                                    "ID_empleado": "4245367",
                                    "Nombre": "Alexandra",
                                    "Apellido": "Zapata",
                                    "Telefono": "33467136",
                                    "Edad": "31",
                                    "Domicilio": "Ingenieros 234",
                                    "ID_Gerente": "5942572"
                                },
                                {
                                    "ID_empleado": "5942572",
                                    "Nombre": "Jesus",
                                    "Apellido": "Agudelo",
                                    "Telefono": "34616222",
                                    "Edad": "35",
                                    "Domicilio": "NULL",
                                    "ID_Gerente": "NULL"
                                },
                                {
                                    "ID_empleado": "6332756",
                                    "Nombre": "Reinaldo",
                                    "Apellido": "Gonzalez",
                                    "Telefono": "36642727",
                                    "Edad": "43",
                                    "Domicilio": "Vallarta 711",
                                    "ID_Gerente": "5942572"
                                },
                                {
                                    "ID_empleado": "6931035",
                                    "Nombre": "Albeiro",
                                    "Apellido": "Villa",
                                    "Telefono": "33631010",
                                    "Edad": "39",
                                    "Domicilio": "Carniceros 233",
                                    "ID_Gerente": "5942572"
                                },
                                {
                                    "ID_empleado": "9611338",
                                    "Nombre": "Haygnes",
                                    "Apellido": "Ortiz",
                                    "Telefono": "35400189",
                                    "Edad": "27",
                                    "Domicilio": "General Diaz 343",
                                    "ID_Gerente": "5942572"
                                },
                                {
                                    "ID_empleado": "9922377",
                                    "Nombre": "Alexander",
                                    "Apellido": "Martinez",
                                    "Telefono": "36554872",
                                    "Edad": "28",
                                    "Domicilio": "Camino viejo 123",
                                    "ID_Gerente": "5942572"
                                }
                            ]
                        },
                        "text/html": "<table><tr><th>ID_empleado</th><th>Nombre</th><th>Apellido</th><th>Telefono</th><th>Edad</th><th>Domicilio</th><th>ID_Gerente</th></tr><tr><td>1111222</td><td>Alberto</td><td>Barrientos</td><td>34766613</td><td>26</td><td>Federal 233</td><td>5942572</td></tr><tr><td>2310967</td><td>Jairo</td><td>Mira</td><td>36403810</td><td>29</td><td>Calle 25 interior 2</td><td>5942572</td></tr><tr><td>2520477</td><td>Egidio</td><td>Lopez</td><td>33444383</td><td>24</td><td>Rosas 996</td><td>5942572</td></tr><tr><td>2630867</td><td>Elena</td><td>Atehortua</td><td>35581732</td><td>37</td><td>Sierra del tigre 299</td><td>5942572</td></tr><tr><td>3833745</td><td>Maria</td><td>Zapata</td><td>35354455</td><td>34</td><td>Boulevard 85</td><td>5942572</td></tr><tr><td>4245367</td><td>Alexandra</td><td>Zapata</td><td>33467136</td><td>31</td><td>Ingenieros 234</td><td>5942572</td></tr><tr><td>5942572</td><td>Jesus</td><td>Agudelo</td><td>34616222</td><td>35</td><td>NULL</td><td>NULL</td></tr><tr><td>6332756</td><td>Reinaldo</td><td>Gonzalez</td><td>36642727</td><td>43</td><td>Vallarta 711</td><td>5942572</td></tr><tr><td>6931035</td><td>Albeiro</td><td>Villa</td><td>33631010</td><td>39</td><td>Carniceros 233</td><td>5942572</td></tr><tr><td>9611338</td><td>Haygnes</td><td>Ortiz</td><td>35400189</td><td>27</td><td>General Diaz 343</td><td>5942572</td></tr><tr><td>9922377</td><td>Alexander</td><td>Martinez</td><td>36554872</td><td>28</td><td>Camino viejo 123</td><td>5942572</td></tr></table>"
                    },
                    "metadata": {}
                }
            ],
            "execution_count": 24
        },
        {
            "cell_type": "markdown",
            "source": [
                "Necesitamos generar una consulta que nos muestre por ejemplo todos los empleados de Jesús Agudelo"
            ],
            "metadata": {
                "azdata_cell_guid": "04fd9909-3aeb-4bd3-9408-f4c4f4450f3c"
            },
            "attachments": {}
        },
        {
            "cell_type": "code",
            "source": [
                "SELECT *\r\n",
                "FROM empleados e \r\n",
                "JOIN empleados emp\r\n",
                "   ON e.ID_Gerente = emp.ID_empleado;"
            ],
            "metadata": {
                "azdata_cell_guid": "9bf3dd53-aad6-461c-89da-844f3efb6632",
                "language": "sql"
            },
            "outputs": [
                {
                    "output_type": "display_data",
                    "data": {
                        "text/html": "Total execution time: 00:00:00.008"
                    },
                    "metadata": {}
                },
                {
                    "output_type": "error",
                    "ename": "",
                    "evalue": "1046 (3D000): No database selected",
                    "traceback": []
                }
            ],
            "execution_count": 2
        },
        {
            "cell_type": "markdown",
            "source": [
                "Necsitamos generar una consulta que muestre por ejmeplo los empleados  de Jesús Agudelo"
            ],
            "metadata": {
                "azdata_cell_guid": "33377970-bc8a-43cb-89ff-97915be55b96"
            },
            "attachments": {}
        },
        {
            "cell_type": "code",
            "source": [
                "SELECT *\r\n",
                "FROM datos.empleados e \r\n",
                "JOIN datos.empleados emp\r\n",
                "  ON e.ID_Gerente = emp.ID_empleado;"
            ],
            "metadata": {
                "azdata_cell_guid": "430c2395-c9ff-4972-b4c7-a9b6e4abf85e",
                "language": "sql",
                "tags": [
                    "hide_input"
                ]
            },
            "outputs": [
                {
                    "output_type": "display_data",
                    "data": {
                        "text/html": "(10 row(s) affected)"
                    },
                    "metadata": {}
                },
                {
                    "output_type": "display_data",
                    "data": {
                        "text/html": "Total execution time: 00:00:01.008"
                    },
                    "metadata": {}
                },
                {
                    "output_type": "execute_result",
                    "execution_count": 2,
                    "data": {
                        "application/vnd.dataresource+json": {
                            "schema": {
                                "fields": [
                                    {
                                        "name": "ID_empleado"
                                    },
                                    {
                                        "name": "Nombre"
                                    },
                                    {
                                        "name": "Apellido"
                                    },
                                    {
                                        "name": "Telefono"
                                    },
                                    {
                                        "name": "Edad"
                                    },
                                    {
                                        "name": "Domicilio"
                                    },
                                    {
                                        "name": "ID_Gerente"
                                    },
                                    {
                                        "name": "ID_empleado"
                                    },
                                    {
                                        "name": "Nombre"
                                    },
                                    {
                                        "name": "Apellido"
                                    },
                                    {
                                        "name": "Telefono"
                                    },
                                    {
                                        "name": "Edad"
                                    },
                                    {
                                        "name": "Domicilio"
                                    },
                                    {
                                        "name": "ID_Gerente"
                                    }
                                ]
                            },
                            "data": [
                                {
                                    "ID_empleado": "5942572",
                                    "Nombre": "Jesus",
                                    "Apellido": "Agudelo",
                                    "Telefono": "34616222",
                                    "Edad": "35",
                                    "Domicilio": "NULL",
                                    "ID_Gerente": "NULL"
                                },
                                {
                                    "ID_empleado": "5942572",
                                    "Nombre": "Jesus",
                                    "Apellido": "Agudelo",
                                    "Telefono": "34616222",
                                    "Edad": "35",
                                    "Domicilio": "NULL",
                                    "ID_Gerente": "NULL"
                                },
                                {
                                    "ID_empleado": "5942572",
                                    "Nombre": "Jesus",
                                    "Apellido": "Agudelo",
                                    "Telefono": "34616222",
                                    "Edad": "35",
                                    "Domicilio": "NULL",
                                    "ID_Gerente": "NULL"
                                },
                                {
                                    "ID_empleado": "5942572",
                                    "Nombre": "Jesus",
                                    "Apellido": "Agudelo",
                                    "Telefono": "34616222",
                                    "Edad": "35",
                                    "Domicilio": "NULL",
                                    "ID_Gerente": "NULL"
                                },
                                {
                                    "ID_empleado": "5942572",
                                    "Nombre": "Jesus",
                                    "Apellido": "Agudelo",
                                    "Telefono": "34616222",
                                    "Edad": "35",
                                    "Domicilio": "NULL",
                                    "ID_Gerente": "NULL"
                                },
                                {
                                    "ID_empleado": "5942572",
                                    "Nombre": "Jesus",
                                    "Apellido": "Agudelo",
                                    "Telefono": "34616222",
                                    "Edad": "35",
                                    "Domicilio": "NULL",
                                    "ID_Gerente": "NULL"
                                },
                                {
                                    "ID_empleado": "5942572",
                                    "Nombre": "Jesus",
                                    "Apellido": "Agudelo",
                                    "Telefono": "34616222",
                                    "Edad": "35",
                                    "Domicilio": "NULL",
                                    "ID_Gerente": "NULL"
                                },
                                {
                                    "ID_empleado": "5942572",
                                    "Nombre": "Jesus",
                                    "Apellido": "Agudelo",
                                    "Telefono": "34616222",
                                    "Edad": "35",
                                    "Domicilio": "NULL",
                                    "ID_Gerente": "NULL"
                                },
                                {
                                    "ID_empleado": "5942572",
                                    "Nombre": "Jesus",
                                    "Apellido": "Agudelo",
                                    "Telefono": "34616222",
                                    "Edad": "35",
                                    "Domicilio": "NULL",
                                    "ID_Gerente": "NULL"
                                },
                                {
                                    "ID_empleado": "5942572",
                                    "Nombre": "Jesus",
                                    "Apellido": "Agudelo",
                                    "Telefono": "34616222",
                                    "Edad": "35",
                                    "Domicilio": "NULL",
                                    "ID_Gerente": "NULL"
                                }
                            ]
                        },
                        "text/html": "<table><tr><th>ID_empleado</th><th>Nombre</th><th>Apellido</th><th>Telefono</th><th>Edad</th><th>Domicilio</th><th>ID_Gerente</th><th>ID_empleado</th><th>Nombre</th><th>Apellido</th><th>Telefono</th><th>Edad</th><th>Domicilio</th><th>ID_Gerente</th></tr><tr><td>1111222</td><td>Alberto</td><td>Barrientos</td><td>34766613</td><td>26</td><td>Federal 233</td><td>5942572</td><td>5942572</td><td>Jesus</td><td>Agudelo</td><td>34616222</td><td>35</td><td>NULL</td><td>NULL</td></tr><tr><td>2310967</td><td>Jairo</td><td>Mira</td><td>36403810</td><td>29</td><td>Calle 25 interior 2</td><td>5942572</td><td>5942572</td><td>Jesus</td><td>Agudelo</td><td>34616222</td><td>35</td><td>NULL</td><td>NULL</td></tr><tr><td>2520477</td><td>Egidio</td><td>Lopez</td><td>33444383</td><td>24</td><td>Rosas 996</td><td>5942572</td><td>5942572</td><td>Jesus</td><td>Agudelo</td><td>34616222</td><td>35</td><td>NULL</td><td>NULL</td></tr><tr><td>2630867</td><td>Elena</td><td>Atehortua</td><td>35581732</td><td>37</td><td>Sierra del tigre 299</td><td>5942572</td><td>5942572</td><td>Jesus</td><td>Agudelo</td><td>34616222</td><td>35</td><td>NULL</td><td>NULL</td></tr><tr><td>3833745</td><td>Maria</td><td>Zapata</td><td>35354455</td><td>34</td><td>Boulevard 85</td><td>5942572</td><td>5942572</td><td>Jesus</td><td>Agudelo</td><td>34616222</td><td>35</td><td>NULL</td><td>NULL</td></tr><tr><td>4245367</td><td>Alexandra</td><td>Zapata</td><td>33467136</td><td>31</td><td>Ingenieros 234</td><td>5942572</td><td>5942572</td><td>Jesus</td><td>Agudelo</td><td>34616222</td><td>35</td><td>NULL</td><td>NULL</td></tr><tr><td>6332756</td><td>Reinaldo</td><td>Gonzalez</td><td>36642727</td><td>43</td><td>Vallarta 711</td><td>5942572</td><td>5942572</td><td>Jesus</td><td>Agudelo</td><td>34616222</td><td>35</td><td>NULL</td><td>NULL</td></tr><tr><td>6931035</td><td>Albeiro</td><td>Villa</td><td>33631010</td><td>39</td><td>Carniceros 233</td><td>5942572</td><td>5942572</td><td>Jesus</td><td>Agudelo</td><td>34616222</td><td>35</td><td>NULL</td><td>NULL</td></tr><tr><td>9611338</td><td>Haygnes</td><td>Ortiz</td><td>35400189</td><td>27</td><td>General Diaz 343</td><td>5942572</td><td>5942572</td><td>Jesus</td><td>Agudelo</td><td>34616222</td><td>35</td><td>NULL</td><td>NULL</td></tr><tr><td>9922377</td><td>Alexander</td><td>Martinez</td><td>36554872</td><td>28</td><td>Camino viejo 123</td><td>5942572</td><td>5942572</td><td>Jesus</td><td>Agudelo</td><td>34616222</td><td>35</td><td>NULL</td><td>NULL</td></tr></table>"
                    },
                    "metadata": {}
                }
            ],
            "execution_count": 2
        },
        {
            "cell_type": "code",
            "source": [
                "SELECT\r\n",
                "    e.ID_empleado,\r\n",
                "    e.Nombre,\r\n",
                "    e.Apellido,\r\n",
                "    e.Telefono,\r\n",
                "    e.Edad,\r\n",
                "    e.Domicilio,\r\n",
                "    emp.nombre\r\n",
                " FROM datos.empleados e \r\n",
                " JOIN datos.empleados emp\r\n",
                "    ON e.ID_Gerente = emp.ID_empleado;   "
            ],
            "metadata": {
                "azdata_cell_guid": "fd966548-0fd3-40af-aef3-c868598395bc",
                "language": "sql"
            },
            "outputs": [
                {
                    "output_type": "display_data",
                    "data": {
                        "text/html": "(10 row(s) affected)"
                    },
                    "metadata": {}
                },
                {
                    "output_type": "display_data",
                    "data": {
                        "text/html": "Total execution time: 00:00:01.005"
                    },
                    "metadata": {}
                },
                {
                    "output_type": "execute_result",
                    "execution_count": 10,
                    "data": {
                        "application/vnd.dataresource+json": {
                            "schema": {
                                "fields": [
                                    {
                                        "name": "ID_empleado"
                                    },
                                    {
                                        "name": "Nombre"
                                    },
                                    {
                                        "name": "Apellido"
                                    },
                                    {
                                        "name": "Telefono"
                                    },
                                    {
                                        "name": "Edad"
                                    },
                                    {
                                        "name": "Domicilio"
                                    },
                                    {
                                        "name": "nombre"
                                    }
                                ]
                            },
                            "data": [
                                {
                                    "ID_empleado": "1111222",
                                    "Nombre": "Alberto",
                                    "Apellido": "Barrientos",
                                    "Telefono": "34766613",
                                    "Edad": "26",
                                    "Domicilio": "Federal 233",
                                    "nombre": "Jesus"
                                },
                                {
                                    "ID_empleado": "2310967",
                                    "Nombre": "Jairo",
                                    "Apellido": "Mira",
                                    "Telefono": "36403810",
                                    "Edad": "29",
                                    "Domicilio": "Calle 25 interior 2",
                                    "nombre": "Jesus"
                                },
                                {
                                    "ID_empleado": "2520477",
                                    "Nombre": "Egidio",
                                    "Apellido": "Lopez",
                                    "Telefono": "33444383",
                                    "Edad": "24",
                                    "Domicilio": "Rosas 996",
                                    "nombre": "Jesus"
                                },
                                {
                                    "ID_empleado": "2630867",
                                    "Nombre": "Elena",
                                    "Apellido": "Atehortua",
                                    "Telefono": "35581732",
                                    "Edad": "37",
                                    "Domicilio": "Sierra del tigre 299",
                                    "nombre": "Jesus"
                                },
                                {
                                    "ID_empleado": "3833745",
                                    "Nombre": "Maria",
                                    "Apellido": "Zapata",
                                    "Telefono": "35354455",
                                    "Edad": "34",
                                    "Domicilio": "Boulevard 85",
                                    "nombre": "Jesus"
                                },
                                {
                                    "ID_empleado": "4245367",
                                    "Nombre": "Alexandra",
                                    "Apellido": "Zapata",
                                    "Telefono": "33467136",
                                    "Edad": "31",
                                    "Domicilio": "Ingenieros 234",
                                    "nombre": "Jesus"
                                },
                                {
                                    "ID_empleado": "6332756",
                                    "Nombre": "Reinaldo",
                                    "Apellido": "Gonzalez",
                                    "Telefono": "36642727",
                                    "Edad": "43",
                                    "Domicilio": "Vallarta 711",
                                    "nombre": "Jesus"
                                },
                                {
                                    "ID_empleado": "6931035",
                                    "Nombre": "Albeiro",
                                    "Apellido": "Villa",
                                    "Telefono": "33631010",
                                    "Edad": "39",
                                    "Domicilio": "Carniceros 233",
                                    "nombre": "Jesus"
                                },
                                {
                                    "ID_empleado": "9611338",
                                    "Nombre": "Haygnes",
                                    "Apellido": "Ortiz",
                                    "Telefono": "35400189",
                                    "Edad": "27",
                                    "Domicilio": "General Diaz 343",
                                    "nombre": "Jesus"
                                },
                                {
                                    "ID_empleado": "9922377",
                                    "Nombre": "Alexander",
                                    "Apellido": "Martinez",
                                    "Telefono": "36554872",
                                    "Edad": "28",
                                    "Domicilio": "Camino viejo 123",
                                    "nombre": "Jesus"
                                }
                            ]
                        },
                        "text/html": "<table><tr><th>ID_empleado</th><th>Nombre</th><th>Apellido</th><th>Telefono</th><th>Edad</th><th>Domicilio</th><th>nombre</th></tr><tr><td>1111222</td><td>Alberto</td><td>Barrientos</td><td>34766613</td><td>26</td><td>Federal 233</td><td>Jesus</td></tr><tr><td>2310967</td><td>Jairo</td><td>Mira</td><td>36403810</td><td>29</td><td>Calle 25 interior 2</td><td>Jesus</td></tr><tr><td>2520477</td><td>Egidio</td><td>Lopez</td><td>33444383</td><td>24</td><td>Rosas 996</td><td>Jesus</td></tr><tr><td>2630867</td><td>Elena</td><td>Atehortua</td><td>35581732</td><td>37</td><td>Sierra del tigre 299</td><td>Jesus</td></tr><tr><td>3833745</td><td>Maria</td><td>Zapata</td><td>35354455</td><td>34</td><td>Boulevard 85</td><td>Jesus</td></tr><tr><td>4245367</td><td>Alexandra</td><td>Zapata</td><td>33467136</td><td>31</td><td>Ingenieros 234</td><td>Jesus</td></tr><tr><td>6332756</td><td>Reinaldo</td><td>Gonzalez</td><td>36642727</td><td>43</td><td>Vallarta 711</td><td>Jesus</td></tr><tr><td>6931035</td><td>Albeiro</td><td>Villa</td><td>33631010</td><td>39</td><td>Carniceros 233</td><td>Jesus</td></tr><tr><td>9611338</td><td>Haygnes</td><td>Ortiz</td><td>35400189</td><td>27</td><td>General Diaz 343</td><td>Jesus</td></tr><tr><td>9922377</td><td>Alexander</td><td>Martinez</td><td>36554872</td><td>28</td><td>Camino viejo 123</td><td>Jesus</td></tr></table>"
                    },
                    "metadata": {}
                }
            ],
            "execution_count": 10
        },
        {
            "cell_type": "code",
            "source": [
                "SELECT\r\n",
                "    e.ID_empleado,\r\n",
                "    e.Nombre,\r\n",
                "    e.Apellido,\r\n",
                "    e.Telefono,\r\n",
                "    e.Edad,\r\n",
                "    e.Domicilio,\r\n",
                "    emp.nombre AS gerente\r\n",
                " FROM datos.empleados e \r\n",
                " JOIN datos.empleados emp\r\n",
                "    ON e.ID_Gerente = emp.ID_empleado;   "
            ],
            "metadata": {
                "azdata_cell_guid": "a7312563-14c7-466b-ab1e-5cf31ff1440d",
                "language": "sql"
            },
            "outputs": [
                {
                    "output_type": "display_data",
                    "data": {
                        "text/html": "(10 row(s) affected)"
                    },
                    "metadata": {}
                },
                {
                    "output_type": "display_data",
                    "data": {
                        "text/html": "Total execution time: 00:00:01.013"
                    },
                    "metadata": {}
                },
                {
                    "output_type": "execute_result",
                    "execution_count": 11,
                    "data": {
                        "application/vnd.dataresource+json": {
                            "schema": {
                                "fields": [
                                    {
                                        "name": "ID_empleado"
                                    },
                                    {
                                        "name": "Nombre"
                                    },
                                    {
                                        "name": "Apellido"
                                    },
                                    {
                                        "name": "Telefono"
                                    },
                                    {
                                        "name": "Edad"
                                    },
                                    {
                                        "name": "Domicilio"
                                    },
                                    {
                                        "name": "gerente"
                                    }
                                ]
                            },
                            "data": [
                                {
                                    "ID_empleado": "1111222",
                                    "Nombre": "Alberto",
                                    "Apellido": "Barrientos",
                                    "Telefono": "34766613",
                                    "Edad": "26",
                                    "Domicilio": "Federal 233",
                                    "gerente": "Jesus"
                                },
                                {
                                    "ID_empleado": "2310967",
                                    "Nombre": "Jairo",
                                    "Apellido": "Mira",
                                    "Telefono": "36403810",
                                    "Edad": "29",
                                    "Domicilio": "Calle 25 interior 2",
                                    "gerente": "Jesus"
                                },
                                {
                                    "ID_empleado": "2520477",
                                    "Nombre": "Egidio",
                                    "Apellido": "Lopez",
                                    "Telefono": "33444383",
                                    "Edad": "24",
                                    "Domicilio": "Rosas 996",
                                    "gerente": "Jesus"
                                },
                                {
                                    "ID_empleado": "2630867",
                                    "Nombre": "Elena",
                                    "Apellido": "Atehortua",
                                    "Telefono": "35581732",
                                    "Edad": "37",
                                    "Domicilio": "Sierra del tigre 299",
                                    "gerente": "Jesus"
                                },
                                {
                                    "ID_empleado": "3833745",
                                    "Nombre": "Maria",
                                    "Apellido": "Zapata",
                                    "Telefono": "35354455",
                                    "Edad": "34",
                                    "Domicilio": "Boulevard 85",
                                    "gerente": "Jesus"
                                },
                                {
                                    "ID_empleado": "4245367",
                                    "Nombre": "Alexandra",
                                    "Apellido": "Zapata",
                                    "Telefono": "33467136",
                                    "Edad": "31",
                                    "Domicilio": "Ingenieros 234",
                                    "gerente": "Jesus"
                                },
                                {
                                    "ID_empleado": "6332756",
                                    "Nombre": "Reinaldo",
                                    "Apellido": "Gonzalez",
                                    "Telefono": "36642727",
                                    "Edad": "43",
                                    "Domicilio": "Vallarta 711",
                                    "gerente": "Jesus"
                                },
                                {
                                    "ID_empleado": "6931035",
                                    "Nombre": "Albeiro",
                                    "Apellido": "Villa",
                                    "Telefono": "33631010",
                                    "Edad": "39",
                                    "Domicilio": "Carniceros 233",
                                    "gerente": "Jesus"
                                },
                                {
                                    "ID_empleado": "9611338",
                                    "Nombre": "Haygnes",
                                    "Apellido": "Ortiz",
                                    "Telefono": "35400189",
                                    "Edad": "27",
                                    "Domicilio": "General Diaz 343",
                                    "gerente": "Jesus"
                                },
                                {
                                    "ID_empleado": "9922377",
                                    "Nombre": "Alexander",
                                    "Apellido": "Martinez",
                                    "Telefono": "36554872",
                                    "Edad": "28",
                                    "Domicilio": "Camino viejo 123",
                                    "gerente": "Jesus"
                                }
                            ]
                        },
                        "text/html": "<table><tr><th>ID_empleado</th><th>Nombre</th><th>Apellido</th><th>Telefono</th><th>Edad</th><th>Domicilio</th><th>gerente</th></tr><tr><td>1111222</td><td>Alberto</td><td>Barrientos</td><td>34766613</td><td>26</td><td>Federal 233</td><td>Jesus</td></tr><tr><td>2310967</td><td>Jairo</td><td>Mira</td><td>36403810</td><td>29</td><td>Calle 25 interior 2</td><td>Jesus</td></tr><tr><td>2520477</td><td>Egidio</td><td>Lopez</td><td>33444383</td><td>24</td><td>Rosas 996</td><td>Jesus</td></tr><tr><td>2630867</td><td>Elena</td><td>Atehortua</td><td>35581732</td><td>37</td><td>Sierra del tigre 299</td><td>Jesus</td></tr><tr><td>3833745</td><td>Maria</td><td>Zapata</td><td>35354455</td><td>34</td><td>Boulevard 85</td><td>Jesus</td></tr><tr><td>4245367</td><td>Alexandra</td><td>Zapata</td><td>33467136</td><td>31</td><td>Ingenieros 234</td><td>Jesus</td></tr><tr><td>6332756</td><td>Reinaldo</td><td>Gonzalez</td><td>36642727</td><td>43</td><td>Vallarta 711</td><td>Jesus</td></tr><tr><td>6931035</td><td>Albeiro</td><td>Villa</td><td>33631010</td><td>39</td><td>Carniceros 233</td><td>Jesus</td></tr><tr><td>9611338</td><td>Haygnes</td><td>Ortiz</td><td>35400189</td><td>27</td><td>General Diaz 343</td><td>Jesus</td></tr><tr><td>9922377</td><td>Alexander</td><td>Martinez</td><td>36554872</td><td>28</td><td>Camino viejo 123</td><td>Jesus</td></tr></table>"
                    },
                    "metadata": {}
                }
            ],
            "execution_count": 11
        },
        {
            "cell_type": "markdown",
            "source": [
                "¿Qué hay de raro en esta consulta con respecto a la tabla empleados? R. No aparece Jesús Agudelo, eso es debido a que este no tiene ID\\_Gerente"
            ],
            "metadata": {
                "azdata_cell_guid": "73a3775c-5e45-4020-a402-40a312cf870d"
            },
            "attachments": {}
        },
        {
            "cell_type": "markdown",
            "source": [
                "¿Cómo traigo a Jesús Agudelo a la consulta anterior?"
            ],
            "metadata": {
                "azdata_cell_guid": "d36fb2d7-26f7-4e5f-a87a-e23239109e52"
            },
            "attachments": {}
        },
        {
            "cell_type": "code",
            "source": [
                "SELECT\r\n",
                "    e.ID_empleado,\r\n",
                "    e.Nombre,\r\n",
                "    e.Apellido,\r\n",
                "    e.Telefono,\r\n",
                "    e.Edad,\r\n",
                "    e.Domicilio,\r\n",
                "    emp.nombre \r\n",
                " FROM datos.empleados e \r\n",
                " JOIN datos.empleados emp\r\n",
                "    ON e.ID_Gerente = emp.ID_empleado;   "
            ],
            "metadata": {
                "azdata_cell_guid": "ff1bee99-135c-4060-90c9-946bd786e496",
                "language": "sql"
            },
            "outputs": [
                {
                    "output_type": "display_data",
                    "data": {
                        "text/html": "(10 row(s) affected)"
                    },
                    "metadata": {}
                },
                {
                    "output_type": "display_data",
                    "data": {
                        "text/html": "Total execution time: 00:00:01.005"
                    },
                    "metadata": {}
                },
                {
                    "output_type": "execute_result",
                    "execution_count": 12,
                    "data": {
                        "application/vnd.dataresource+json": {
                            "schema": {
                                "fields": [
                                    {
                                        "name": "ID_empleado"
                                    },
                                    {
                                        "name": "Nombre"
                                    },
                                    {
                                        "name": "Apellido"
                                    },
                                    {
                                        "name": "Telefono"
                                    },
                                    {
                                        "name": "Edad"
                                    },
                                    {
                                        "name": "Domicilio"
                                    },
                                    {
                                        "name": "nombre"
                                    }
                                ]
                            },
                            "data": [
                                {
                                    "ID_empleado": "1111222",
                                    "Nombre": "Alberto",
                                    "Apellido": "Barrientos",
                                    "Telefono": "34766613",
                                    "Edad": "26",
                                    "Domicilio": "Federal 233",
                                    "nombre": "Jesus"
                                },
                                {
                                    "ID_empleado": "2310967",
                                    "Nombre": "Jairo",
                                    "Apellido": "Mira",
                                    "Telefono": "36403810",
                                    "Edad": "29",
                                    "Domicilio": "Calle 25 interior 2",
                                    "nombre": "Jesus"
                                },
                                {
                                    "ID_empleado": "2520477",
                                    "Nombre": "Egidio",
                                    "Apellido": "Lopez",
                                    "Telefono": "33444383",
                                    "Edad": "24",
                                    "Domicilio": "Rosas 996",
                                    "nombre": "Jesus"
                                },
                                {
                                    "ID_empleado": "2630867",
                                    "Nombre": "Elena",
                                    "Apellido": "Atehortua",
                                    "Telefono": "35581732",
                                    "Edad": "37",
                                    "Domicilio": "Sierra del tigre 299",
                                    "nombre": "Jesus"
                                },
                                {
                                    "ID_empleado": "3833745",
                                    "Nombre": "Maria",
                                    "Apellido": "Zapata",
                                    "Telefono": "35354455",
                                    "Edad": "34",
                                    "Domicilio": "Boulevard 85",
                                    "nombre": "Jesus"
                                },
                                {
                                    "ID_empleado": "4245367",
                                    "Nombre": "Alexandra",
                                    "Apellido": "Zapata",
                                    "Telefono": "33467136",
                                    "Edad": "31",
                                    "Domicilio": "Ingenieros 234",
                                    "nombre": "Jesus"
                                },
                                {
                                    "ID_empleado": "6332756",
                                    "Nombre": "Reinaldo",
                                    "Apellido": "Gonzalez",
                                    "Telefono": "36642727",
                                    "Edad": "43",
                                    "Domicilio": "Vallarta 711",
                                    "nombre": "Jesus"
                                },
                                {
                                    "ID_empleado": "6931035",
                                    "Nombre": "Albeiro",
                                    "Apellido": "Villa",
                                    "Telefono": "33631010",
                                    "Edad": "39",
                                    "Domicilio": "Carniceros 233",
                                    "nombre": "Jesus"
                                },
                                {
                                    "ID_empleado": "9611338",
                                    "Nombre": "Haygnes",
                                    "Apellido": "Ortiz",
                                    "Telefono": "35400189",
                                    "Edad": "27",
                                    "Domicilio": "General Diaz 343",
                                    "nombre": "Jesus"
                                },
                                {
                                    "ID_empleado": "9922377",
                                    "Nombre": "Alexander",
                                    "Apellido": "Martinez",
                                    "Telefono": "36554872",
                                    "Edad": "28",
                                    "Domicilio": "Camino viejo 123",
                                    "nombre": "Jesus"
                                }
                            ]
                        },
                        "text/html": "<table><tr><th>ID_empleado</th><th>Nombre</th><th>Apellido</th><th>Telefono</th><th>Edad</th><th>Domicilio</th><th>nombre</th></tr><tr><td>1111222</td><td>Alberto</td><td>Barrientos</td><td>34766613</td><td>26</td><td>Federal 233</td><td>Jesus</td></tr><tr><td>2310967</td><td>Jairo</td><td>Mira</td><td>36403810</td><td>29</td><td>Calle 25 interior 2</td><td>Jesus</td></tr><tr><td>2520477</td><td>Egidio</td><td>Lopez</td><td>33444383</td><td>24</td><td>Rosas 996</td><td>Jesus</td></tr><tr><td>2630867</td><td>Elena</td><td>Atehortua</td><td>35581732</td><td>37</td><td>Sierra del tigre 299</td><td>Jesus</td></tr><tr><td>3833745</td><td>Maria</td><td>Zapata</td><td>35354455</td><td>34</td><td>Boulevard 85</td><td>Jesus</td></tr><tr><td>4245367</td><td>Alexandra</td><td>Zapata</td><td>33467136</td><td>31</td><td>Ingenieros 234</td><td>Jesus</td></tr><tr><td>6332756</td><td>Reinaldo</td><td>Gonzalez</td><td>36642727</td><td>43</td><td>Vallarta 711</td><td>Jesus</td></tr><tr><td>6931035</td><td>Albeiro</td><td>Villa</td><td>33631010</td><td>39</td><td>Carniceros 233</td><td>Jesus</td></tr><tr><td>9611338</td><td>Haygnes</td><td>Ortiz</td><td>35400189</td><td>27</td><td>General Diaz 343</td><td>Jesus</td></tr><tr><td>9922377</td><td>Alexander</td><td>Martinez</td><td>36554872</td><td>28</td><td>Camino viejo 123</td><td>Jesus</td></tr></table>"
                    },
                    "metadata": {}
                }
            ],
            "execution_count": 12
        },
        {
            "cell_type": "code",
            "source": [
                "SELECT\r\n",
                "    e.ID_empleado,\r\n",
                "    e.Nombre,\r\n",
                "    e.Apellido,\r\n",
                "    e.Telefono,\r\n",
                "    e.Edad,\r\n",
                "    e.Domicilio,\r\n",
                "    emp.nombre AS gerente\r\n",
                " FROM datos.empleados e \r\n",
                " LEFT JOIN datos.empleados emp\r\n",
                "    ON e.ID_Gerente = emp.ID_empleado;  "
            ],
            "metadata": {
                "azdata_cell_guid": "4a75ce7e-e305-4cf2-953c-2545a8bc4641",
                "language": "sql"
            },
            "outputs": [
                {
                    "output_type": "display_data",
                    "data": {
                        "text/html": "(11 row(s) affected)"
                    },
                    "metadata": {}
                },
                {
                    "output_type": "display_data",
                    "data": {
                        "text/html": "Total execution time: 00:00:01.012"
                    },
                    "metadata": {}
                },
                {
                    "output_type": "execute_result",
                    "execution_count": 14,
                    "data": {
                        "application/vnd.dataresource+json": {
                            "schema": {
                                "fields": [
                                    {
                                        "name": "ID_empleado"
                                    },
                                    {
                                        "name": "Nombre"
                                    },
                                    {
                                        "name": "Apellido"
                                    },
                                    {
                                        "name": "Telefono"
                                    },
                                    {
                                        "name": "Edad"
                                    },
                                    {
                                        "name": "Domicilio"
                                    },
                                    {
                                        "name": "gerente"
                                    }
                                ]
                            },
                            "data": [
                                {
                                    "ID_empleado": "1111222",
                                    "Nombre": "Alberto",
                                    "Apellido": "Barrientos",
                                    "Telefono": "34766613",
                                    "Edad": "26",
                                    "Domicilio": "Federal 233",
                                    "gerente": "Jesus"
                                },
                                {
                                    "ID_empleado": "2310967",
                                    "Nombre": "Jairo",
                                    "Apellido": "Mira",
                                    "Telefono": "36403810",
                                    "Edad": "29",
                                    "Domicilio": "Calle 25 interior 2",
                                    "gerente": "Jesus"
                                },
                                {
                                    "ID_empleado": "2520477",
                                    "Nombre": "Egidio",
                                    "Apellido": "Lopez",
                                    "Telefono": "33444383",
                                    "Edad": "24",
                                    "Domicilio": "Rosas 996",
                                    "gerente": "Jesus"
                                },
                                {
                                    "ID_empleado": "2630867",
                                    "Nombre": "Elena",
                                    "Apellido": "Atehortua",
                                    "Telefono": "35581732",
                                    "Edad": "37",
                                    "Domicilio": "Sierra del tigre 299",
                                    "gerente": "Jesus"
                                },
                                {
                                    "ID_empleado": "3833745",
                                    "Nombre": "Maria",
                                    "Apellido": "Zapata",
                                    "Telefono": "35354455",
                                    "Edad": "34",
                                    "Domicilio": "Boulevard 85",
                                    "gerente": "Jesus"
                                },
                                {
                                    "ID_empleado": "4245367",
                                    "Nombre": "Alexandra",
                                    "Apellido": "Zapata",
                                    "Telefono": "33467136",
                                    "Edad": "31",
                                    "Domicilio": "Ingenieros 234",
                                    "gerente": "Jesus"
                                },
                                {
                                    "ID_empleado": "5942572",
                                    "Nombre": "Jesus",
                                    "Apellido": "Agudelo",
                                    "Telefono": "34616222",
                                    "Edad": "35",
                                    "Domicilio": "NULL",
                                    "gerente": "NULL"
                                },
                                {
                                    "ID_empleado": "6332756",
                                    "Nombre": "Reinaldo",
                                    "Apellido": "Gonzalez",
                                    "Telefono": "36642727",
                                    "Edad": "43",
                                    "Domicilio": "Vallarta 711",
                                    "gerente": "Jesus"
                                },
                                {
                                    "ID_empleado": "6931035",
                                    "Nombre": "Albeiro",
                                    "Apellido": "Villa",
                                    "Telefono": "33631010",
                                    "Edad": "39",
                                    "Domicilio": "Carniceros 233",
                                    "gerente": "Jesus"
                                },
                                {
                                    "ID_empleado": "9611338",
                                    "Nombre": "Haygnes",
                                    "Apellido": "Ortiz",
                                    "Telefono": "35400189",
                                    "Edad": "27",
                                    "Domicilio": "General Diaz 343",
                                    "gerente": "Jesus"
                                },
                                {
                                    "ID_empleado": "9922377",
                                    "Nombre": "Alexander",
                                    "Apellido": "Martinez",
                                    "Telefono": "36554872",
                                    "Edad": "28",
                                    "Domicilio": "Camino viejo 123",
                                    "gerente": "Jesus"
                                }
                            ]
                        },
                        "text/html": "<table><tr><th>ID_empleado</th><th>Nombre</th><th>Apellido</th><th>Telefono</th><th>Edad</th><th>Domicilio</th><th>gerente</th></tr><tr><td>1111222</td><td>Alberto</td><td>Barrientos</td><td>34766613</td><td>26</td><td>Federal 233</td><td>Jesus</td></tr><tr><td>2310967</td><td>Jairo</td><td>Mira</td><td>36403810</td><td>29</td><td>Calle 25 interior 2</td><td>Jesus</td></tr><tr><td>2520477</td><td>Egidio</td><td>Lopez</td><td>33444383</td><td>24</td><td>Rosas 996</td><td>Jesus</td></tr><tr><td>2630867</td><td>Elena</td><td>Atehortua</td><td>35581732</td><td>37</td><td>Sierra del tigre 299</td><td>Jesus</td></tr><tr><td>3833745</td><td>Maria</td><td>Zapata</td><td>35354455</td><td>34</td><td>Boulevard 85</td><td>Jesus</td></tr><tr><td>4245367</td><td>Alexandra</td><td>Zapata</td><td>33467136</td><td>31</td><td>Ingenieros 234</td><td>Jesus</td></tr><tr><td>5942572</td><td>Jesus</td><td>Agudelo</td><td>34616222</td><td>35</td><td>NULL</td><td>NULL</td></tr><tr><td>6332756</td><td>Reinaldo</td><td>Gonzalez</td><td>36642727</td><td>43</td><td>Vallarta 711</td><td>Jesus</td></tr><tr><td>6931035</td><td>Albeiro</td><td>Villa</td><td>33631010</td><td>39</td><td>Carniceros 233</td><td>Jesus</td></tr><tr><td>9611338</td><td>Haygnes</td><td>Ortiz</td><td>35400189</td><td>27</td><td>General Diaz 343</td><td>Jesus</td></tr><tr><td>9922377</td><td>Alexander</td><td>Martinez</td><td>36554872</td><td>28</td><td>Camino viejo 123</td><td>Jesus</td></tr></table>"
                    },
                    "metadata": {}
                }
            ],
            "execution_count": 14
        },
        {
            "cell_type": "code",
            "source": [
                "SELECT *\r\n",
                "FROM ventas v \r\n",
                "JOIN empleados e \r\n",
                "  ON v.venta_empleado = e.ID_empleado;"
            ],
            "metadata": {
                "azdata_cell_guid": "bce0dee1-87cb-4655-96b5-e7441fa4c224",
                "language": "sql"
            },
            "outputs": [
                {
                    "output_type": "display_data",
                    "data": {
                        "text/html": "(19 row(s) affected)"
                    },
                    "metadata": {}
                },
                {
                    "output_type": "display_data",
                    "data": {
                        "text/html": "Total execution time: 00:00:01.009"
                    },
                    "metadata": {}
                },
                {
                    "output_type": "execute_result",
                    "metadata": {},
                    "execution_count": 7,
                    "data": {
                        "application/vnd.dataresource+json": {
                            "schema": {
                                "fields": [
                                    {
                                        "name": "ventas_id"
                                    },
                                    {
                                        "name": "Fecha"
                                    },
                                    {
                                        "name": "ID_local"
                                    },
                                    {
                                        "name": "clave_producto"
                                    },
                                    {
                                        "name": "venta"
                                    },
                                    {
                                        "name": "venta_empleado"
                                    },
                                    {
                                        "name": "ID_empleado"
                                    },
                                    {
                                        "name": "Nombre"
                                    },
                                    {
                                        "name": "Apellido"
                                    },
                                    {
                                        "name": "Telefono"
                                    },
                                    {
                                        "name": "Edad"
                                    },
                                    {
                                        "name": "Domicilio"
                                    },
                                    {
                                        "name": "ID_Gerente"
                                    }
                                ]
                            },
                            "data": [
                                {
                                    "ventas_id": "1",
                                    "Fecha": "2018-11-18 00:00:00",
                                    "ID_local": "2",
                                    "clave_producto": "pzz",
                                    "venta": "1302",
                                    "venta_empleado": "2630867",
                                    "ID_empleado": "2630867",
                                    "Nombre": "Elena",
                                    "Apellido": "Atehortua",
                                    "Telefono": "35581732",
                                    "Edad": "37",
                                    "Domicilio": "Sierra del tigre 299",
                                    "ID_Gerente": "5942572"
                                },
                                {
                                    "ventas_id": "2",
                                    "Fecha": "2018-09-17 00:00:00",
                                    "ID_local": "2",
                                    "clave_producto": "clz",
                                    "venta": "953",
                                    "venta_empleado": "2310967",
                                    "ID_empleado": "2310967",
                                    "Nombre": "Jairo",
                                    "Apellido": "Mira",
                                    "Telefono": "36403810",
                                    "Edad": "29",
                                    "Domicilio": "Calle 25 interior 2",
                                    "ID_Gerente": "5942572"
                                },
                                {
                                    "ventas_id": "3",
                                    "Fecha": "2018-10-18 00:00:00",
                                    "ID_local": "4",
                                    "clave_producto": "brr",
                                    "venta": "1286",
                                    "venta_empleado": "6931035",
                                    "ID_empleado": "6931035",
                                    "Nombre": "Albeiro",
                                    "Apellido": "Villa",
                                    "Telefono": "33631010",
                                    "Edad": "39",
                                    "Domicilio": "Carniceros 233",
                                    "ID_Gerente": "5942572"
                                },
                                {
                                    "ventas_id": "4",
                                    "Fecha": "2018-10-30 00:00:00",
                                    "ID_local": "1",
                                    "clave_producto": "brr",
                                    "venta": "889",
                                    "venta_empleado": "9922377",
                                    "ID_empleado": "9922377",
                                    "Nombre": "Alexander",
                                    "Apellido": "Martinez",
                                    "Telefono": "36554872",
                                    "Edad": "28",
                                    "Domicilio": "Camino viejo 123",
                                    "ID_Gerente": "5942572"
                                },
                                {
                                    "ventas_id": "5",
                                    "Fecha": "2018-05-16 00:00:00",
                                    "ID_local": "1",
                                    "clave_producto": "qsd",
                                    "venta": "495",
                                    "venta_empleado": "2520477",
                                    "ID_empleado": "2520477",
                                    "Nombre": "Egidio",
                                    "Apellido": "Lopez",
                                    "Telefono": "33444383",
                                    "Edad": "24",
                                    "Domicilio": "Rosas 996",
                                    "ID_Gerente": "5942572"
                                },
                                {
                                    "ventas_id": "6",
                                    "Fecha": "2018-12-15 00:00:00",
                                    "ID_local": "3",
                                    "clave_producto": "pzz",
                                    "venta": "544",
                                    "venta_empleado": "9611338",
                                    "ID_empleado": "9611338",
                                    "Nombre": "Haygnes",
                                    "Apellido": "Ortiz",
                                    "Telefono": "35400189",
                                    "Edad": "27",
                                    "Domicilio": "General Diaz 343",
                                    "ID_Gerente": "5942572"
                                },
                                {
                                    "ventas_id": "7",
                                    "Fecha": "2018-07-28 00:00:00",
                                    "ID_local": "4",
                                    "clave_producto": "pzz",
                                    "venta": "1444",
                                    "venta_empleado": "6332756",
                                    "ID_empleado": "6332756",
                                    "Nombre": "Reinaldo",
                                    "Apellido": "Gonzalez",
                                    "Telefono": "36642727",
                                    "Edad": "43",
                                    "Domicilio": "Vallarta 711",
                                    "ID_Gerente": "5942572"
                                },
                                {
                                    "ventas_id": "8",
                                    "Fecha": "2018-10-05 00:00:00",
                                    "ID_local": "1",
                                    "clave_producto": "pzz",
                                    "venta": "435",
                                    "venta_empleado": "2520477",
                                    "ID_empleado": "2520477",
                                    "Nombre": "Egidio",
                                    "Apellido": "Lopez",
                                    "Telefono": "33444383",
                                    "Edad": "24",
                                    "Domicilio": "Rosas 996",
                                    "ID_Gerente": "5942572"
                                },
                                {
                                    "ventas_id": "9",
                                    "Fecha": "2018-04-20 00:00:00",
                                    "ID_local": "1",
                                    "clave_producto": "qsd",
                                    "venta": "1203",
                                    "venta_empleado": "9922377",
                                    "ID_empleado": "9922377",
                                    "Nombre": "Alexander",
                                    "Apellido": "Martinez",
                                    "Telefono": "36554872",
                                    "Edad": "28",
                                    "Domicilio": "Camino viejo 123",
                                    "ID_Gerente": "5942572"
                                },
                                {
                                    "ventas_id": "10",
                                    "Fecha": "2018-06-08 00:00:00",
                                    "ID_local": "1",
                                    "clave_producto": "brr",
                                    "venta": "1038",
                                    "venta_empleado": "6332756",
                                    "ID_empleado": "6332756",
                                    "Nombre": "Reinaldo",
                                    "Apellido": "Gonzalez",
                                    "Telefono": "36642727",
                                    "Edad": "43",
                                    "Domicilio": "Vallarta 711",
                                    "ID_Gerente": "5942572"
                                },
                                {
                                    "ventas_id": "11",
                                    "Fecha": "2018-08-22 00:00:00",
                                    "ID_local": "1",
                                    "clave_producto": "brr",
                                    "venta": "404",
                                    "venta_empleado": "3833745",
                                    "ID_empleado": "3833745",
                                    "Nombre": "Maria",
                                    "Apellido": "Zapata",
                                    "Telefono": "35354455",
                                    "Edad": "34",
                                    "Domicilio": "Boulevard 85",
                                    "ID_Gerente": "5942572"
                                },
                                {
                                    "ventas_id": "13",
                                    "Fecha": "2019-07-16 00:00:00",
                                    "ID_local": "3",
                                    "clave_producto": "qsd",
                                    "venta": "1054",
                                    "venta_empleado": "2310967",
                                    "ID_empleado": "2310967",
                                    "Nombre": "Jairo",
                                    "Apellido": "Mira",
                                    "Telefono": "36403810",
                                    "Edad": "29",
                                    "Domicilio": "Calle 25 interior 2",
                                    "ID_Gerente": "5942572"
                                },
                                {
                                    "ventas_id": "14",
                                    "Fecha": "2019-08-27 00:00:00",
                                    "ID_local": "3",
                                    "clave_producto": "clz",
                                    "venta": "303",
                                    "venta_empleado": "3833745",
                                    "ID_empleado": "3833745",
                                    "Nombre": "Maria",
                                    "Apellido": "Zapata",
                                    "Telefono": "35354455",
                                    "Edad": "34",
                                    "Domicilio": "Boulevard 85",
                                    "ID_Gerente": "5942572"
                                },
                                {
                                    "ventas_id": "15",
                                    "Fecha": "2019-12-15 00:00:00",
                                    "ID_local": "1",
                                    "clave_producto": "brr",
                                    "venta": "871",
                                    "venta_empleado": "2520477",
                                    "ID_empleado": "2520477",
                                    "Nombre": "Egidio",
                                    "Apellido": "Lopez",
                                    "Telefono": "33444383",
                                    "Edad": "24",
                                    "Domicilio": "Rosas 996",
                                    "ID_Gerente": "5942572"
                                },
                                {
                                    "ventas_id": "17",
                                    "Fecha": "2019-10-25 00:00:00",
                                    "ID_local": "1",
                                    "clave_producto": "pzz",
                                    "venta": "1376",
                                    "venta_empleado": "6332756",
                                    "ID_empleado": "6332756",
                                    "Nombre": "Reinaldo",
                                    "Apellido": "Gonzalez",
                                    "Telefono": "36642727",
                                    "Edad": "43",
                                    "Domicilio": "Vallarta 711",
                                    "ID_Gerente": "5942572"
                                },
                                {
                                    "ventas_id": "18",
                                    "Fecha": "2019-12-14 00:00:00",
                                    "ID_local": "3",
                                    "clave_producto": "pzz",
                                    "venta": "957",
                                    "venta_empleado": "2310967",
                                    "ID_empleado": "2310967",
                                    "Nombre": "Jairo",
                                    "Apellido": "Mira",
                                    "Telefono": "36403810",
                                    "Edad": "29",
                                    "Domicilio": "Calle 25 interior 2",
                                    "ID_Gerente": "5942572"
                                },
                                {
                                    "ventas_id": "19",
                                    "Fecha": "2019-08-14 00:00:00",
                                    "ID_local": "2",
                                    "clave_producto": "clz",
                                    "venta": "972",
                                    "venta_empleado": "2310967",
                                    "ID_empleado": "2310967",
                                    "Nombre": "Jairo",
                                    "Apellido": "Mira",
                                    "Telefono": "36403810",
                                    "Edad": "29",
                                    "Domicilio": "Calle 25 interior 2",
                                    "ID_Gerente": "5942572"
                                },
                                {
                                    "ventas_id": "20",
                                    "Fecha": "2019-12-01 00:00:00",
                                    "ID_local": "1",
                                    "clave_producto": "pzz",
                                    "venta": "1455",
                                    "venta_empleado": "2310967",
                                    "ID_empleado": "2310967",
                                    "Nombre": "Jairo",
                                    "Apellido": "Mira",
                                    "Telefono": "36403810",
                                    "Edad": "29",
                                    "Domicilio": "Calle 25 interior 2",
                                    "ID_Gerente": "5942572"
                                },
                                {
                                    "ventas_id": "22",
                                    "Fecha": "2019-07-25 00:00:00",
                                    "ID_local": "3",
                                    "clave_producto": "clz",
                                    "venta": "1179",
                                    "venta_empleado": "2310967",
                                    "ID_empleado": "2310967",
                                    "Nombre": "Jairo",
                                    "Apellido": "Mira",
                                    "Telefono": "36403810",
                                    "Edad": "29",
                                    "Domicilio": "Calle 25 interior 2",
                                    "ID_Gerente": "5942572"
                                }
                            ]
                        },
                        "text/html": [
                            "<table>",
                            "<tr><th>ventas_id</th><th>Fecha</th><th>ID_local</th><th>clave_producto</th><th>venta</th><th>venta_empleado</th><th>ID_empleado</th><th>Nombre</th><th>Apellido</th><th>Telefono</th><th>Edad</th><th>Domicilio</th><th>ID_Gerente</th></tr>",
                            "<tr><td>1</td><td>2018-11-18 00:00:00</td><td>2</td><td>pzz</td><td>1302</td><td>2630867</td><td>2630867</td><td>Elena</td><td>Atehortua</td><td>35581732</td><td>37</td><td>Sierra del tigre 299</td><td>5942572</td></tr>",
                            "<tr><td>2</td><td>2018-09-17 00:00:00</td><td>2</td><td>clz</td><td>953</td><td>2310967</td><td>2310967</td><td>Jairo</td><td>Mira</td><td>36403810</td><td>29</td><td>Calle 25 interior 2</td><td>5942572</td></tr>",
                            "<tr><td>3</td><td>2018-10-18 00:00:00</td><td>4</td><td>brr</td><td>1286</td><td>6931035</td><td>6931035</td><td>Albeiro</td><td>Villa</td><td>33631010</td><td>39</td><td>Carniceros 233</td><td>5942572</td></tr>",
                            "<tr><td>4</td><td>2018-10-30 00:00:00</td><td>1</td><td>brr</td><td>889</td><td>9922377</td><td>9922377</td><td>Alexander</td><td>Martinez</td><td>36554872</td><td>28</td><td>Camino viejo 123</td><td>5942572</td></tr>",
                            "<tr><td>5</td><td>2018-05-16 00:00:00</td><td>1</td><td>qsd</td><td>495</td><td>2520477</td><td>2520477</td><td>Egidio</td><td>Lopez</td><td>33444383</td><td>24</td><td>Rosas 996</td><td>5942572</td></tr>",
                            "<tr><td>6</td><td>2018-12-15 00:00:00</td><td>3</td><td>pzz</td><td>544</td><td>9611338</td><td>9611338</td><td>Haygnes</td><td>Ortiz</td><td>35400189</td><td>27</td><td>General Diaz 343</td><td>5942572</td></tr>",
                            "<tr><td>7</td><td>2018-07-28 00:00:00</td><td>4</td><td>pzz</td><td>1444</td><td>6332756</td><td>6332756</td><td>Reinaldo</td><td>Gonzalez</td><td>36642727</td><td>43</td><td>Vallarta 711</td><td>5942572</td></tr>",
                            "<tr><td>8</td><td>2018-10-05 00:00:00</td><td>1</td><td>pzz</td><td>435</td><td>2520477</td><td>2520477</td><td>Egidio</td><td>Lopez</td><td>33444383</td><td>24</td><td>Rosas 996</td><td>5942572</td></tr>",
                            "<tr><td>9</td><td>2018-04-20 00:00:00</td><td>1</td><td>qsd</td><td>1203</td><td>9922377</td><td>9922377</td><td>Alexander</td><td>Martinez</td><td>36554872</td><td>28</td><td>Camino viejo 123</td><td>5942572</td></tr>",
                            "<tr><td>10</td><td>2018-06-08 00:00:00</td><td>1</td><td>brr</td><td>1038</td><td>6332756</td><td>6332756</td><td>Reinaldo</td><td>Gonzalez</td><td>36642727</td><td>43</td><td>Vallarta 711</td><td>5942572</td></tr>",
                            "<tr><td>11</td><td>2018-08-22 00:00:00</td><td>1</td><td>brr</td><td>404</td><td>3833745</td><td>3833745</td><td>Maria</td><td>Zapata</td><td>35354455</td><td>34</td><td>Boulevard 85</td><td>5942572</td></tr>",
                            "<tr><td>13</td><td>2019-07-16 00:00:00</td><td>3</td><td>qsd</td><td>1054</td><td>2310967</td><td>2310967</td><td>Jairo</td><td>Mira</td><td>36403810</td><td>29</td><td>Calle 25 interior 2</td><td>5942572</td></tr>",
                            "<tr><td>14</td><td>2019-08-27 00:00:00</td><td>3</td><td>clz</td><td>303</td><td>3833745</td><td>3833745</td><td>Maria</td><td>Zapata</td><td>35354455</td><td>34</td><td>Boulevard 85</td><td>5942572</td></tr>",
                            "<tr><td>15</td><td>2019-12-15 00:00:00</td><td>1</td><td>brr</td><td>871</td><td>2520477</td><td>2520477</td><td>Egidio</td><td>Lopez</td><td>33444383</td><td>24</td><td>Rosas 996</td><td>5942572</td></tr>",
                            "<tr><td>17</td><td>2019-10-25 00:00:00</td><td>1</td><td>pzz</td><td>1376</td><td>6332756</td><td>6332756</td><td>Reinaldo</td><td>Gonzalez</td><td>36642727</td><td>43</td><td>Vallarta 711</td><td>5942572</td></tr>",
                            "<tr><td>18</td><td>2019-12-14 00:00:00</td><td>3</td><td>pzz</td><td>957</td><td>2310967</td><td>2310967</td><td>Jairo</td><td>Mira</td><td>36403810</td><td>29</td><td>Calle 25 interior 2</td><td>5942572</td></tr>",
                            "<tr><td>19</td><td>2019-08-14 00:00:00</td><td>2</td><td>clz</td><td>972</td><td>2310967</td><td>2310967</td><td>Jairo</td><td>Mira</td><td>36403810</td><td>29</td><td>Calle 25 interior 2</td><td>5942572</td></tr>",
                            "<tr><td>20</td><td>2019-12-01 00:00:00</td><td>1</td><td>pzz</td><td>1455</td><td>2310967</td><td>2310967</td><td>Jairo</td><td>Mira</td><td>36403810</td><td>29</td><td>Calle 25 interior 2</td><td>5942572</td></tr>",
                            "<tr><td>22</td><td>2019-07-25 00:00:00</td><td>3</td><td>clz</td><td>1179</td><td>2310967</td><td>2310967</td><td>Jairo</td><td>Mira</td><td>36403810</td><td>29</td><td>Calle 25 interior 2</td><td>5942572</td></tr>",
                            "</table>"
                        ]
                    }
                }
            ],
            "execution_count": 7
        },
        {
            "cell_type": "code",
            "source": [
                "SELECT *\r\n",
                "FROM ventas v \r\n",
                "RIGHT JOIN empleados e\r\n",
                "     ON v.venta_empleado = e.ID_empleado "
            ],
            "metadata": {
                "azdata_cell_guid": "2108eaf3-197b-46d3-9237-09b047f998a2",
                "language": "sql"
            },
            "outputs": [
                {
                    "output_type": "display_data",
                    "data": {
                        "text/html": "(22 row(s) affected)"
                    },
                    "metadata": {}
                },
                {
                    "output_type": "display_data",
                    "data": {
                        "text/html": "Total execution time: 00:00:01.022"
                    },
                    "metadata": {}
                },
                {
                    "output_type": "execute_result",
                    "metadata": {},
                    "execution_count": 12,
                    "data": {
                        "application/vnd.dataresource+json": {
                            "schema": {
                                "fields": [
                                    {
                                        "name": "ventas_id"
                                    },
                                    {
                                        "name": "Fecha"
                                    },
                                    {
                                        "name": "ID_local"
                                    },
                                    {
                                        "name": "clave_producto"
                                    },
                                    {
                                        "name": "venta"
                                    },
                                    {
                                        "name": "venta_empleado"
                                    },
                                    {
                                        "name": "ID_empleado"
                                    },
                                    {
                                        "name": "Nombre"
                                    },
                                    {
                                        "name": "Apellido"
                                    },
                                    {
                                        "name": "Telefono"
                                    },
                                    {
                                        "name": "Edad"
                                    },
                                    {
                                        "name": "Domicilio"
                                    },
                                    {
                                        "name": "ID_Gerente"
                                    }
                                ]
                            },
                            "data": [
                                {
                                    "ventas_id": "NULL",
                                    "Fecha": "NULL",
                                    "ID_local": "NULL",
                                    "clave_producto": "NULL",
                                    "venta": "NULL",
                                    "venta_empleado": "NULL",
                                    "ID_empleado": "1111222",
                                    "Nombre": "Alberto",
                                    "Apellido": "Barrientos",
                                    "Telefono": "34766613",
                                    "Edad": "26",
                                    "Domicilio": "Federal 233",
                                    "ID_Gerente": "5942572"
                                },
                                {
                                    "ventas_id": "22",
                                    "Fecha": "2019-07-25 00:00:00",
                                    "ID_local": "3",
                                    "clave_producto": "clz",
                                    "venta": "1179",
                                    "venta_empleado": "2310967",
                                    "ID_empleado": "2310967",
                                    "Nombre": "Jairo",
                                    "Apellido": "Mira",
                                    "Telefono": "36403810",
                                    "Edad": "29",
                                    "Domicilio": "Calle 25 interior 2",
                                    "ID_Gerente": "5942572"
                                },
                                {
                                    "ventas_id": "20",
                                    "Fecha": "2019-12-01 00:00:00",
                                    "ID_local": "1",
                                    "clave_producto": "pzz",
                                    "venta": "1455",
                                    "venta_empleado": "2310967",
                                    "ID_empleado": "2310967",
                                    "Nombre": "Jairo",
                                    "Apellido": "Mira",
                                    "Telefono": "36403810",
                                    "Edad": "29",
                                    "Domicilio": "Calle 25 interior 2",
                                    "ID_Gerente": "5942572"
                                },
                                {
                                    "ventas_id": "19",
                                    "Fecha": "2019-08-14 00:00:00",
                                    "ID_local": "2",
                                    "clave_producto": "clz",
                                    "venta": "972",
                                    "venta_empleado": "2310967",
                                    "ID_empleado": "2310967",
                                    "Nombre": "Jairo",
                                    "Apellido": "Mira",
                                    "Telefono": "36403810",
                                    "Edad": "29",
                                    "Domicilio": "Calle 25 interior 2",
                                    "ID_Gerente": "5942572"
                                },
                                {
                                    "ventas_id": "18",
                                    "Fecha": "2019-12-14 00:00:00",
                                    "ID_local": "3",
                                    "clave_producto": "pzz",
                                    "venta": "957",
                                    "venta_empleado": "2310967",
                                    "ID_empleado": "2310967",
                                    "Nombre": "Jairo",
                                    "Apellido": "Mira",
                                    "Telefono": "36403810",
                                    "Edad": "29",
                                    "Domicilio": "Calle 25 interior 2",
                                    "ID_Gerente": "5942572"
                                },
                                {
                                    "ventas_id": "13",
                                    "Fecha": "2019-07-16 00:00:00",
                                    "ID_local": "3",
                                    "clave_producto": "qsd",
                                    "venta": "1054",
                                    "venta_empleado": "2310967",
                                    "ID_empleado": "2310967",
                                    "Nombre": "Jairo",
                                    "Apellido": "Mira",
                                    "Telefono": "36403810",
                                    "Edad": "29",
                                    "Domicilio": "Calle 25 interior 2",
                                    "ID_Gerente": "5942572"
                                },
                                {
                                    "ventas_id": "2",
                                    "Fecha": "2018-09-17 00:00:00",
                                    "ID_local": "2",
                                    "clave_producto": "clz",
                                    "venta": "953",
                                    "venta_empleado": "2310967",
                                    "ID_empleado": "2310967",
                                    "Nombre": "Jairo",
                                    "Apellido": "Mira",
                                    "Telefono": "36403810",
                                    "Edad": "29",
                                    "Domicilio": "Calle 25 interior 2",
                                    "ID_Gerente": "5942572"
                                },
                                {
                                    "ventas_id": "15",
                                    "Fecha": "2019-12-15 00:00:00",
                                    "ID_local": "1",
                                    "clave_producto": "brr",
                                    "venta": "871",
                                    "venta_empleado": "2520477",
                                    "ID_empleado": "2520477",
                                    "Nombre": "Egidio",
                                    "Apellido": "Lopez",
                                    "Telefono": "33444383",
                                    "Edad": "24",
                                    "Domicilio": "Rosas 996",
                                    "ID_Gerente": "5942572"
                                },
                                {
                                    "ventas_id": "8",
                                    "Fecha": "2018-10-05 00:00:00",
                                    "ID_local": "1",
                                    "clave_producto": "pzz",
                                    "venta": "435",
                                    "venta_empleado": "2520477",
                                    "ID_empleado": "2520477",
                                    "Nombre": "Egidio",
                                    "Apellido": "Lopez",
                                    "Telefono": "33444383",
                                    "Edad": "24",
                                    "Domicilio": "Rosas 996",
                                    "ID_Gerente": "5942572"
                                },
                                {
                                    "ventas_id": "5",
                                    "Fecha": "2018-05-16 00:00:00",
                                    "ID_local": "1",
                                    "clave_producto": "qsd",
                                    "venta": "495",
                                    "venta_empleado": "2520477",
                                    "ID_empleado": "2520477",
                                    "Nombre": "Egidio",
                                    "Apellido": "Lopez",
                                    "Telefono": "33444383",
                                    "Edad": "24",
                                    "Domicilio": "Rosas 996",
                                    "ID_Gerente": "5942572"
                                },
                                {
                                    "ventas_id": "1",
                                    "Fecha": "2018-11-18 00:00:00",
                                    "ID_local": "2",
                                    "clave_producto": "pzz",
                                    "venta": "1302",
                                    "venta_empleado": "2630867",
                                    "ID_empleado": "2630867",
                                    "Nombre": "Elena",
                                    "Apellido": "Atehortua",
                                    "Telefono": "35581732",
                                    "Edad": "37",
                                    "Domicilio": "Sierra del tigre 299",
                                    "ID_Gerente": "5942572"
                                },
                                {
                                    "ventas_id": "14",
                                    "Fecha": "2019-08-27 00:00:00",
                                    "ID_local": "3",
                                    "clave_producto": "clz",
                                    "venta": "303",
                                    "venta_empleado": "3833745",
                                    "ID_empleado": "3833745",
                                    "Nombre": "Maria",
                                    "Apellido": "Zapata",
                                    "Telefono": "35354455",
                                    "Edad": "34",
                                    "Domicilio": "Boulevard 85",
                                    "ID_Gerente": "5942572"
                                },
                                {
                                    "ventas_id": "11",
                                    "Fecha": "2018-08-22 00:00:00",
                                    "ID_local": "1",
                                    "clave_producto": "brr",
                                    "venta": "404",
                                    "venta_empleado": "3833745",
                                    "ID_empleado": "3833745",
                                    "Nombre": "Maria",
                                    "Apellido": "Zapata",
                                    "Telefono": "35354455",
                                    "Edad": "34",
                                    "Domicilio": "Boulevard 85",
                                    "ID_Gerente": "5942572"
                                },
                                {
                                    "ventas_id": "NULL",
                                    "Fecha": "NULL",
                                    "ID_local": "NULL",
                                    "clave_producto": "NULL",
                                    "venta": "NULL",
                                    "venta_empleado": "NULL",
                                    "ID_empleado": "4245367",
                                    "Nombre": "Alexandra",
                                    "Apellido": "Zapata",
                                    "Telefono": "33467136",
                                    "Edad": "31",
                                    "Domicilio": "Ingenieros 234",
                                    "ID_Gerente": "5942572"
                                },
                                {
                                    "ventas_id": "NULL",
                                    "Fecha": "NULL",
                                    "ID_local": "NULL",
                                    "clave_producto": "NULL",
                                    "venta": "NULL",
                                    "venta_empleado": "NULL",
                                    "ID_empleado": "5942572",
                                    "Nombre": "Jesus",
                                    "Apellido": "Agudelo",
                                    "Telefono": "34616222",
                                    "Edad": "35",
                                    "Domicilio": "NULL",
                                    "ID_Gerente": "NULL"
                                },
                                {
                                    "ventas_id": "17",
                                    "Fecha": "2019-10-25 00:00:00",
                                    "ID_local": "1",
                                    "clave_producto": "pzz",
                                    "venta": "1376",
                                    "venta_empleado": "6332756",
                                    "ID_empleado": "6332756",
                                    "Nombre": "Reinaldo",
                                    "Apellido": "Gonzalez",
                                    "Telefono": "36642727",
                                    "Edad": "43",
                                    "Domicilio": "Vallarta 711",
                                    "ID_Gerente": "5942572"
                                },
                                {
                                    "ventas_id": "10",
                                    "Fecha": "2018-06-08 00:00:00",
                                    "ID_local": "1",
                                    "clave_producto": "brr",
                                    "venta": "1038",
                                    "venta_empleado": "6332756",
                                    "ID_empleado": "6332756",
                                    "Nombre": "Reinaldo",
                                    "Apellido": "Gonzalez",
                                    "Telefono": "36642727",
                                    "Edad": "43",
                                    "Domicilio": "Vallarta 711",
                                    "ID_Gerente": "5942572"
                                },
                                {
                                    "ventas_id": "7",
                                    "Fecha": "2018-07-28 00:00:00",
                                    "ID_local": "4",
                                    "clave_producto": "pzz",
                                    "venta": "1444",
                                    "venta_empleado": "6332756",
                                    "ID_empleado": "6332756",
                                    "Nombre": "Reinaldo",
                                    "Apellido": "Gonzalez",
                                    "Telefono": "36642727",
                                    "Edad": "43",
                                    "Domicilio": "Vallarta 711",
                                    "ID_Gerente": "5942572"
                                },
                                {
                                    "ventas_id": "3",
                                    "Fecha": "2018-10-18 00:00:00",
                                    "ID_local": "4",
                                    "clave_producto": "brr",
                                    "venta": "1286",
                                    "venta_empleado": "6931035",
                                    "ID_empleado": "6931035",
                                    "Nombre": "Albeiro",
                                    "Apellido": "Villa",
                                    "Telefono": "33631010",
                                    "Edad": "39",
                                    "Domicilio": "Carniceros 233",
                                    "ID_Gerente": "5942572"
                                },
                                {
                                    "ventas_id": "6",
                                    "Fecha": "2018-12-15 00:00:00",
                                    "ID_local": "3",
                                    "clave_producto": "pzz",
                                    "venta": "544",
                                    "venta_empleado": "9611338",
                                    "ID_empleado": "9611338",
                                    "Nombre": "Haygnes",
                                    "Apellido": "Ortiz",
                                    "Telefono": "35400189",
                                    "Edad": "27",
                                    "Domicilio": "General Diaz 343",
                                    "ID_Gerente": "5942572"
                                },
                                {
                                    "ventas_id": "9",
                                    "Fecha": "2018-04-20 00:00:00",
                                    "ID_local": "1",
                                    "clave_producto": "qsd",
                                    "venta": "1203",
                                    "venta_empleado": "9922377",
                                    "ID_empleado": "9922377",
                                    "Nombre": "Alexander",
                                    "Apellido": "Martinez",
                                    "Telefono": "36554872",
                                    "Edad": "28",
                                    "Domicilio": "Camino viejo 123",
                                    "ID_Gerente": "5942572"
                                },
                                {
                                    "ventas_id": "4",
                                    "Fecha": "2018-10-30 00:00:00",
                                    "ID_local": "1",
                                    "clave_producto": "brr",
                                    "venta": "889",
                                    "venta_empleado": "9922377",
                                    "ID_empleado": "9922377",
                                    "Nombre": "Alexander",
                                    "Apellido": "Martinez",
                                    "Telefono": "36554872",
                                    "Edad": "28",
                                    "Domicilio": "Camino viejo 123",
                                    "ID_Gerente": "5942572"
                                }
                            ]
                        },
                        "text/html": [
                            "<table>",
                            "<tr><th>ventas_id</th><th>Fecha</th><th>ID_local</th><th>clave_producto</th><th>venta</th><th>venta_empleado</th><th>ID_empleado</th><th>Nombre</th><th>Apellido</th><th>Telefono</th><th>Edad</th><th>Domicilio</th><th>ID_Gerente</th></tr>",
                            "<tr><td>NULL</td><td>NULL</td><td>NULL</td><td>NULL</td><td>NULL</td><td>NULL</td><td>1111222</td><td>Alberto</td><td>Barrientos</td><td>34766613</td><td>26</td><td>Federal 233</td><td>5942572</td></tr>",
                            "<tr><td>22</td><td>2019-07-25 00:00:00</td><td>3</td><td>clz</td><td>1179</td><td>2310967</td><td>2310967</td><td>Jairo</td><td>Mira</td><td>36403810</td><td>29</td><td>Calle 25 interior 2</td><td>5942572</td></tr>",
                            "<tr><td>20</td><td>2019-12-01 00:00:00</td><td>1</td><td>pzz</td><td>1455</td><td>2310967</td><td>2310967</td><td>Jairo</td><td>Mira</td><td>36403810</td><td>29</td><td>Calle 25 interior 2</td><td>5942572</td></tr>",
                            "<tr><td>19</td><td>2019-08-14 00:00:00</td><td>2</td><td>clz</td><td>972</td><td>2310967</td><td>2310967</td><td>Jairo</td><td>Mira</td><td>36403810</td><td>29</td><td>Calle 25 interior 2</td><td>5942572</td></tr>",
                            "<tr><td>18</td><td>2019-12-14 00:00:00</td><td>3</td><td>pzz</td><td>957</td><td>2310967</td><td>2310967</td><td>Jairo</td><td>Mira</td><td>36403810</td><td>29</td><td>Calle 25 interior 2</td><td>5942572</td></tr>",
                            "<tr><td>13</td><td>2019-07-16 00:00:00</td><td>3</td><td>qsd</td><td>1054</td><td>2310967</td><td>2310967</td><td>Jairo</td><td>Mira</td><td>36403810</td><td>29</td><td>Calle 25 interior 2</td><td>5942572</td></tr>",
                            "<tr><td>2</td><td>2018-09-17 00:00:00</td><td>2</td><td>clz</td><td>953</td><td>2310967</td><td>2310967</td><td>Jairo</td><td>Mira</td><td>36403810</td><td>29</td><td>Calle 25 interior 2</td><td>5942572</td></tr>",
                            "<tr><td>15</td><td>2019-12-15 00:00:00</td><td>1</td><td>brr</td><td>871</td><td>2520477</td><td>2520477</td><td>Egidio</td><td>Lopez</td><td>33444383</td><td>24</td><td>Rosas 996</td><td>5942572</td></tr>",
                            "<tr><td>8</td><td>2018-10-05 00:00:00</td><td>1</td><td>pzz</td><td>435</td><td>2520477</td><td>2520477</td><td>Egidio</td><td>Lopez</td><td>33444383</td><td>24</td><td>Rosas 996</td><td>5942572</td></tr>",
                            "<tr><td>5</td><td>2018-05-16 00:00:00</td><td>1</td><td>qsd</td><td>495</td><td>2520477</td><td>2520477</td><td>Egidio</td><td>Lopez</td><td>33444383</td><td>24</td><td>Rosas 996</td><td>5942572</td></tr>",
                            "<tr><td>1</td><td>2018-11-18 00:00:00</td><td>2</td><td>pzz</td><td>1302</td><td>2630867</td><td>2630867</td><td>Elena</td><td>Atehortua</td><td>35581732</td><td>37</td><td>Sierra del tigre 299</td><td>5942572</td></tr>",
                            "<tr><td>14</td><td>2019-08-27 00:00:00</td><td>3</td><td>clz</td><td>303</td><td>3833745</td><td>3833745</td><td>Maria</td><td>Zapata</td><td>35354455</td><td>34</td><td>Boulevard 85</td><td>5942572</td></tr>",
                            "<tr><td>11</td><td>2018-08-22 00:00:00</td><td>1</td><td>brr</td><td>404</td><td>3833745</td><td>3833745</td><td>Maria</td><td>Zapata</td><td>35354455</td><td>34</td><td>Boulevard 85</td><td>5942572</td></tr>",
                            "<tr><td>NULL</td><td>NULL</td><td>NULL</td><td>NULL</td><td>NULL</td><td>NULL</td><td>4245367</td><td>Alexandra</td><td>Zapata</td><td>33467136</td><td>31</td><td>Ingenieros 234</td><td>5942572</td></tr>",
                            "<tr><td>NULL</td><td>NULL</td><td>NULL</td><td>NULL</td><td>NULL</td><td>NULL</td><td>5942572</td><td>Jesus</td><td>Agudelo</td><td>34616222</td><td>35</td><td>NULL</td><td>NULL</td></tr>",
                            "<tr><td>17</td><td>2019-10-25 00:00:00</td><td>1</td><td>pzz</td><td>1376</td><td>6332756</td><td>6332756</td><td>Reinaldo</td><td>Gonzalez</td><td>36642727</td><td>43</td><td>Vallarta 711</td><td>5942572</td></tr>",
                            "<tr><td>10</td><td>2018-06-08 00:00:00</td><td>1</td><td>brr</td><td>1038</td><td>6332756</td><td>6332756</td><td>Reinaldo</td><td>Gonzalez</td><td>36642727</td><td>43</td><td>Vallarta 711</td><td>5942572</td></tr>",
                            "<tr><td>7</td><td>2018-07-28 00:00:00</td><td>4</td><td>pzz</td><td>1444</td><td>6332756</td><td>6332756</td><td>Reinaldo</td><td>Gonzalez</td><td>36642727</td><td>43</td><td>Vallarta 711</td><td>5942572</td></tr>",
                            "<tr><td>3</td><td>2018-10-18 00:00:00</td><td>4</td><td>brr</td><td>1286</td><td>6931035</td><td>6931035</td><td>Albeiro</td><td>Villa</td><td>33631010</td><td>39</td><td>Carniceros 233</td><td>5942572</td></tr>",
                            "<tr><td>6</td><td>2018-12-15 00:00:00</td><td>3</td><td>pzz</td><td>544</td><td>9611338</td><td>9611338</td><td>Haygnes</td><td>Ortiz</td><td>35400189</td><td>27</td><td>General Diaz 343</td><td>5942572</td></tr>",
                            "<tr><td>9</td><td>2018-04-20 00:00:00</td><td>1</td><td>qsd</td><td>1203</td><td>9922377</td><td>9922377</td><td>Alexander</td><td>Martinez</td><td>36554872</td><td>28</td><td>Camino viejo 123</td><td>5942572</td></tr>",
                            "<tr><td>4</td><td>2018-10-30 00:00:00</td><td>1</td><td>brr</td><td>889</td><td>9922377</td><td>9922377</td><td>Alexander</td><td>Martinez</td><td>36554872</td><td>28</td><td>Camino viejo 123</td><td>5942572</td></tr>",
                            "</table>"
                        ]
                    }
                }
            ],
            "execution_count": 12
        },
        {
            "cell_type": "markdown",
            "source": [
                "**LEFT JOIN**"
            ],
            "metadata": {
                "azdata_cell_guid": "a3673e76-92f5-4ec9-996c-015f6afb5341"
            },
            "attachments": {}
        },
        {
            "cell_type": "code",
            "source": [
                "SELECT *\r\n",
                "FROM ventas v \r\n",
                "LEFT JOIN empleados e \r\n",
                "   ON v.venta_empleado = e.ID_empleado;"
            ],
            "metadata": {
                "azdata_cell_guid": "438f83cd-59ea-4ec2-8e68-d986c1139d14",
                "language": "sql"
            },
            "outputs": [
                {
                    "output_type": "display_data",
                    "data": {
                        "text/html": "(22 row(s) affected)"
                    },
                    "metadata": {}
                },
                {
                    "output_type": "display_data",
                    "data": {
                        "text/html": "Total execution time: 00:00:01.010"
                    },
                    "metadata": {}
                },
                {
                    "output_type": "execute_result",
                    "metadata": {},
                    "execution_count": 13,
                    "data": {
                        "application/vnd.dataresource+json": {
                            "schema": {
                                "fields": [
                                    {
                                        "name": "ventas_id"
                                    },
                                    {
                                        "name": "Fecha"
                                    },
                                    {
                                        "name": "ID_local"
                                    },
                                    {
                                        "name": "clave_producto"
                                    },
                                    {
                                        "name": "venta"
                                    },
                                    {
                                        "name": "venta_empleado"
                                    },
                                    {
                                        "name": "ID_empleado"
                                    },
                                    {
                                        "name": "Nombre"
                                    },
                                    {
                                        "name": "Apellido"
                                    },
                                    {
                                        "name": "Telefono"
                                    },
                                    {
                                        "name": "Edad"
                                    },
                                    {
                                        "name": "Domicilio"
                                    },
                                    {
                                        "name": "ID_Gerente"
                                    }
                                ]
                            },
                            "data": [
                                {
                                    "ventas_id": "1",
                                    "Fecha": "2018-11-18 00:00:00",
                                    "ID_local": "2",
                                    "clave_producto": "pzz",
                                    "venta": "1302",
                                    "venta_empleado": "2630867",
                                    "ID_empleado": "2630867",
                                    "Nombre": "Elena",
                                    "Apellido": "Atehortua",
                                    "Telefono": "35581732",
                                    "Edad": "37",
                                    "Domicilio": "Sierra del tigre 299",
                                    "ID_Gerente": "5942572"
                                },
                                {
                                    "ventas_id": "2",
                                    "Fecha": "2018-09-17 00:00:00",
                                    "ID_local": "2",
                                    "clave_producto": "clz",
                                    "venta": "953",
                                    "venta_empleado": "2310967",
                                    "ID_empleado": "2310967",
                                    "Nombre": "Jairo",
                                    "Apellido": "Mira",
                                    "Telefono": "36403810",
                                    "Edad": "29",
                                    "Domicilio": "Calle 25 interior 2",
                                    "ID_Gerente": "5942572"
                                },
                                {
                                    "ventas_id": "3",
                                    "Fecha": "2018-10-18 00:00:00",
                                    "ID_local": "4",
                                    "clave_producto": "brr",
                                    "venta": "1286",
                                    "venta_empleado": "6931035",
                                    "ID_empleado": "6931035",
                                    "Nombre": "Albeiro",
                                    "Apellido": "Villa",
                                    "Telefono": "33631010",
                                    "Edad": "39",
                                    "Domicilio": "Carniceros 233",
                                    "ID_Gerente": "5942572"
                                },
                                {
                                    "ventas_id": "4",
                                    "Fecha": "2018-10-30 00:00:00",
                                    "ID_local": "1",
                                    "clave_producto": "brr",
                                    "venta": "889",
                                    "venta_empleado": "9922377",
                                    "ID_empleado": "9922377",
                                    "Nombre": "Alexander",
                                    "Apellido": "Martinez",
                                    "Telefono": "36554872",
                                    "Edad": "28",
                                    "Domicilio": "Camino viejo 123",
                                    "ID_Gerente": "5942572"
                                },
                                {
                                    "ventas_id": "5",
                                    "Fecha": "2018-05-16 00:00:00",
                                    "ID_local": "1",
                                    "clave_producto": "qsd",
                                    "venta": "495",
                                    "venta_empleado": "2520477",
                                    "ID_empleado": "2520477",
                                    "Nombre": "Egidio",
                                    "Apellido": "Lopez",
                                    "Telefono": "33444383",
                                    "Edad": "24",
                                    "Domicilio": "Rosas 996",
                                    "ID_Gerente": "5942572"
                                },
                                {
                                    "ventas_id": "6",
                                    "Fecha": "2018-12-15 00:00:00",
                                    "ID_local": "3",
                                    "clave_producto": "pzz",
                                    "venta": "544",
                                    "venta_empleado": "9611338",
                                    "ID_empleado": "9611338",
                                    "Nombre": "Haygnes",
                                    "Apellido": "Ortiz",
                                    "Telefono": "35400189",
                                    "Edad": "27",
                                    "Domicilio": "General Diaz 343",
                                    "ID_Gerente": "5942572"
                                },
                                {
                                    "ventas_id": "7",
                                    "Fecha": "2018-07-28 00:00:00",
                                    "ID_local": "4",
                                    "clave_producto": "pzz",
                                    "venta": "1444",
                                    "venta_empleado": "6332756",
                                    "ID_empleado": "6332756",
                                    "Nombre": "Reinaldo",
                                    "Apellido": "Gonzalez",
                                    "Telefono": "36642727",
                                    "Edad": "43",
                                    "Domicilio": "Vallarta 711",
                                    "ID_Gerente": "5942572"
                                },
                                {
                                    "ventas_id": "8",
                                    "Fecha": "2018-10-05 00:00:00",
                                    "ID_local": "1",
                                    "clave_producto": "pzz",
                                    "venta": "435",
                                    "venta_empleado": "2520477",
                                    "ID_empleado": "2520477",
                                    "Nombre": "Egidio",
                                    "Apellido": "Lopez",
                                    "Telefono": "33444383",
                                    "Edad": "24",
                                    "Domicilio": "Rosas 996",
                                    "ID_Gerente": "5942572"
                                },
                                {
                                    "ventas_id": "9",
                                    "Fecha": "2018-04-20 00:00:00",
                                    "ID_local": "1",
                                    "clave_producto": "qsd",
                                    "venta": "1203",
                                    "venta_empleado": "9922377",
                                    "ID_empleado": "9922377",
                                    "Nombre": "Alexander",
                                    "Apellido": "Martinez",
                                    "Telefono": "36554872",
                                    "Edad": "28",
                                    "Domicilio": "Camino viejo 123",
                                    "ID_Gerente": "5942572"
                                },
                                {
                                    "ventas_id": "10",
                                    "Fecha": "2018-06-08 00:00:00",
                                    "ID_local": "1",
                                    "clave_producto": "brr",
                                    "venta": "1038",
                                    "venta_empleado": "6332756",
                                    "ID_empleado": "6332756",
                                    "Nombre": "Reinaldo",
                                    "Apellido": "Gonzalez",
                                    "Telefono": "36642727",
                                    "Edad": "43",
                                    "Domicilio": "Vallarta 711",
                                    "ID_Gerente": "5942572"
                                },
                                {
                                    "ventas_id": "11",
                                    "Fecha": "2018-08-22 00:00:00",
                                    "ID_local": "1",
                                    "clave_producto": "brr",
                                    "venta": "404",
                                    "venta_empleado": "3833745",
                                    "ID_empleado": "3833745",
                                    "Nombre": "Maria",
                                    "Apellido": "Zapata",
                                    "Telefono": "35354455",
                                    "Edad": "34",
                                    "Domicilio": "Boulevard 85",
                                    "ID_Gerente": "5942572"
                                },
                                {
                                    "ventas_id": "12",
                                    "Fecha": "2019-09-03 00:00:00",
                                    "ID_local": "1",
                                    "clave_producto": "pzz",
                                    "venta": "1362",
                                    "venta_empleado": "5728566",
                                    "ID_empleado": "NULL",
                                    "Nombre": "NULL",
                                    "Apellido": "NULL",
                                    "Telefono": "NULL",
                                    "Edad": "NULL",
                                    "Domicilio": "NULL",
                                    "ID_Gerente": "NULL"
                                },
                                {
                                    "ventas_id": "13",
                                    "Fecha": "2019-07-16 00:00:00",
                                    "ID_local": "3",
                                    "clave_producto": "qsd",
                                    "venta": "1054",
                                    "venta_empleado": "2310967",
                                    "ID_empleado": "2310967",
                                    "Nombre": "Jairo",
                                    "Apellido": "Mira",
                                    "Telefono": "36403810",
                                    "Edad": "29",
                                    "Domicilio": "Calle 25 interior 2",
                                    "ID_Gerente": "5942572"
                                },
                                {
                                    "ventas_id": "14",
                                    "Fecha": "2019-08-27 00:00:00",
                                    "ID_local": "3",
                                    "clave_producto": "clz",
                                    "venta": "303",
                                    "venta_empleado": "3833745",
                                    "ID_empleado": "3833745",
                                    "Nombre": "Maria",
                                    "Apellido": "Zapata",
                                    "Telefono": "35354455",
                                    "Edad": "34",
                                    "Domicilio": "Boulevard 85",
                                    "ID_Gerente": "5942572"
                                },
                                {
                                    "ventas_id": "15",
                                    "Fecha": "2019-12-15 00:00:00",
                                    "ID_local": "1",
                                    "clave_producto": "brr",
                                    "venta": "871",
                                    "venta_empleado": "2520477",
                                    "ID_empleado": "2520477",
                                    "Nombre": "Egidio",
                                    "Apellido": "Lopez",
                                    "Telefono": "33444383",
                                    "Edad": "24",
                                    "Domicilio": "Rosas 996",
                                    "ID_Gerente": "5942572"
                                },
                                {
                                    "ventas_id": "16",
                                    "Fecha": "2019-07-30 00:00:00",
                                    "ID_local": "3",
                                    "clave_producto": "brr",
                                    "venta": "1062",
                                    "venta_empleado": "5728566",
                                    "ID_empleado": "NULL",
                                    "Nombre": "NULL",
                                    "Apellido": "NULL",
                                    "Telefono": "NULL",
                                    "Edad": "NULL",
                                    "Domicilio": "NULL",
                                    "ID_Gerente": "NULL"
                                },
                                {
                                    "ventas_id": "17",
                                    "Fecha": "2019-10-25 00:00:00",
                                    "ID_local": "1",
                                    "clave_producto": "pzz",
                                    "venta": "1376",
                                    "venta_empleado": "6332756",
                                    "ID_empleado": "6332756",
                                    "Nombre": "Reinaldo",
                                    "Apellido": "Gonzalez",
                                    "Telefono": "36642727",
                                    "Edad": "43",
                                    "Domicilio": "Vallarta 711",
                                    "ID_Gerente": "5942572"
                                },
                                {
                                    "ventas_id": "18",
                                    "Fecha": "2019-12-14 00:00:00",
                                    "ID_local": "3",
                                    "clave_producto": "pzz",
                                    "venta": "957",
                                    "venta_empleado": "2310967",
                                    "ID_empleado": "2310967",
                                    "Nombre": "Jairo",
                                    "Apellido": "Mira",
                                    "Telefono": "36403810",
                                    "Edad": "29",
                                    "Domicilio": "Calle 25 interior 2",
                                    "ID_Gerente": "5942572"
                                },
                                {
                                    "ventas_id": "19",
                                    "Fecha": "2019-08-14 00:00:00",
                                    "ID_local": "2",
                                    "clave_producto": "clz",
                                    "venta": "972",
                                    "venta_empleado": "2310967",
                                    "ID_empleado": "2310967",
                                    "Nombre": "Jairo",
                                    "Apellido": "Mira",
                                    "Telefono": "36403810",
                                    "Edad": "29",
                                    "Domicilio": "Calle 25 interior 2",
                                    "ID_Gerente": "5942572"
                                },
                                {
                                    "ventas_id": "20",
                                    "Fecha": "2019-12-01 00:00:00",
                                    "ID_local": "1",
                                    "clave_producto": "pzz",
                                    "venta": "1455",
                                    "venta_empleado": "2310967",
                                    "ID_empleado": "2310967",
                                    "Nombre": "Jairo",
                                    "Apellido": "Mira",
                                    "Telefono": "36403810",
                                    "Edad": "29",
                                    "Domicilio": "Calle 25 interior 2",
                                    "ID_Gerente": "5942572"
                                },
                                {
                                    "ventas_id": "21",
                                    "Fecha": "2019-06-08 00:00:00",
                                    "ID_local": "4",
                                    "clave_producto": "qsd",
                                    "venta": "497",
                                    "venta_empleado": "5728566",
                                    "ID_empleado": "NULL",
                                    "Nombre": "NULL",
                                    "Apellido": "NULL",
                                    "Telefono": "NULL",
                                    "Edad": "NULL",
                                    "Domicilio": "NULL",
                                    "ID_Gerente": "NULL"
                                },
                                {
                                    "ventas_id": "22",
                                    "Fecha": "2019-07-25 00:00:00",
                                    "ID_local": "3",
                                    "clave_producto": "clz",
                                    "venta": "1179",
                                    "venta_empleado": "2310967",
                                    "ID_empleado": "2310967",
                                    "Nombre": "Jairo",
                                    "Apellido": "Mira",
                                    "Telefono": "36403810",
                                    "Edad": "29",
                                    "Domicilio": "Calle 25 interior 2",
                                    "ID_Gerente": "5942572"
                                }
                            ]
                        },
                        "text/html": [
                            "<table>",
                            "<tr><th>ventas_id</th><th>Fecha</th><th>ID_local</th><th>clave_producto</th><th>venta</th><th>venta_empleado</th><th>ID_empleado</th><th>Nombre</th><th>Apellido</th><th>Telefono</th><th>Edad</th><th>Domicilio</th><th>ID_Gerente</th></tr>",
                            "<tr><td>1</td><td>2018-11-18 00:00:00</td><td>2</td><td>pzz</td><td>1302</td><td>2630867</td><td>2630867</td><td>Elena</td><td>Atehortua</td><td>35581732</td><td>37</td><td>Sierra del tigre 299</td><td>5942572</td></tr>",
                            "<tr><td>2</td><td>2018-09-17 00:00:00</td><td>2</td><td>clz</td><td>953</td><td>2310967</td><td>2310967</td><td>Jairo</td><td>Mira</td><td>36403810</td><td>29</td><td>Calle 25 interior 2</td><td>5942572</td></tr>",
                            "<tr><td>3</td><td>2018-10-18 00:00:00</td><td>4</td><td>brr</td><td>1286</td><td>6931035</td><td>6931035</td><td>Albeiro</td><td>Villa</td><td>33631010</td><td>39</td><td>Carniceros 233</td><td>5942572</td></tr>",
                            "<tr><td>4</td><td>2018-10-30 00:00:00</td><td>1</td><td>brr</td><td>889</td><td>9922377</td><td>9922377</td><td>Alexander</td><td>Martinez</td><td>36554872</td><td>28</td><td>Camino viejo 123</td><td>5942572</td></tr>",
                            "<tr><td>5</td><td>2018-05-16 00:00:00</td><td>1</td><td>qsd</td><td>495</td><td>2520477</td><td>2520477</td><td>Egidio</td><td>Lopez</td><td>33444383</td><td>24</td><td>Rosas 996</td><td>5942572</td></tr>",
                            "<tr><td>6</td><td>2018-12-15 00:00:00</td><td>3</td><td>pzz</td><td>544</td><td>9611338</td><td>9611338</td><td>Haygnes</td><td>Ortiz</td><td>35400189</td><td>27</td><td>General Diaz 343</td><td>5942572</td></tr>",
                            "<tr><td>7</td><td>2018-07-28 00:00:00</td><td>4</td><td>pzz</td><td>1444</td><td>6332756</td><td>6332756</td><td>Reinaldo</td><td>Gonzalez</td><td>36642727</td><td>43</td><td>Vallarta 711</td><td>5942572</td></tr>",
                            "<tr><td>8</td><td>2018-10-05 00:00:00</td><td>1</td><td>pzz</td><td>435</td><td>2520477</td><td>2520477</td><td>Egidio</td><td>Lopez</td><td>33444383</td><td>24</td><td>Rosas 996</td><td>5942572</td></tr>",
                            "<tr><td>9</td><td>2018-04-20 00:00:00</td><td>1</td><td>qsd</td><td>1203</td><td>9922377</td><td>9922377</td><td>Alexander</td><td>Martinez</td><td>36554872</td><td>28</td><td>Camino viejo 123</td><td>5942572</td></tr>",
                            "<tr><td>10</td><td>2018-06-08 00:00:00</td><td>1</td><td>brr</td><td>1038</td><td>6332756</td><td>6332756</td><td>Reinaldo</td><td>Gonzalez</td><td>36642727</td><td>43</td><td>Vallarta 711</td><td>5942572</td></tr>",
                            "<tr><td>11</td><td>2018-08-22 00:00:00</td><td>1</td><td>brr</td><td>404</td><td>3833745</td><td>3833745</td><td>Maria</td><td>Zapata</td><td>35354455</td><td>34</td><td>Boulevard 85</td><td>5942572</td></tr>",
                            "<tr><td>12</td><td>2019-09-03 00:00:00</td><td>1</td><td>pzz</td><td>1362</td><td>5728566</td><td>NULL</td><td>NULL</td><td>NULL</td><td>NULL</td><td>NULL</td><td>NULL</td><td>NULL</td></tr>",
                            "<tr><td>13</td><td>2019-07-16 00:00:00</td><td>3</td><td>qsd</td><td>1054</td><td>2310967</td><td>2310967</td><td>Jairo</td><td>Mira</td><td>36403810</td><td>29</td><td>Calle 25 interior 2</td><td>5942572</td></tr>",
                            "<tr><td>14</td><td>2019-08-27 00:00:00</td><td>3</td><td>clz</td><td>303</td><td>3833745</td><td>3833745</td><td>Maria</td><td>Zapata</td><td>35354455</td><td>34</td><td>Boulevard 85</td><td>5942572</td></tr>",
                            "<tr><td>15</td><td>2019-12-15 00:00:00</td><td>1</td><td>brr</td><td>871</td><td>2520477</td><td>2520477</td><td>Egidio</td><td>Lopez</td><td>33444383</td><td>24</td><td>Rosas 996</td><td>5942572</td></tr>",
                            "<tr><td>16</td><td>2019-07-30 00:00:00</td><td>3</td><td>brr</td><td>1062</td><td>5728566</td><td>NULL</td><td>NULL</td><td>NULL</td><td>NULL</td><td>NULL</td><td>NULL</td><td>NULL</td></tr>",
                            "<tr><td>17</td><td>2019-10-25 00:00:00</td><td>1</td><td>pzz</td><td>1376</td><td>6332756</td><td>6332756</td><td>Reinaldo</td><td>Gonzalez</td><td>36642727</td><td>43</td><td>Vallarta 711</td><td>5942572</td></tr>",
                            "<tr><td>18</td><td>2019-12-14 00:00:00</td><td>3</td><td>pzz</td><td>957</td><td>2310967</td><td>2310967</td><td>Jairo</td><td>Mira</td><td>36403810</td><td>29</td><td>Calle 25 interior 2</td><td>5942572</td></tr>",
                            "<tr><td>19</td><td>2019-08-14 00:00:00</td><td>2</td><td>clz</td><td>972</td><td>2310967</td><td>2310967</td><td>Jairo</td><td>Mira</td><td>36403810</td><td>29</td><td>Calle 25 interior 2</td><td>5942572</td></tr>",
                            "<tr><td>20</td><td>2019-12-01 00:00:00</td><td>1</td><td>pzz</td><td>1455</td><td>2310967</td><td>2310967</td><td>Jairo</td><td>Mira</td><td>36403810</td><td>29</td><td>Calle 25 interior 2</td><td>5942572</td></tr>",
                            "<tr><td>21</td><td>2019-06-08 00:00:00</td><td>4</td><td>qsd</td><td>497</td><td>5728566</td><td>NULL</td><td>NULL</td><td>NULL</td><td>NULL</td><td>NULL</td><td>NULL</td><td>NULL</td></tr>",
                            "<tr><td>22</td><td>2019-07-25 00:00:00</td><td>3</td><td>clz</td><td>1179</td><td>2310967</td><td>2310967</td><td>Jairo</td><td>Mira</td><td>36403810</td><td>29</td><td>Calle 25 interior 2</td><td>5942572</td></tr>",
                            "</table>"
                        ]
                    }
                }
            ],
            "execution_count": 13
        },
        {
            "cell_type": "markdown",
            "source": [
                "**USING** Es útil cuando ambas tablas comparten una columna con exactamente el mismo nombre en la que desean unirse"
            ],
            "metadata": {
                "azdata_cell_guid": "c796736a-28b2-4538-9b36-cb174215c77c"
            },
            "attachments": {}
        },
        {
            "cell_type": "code",
            "source": [
                "SELECT *\r\n",
                "FROM ventas v \r\n",
                "JOIN local l \r\n",
                "   ON v.ID_Local = l.ID_Local;"
            ],
            "metadata": {
                "azdata_cell_guid": "1119bfad-aea2-4f41-80b6-d65a414722a5",
                "language": "sql",
                "tags": []
            },
            "outputs": [
                {
                    "output_type": "display_data",
                    "data": {
                        "text/html": "(22 row(s) affected)"
                    },
                    "metadata": {}
                },
                {
                    "output_type": "display_data",
                    "data": {
                        "text/html": "Total execution time: 00:00:01.003"
                    },
                    "metadata": {}
                },
                {
                    "output_type": "execute_result",
                    "metadata": {},
                    "execution_count": 18,
                    "data": {
                        "application/vnd.dataresource+json": {
                            "schema": {
                                "fields": [
                                    {
                                        "name": "ventas_id"
                                    },
                                    {
                                        "name": "Fecha"
                                    },
                                    {
                                        "name": "ID_local"
                                    },
                                    {
                                        "name": "clave_producto"
                                    },
                                    {
                                        "name": "venta"
                                    },
                                    {
                                        "name": "venta_empleado"
                                    },
                                    {
                                        "name": "ID_Local"
                                    },
                                    {
                                        "name": "Letra_zona"
                                    },
                                    {
                                        "name": "Direccion"
                                    },
                                    {
                                        "name": "Telefono"
                                    }
                                ]
                            },
                            "data": [
                                {
                                    "ventas_id": "4",
                                    "Fecha": "2018-10-30 00:00:00",
                                    "ID_local": "1",
                                    "clave_producto": "brr",
                                    "venta": "889",
                                    "venta_empleado": "9922377",
                                    "ID_Local": "1",
                                    "Letra_zona": "A",
                                    "Direccion": "Av de las Rosas 123",
                                    "Telefono": "357894"
                                },
                                {
                                    "ventas_id": "5",
                                    "Fecha": "2018-05-16 00:00:00",
                                    "ID_local": "1",
                                    "clave_producto": "qsd",
                                    "venta": "495",
                                    "venta_empleado": "2520477",
                                    "ID_Local": "1",
                                    "Letra_zona": "A",
                                    "Direccion": "Av de las Rosas 123",
                                    "Telefono": "357894"
                                },
                                {
                                    "ventas_id": "8",
                                    "Fecha": "2018-10-05 00:00:00",
                                    "ID_local": "1",
                                    "clave_producto": "pzz",
                                    "venta": "435",
                                    "venta_empleado": "2520477",
                                    "ID_Local": "1",
                                    "Letra_zona": "A",
                                    "Direccion": "Av de las Rosas 123",
                                    "Telefono": "357894"
                                },
                                {
                                    "ventas_id": "9",
                                    "Fecha": "2018-04-20 00:00:00",
                                    "ID_local": "1",
                                    "clave_producto": "qsd",
                                    "venta": "1203",
                                    "venta_empleado": "9922377",
                                    "ID_Local": "1",
                                    "Letra_zona": "A",
                                    "Direccion": "Av de las Rosas 123",
                                    "Telefono": "357894"
                                },
                                {
                                    "ventas_id": "10",
                                    "Fecha": "2018-06-08 00:00:00",
                                    "ID_local": "1",
                                    "clave_producto": "brr",
                                    "venta": "1038",
                                    "venta_empleado": "6332756",
                                    "ID_Local": "1",
                                    "Letra_zona": "A",
                                    "Direccion": "Av de las Rosas 123",
                                    "Telefono": "357894"
                                },
                                {
                                    "ventas_id": "11",
                                    "Fecha": "2018-08-22 00:00:00",
                                    "ID_local": "1",
                                    "clave_producto": "brr",
                                    "venta": "404",
                                    "venta_empleado": "3833745",
                                    "ID_Local": "1",
                                    "Letra_zona": "A",
                                    "Direccion": "Av de las Rosas 123",
                                    "Telefono": "357894"
                                },
                                {
                                    "ventas_id": "12",
                                    "Fecha": "2019-09-03 00:00:00",
                                    "ID_local": "1",
                                    "clave_producto": "pzz",
                                    "venta": "1362",
                                    "venta_empleado": "5728566",
                                    "ID_Local": "1",
                                    "Letra_zona": "A",
                                    "Direccion": "Av de las Rosas 123",
                                    "Telefono": "357894"
                                },
                                {
                                    "ventas_id": "15",
                                    "Fecha": "2019-12-15 00:00:00",
                                    "ID_local": "1",
                                    "clave_producto": "brr",
                                    "venta": "871",
                                    "venta_empleado": "2520477",
                                    "ID_Local": "1",
                                    "Letra_zona": "A",
                                    "Direccion": "Av de las Rosas 123",
                                    "Telefono": "357894"
                                },
                                {
                                    "ventas_id": "17",
                                    "Fecha": "2019-10-25 00:00:00",
                                    "ID_local": "1",
                                    "clave_producto": "pzz",
                                    "venta": "1376",
                                    "venta_empleado": "6332756",
                                    "ID_Local": "1",
                                    "Letra_zona": "A",
                                    "Direccion": "Av de las Rosas 123",
                                    "Telefono": "357894"
                                },
                                {
                                    "ventas_id": "20",
                                    "Fecha": "2019-12-01 00:00:00",
                                    "ID_local": "1",
                                    "clave_producto": "pzz",
                                    "venta": "1455",
                                    "venta_empleado": "2310967",
                                    "ID_Local": "1",
                                    "Letra_zona": "A",
                                    "Direccion": "Av de las Rosas 123",
                                    "Telefono": "357894"
                                },
                                {
                                    "ventas_id": "1",
                                    "Fecha": "2018-11-18 00:00:00",
                                    "ID_local": "2",
                                    "clave_producto": "pzz",
                                    "venta": "1302",
                                    "venta_empleado": "2630867",
                                    "ID_Local": "2",
                                    "Letra_zona": "B",
                                    "Direccion": "Calle poniente manzana 4",
                                    "Telefono": "377896"
                                },
                                {
                                    "ventas_id": "2",
                                    "Fecha": "2018-09-17 00:00:00",
                                    "ID_local": "2",
                                    "clave_producto": "clz",
                                    "venta": "953",
                                    "venta_empleado": "2310967",
                                    "ID_Local": "2",
                                    "Letra_zona": "B",
                                    "Direccion": "Calle poniente manzana 4",
                                    "Telefono": "377896"
                                },
                                {
                                    "ventas_id": "19",
                                    "Fecha": "2019-08-14 00:00:00",
                                    "ID_local": "2",
                                    "clave_producto": "clz",
                                    "venta": "972",
                                    "venta_empleado": "2310967",
                                    "ID_Local": "2",
                                    "Letra_zona": "B",
                                    "Direccion": "Calle poniente manzana 4",
                                    "Telefono": "377896"
                                },
                                {
                                    "ventas_id": "6",
                                    "Fecha": "2018-12-15 00:00:00",
                                    "ID_local": "3",
                                    "clave_producto": "pzz",
                                    "venta": "544",
                                    "venta_empleado": "9611338",
                                    "ID_Local": "3",
                                    "Letra_zona": "C",
                                    "Direccion": "Insurgentes 558",
                                    "Telefono": "347899"
                                },
                                {
                                    "ventas_id": "13",
                                    "Fecha": "2019-07-16 00:00:00",
                                    "ID_local": "3",
                                    "clave_producto": "qsd",
                                    "venta": "1054",
                                    "venta_empleado": "2310967",
                                    "ID_Local": "3",
                                    "Letra_zona": "C",
                                    "Direccion": "Insurgentes 558",
                                    "Telefono": "347899"
                                },
                                {
                                    "ventas_id": "14",
                                    "Fecha": "2019-08-27 00:00:00",
                                    "ID_local": "3",
                                    "clave_producto": "clz",
                                    "venta": "303",
                                    "venta_empleado": "3833745",
                                    "ID_Local": "3",
                                    "Letra_zona": "C",
                                    "Direccion": "Insurgentes 558",
                                    "Telefono": "347899"
                                },
                                {
                                    "ventas_id": "16",
                                    "Fecha": "2019-07-30 00:00:00",
                                    "ID_local": "3",
                                    "clave_producto": "brr",
                                    "venta": "1062",
                                    "venta_empleado": "5728566",
                                    "ID_Local": "3",
                                    "Letra_zona": "C",
                                    "Direccion": "Insurgentes 558",
                                    "Telefono": "347899"
                                },
                                {
                                    "ventas_id": "18",
                                    "Fecha": "2019-12-14 00:00:00",
                                    "ID_local": "3",
                                    "clave_producto": "pzz",
                                    "venta": "957",
                                    "venta_empleado": "2310967",
                                    "ID_Local": "3",
                                    "Letra_zona": "C",
                                    "Direccion": "Insurgentes 558",
                                    "Telefono": "347899"
                                },
                                {
                                    "ventas_id": "22",
                                    "Fecha": "2019-07-25 00:00:00",
                                    "ID_local": "3",
                                    "clave_producto": "clz",
                                    "venta": "1179",
                                    "venta_empleado": "2310967",
                                    "ID_Local": "3",
                                    "Letra_zona": "C",
                                    "Direccion": "Insurgentes 558",
                                    "Telefono": "347899"
                                },
                                {
                                    "ventas_id": "3",
                                    "Fecha": "2018-10-18 00:00:00",
                                    "ID_local": "4",
                                    "clave_producto": "brr",
                                    "venta": "1286",
                                    "venta_empleado": "6931035",
                                    "ID_Local": "4",
                                    "Letra_zona": "D",
                                    "Direccion": "Rinconada de Magnolias 409",
                                    "Telefono": "378341"
                                },
                                {
                                    "ventas_id": "7",
                                    "Fecha": "2018-07-28 00:00:00",
                                    "ID_local": "4",
                                    "clave_producto": "pzz",
                                    "venta": "1444",
                                    "venta_empleado": "6332756",
                                    "ID_Local": "4",
                                    "Letra_zona": "D",
                                    "Direccion": "Rinconada de Magnolias 409",
                                    "Telefono": "378341"
                                },
                                {
                                    "ventas_id": "21",
                                    "Fecha": "2019-06-08 00:00:00",
                                    "ID_local": "4",
                                    "clave_producto": "qsd",
                                    "venta": "497",
                                    "venta_empleado": "5728566",
                                    "ID_Local": "4",
                                    "Letra_zona": "D",
                                    "Direccion": "Rinconada de Magnolias 409",
                                    "Telefono": "378341"
                                }
                            ]
                        },
                        "text/html": [
                            "<table>",
                            "<tr><th>ventas_id</th><th>Fecha</th><th>ID_local</th><th>clave_producto</th><th>venta</th><th>venta_empleado</th><th>ID_Local</th><th>Letra_zona</th><th>Direccion</th><th>Telefono</th></tr>",
                            "<tr><td>4</td><td>2018-10-30 00:00:00</td><td>1</td><td>brr</td><td>889</td><td>9922377</td><td>1</td><td>A</td><td>Av de las Rosas 123</td><td>357894</td></tr>",
                            "<tr><td>5</td><td>2018-05-16 00:00:00</td><td>1</td><td>qsd</td><td>495</td><td>2520477</td><td>1</td><td>A</td><td>Av de las Rosas 123</td><td>357894</td></tr>",
                            "<tr><td>8</td><td>2018-10-05 00:00:00</td><td>1</td><td>pzz</td><td>435</td><td>2520477</td><td>1</td><td>A</td><td>Av de las Rosas 123</td><td>357894</td></tr>",
                            "<tr><td>9</td><td>2018-04-20 00:00:00</td><td>1</td><td>qsd</td><td>1203</td><td>9922377</td><td>1</td><td>A</td><td>Av de las Rosas 123</td><td>357894</td></tr>",
                            "<tr><td>10</td><td>2018-06-08 00:00:00</td><td>1</td><td>brr</td><td>1038</td><td>6332756</td><td>1</td><td>A</td><td>Av de las Rosas 123</td><td>357894</td></tr>",
                            "<tr><td>11</td><td>2018-08-22 00:00:00</td><td>1</td><td>brr</td><td>404</td><td>3833745</td><td>1</td><td>A</td><td>Av de las Rosas 123</td><td>357894</td></tr>",
                            "<tr><td>12</td><td>2019-09-03 00:00:00</td><td>1</td><td>pzz</td><td>1362</td><td>5728566</td><td>1</td><td>A</td><td>Av de las Rosas 123</td><td>357894</td></tr>",
                            "<tr><td>15</td><td>2019-12-15 00:00:00</td><td>1</td><td>brr</td><td>871</td><td>2520477</td><td>1</td><td>A</td><td>Av de las Rosas 123</td><td>357894</td></tr>",
                            "<tr><td>17</td><td>2019-10-25 00:00:00</td><td>1</td><td>pzz</td><td>1376</td><td>6332756</td><td>1</td><td>A</td><td>Av de las Rosas 123</td><td>357894</td></tr>",
                            "<tr><td>20</td><td>2019-12-01 00:00:00</td><td>1</td><td>pzz</td><td>1455</td><td>2310967</td><td>1</td><td>A</td><td>Av de las Rosas 123</td><td>357894</td></tr>",
                            "<tr><td>1</td><td>2018-11-18 00:00:00</td><td>2</td><td>pzz</td><td>1302</td><td>2630867</td><td>2</td><td>B</td><td>Calle poniente manzana 4</td><td>377896</td></tr>",
                            "<tr><td>2</td><td>2018-09-17 00:00:00</td><td>2</td><td>clz</td><td>953</td><td>2310967</td><td>2</td><td>B</td><td>Calle poniente manzana 4</td><td>377896</td></tr>",
                            "<tr><td>19</td><td>2019-08-14 00:00:00</td><td>2</td><td>clz</td><td>972</td><td>2310967</td><td>2</td><td>B</td><td>Calle poniente manzana 4</td><td>377896</td></tr>",
                            "<tr><td>6</td><td>2018-12-15 00:00:00</td><td>3</td><td>pzz</td><td>544</td><td>9611338</td><td>3</td><td>C</td><td>Insurgentes 558</td><td>347899</td></tr>",
                            "<tr><td>13</td><td>2019-07-16 00:00:00</td><td>3</td><td>qsd</td><td>1054</td><td>2310967</td><td>3</td><td>C</td><td>Insurgentes 558</td><td>347899</td></tr>",
                            "<tr><td>14</td><td>2019-08-27 00:00:00</td><td>3</td><td>clz</td><td>303</td><td>3833745</td><td>3</td><td>C</td><td>Insurgentes 558</td><td>347899</td></tr>",
                            "<tr><td>16</td><td>2019-07-30 00:00:00</td><td>3</td><td>brr</td><td>1062</td><td>5728566</td><td>3</td><td>C</td><td>Insurgentes 558</td><td>347899</td></tr>",
                            "<tr><td>18</td><td>2019-12-14 00:00:00</td><td>3</td><td>pzz</td><td>957</td><td>2310967</td><td>3</td><td>C</td><td>Insurgentes 558</td><td>347899</td></tr>",
                            "<tr><td>22</td><td>2019-07-25 00:00:00</td><td>3</td><td>clz</td><td>1179</td><td>2310967</td><td>3</td><td>C</td><td>Insurgentes 558</td><td>347899</td></tr>",
                            "<tr><td>3</td><td>2018-10-18 00:00:00</td><td>4</td><td>brr</td><td>1286</td><td>6931035</td><td>4</td><td>D</td><td>Rinconada de Magnolias 409</td><td>378341</td></tr>",
                            "<tr><td>7</td><td>2018-07-28 00:00:00</td><td>4</td><td>pzz</td><td>1444</td><td>6332756</td><td>4</td><td>D</td><td>Rinconada de Magnolias 409</td><td>378341</td></tr>",
                            "<tr><td>21</td><td>2019-06-08 00:00:00</td><td>4</td><td>qsd</td><td>497</td><td>5728566</td><td>4</td><td>D</td><td>Rinconada de Magnolias 409</td><td>378341</td></tr>",
                            "</table>"
                        ]
                    }
                }
            ],
            "execution_count": 18
        },
        {
            "cell_type": "code",
            "source": [
                "SELECT *\r\n",
                "FROM ventas v \r\n",
                "JOIN local l \r\n",
                "   USING(ID_local);"
            ],
            "metadata": {
                "azdata_cell_guid": "64ca18b7-57f8-44fe-a8d0-9bdb42126bec",
                "language": "sql"
            },
            "outputs": [
                {
                    "output_type": "display_data",
                    "data": {
                        "text/html": "(22 row(s) affected)"
                    },
                    "metadata": {}
                },
                {
                    "output_type": "display_data",
                    "data": {
                        "text/html": "Total execution time: 00:00:01.019"
                    },
                    "metadata": {}
                },
                {
                    "output_type": "execute_result",
                    "metadata": {},
                    "execution_count": 19,
                    "data": {
                        "application/vnd.dataresource+json": {
                            "schema": {
                                "fields": [
                                    {
                                        "name": "ID_local"
                                    },
                                    {
                                        "name": "ventas_id"
                                    },
                                    {
                                        "name": "Fecha"
                                    },
                                    {
                                        "name": "clave_producto"
                                    },
                                    {
                                        "name": "venta"
                                    },
                                    {
                                        "name": "venta_empleado"
                                    },
                                    {
                                        "name": "Letra_zona"
                                    },
                                    {
                                        "name": "Direccion"
                                    },
                                    {
                                        "name": "Telefono"
                                    }
                                ]
                            },
                            "data": [
                                {
                                    "ID_local": "1",
                                    "ventas_id": "4",
                                    "Fecha": "2018-10-30 00:00:00",
                                    "clave_producto": "brr",
                                    "venta": "889",
                                    "venta_empleado": "9922377",
                                    "Letra_zona": "A",
                                    "Direccion": "Av de las Rosas 123",
                                    "Telefono": "357894"
                                },
                                {
                                    "ID_local": "1",
                                    "ventas_id": "5",
                                    "Fecha": "2018-05-16 00:00:00",
                                    "clave_producto": "qsd",
                                    "venta": "495",
                                    "venta_empleado": "2520477",
                                    "Letra_zona": "A",
                                    "Direccion": "Av de las Rosas 123",
                                    "Telefono": "357894"
                                },
                                {
                                    "ID_local": "1",
                                    "ventas_id": "8",
                                    "Fecha": "2018-10-05 00:00:00",
                                    "clave_producto": "pzz",
                                    "venta": "435",
                                    "venta_empleado": "2520477",
                                    "Letra_zona": "A",
                                    "Direccion": "Av de las Rosas 123",
                                    "Telefono": "357894"
                                },
                                {
                                    "ID_local": "1",
                                    "ventas_id": "9",
                                    "Fecha": "2018-04-20 00:00:00",
                                    "clave_producto": "qsd",
                                    "venta": "1203",
                                    "venta_empleado": "9922377",
                                    "Letra_zona": "A",
                                    "Direccion": "Av de las Rosas 123",
                                    "Telefono": "357894"
                                },
                                {
                                    "ID_local": "1",
                                    "ventas_id": "10",
                                    "Fecha": "2018-06-08 00:00:00",
                                    "clave_producto": "brr",
                                    "venta": "1038",
                                    "venta_empleado": "6332756",
                                    "Letra_zona": "A",
                                    "Direccion": "Av de las Rosas 123",
                                    "Telefono": "357894"
                                },
                                {
                                    "ID_local": "1",
                                    "ventas_id": "11",
                                    "Fecha": "2018-08-22 00:00:00",
                                    "clave_producto": "brr",
                                    "venta": "404",
                                    "venta_empleado": "3833745",
                                    "Letra_zona": "A",
                                    "Direccion": "Av de las Rosas 123",
                                    "Telefono": "357894"
                                },
                                {
                                    "ID_local": "1",
                                    "ventas_id": "12",
                                    "Fecha": "2019-09-03 00:00:00",
                                    "clave_producto": "pzz",
                                    "venta": "1362",
                                    "venta_empleado": "5728566",
                                    "Letra_zona": "A",
                                    "Direccion": "Av de las Rosas 123",
                                    "Telefono": "357894"
                                },
                                {
                                    "ID_local": "1",
                                    "ventas_id": "15",
                                    "Fecha": "2019-12-15 00:00:00",
                                    "clave_producto": "brr",
                                    "venta": "871",
                                    "venta_empleado": "2520477",
                                    "Letra_zona": "A",
                                    "Direccion": "Av de las Rosas 123",
                                    "Telefono": "357894"
                                },
                                {
                                    "ID_local": "1",
                                    "ventas_id": "17",
                                    "Fecha": "2019-10-25 00:00:00",
                                    "clave_producto": "pzz",
                                    "venta": "1376",
                                    "venta_empleado": "6332756",
                                    "Letra_zona": "A",
                                    "Direccion": "Av de las Rosas 123",
                                    "Telefono": "357894"
                                },
                                {
                                    "ID_local": "1",
                                    "ventas_id": "20",
                                    "Fecha": "2019-12-01 00:00:00",
                                    "clave_producto": "pzz",
                                    "venta": "1455",
                                    "venta_empleado": "2310967",
                                    "Letra_zona": "A",
                                    "Direccion": "Av de las Rosas 123",
                                    "Telefono": "357894"
                                },
                                {
                                    "ID_local": "2",
                                    "ventas_id": "1",
                                    "Fecha": "2018-11-18 00:00:00",
                                    "clave_producto": "pzz",
                                    "venta": "1302",
                                    "venta_empleado": "2630867",
                                    "Letra_zona": "B",
                                    "Direccion": "Calle poniente manzana 4",
                                    "Telefono": "377896"
                                },
                                {
                                    "ID_local": "2",
                                    "ventas_id": "2",
                                    "Fecha": "2018-09-17 00:00:00",
                                    "clave_producto": "clz",
                                    "venta": "953",
                                    "venta_empleado": "2310967",
                                    "Letra_zona": "B",
                                    "Direccion": "Calle poniente manzana 4",
                                    "Telefono": "377896"
                                },
                                {
                                    "ID_local": "2",
                                    "ventas_id": "19",
                                    "Fecha": "2019-08-14 00:00:00",
                                    "clave_producto": "clz",
                                    "venta": "972",
                                    "venta_empleado": "2310967",
                                    "Letra_zona": "B",
                                    "Direccion": "Calle poniente manzana 4",
                                    "Telefono": "377896"
                                },
                                {
                                    "ID_local": "3",
                                    "ventas_id": "6",
                                    "Fecha": "2018-12-15 00:00:00",
                                    "clave_producto": "pzz",
                                    "venta": "544",
                                    "venta_empleado": "9611338",
                                    "Letra_zona": "C",
                                    "Direccion": "Insurgentes 558",
                                    "Telefono": "347899"
                                },
                                {
                                    "ID_local": "3",
                                    "ventas_id": "13",
                                    "Fecha": "2019-07-16 00:00:00",
                                    "clave_producto": "qsd",
                                    "venta": "1054",
                                    "venta_empleado": "2310967",
                                    "Letra_zona": "C",
                                    "Direccion": "Insurgentes 558",
                                    "Telefono": "347899"
                                },
                                {
                                    "ID_local": "3",
                                    "ventas_id": "14",
                                    "Fecha": "2019-08-27 00:00:00",
                                    "clave_producto": "clz",
                                    "venta": "303",
                                    "venta_empleado": "3833745",
                                    "Letra_zona": "C",
                                    "Direccion": "Insurgentes 558",
                                    "Telefono": "347899"
                                },
                                {
                                    "ID_local": "3",
                                    "ventas_id": "16",
                                    "Fecha": "2019-07-30 00:00:00",
                                    "clave_producto": "brr",
                                    "venta": "1062",
                                    "venta_empleado": "5728566",
                                    "Letra_zona": "C",
                                    "Direccion": "Insurgentes 558",
                                    "Telefono": "347899"
                                },
                                {
                                    "ID_local": "3",
                                    "ventas_id": "18",
                                    "Fecha": "2019-12-14 00:00:00",
                                    "clave_producto": "pzz",
                                    "venta": "957",
                                    "venta_empleado": "2310967",
                                    "Letra_zona": "C",
                                    "Direccion": "Insurgentes 558",
                                    "Telefono": "347899"
                                },
                                {
                                    "ID_local": "3",
                                    "ventas_id": "22",
                                    "Fecha": "2019-07-25 00:00:00",
                                    "clave_producto": "clz",
                                    "venta": "1179",
                                    "venta_empleado": "2310967",
                                    "Letra_zona": "C",
                                    "Direccion": "Insurgentes 558",
                                    "Telefono": "347899"
                                },
                                {
                                    "ID_local": "4",
                                    "ventas_id": "3",
                                    "Fecha": "2018-10-18 00:00:00",
                                    "clave_producto": "brr",
                                    "venta": "1286",
                                    "venta_empleado": "6931035",
                                    "Letra_zona": "D",
                                    "Direccion": "Rinconada de Magnolias 409",
                                    "Telefono": "378341"
                                },
                                {
                                    "ID_local": "4",
                                    "ventas_id": "7",
                                    "Fecha": "2018-07-28 00:00:00",
                                    "clave_producto": "pzz",
                                    "venta": "1444",
                                    "venta_empleado": "6332756",
                                    "Letra_zona": "D",
                                    "Direccion": "Rinconada de Magnolias 409",
                                    "Telefono": "378341"
                                },
                                {
                                    "ID_local": "4",
                                    "ventas_id": "21",
                                    "Fecha": "2019-06-08 00:00:00",
                                    "clave_producto": "qsd",
                                    "venta": "497",
                                    "venta_empleado": "5728566",
                                    "Letra_zona": "D",
                                    "Direccion": "Rinconada de Magnolias 409",
                                    "Telefono": "378341"
                                }
                            ]
                        },
                        "text/html": [
                            "<table>",
                            "<tr><th>ID_local</th><th>ventas_id</th><th>Fecha</th><th>clave_producto</th><th>venta</th><th>venta_empleado</th><th>Letra_zona</th><th>Direccion</th><th>Telefono</th></tr>",
                            "<tr><td>1</td><td>4</td><td>2018-10-30 00:00:00</td><td>brr</td><td>889</td><td>9922377</td><td>A</td><td>Av de las Rosas 123</td><td>357894</td></tr>",
                            "<tr><td>1</td><td>5</td><td>2018-05-16 00:00:00</td><td>qsd</td><td>495</td><td>2520477</td><td>A</td><td>Av de las Rosas 123</td><td>357894</td></tr>",
                            "<tr><td>1</td><td>8</td><td>2018-10-05 00:00:00</td><td>pzz</td><td>435</td><td>2520477</td><td>A</td><td>Av de las Rosas 123</td><td>357894</td></tr>",
                            "<tr><td>1</td><td>9</td><td>2018-04-20 00:00:00</td><td>qsd</td><td>1203</td><td>9922377</td><td>A</td><td>Av de las Rosas 123</td><td>357894</td></tr>",
                            "<tr><td>1</td><td>10</td><td>2018-06-08 00:00:00</td><td>brr</td><td>1038</td><td>6332756</td><td>A</td><td>Av de las Rosas 123</td><td>357894</td></tr>",
                            "<tr><td>1</td><td>11</td><td>2018-08-22 00:00:00</td><td>brr</td><td>404</td><td>3833745</td><td>A</td><td>Av de las Rosas 123</td><td>357894</td></tr>",
                            "<tr><td>1</td><td>12</td><td>2019-09-03 00:00:00</td><td>pzz</td><td>1362</td><td>5728566</td><td>A</td><td>Av de las Rosas 123</td><td>357894</td></tr>",
                            "<tr><td>1</td><td>15</td><td>2019-12-15 00:00:00</td><td>brr</td><td>871</td><td>2520477</td><td>A</td><td>Av de las Rosas 123</td><td>357894</td></tr>",
                            "<tr><td>1</td><td>17</td><td>2019-10-25 00:00:00</td><td>pzz</td><td>1376</td><td>6332756</td><td>A</td><td>Av de las Rosas 123</td><td>357894</td></tr>",
                            "<tr><td>1</td><td>20</td><td>2019-12-01 00:00:00</td><td>pzz</td><td>1455</td><td>2310967</td><td>A</td><td>Av de las Rosas 123</td><td>357894</td></tr>",
                            "<tr><td>2</td><td>1</td><td>2018-11-18 00:00:00</td><td>pzz</td><td>1302</td><td>2630867</td><td>B</td><td>Calle poniente manzana 4</td><td>377896</td></tr>",
                            "<tr><td>2</td><td>2</td><td>2018-09-17 00:00:00</td><td>clz</td><td>953</td><td>2310967</td><td>B</td><td>Calle poniente manzana 4</td><td>377896</td></tr>",
                            "<tr><td>2</td><td>19</td><td>2019-08-14 00:00:00</td><td>clz</td><td>972</td><td>2310967</td><td>B</td><td>Calle poniente manzana 4</td><td>377896</td></tr>",
                            "<tr><td>3</td><td>6</td><td>2018-12-15 00:00:00</td><td>pzz</td><td>544</td><td>9611338</td><td>C</td><td>Insurgentes 558</td><td>347899</td></tr>",
                            "<tr><td>3</td><td>13</td><td>2019-07-16 00:00:00</td><td>qsd</td><td>1054</td><td>2310967</td><td>C</td><td>Insurgentes 558</td><td>347899</td></tr>",
                            "<tr><td>3</td><td>14</td><td>2019-08-27 00:00:00</td><td>clz</td><td>303</td><td>3833745</td><td>C</td><td>Insurgentes 558</td><td>347899</td></tr>",
                            "<tr><td>3</td><td>16</td><td>2019-07-30 00:00:00</td><td>brr</td><td>1062</td><td>5728566</td><td>C</td><td>Insurgentes 558</td><td>347899</td></tr>",
                            "<tr><td>3</td><td>18</td><td>2019-12-14 00:00:00</td><td>pzz</td><td>957</td><td>2310967</td><td>C</td><td>Insurgentes 558</td><td>347899</td></tr>",
                            "<tr><td>3</td><td>22</td><td>2019-07-25 00:00:00</td><td>clz</td><td>1179</td><td>2310967</td><td>C</td><td>Insurgentes 558</td><td>347899</td></tr>",
                            "<tr><td>4</td><td>3</td><td>2018-10-18 00:00:00</td><td>brr</td><td>1286</td><td>6931035</td><td>D</td><td>Rinconada de Magnolias 409</td><td>378341</td></tr>",
                            "<tr><td>4</td><td>7</td><td>2018-07-28 00:00:00</td><td>pzz</td><td>1444</td><td>6332756</td><td>D</td><td>Rinconada de Magnolias 409</td><td>378341</td></tr>",
                            "<tr><td>4</td><td>21</td><td>2019-06-08 00:00:00</td><td>qsd</td><td>497</td><td>5728566</td><td>D</td><td>Rinconada de Magnolias 409</td><td>378341</td></tr>",
                            "</table>"
                        ]
                    }
                }
            ],
            "execution_count": 19
        },
        {
            "cell_type": "markdown",
            "source": [
                "**CROSS JOIN** Combina cada fila de una tabla con cada fila de otra tabla."
            ],
            "metadata": {
                "azdata_cell_guid": "dd974708-89f0-4d0c-b5a6-d7b6486d4e6a"
            },
            "attachments": {}
        },
        {
            "cell_type": "code",
            "source": [
                "SELECT * FROM datos.ingredientes;"
            ],
            "metadata": {
                "azdata_cell_guid": "8cf0f891-de19-40cf-9f9d-38413d711ffe",
                "language": "sql"
            },
            "outputs": [
                {
                    "output_type": "display_data",
                    "data": {
                        "text/html": "(9 row(s) affected)"
                    },
                    "metadata": {}
                },
                {
                    "output_type": "display_data",
                    "data": {
                        "text/html": "Total execution time: 00:00:01.015"
                    },
                    "metadata": {}
                },
                {
                    "output_type": "execute_result",
                    "metadata": {},
                    "execution_count": 20,
                    "data": {
                        "application/vnd.dataresource+json": {
                            "schema": {
                                "fields": [
                                    {
                                        "name": "ingredientes_id"
                                    },
                                    {
                                        "name": "Ingredientes"
                                    },
                                    {
                                        "name": "clave_ingrediente"
                                    },
                                    {
                                        "name": "precio_porcion"
                                    }
                                ]
                            },
                            "data": [
                                {
                                    "ingredientes_id": "1",
                                    "Ingredientes": "Pepperoni",
                                    "clave_ingrediente": "pep",
                                    "precio_porcion": "8"
                                },
                                {
                                    "ingredientes_id": "2",
                                    "Ingredientes": "Cebolla",
                                    "clave_ingrediente": "ceb",
                                    "precio_porcion": "5"
                                },
                                {
                                    "ingredientes_id": "3",
                                    "Ingredientes": "Pimiento",
                                    "clave_ingrediente": "pim",
                                    "precio_porcion": "10"
                                },
                                {
                                    "ingredientes_id": "4",
                                    "Ingredientes": "Salchicha",
                                    "clave_ingrediente": "sal",
                                    "precio_porcion": "5"
                                },
                                {
                                    "ingredientes_id": "5",
                                    "Ingredientes": "Piña",
                                    "clave_ingrediente": "piñ",
                                    "precio_porcion": "8"
                                },
                                {
                                    "ingredientes_id": "6",
                                    "Ingredientes": "queso",
                                    "clave_ingrediente": "que",
                                    "precio_porcion": "5"
                                },
                                {
                                    "ingredientes_id": "7",
                                    "Ingredientes": "aceituna",
                                    "clave_ingrediente": "NULL",
                                    "precio_porcion": "NULL"
                                },
                                {
                                    "ingredientes_id": "8",
                                    "Ingredientes": "manzana",
                                    "clave_ingrediente": "man",
                                    "precio_porcion": "NULL"
                                },
                                {
                                    "ingredientes_id": "9",
                                    "Ingredientes": "pera",
                                    "clave_ingrediente": "per",
                                    "precio_porcion": "NULL"
                                }
                            ]
                        },
                        "text/html": [
                            "<table>",
                            "<tr><th>ingredientes_id</th><th>Ingredientes</th><th>clave_ingrediente</th><th>precio_porcion</th></tr>",
                            "<tr><td>1</td><td>Pepperoni</td><td>pep</td><td>8</td></tr>",
                            "<tr><td>2</td><td>Cebolla</td><td>ceb</td><td>5</td></tr>",
                            "<tr><td>3</td><td>Pimiento</td><td>pim</td><td>10</td></tr>",
                            "<tr><td>4</td><td>Salchicha</td><td>sal</td><td>5</td></tr>",
                            "<tr><td>5</td><td>Piña</td><td>piñ</td><td>8</td></tr>",
                            "<tr><td>6</td><td>queso</td><td>que</td><td>5</td></tr>",
                            "<tr><td>7</td><td>aceituna</td><td>NULL</td><td>NULL</td></tr>",
                            "<tr><td>8</td><td>manzana</td><td>man</td><td>NULL</td></tr>",
                            "<tr><td>9</td><td>pera</td><td>per</td><td>NULL</td></tr>",
                            "</table>"
                        ]
                    }
                }
            ],
            "execution_count": 20
        },
        {
            "cell_type": "code",
            "source": [
                "SELECT * FROM datos.productos;"
            ],
            "metadata": {
                "azdata_cell_guid": "301ccbbc-ec45-49bc-9ee5-7f0a0acf80f6",
                "language": "sql"
            },
            "outputs": [
                {
                    "output_type": "display_data",
                    "data": {
                        "text/html": "(9 row(s) affected)"
                    },
                    "metadata": {}
                },
                {
                    "output_type": "display_data",
                    "data": {
                        "text/html": "Total execution time: 00:00:01.045"
                    },
                    "metadata": {}
                },
                {
                    "output_type": "execute_result",
                    "metadata": {},
                    "execution_count": 22,
                    "data": {
                        "application/vnd.dataresource+json": {
                            "schema": {
                                "fields": [
                                    {
                                        "name": "productos_id"
                                    },
                                    {
                                        "name": "Producto"
                                    },
                                    {
                                        "name": "clave_producto"
                                    },
                                    {
                                        "name": "caracteristicas"
                                    }
                                ]
                            },
                            "data": [
                                {
                                    "productos_id": "1",
                                    "Producto": "Pizza",
                                    "clave_producto": "pzz",
                                    "caracteristicas": "NULL"
                                },
                                {
                                    "productos_id": "2",
                                    "Producto": "Calzone",
                                    "clave_producto": "clz",
                                    "caracteristicas": "NULL"
                                },
                                {
                                    "productos_id": "3",
                                    "Producto": "Quesadilla",
                                    "clave_producto": "qsd",
                                    "caracteristicas": "NULL"
                                },
                                {
                                    "productos_id": "4",
                                    "Producto": "Burrito",
                                    "clave_producto": "brr",
                                    "caracteristicas": "NULL"
                                },
                                {
                                    "productos_id": "5",
                                    "Producto": "Pizza",
                                    "clave_producto": "pzz",
                                    "caracteristicas": "NULL"
                                },
                                {
                                    "productos_id": "6",
                                    "Producto": "Pizza",
                                    "clave_producto": "pzz",
                                    "caracteristicas": "NULL"
                                },
                                {
                                    "productos_id": "7",
                                    "Producto": "Burrito",
                                    "clave_producto": "brr",
                                    "caracteristicas": "NULL"
                                },
                                {
                                    "productos_id": "8",
                                    "Producto": "MIx Pack",
                                    "clave_producto": "MIX",
                                    "caracteristicas": "{\"cantidad\": 2, \"dimension\": [5, 10, 20], \"productos\": [\"pizza\", \"burrito\"]}"
                                },
                                {
                                    "productos_id": "9",
                                    "Producto": "Combo Fiesta",
                                    "clave_producto": "CF",
                                    "caracteristicas": "{\"cantidad\": 3, \"dimension\": [10, 4, 40], \"productos\": [\"pizza\", \"burrito\", \"quesadilla\", \"calzone\"]}"
                                }
                            ]
                        },
                        "text/html": [
                            "<table>",
                            "<tr><th>productos_id</th><th>Producto</th><th>clave_producto</th><th>caracteristicas</th></tr>",
                            "<tr><td>1</td><td>Pizza</td><td>pzz</td><td>NULL</td></tr>",
                            "<tr><td>2</td><td>Calzone</td><td>clz</td><td>NULL</td></tr>",
                            "<tr><td>3</td><td>Quesadilla</td><td>qsd</td><td>NULL</td></tr>",
                            "<tr><td>4</td><td>Burrito</td><td>brr</td><td>NULL</td></tr>",
                            "<tr><td>5</td><td>Pizza</td><td>pzz</td><td>NULL</td></tr>",
                            "<tr><td>6</td><td>Pizza</td><td>pzz</td><td>NULL</td></tr>",
                            "<tr><td>7</td><td>Burrito</td><td>brr</td><td>NULL</td></tr>",
                            "<tr><td>8</td><td>MIx Pack</td><td>MIX</td><td>{&quot;cantidad&quot;: 2, &quot;dimension&quot;: [5, 10, 20], &quot;productos&quot;: [&quot;pizza&quot;, &quot;burrito&quot;]}</td></tr>",
                            "<tr><td>9</td><td>Combo Fiesta</td><td>CF</td><td>{&quot;cantidad&quot;: 3, &quot;dimension&quot;: [10, 4, 40], &quot;productos&quot;: [&quot;pizza&quot;, &quot;burrito&quot;, &quot;quesadilla&quot;, &quot;calzone&quot;]}</td></tr>",
                            "</table>"
                        ]
                    }
                }
            ],
            "execution_count": 22
        },
        {
            "cell_type": "markdown",
            "source": [
                "**Vamos a hacer el CROSS JOIN entre ingredientes y productos**"
            ],
            "metadata": {
                "azdata_cell_guid": "0bb664eb-04d4-4cf4-b3a8-d5f65ca0c7f5"
            },
            "attachments": {}
        },
        {
            "cell_type": "code",
            "source": [
                "SELECT *\r\n",
                "FROM productos p\r\n",
                "CROSS JOIN ingredientes i;"
            ],
            "metadata": {
                "azdata_cell_guid": "e4af81e1-d865-433c-a6d5-b3efc7168356",
                "language": "sql"
            },
            "outputs": [
                {
                    "output_type": "display_data",
                    "data": {
                        "text/html": "(81 row(s) affected)"
                    },
                    "metadata": {}
                },
                {
                    "output_type": "display_data",
                    "data": {
                        "text/html": "Total execution time: 00:00:01.006"
                    },
                    "metadata": {}
                },
                {
                    "output_type": "execute_result",
                    "metadata": {},
                    "execution_count": 27,
                    "data": {
                        "application/vnd.dataresource+json": {
                            "schema": {
                                "fields": [
                                    {
                                        "name": "productos_id"
                                    },
                                    {
                                        "name": "Producto"
                                    },
                                    {
                                        "name": "clave_producto"
                                    },
                                    {
                                        "name": "caracteristicas"
                                    },
                                    {
                                        "name": "ingredientes_id"
                                    },
                                    {
                                        "name": "Ingredientes"
                                    },
                                    {
                                        "name": "clave_ingrediente"
                                    },
                                    {
                                        "name": "precio_porcion"
                                    }
                                ]
                            },
                            "data": [
                                {
                                    "productos_id": "9",
                                    "Producto": "Combo Fiesta",
                                    "clave_producto": "CF",
                                    "caracteristicas": "{\"cantidad\": 3, \"dimension\": [10, 4, 40], \"productos\": [\"pizza\", \"burrito\", \"quesadilla\", \"calzone\"]}",
                                    "ingredientes_id": "1",
                                    "Ingredientes": "Pepperoni",
                                    "clave_ingrediente": "pep",
                                    "precio_porcion": "8"
                                },
                                {
                                    "productos_id": "8",
                                    "Producto": "MIx Pack",
                                    "clave_producto": "MIX",
                                    "caracteristicas": "{\"cantidad\": 2, \"dimension\": [5, 10, 20], \"productos\": [\"pizza\", \"burrito\"]}",
                                    "ingredientes_id": "1",
                                    "Ingredientes": "Pepperoni",
                                    "clave_ingrediente": "pep",
                                    "precio_porcion": "8"
                                },
                                {
                                    "productos_id": "7",
                                    "Producto": "Burrito",
                                    "clave_producto": "brr",
                                    "caracteristicas": "NULL",
                                    "ingredientes_id": "1",
                                    "Ingredientes": "Pepperoni",
                                    "clave_ingrediente": "pep",
                                    "precio_porcion": "8"
                                },
                                {
                                    "productos_id": "6",
                                    "Producto": "Pizza",
                                    "clave_producto": "pzz",
                                    "caracteristicas": "NULL",
                                    "ingredientes_id": "1",
                                    "Ingredientes": "Pepperoni",
                                    "clave_ingrediente": "pep",
                                    "precio_porcion": "8"
                                },
                                {
                                    "productos_id": "5",
                                    "Producto": "Pizza",
                                    "clave_producto": "pzz",
                                    "caracteristicas": "NULL",
                                    "ingredientes_id": "1",
                                    "Ingredientes": "Pepperoni",
                                    "clave_ingrediente": "pep",
                                    "precio_porcion": "8"
                                },
                                {
                                    "productos_id": "4",
                                    "Producto": "Burrito",
                                    "clave_producto": "brr",
                                    "caracteristicas": "NULL",
                                    "ingredientes_id": "1",
                                    "Ingredientes": "Pepperoni",
                                    "clave_ingrediente": "pep",
                                    "precio_porcion": "8"
                                },
                                {
                                    "productos_id": "3",
                                    "Producto": "Quesadilla",
                                    "clave_producto": "qsd",
                                    "caracteristicas": "NULL",
                                    "ingredientes_id": "1",
                                    "Ingredientes": "Pepperoni",
                                    "clave_ingrediente": "pep",
                                    "precio_porcion": "8"
                                },
                                {
                                    "productos_id": "2",
                                    "Producto": "Calzone",
                                    "clave_producto": "clz",
                                    "caracteristicas": "NULL",
                                    "ingredientes_id": "1",
                                    "Ingredientes": "Pepperoni",
                                    "clave_ingrediente": "pep",
                                    "precio_porcion": "8"
                                },
                                {
                                    "productos_id": "1",
                                    "Producto": "Pizza",
                                    "clave_producto": "pzz",
                                    "caracteristicas": "NULL",
                                    "ingredientes_id": "1",
                                    "Ingredientes": "Pepperoni",
                                    "clave_ingrediente": "pep",
                                    "precio_porcion": "8"
                                },
                                {
                                    "productos_id": "9",
                                    "Producto": "Combo Fiesta",
                                    "clave_producto": "CF",
                                    "caracteristicas": "{\"cantidad\": 3, \"dimension\": [10, 4, 40], \"productos\": [\"pizza\", \"burrito\", \"quesadilla\", \"calzone\"]}",
                                    "ingredientes_id": "2",
                                    "Ingredientes": "Cebolla",
                                    "clave_ingrediente": "ceb",
                                    "precio_porcion": "5"
                                },
                                {
                                    "productos_id": "8",
                                    "Producto": "MIx Pack",
                                    "clave_producto": "MIX",
                                    "caracteristicas": "{\"cantidad\": 2, \"dimension\": [5, 10, 20], \"productos\": [\"pizza\", \"burrito\"]}",
                                    "ingredientes_id": "2",
                                    "Ingredientes": "Cebolla",
                                    "clave_ingrediente": "ceb",
                                    "precio_porcion": "5"
                                },
                                {
                                    "productos_id": "7",
                                    "Producto": "Burrito",
                                    "clave_producto": "brr",
                                    "caracteristicas": "NULL",
                                    "ingredientes_id": "2",
                                    "Ingredientes": "Cebolla",
                                    "clave_ingrediente": "ceb",
                                    "precio_porcion": "5"
                                },
                                {
                                    "productos_id": "6",
                                    "Producto": "Pizza",
                                    "clave_producto": "pzz",
                                    "caracteristicas": "NULL",
                                    "ingredientes_id": "2",
                                    "Ingredientes": "Cebolla",
                                    "clave_ingrediente": "ceb",
                                    "precio_porcion": "5"
                                },
                                {
                                    "productos_id": "5",
                                    "Producto": "Pizza",
                                    "clave_producto": "pzz",
                                    "caracteristicas": "NULL",
                                    "ingredientes_id": "2",
                                    "Ingredientes": "Cebolla",
                                    "clave_ingrediente": "ceb",
                                    "precio_porcion": "5"
                                },
                                {
                                    "productos_id": "4",
                                    "Producto": "Burrito",
                                    "clave_producto": "brr",
                                    "caracteristicas": "NULL",
                                    "ingredientes_id": "2",
                                    "Ingredientes": "Cebolla",
                                    "clave_ingrediente": "ceb",
                                    "precio_porcion": "5"
                                },
                                {
                                    "productos_id": "3",
                                    "Producto": "Quesadilla",
                                    "clave_producto": "qsd",
                                    "caracteristicas": "NULL",
                                    "ingredientes_id": "2",
                                    "Ingredientes": "Cebolla",
                                    "clave_ingrediente": "ceb",
                                    "precio_porcion": "5"
                                },
                                {
                                    "productos_id": "2",
                                    "Producto": "Calzone",
                                    "clave_producto": "clz",
                                    "caracteristicas": "NULL",
                                    "ingredientes_id": "2",
                                    "Ingredientes": "Cebolla",
                                    "clave_ingrediente": "ceb",
                                    "precio_porcion": "5"
                                },
                                {
                                    "productos_id": "1",
                                    "Producto": "Pizza",
                                    "clave_producto": "pzz",
                                    "caracteristicas": "NULL",
                                    "ingredientes_id": "2",
                                    "Ingredientes": "Cebolla",
                                    "clave_ingrediente": "ceb",
                                    "precio_porcion": "5"
                                },
                                {
                                    "productos_id": "9",
                                    "Producto": "Combo Fiesta",
                                    "clave_producto": "CF",
                                    "caracteristicas": "{\"cantidad\": 3, \"dimension\": [10, 4, 40], \"productos\": [\"pizza\", \"burrito\", \"quesadilla\", \"calzone\"]}",
                                    "ingredientes_id": "3",
                                    "Ingredientes": "Pimiento",
                                    "clave_ingrediente": "pim",
                                    "precio_porcion": "10"
                                },
                                {
                                    "productos_id": "8",
                                    "Producto": "MIx Pack",
                                    "clave_producto": "MIX",
                                    "caracteristicas": "{\"cantidad\": 2, \"dimension\": [5, 10, 20], \"productos\": [\"pizza\", \"burrito\"]}",
                                    "ingredientes_id": "3",
                                    "Ingredientes": "Pimiento",
                                    "clave_ingrediente": "pim",
                                    "precio_porcion": "10"
                                },
                                {
                                    "productos_id": "7",
                                    "Producto": "Burrito",
                                    "clave_producto": "brr",
                                    "caracteristicas": "NULL",
                                    "ingredientes_id": "3",
                                    "Ingredientes": "Pimiento",
                                    "clave_ingrediente": "pim",
                                    "precio_porcion": "10"
                                },
                                {
                                    "productos_id": "6",
                                    "Producto": "Pizza",
                                    "clave_producto": "pzz",
                                    "caracteristicas": "NULL",
                                    "ingredientes_id": "3",
                                    "Ingredientes": "Pimiento",
                                    "clave_ingrediente": "pim",
                                    "precio_porcion": "10"
                                },
                                {
                                    "productos_id": "5",
                                    "Producto": "Pizza",
                                    "clave_producto": "pzz",
                                    "caracteristicas": "NULL",
                                    "ingredientes_id": "3",
                                    "Ingredientes": "Pimiento",
                                    "clave_ingrediente": "pim",
                                    "precio_porcion": "10"
                                },
                                {
                                    "productos_id": "4",
                                    "Producto": "Burrito",
                                    "clave_producto": "brr",
                                    "caracteristicas": "NULL",
                                    "ingredientes_id": "3",
                                    "Ingredientes": "Pimiento",
                                    "clave_ingrediente": "pim",
                                    "precio_porcion": "10"
                                },
                                {
                                    "productos_id": "3",
                                    "Producto": "Quesadilla",
                                    "clave_producto": "qsd",
                                    "caracteristicas": "NULL",
                                    "ingredientes_id": "3",
                                    "Ingredientes": "Pimiento",
                                    "clave_ingrediente": "pim",
                                    "precio_porcion": "10"
                                },
                                {
                                    "productos_id": "2",
                                    "Producto": "Calzone",
                                    "clave_producto": "clz",
                                    "caracteristicas": "NULL",
                                    "ingredientes_id": "3",
                                    "Ingredientes": "Pimiento",
                                    "clave_ingrediente": "pim",
                                    "precio_porcion": "10"
                                },
                                {
                                    "productos_id": "1",
                                    "Producto": "Pizza",
                                    "clave_producto": "pzz",
                                    "caracteristicas": "NULL",
                                    "ingredientes_id": "3",
                                    "Ingredientes": "Pimiento",
                                    "clave_ingrediente": "pim",
                                    "precio_porcion": "10"
                                },
                                {
                                    "productos_id": "9",
                                    "Producto": "Combo Fiesta",
                                    "clave_producto": "CF",
                                    "caracteristicas": "{\"cantidad\": 3, \"dimension\": [10, 4, 40], \"productos\": [\"pizza\", \"burrito\", \"quesadilla\", \"calzone\"]}",
                                    "ingredientes_id": "4",
                                    "Ingredientes": "Salchicha",
                                    "clave_ingrediente": "sal",
                                    "precio_porcion": "5"
                                },
                                {
                                    "productos_id": "8",
                                    "Producto": "MIx Pack",
                                    "clave_producto": "MIX",
                                    "caracteristicas": "{\"cantidad\": 2, \"dimension\": [5, 10, 20], \"productos\": [\"pizza\", \"burrito\"]}",
                                    "ingredientes_id": "4",
                                    "Ingredientes": "Salchicha",
                                    "clave_ingrediente": "sal",
                                    "precio_porcion": "5"
                                },
                                {
                                    "productos_id": "7",
                                    "Producto": "Burrito",
                                    "clave_producto": "brr",
                                    "caracteristicas": "NULL",
                                    "ingredientes_id": "4",
                                    "Ingredientes": "Salchicha",
                                    "clave_ingrediente": "sal",
                                    "precio_porcion": "5"
                                },
                                {
                                    "productos_id": "6",
                                    "Producto": "Pizza",
                                    "clave_producto": "pzz",
                                    "caracteristicas": "NULL",
                                    "ingredientes_id": "4",
                                    "Ingredientes": "Salchicha",
                                    "clave_ingrediente": "sal",
                                    "precio_porcion": "5"
                                },
                                {
                                    "productos_id": "5",
                                    "Producto": "Pizza",
                                    "clave_producto": "pzz",
                                    "caracteristicas": "NULL",
                                    "ingredientes_id": "4",
                                    "Ingredientes": "Salchicha",
                                    "clave_ingrediente": "sal",
                                    "precio_porcion": "5"
                                },
                                {
                                    "productos_id": "4",
                                    "Producto": "Burrito",
                                    "clave_producto": "brr",
                                    "caracteristicas": "NULL",
                                    "ingredientes_id": "4",
                                    "Ingredientes": "Salchicha",
                                    "clave_ingrediente": "sal",
                                    "precio_porcion": "5"
                                },
                                {
                                    "productos_id": "3",
                                    "Producto": "Quesadilla",
                                    "clave_producto": "qsd",
                                    "caracteristicas": "NULL",
                                    "ingredientes_id": "4",
                                    "Ingredientes": "Salchicha",
                                    "clave_ingrediente": "sal",
                                    "precio_porcion": "5"
                                },
                                {
                                    "productos_id": "2",
                                    "Producto": "Calzone",
                                    "clave_producto": "clz",
                                    "caracteristicas": "NULL",
                                    "ingredientes_id": "4",
                                    "Ingredientes": "Salchicha",
                                    "clave_ingrediente": "sal",
                                    "precio_porcion": "5"
                                },
                                {
                                    "productos_id": "1",
                                    "Producto": "Pizza",
                                    "clave_producto": "pzz",
                                    "caracteristicas": "NULL",
                                    "ingredientes_id": "4",
                                    "Ingredientes": "Salchicha",
                                    "clave_ingrediente": "sal",
                                    "precio_porcion": "5"
                                },
                                {
                                    "productos_id": "9",
                                    "Producto": "Combo Fiesta",
                                    "clave_producto": "CF",
                                    "caracteristicas": "{\"cantidad\": 3, \"dimension\": [10, 4, 40], \"productos\": [\"pizza\", \"burrito\", \"quesadilla\", \"calzone\"]}",
                                    "ingredientes_id": "5",
                                    "Ingredientes": "Piña",
                                    "clave_ingrediente": "piñ",
                                    "precio_porcion": "8"
                                },
                                {
                                    "productos_id": "8",
                                    "Producto": "MIx Pack",
                                    "clave_producto": "MIX",
                                    "caracteristicas": "{\"cantidad\": 2, \"dimension\": [5, 10, 20], \"productos\": [\"pizza\", \"burrito\"]}",
                                    "ingredientes_id": "5",
                                    "Ingredientes": "Piña",
                                    "clave_ingrediente": "piñ",
                                    "precio_porcion": "8"
                                },
                                {
                                    "productos_id": "7",
                                    "Producto": "Burrito",
                                    "clave_producto": "brr",
                                    "caracteristicas": "NULL",
                                    "ingredientes_id": "5",
                                    "Ingredientes": "Piña",
                                    "clave_ingrediente": "piñ",
                                    "precio_porcion": "8"
                                },
                                {
                                    "productos_id": "6",
                                    "Producto": "Pizza",
                                    "clave_producto": "pzz",
                                    "caracteristicas": "NULL",
                                    "ingredientes_id": "5",
                                    "Ingredientes": "Piña",
                                    "clave_ingrediente": "piñ",
                                    "precio_porcion": "8"
                                },
                                {
                                    "productos_id": "5",
                                    "Producto": "Pizza",
                                    "clave_producto": "pzz",
                                    "caracteristicas": "NULL",
                                    "ingredientes_id": "5",
                                    "Ingredientes": "Piña",
                                    "clave_ingrediente": "piñ",
                                    "precio_porcion": "8"
                                },
                                {
                                    "productos_id": "4",
                                    "Producto": "Burrito",
                                    "clave_producto": "brr",
                                    "caracteristicas": "NULL",
                                    "ingredientes_id": "5",
                                    "Ingredientes": "Piña",
                                    "clave_ingrediente": "piñ",
                                    "precio_porcion": "8"
                                },
                                {
                                    "productos_id": "3",
                                    "Producto": "Quesadilla",
                                    "clave_producto": "qsd",
                                    "caracteristicas": "NULL",
                                    "ingredientes_id": "5",
                                    "Ingredientes": "Piña",
                                    "clave_ingrediente": "piñ",
                                    "precio_porcion": "8"
                                },
                                {
                                    "productos_id": "2",
                                    "Producto": "Calzone",
                                    "clave_producto": "clz",
                                    "caracteristicas": "NULL",
                                    "ingredientes_id": "5",
                                    "Ingredientes": "Piña",
                                    "clave_ingrediente": "piñ",
                                    "precio_porcion": "8"
                                },
                                {
                                    "productos_id": "1",
                                    "Producto": "Pizza",
                                    "clave_producto": "pzz",
                                    "caracteristicas": "NULL",
                                    "ingredientes_id": "5",
                                    "Ingredientes": "Piña",
                                    "clave_ingrediente": "piñ",
                                    "precio_porcion": "8"
                                },
                                {
                                    "productos_id": "9",
                                    "Producto": "Combo Fiesta",
                                    "clave_producto": "CF",
                                    "caracteristicas": "{\"cantidad\": 3, \"dimension\": [10, 4, 40], \"productos\": [\"pizza\", \"burrito\", \"quesadilla\", \"calzone\"]}",
                                    "ingredientes_id": "6",
                                    "Ingredientes": "queso",
                                    "clave_ingrediente": "que",
                                    "precio_porcion": "5"
                                },
                                {
                                    "productos_id": "8",
                                    "Producto": "MIx Pack",
                                    "clave_producto": "MIX",
                                    "caracteristicas": "{\"cantidad\": 2, \"dimension\": [5, 10, 20], \"productos\": [\"pizza\", \"burrito\"]}",
                                    "ingredientes_id": "6",
                                    "Ingredientes": "queso",
                                    "clave_ingrediente": "que",
                                    "precio_porcion": "5"
                                },
                                {
                                    "productos_id": "7",
                                    "Producto": "Burrito",
                                    "clave_producto": "brr",
                                    "caracteristicas": "NULL",
                                    "ingredientes_id": "6",
                                    "Ingredientes": "queso",
                                    "clave_ingrediente": "que",
                                    "precio_porcion": "5"
                                },
                                {
                                    "productos_id": "6",
                                    "Producto": "Pizza",
                                    "clave_producto": "pzz",
                                    "caracteristicas": "NULL",
                                    "ingredientes_id": "6",
                                    "Ingredientes": "queso",
                                    "clave_ingrediente": "que",
                                    "precio_porcion": "5"
                                },
                                {
                                    "productos_id": "5",
                                    "Producto": "Pizza",
                                    "clave_producto": "pzz",
                                    "caracteristicas": "NULL",
                                    "ingredientes_id": "6",
                                    "Ingredientes": "queso",
                                    "clave_ingrediente": "que",
                                    "precio_porcion": "5"
                                },
                                {
                                    "productos_id": "4",
                                    "Producto": "Burrito",
                                    "clave_producto": "brr",
                                    "caracteristicas": "NULL",
                                    "ingredientes_id": "6",
                                    "Ingredientes": "queso",
                                    "clave_ingrediente": "que",
                                    "precio_porcion": "5"
                                },
                                {
                                    "productos_id": "3",
                                    "Producto": "Quesadilla",
                                    "clave_producto": "qsd",
                                    "caracteristicas": "NULL",
                                    "ingredientes_id": "6",
                                    "Ingredientes": "queso",
                                    "clave_ingrediente": "que",
                                    "precio_porcion": "5"
                                },
                                {
                                    "productos_id": "2",
                                    "Producto": "Calzone",
                                    "clave_producto": "clz",
                                    "caracteristicas": "NULL",
                                    "ingredientes_id": "6",
                                    "Ingredientes": "queso",
                                    "clave_ingrediente": "que",
                                    "precio_porcion": "5"
                                },
                                {
                                    "productos_id": "1",
                                    "Producto": "Pizza",
                                    "clave_producto": "pzz",
                                    "caracteristicas": "NULL",
                                    "ingredientes_id": "6",
                                    "Ingredientes": "queso",
                                    "clave_ingrediente": "que",
                                    "precio_porcion": "5"
                                },
                                {
                                    "productos_id": "9",
                                    "Producto": "Combo Fiesta",
                                    "clave_producto": "CF",
                                    "caracteristicas": "{\"cantidad\": 3, \"dimension\": [10, 4, 40], \"productos\": [\"pizza\", \"burrito\", \"quesadilla\", \"calzone\"]}",
                                    "ingredientes_id": "7",
                                    "Ingredientes": "aceituna",
                                    "clave_ingrediente": "NULL",
                                    "precio_porcion": "NULL"
                                },
                                {
                                    "productos_id": "8",
                                    "Producto": "MIx Pack",
                                    "clave_producto": "MIX",
                                    "caracteristicas": "{\"cantidad\": 2, \"dimension\": [5, 10, 20], \"productos\": [\"pizza\", \"burrito\"]}",
                                    "ingredientes_id": "7",
                                    "Ingredientes": "aceituna",
                                    "clave_ingrediente": "NULL",
                                    "precio_porcion": "NULL"
                                },
                                {
                                    "productos_id": "7",
                                    "Producto": "Burrito",
                                    "clave_producto": "brr",
                                    "caracteristicas": "NULL",
                                    "ingredientes_id": "7",
                                    "Ingredientes": "aceituna",
                                    "clave_ingrediente": "NULL",
                                    "precio_porcion": "NULL"
                                },
                                {
                                    "productos_id": "6",
                                    "Producto": "Pizza",
                                    "clave_producto": "pzz",
                                    "caracteristicas": "NULL",
                                    "ingredientes_id": "7",
                                    "Ingredientes": "aceituna",
                                    "clave_ingrediente": "NULL",
                                    "precio_porcion": "NULL"
                                },
                                {
                                    "productos_id": "5",
                                    "Producto": "Pizza",
                                    "clave_producto": "pzz",
                                    "caracteristicas": "NULL",
                                    "ingredientes_id": "7",
                                    "Ingredientes": "aceituna",
                                    "clave_ingrediente": "NULL",
                                    "precio_porcion": "NULL"
                                },
                                {
                                    "productos_id": "4",
                                    "Producto": "Burrito",
                                    "clave_producto": "brr",
                                    "caracteristicas": "NULL",
                                    "ingredientes_id": "7",
                                    "Ingredientes": "aceituna",
                                    "clave_ingrediente": "NULL",
                                    "precio_porcion": "NULL"
                                },
                                {
                                    "productos_id": "3",
                                    "Producto": "Quesadilla",
                                    "clave_producto": "qsd",
                                    "caracteristicas": "NULL",
                                    "ingredientes_id": "7",
                                    "Ingredientes": "aceituna",
                                    "clave_ingrediente": "NULL",
                                    "precio_porcion": "NULL"
                                },
                                {
                                    "productos_id": "2",
                                    "Producto": "Calzone",
                                    "clave_producto": "clz",
                                    "caracteristicas": "NULL",
                                    "ingredientes_id": "7",
                                    "Ingredientes": "aceituna",
                                    "clave_ingrediente": "NULL",
                                    "precio_porcion": "NULL"
                                },
                                {
                                    "productos_id": "1",
                                    "Producto": "Pizza",
                                    "clave_producto": "pzz",
                                    "caracteristicas": "NULL",
                                    "ingredientes_id": "7",
                                    "Ingredientes": "aceituna",
                                    "clave_ingrediente": "NULL",
                                    "precio_porcion": "NULL"
                                },
                                {
                                    "productos_id": "9",
                                    "Producto": "Combo Fiesta",
                                    "clave_producto": "CF",
                                    "caracteristicas": "{\"cantidad\": 3, \"dimension\": [10, 4, 40], \"productos\": [\"pizza\", \"burrito\", \"quesadilla\", \"calzone\"]}",
                                    "ingredientes_id": "8",
                                    "Ingredientes": "manzana",
                                    "clave_ingrediente": "man",
                                    "precio_porcion": "NULL"
                                },
                                {
                                    "productos_id": "8",
                                    "Producto": "MIx Pack",
                                    "clave_producto": "MIX",
                                    "caracteristicas": "{\"cantidad\": 2, \"dimension\": [5, 10, 20], \"productos\": [\"pizza\", \"burrito\"]}",
                                    "ingredientes_id": "8",
                                    "Ingredientes": "manzana",
                                    "clave_ingrediente": "man",
                                    "precio_porcion": "NULL"
                                },
                                {
                                    "productos_id": "7",
                                    "Producto": "Burrito",
                                    "clave_producto": "brr",
                                    "caracteristicas": "NULL",
                                    "ingredientes_id": "8",
                                    "Ingredientes": "manzana",
                                    "clave_ingrediente": "man",
                                    "precio_porcion": "NULL"
                                },
                                {
                                    "productos_id": "6",
                                    "Producto": "Pizza",
                                    "clave_producto": "pzz",
                                    "caracteristicas": "NULL",
                                    "ingredientes_id": "8",
                                    "Ingredientes": "manzana",
                                    "clave_ingrediente": "man",
                                    "precio_porcion": "NULL"
                                },
                                {
                                    "productos_id": "5",
                                    "Producto": "Pizza",
                                    "clave_producto": "pzz",
                                    "caracteristicas": "NULL",
                                    "ingredientes_id": "8",
                                    "Ingredientes": "manzana",
                                    "clave_ingrediente": "man",
                                    "precio_porcion": "NULL"
                                },
                                {
                                    "productos_id": "4",
                                    "Producto": "Burrito",
                                    "clave_producto": "brr",
                                    "caracteristicas": "NULL",
                                    "ingredientes_id": "8",
                                    "Ingredientes": "manzana",
                                    "clave_ingrediente": "man",
                                    "precio_porcion": "NULL"
                                },
                                {
                                    "productos_id": "3",
                                    "Producto": "Quesadilla",
                                    "clave_producto": "qsd",
                                    "caracteristicas": "NULL",
                                    "ingredientes_id": "8",
                                    "Ingredientes": "manzana",
                                    "clave_ingrediente": "man",
                                    "precio_porcion": "NULL"
                                },
                                {
                                    "productos_id": "2",
                                    "Producto": "Calzone",
                                    "clave_producto": "clz",
                                    "caracteristicas": "NULL",
                                    "ingredientes_id": "8",
                                    "Ingredientes": "manzana",
                                    "clave_ingrediente": "man",
                                    "precio_porcion": "NULL"
                                },
                                {
                                    "productos_id": "1",
                                    "Producto": "Pizza",
                                    "clave_producto": "pzz",
                                    "caracteristicas": "NULL",
                                    "ingredientes_id": "8",
                                    "Ingredientes": "manzana",
                                    "clave_ingrediente": "man",
                                    "precio_porcion": "NULL"
                                },
                                {
                                    "productos_id": "9",
                                    "Producto": "Combo Fiesta",
                                    "clave_producto": "CF",
                                    "caracteristicas": "{\"cantidad\": 3, \"dimension\": [10, 4, 40], \"productos\": [\"pizza\", \"burrito\", \"quesadilla\", \"calzone\"]}",
                                    "ingredientes_id": "9",
                                    "Ingredientes": "pera",
                                    "clave_ingrediente": "per",
                                    "precio_porcion": "NULL"
                                },
                                {
                                    "productos_id": "8",
                                    "Producto": "MIx Pack",
                                    "clave_producto": "MIX",
                                    "caracteristicas": "{\"cantidad\": 2, \"dimension\": [5, 10, 20], \"productos\": [\"pizza\", \"burrito\"]}",
                                    "ingredientes_id": "9",
                                    "Ingredientes": "pera",
                                    "clave_ingrediente": "per",
                                    "precio_porcion": "NULL"
                                },
                                {
                                    "productos_id": "7",
                                    "Producto": "Burrito",
                                    "clave_producto": "brr",
                                    "caracteristicas": "NULL",
                                    "ingredientes_id": "9",
                                    "Ingredientes": "pera",
                                    "clave_ingrediente": "per",
                                    "precio_porcion": "NULL"
                                },
                                {
                                    "productos_id": "6",
                                    "Producto": "Pizza",
                                    "clave_producto": "pzz",
                                    "caracteristicas": "NULL",
                                    "ingredientes_id": "9",
                                    "Ingredientes": "pera",
                                    "clave_ingrediente": "per",
                                    "precio_porcion": "NULL"
                                },
                                {
                                    "productos_id": "5",
                                    "Producto": "Pizza",
                                    "clave_producto": "pzz",
                                    "caracteristicas": "NULL",
                                    "ingredientes_id": "9",
                                    "Ingredientes": "pera",
                                    "clave_ingrediente": "per",
                                    "precio_porcion": "NULL"
                                },
                                {
                                    "productos_id": "4",
                                    "Producto": "Burrito",
                                    "clave_producto": "brr",
                                    "caracteristicas": "NULL",
                                    "ingredientes_id": "9",
                                    "Ingredientes": "pera",
                                    "clave_ingrediente": "per",
                                    "precio_porcion": "NULL"
                                },
                                {
                                    "productos_id": "3",
                                    "Producto": "Quesadilla",
                                    "clave_producto": "qsd",
                                    "caracteristicas": "NULL",
                                    "ingredientes_id": "9",
                                    "Ingredientes": "pera",
                                    "clave_ingrediente": "per",
                                    "precio_porcion": "NULL"
                                },
                                {
                                    "productos_id": "2",
                                    "Producto": "Calzone",
                                    "clave_producto": "clz",
                                    "caracteristicas": "NULL",
                                    "ingredientes_id": "9",
                                    "Ingredientes": "pera",
                                    "clave_ingrediente": "per",
                                    "precio_porcion": "NULL"
                                },
                                {
                                    "productos_id": "1",
                                    "Producto": "Pizza",
                                    "clave_producto": "pzz",
                                    "caracteristicas": "NULL",
                                    "ingredientes_id": "9",
                                    "Ingredientes": "pera",
                                    "clave_ingrediente": "per",
                                    "precio_porcion": "NULL"
                                }
                            ]
                        },
                        "text/html": [
                            "<table>",
                            "<tr><th>productos_id</th><th>Producto</th><th>clave_producto</th><th>caracteristicas</th><th>ingredientes_id</th><th>Ingredientes</th><th>clave_ingrediente</th><th>precio_porcion</th></tr>",
                            "<tr><td>9</td><td>Combo Fiesta</td><td>CF</td><td>{&quot;cantidad&quot;: 3, &quot;dimension&quot;: [10, 4, 40], &quot;productos&quot;: [&quot;pizza&quot;, &quot;burrito&quot;, &quot;quesadilla&quot;, &quot;calzone&quot;]}</td><td>1</td><td>Pepperoni</td><td>pep</td><td>8</td></tr>",
                            "<tr><td>8</td><td>MIx Pack</td><td>MIX</td><td>{&quot;cantidad&quot;: 2, &quot;dimension&quot;: [5, 10, 20], &quot;productos&quot;: [&quot;pizza&quot;, &quot;burrito&quot;]}</td><td>1</td><td>Pepperoni</td><td>pep</td><td>8</td></tr>",
                            "<tr><td>7</td><td>Burrito</td><td>brr</td><td>NULL</td><td>1</td><td>Pepperoni</td><td>pep</td><td>8</td></tr>",
                            "<tr><td>6</td><td>Pizza</td><td>pzz</td><td>NULL</td><td>1</td><td>Pepperoni</td><td>pep</td><td>8</td></tr>",
                            "<tr><td>5</td><td>Pizza</td><td>pzz</td><td>NULL</td><td>1</td><td>Pepperoni</td><td>pep</td><td>8</td></tr>",
                            "<tr><td>4</td><td>Burrito</td><td>brr</td><td>NULL</td><td>1</td><td>Pepperoni</td><td>pep</td><td>8</td></tr>",
                            "<tr><td>3</td><td>Quesadilla</td><td>qsd</td><td>NULL</td><td>1</td><td>Pepperoni</td><td>pep</td><td>8</td></tr>",
                            "<tr><td>2</td><td>Calzone</td><td>clz</td><td>NULL</td><td>1</td><td>Pepperoni</td><td>pep</td><td>8</td></tr>",
                            "<tr><td>1</td><td>Pizza</td><td>pzz</td><td>NULL</td><td>1</td><td>Pepperoni</td><td>pep</td><td>8</td></tr>",
                            "<tr><td>9</td><td>Combo Fiesta</td><td>CF</td><td>{&quot;cantidad&quot;: 3, &quot;dimension&quot;: [10, 4, 40], &quot;productos&quot;: [&quot;pizza&quot;, &quot;burrito&quot;, &quot;quesadilla&quot;, &quot;calzone&quot;]}</td><td>2</td><td>Cebolla</td><td>ceb</td><td>5</td></tr>",
                            "<tr><td>8</td><td>MIx Pack</td><td>MIX</td><td>{&quot;cantidad&quot;: 2, &quot;dimension&quot;: [5, 10, 20], &quot;productos&quot;: [&quot;pizza&quot;, &quot;burrito&quot;]}</td><td>2</td><td>Cebolla</td><td>ceb</td><td>5</td></tr>",
                            "<tr><td>7</td><td>Burrito</td><td>brr</td><td>NULL</td><td>2</td><td>Cebolla</td><td>ceb</td><td>5</td></tr>",
                            "<tr><td>6</td><td>Pizza</td><td>pzz</td><td>NULL</td><td>2</td><td>Cebolla</td><td>ceb</td><td>5</td></tr>",
                            "<tr><td>5</td><td>Pizza</td><td>pzz</td><td>NULL</td><td>2</td><td>Cebolla</td><td>ceb</td><td>5</td></tr>",
                            "<tr><td>4</td><td>Burrito</td><td>brr</td><td>NULL</td><td>2</td><td>Cebolla</td><td>ceb</td><td>5</td></tr>",
                            "<tr><td>3</td><td>Quesadilla</td><td>qsd</td><td>NULL</td><td>2</td><td>Cebolla</td><td>ceb</td><td>5</td></tr>",
                            "<tr><td>2</td><td>Calzone</td><td>clz</td><td>NULL</td><td>2</td><td>Cebolla</td><td>ceb</td><td>5</td></tr>",
                            "<tr><td>1</td><td>Pizza</td><td>pzz</td><td>NULL</td><td>2</td><td>Cebolla</td><td>ceb</td><td>5</td></tr>",
                            "<tr><td>9</td><td>Combo Fiesta</td><td>CF</td><td>{&quot;cantidad&quot;: 3, &quot;dimension&quot;: [10, 4, 40], &quot;productos&quot;: [&quot;pizza&quot;, &quot;burrito&quot;, &quot;quesadilla&quot;, &quot;calzone&quot;]}</td><td>3</td><td>Pimiento</td><td>pim</td><td>10</td></tr>",
                            "<tr><td>8</td><td>MIx Pack</td><td>MIX</td><td>{&quot;cantidad&quot;: 2, &quot;dimension&quot;: [5, 10, 20], &quot;productos&quot;: [&quot;pizza&quot;, &quot;burrito&quot;]}</td><td>3</td><td>Pimiento</td><td>pim</td><td>10</td></tr>",
                            "<tr><td>7</td><td>Burrito</td><td>brr</td><td>NULL</td><td>3</td><td>Pimiento</td><td>pim</td><td>10</td></tr>",
                            "<tr><td>6</td><td>Pizza</td><td>pzz</td><td>NULL</td><td>3</td><td>Pimiento</td><td>pim</td><td>10</td></tr>",
                            "<tr><td>5</td><td>Pizza</td><td>pzz</td><td>NULL</td><td>3</td><td>Pimiento</td><td>pim</td><td>10</td></tr>",
                            "<tr><td>4</td><td>Burrito</td><td>brr</td><td>NULL</td><td>3</td><td>Pimiento</td><td>pim</td><td>10</td></tr>",
                            "<tr><td>3</td><td>Quesadilla</td><td>qsd</td><td>NULL</td><td>3</td><td>Pimiento</td><td>pim</td><td>10</td></tr>",
                            "<tr><td>2</td><td>Calzone</td><td>clz</td><td>NULL</td><td>3</td><td>Pimiento</td><td>pim</td><td>10</td></tr>",
                            "<tr><td>1</td><td>Pizza</td><td>pzz</td><td>NULL</td><td>3</td><td>Pimiento</td><td>pim</td><td>10</td></tr>",
                            "<tr><td>9</td><td>Combo Fiesta</td><td>CF</td><td>{&quot;cantidad&quot;: 3, &quot;dimension&quot;: [10, 4, 40], &quot;productos&quot;: [&quot;pizza&quot;, &quot;burrito&quot;, &quot;quesadilla&quot;, &quot;calzone&quot;]}</td><td>4</td><td>Salchicha</td><td>sal</td><td>5</td></tr>",
                            "<tr><td>8</td><td>MIx Pack</td><td>MIX</td><td>{&quot;cantidad&quot;: 2, &quot;dimension&quot;: [5, 10, 20], &quot;productos&quot;: [&quot;pizza&quot;, &quot;burrito&quot;]}</td><td>4</td><td>Salchicha</td><td>sal</td><td>5</td></tr>",
                            "<tr><td>7</td><td>Burrito</td><td>brr</td><td>NULL</td><td>4</td><td>Salchicha</td><td>sal</td><td>5</td></tr>",
                            "<tr><td>6</td><td>Pizza</td><td>pzz</td><td>NULL</td><td>4</td><td>Salchicha</td><td>sal</td><td>5</td></tr>",
                            "<tr><td>5</td><td>Pizza</td><td>pzz</td><td>NULL</td><td>4</td><td>Salchicha</td><td>sal</td><td>5</td></tr>",
                            "<tr><td>4</td><td>Burrito</td><td>brr</td><td>NULL</td><td>4</td><td>Salchicha</td><td>sal</td><td>5</td></tr>",
                            "<tr><td>3</td><td>Quesadilla</td><td>qsd</td><td>NULL</td><td>4</td><td>Salchicha</td><td>sal</td><td>5</td></tr>",
                            "<tr><td>2</td><td>Calzone</td><td>clz</td><td>NULL</td><td>4</td><td>Salchicha</td><td>sal</td><td>5</td></tr>",
                            "<tr><td>1</td><td>Pizza</td><td>pzz</td><td>NULL</td><td>4</td><td>Salchicha</td><td>sal</td><td>5</td></tr>",
                            "<tr><td>9</td><td>Combo Fiesta</td><td>CF</td><td>{&quot;cantidad&quot;: 3, &quot;dimension&quot;: [10, 4, 40], &quot;productos&quot;: [&quot;pizza&quot;, &quot;burrito&quot;, &quot;quesadilla&quot;, &quot;calzone&quot;]}</td><td>5</td><td>Piña</td><td>piñ</td><td>8</td></tr>",
                            "<tr><td>8</td><td>MIx Pack</td><td>MIX</td><td>{&quot;cantidad&quot;: 2, &quot;dimension&quot;: [5, 10, 20], &quot;productos&quot;: [&quot;pizza&quot;, &quot;burrito&quot;]}</td><td>5</td><td>Piña</td><td>piñ</td><td>8</td></tr>",
                            "<tr><td>7</td><td>Burrito</td><td>brr</td><td>NULL</td><td>5</td><td>Piña</td><td>piñ</td><td>8</td></tr>",
                            "<tr><td>6</td><td>Pizza</td><td>pzz</td><td>NULL</td><td>5</td><td>Piña</td><td>piñ</td><td>8</td></tr>",
                            "<tr><td>5</td><td>Pizza</td><td>pzz</td><td>NULL</td><td>5</td><td>Piña</td><td>piñ</td><td>8</td></tr>",
                            "<tr><td>4</td><td>Burrito</td><td>brr</td><td>NULL</td><td>5</td><td>Piña</td><td>piñ</td><td>8</td></tr>",
                            "<tr><td>3</td><td>Quesadilla</td><td>qsd</td><td>NULL</td><td>5</td><td>Piña</td><td>piñ</td><td>8</td></tr>",
                            "<tr><td>2</td><td>Calzone</td><td>clz</td><td>NULL</td><td>5</td><td>Piña</td><td>piñ</td><td>8</td></tr>",
                            "<tr><td>1</td><td>Pizza</td><td>pzz</td><td>NULL</td><td>5</td><td>Piña</td><td>piñ</td><td>8</td></tr>",
                            "<tr><td>9</td><td>Combo Fiesta</td><td>CF</td><td>{&quot;cantidad&quot;: 3, &quot;dimension&quot;: [10, 4, 40], &quot;productos&quot;: [&quot;pizza&quot;, &quot;burrito&quot;, &quot;quesadilla&quot;, &quot;calzone&quot;]}</td><td>6</td><td>queso</td><td>que</td><td>5</td></tr>",
                            "<tr><td>8</td><td>MIx Pack</td><td>MIX</td><td>{&quot;cantidad&quot;: 2, &quot;dimension&quot;: [5, 10, 20], &quot;productos&quot;: [&quot;pizza&quot;, &quot;burrito&quot;]}</td><td>6</td><td>queso</td><td>que</td><td>5</td></tr>",
                            "<tr><td>7</td><td>Burrito</td><td>brr</td><td>NULL</td><td>6</td><td>queso</td><td>que</td><td>5</td></tr>",
                            "<tr><td>6</td><td>Pizza</td><td>pzz</td><td>NULL</td><td>6</td><td>queso</td><td>que</td><td>5</td></tr>",
                            "<tr><td>5</td><td>Pizza</td><td>pzz</td><td>NULL</td><td>6</td><td>queso</td><td>que</td><td>5</td></tr>",
                            "<tr><td>4</td><td>Burrito</td><td>brr</td><td>NULL</td><td>6</td><td>queso</td><td>que</td><td>5</td></tr>",
                            "<tr><td>3</td><td>Quesadilla</td><td>qsd</td><td>NULL</td><td>6</td><td>queso</td><td>que</td><td>5</td></tr>",
                            "<tr><td>2</td><td>Calzone</td><td>clz</td><td>NULL</td><td>6</td><td>queso</td><td>que</td><td>5</td></tr>",
                            "<tr><td>1</td><td>Pizza</td><td>pzz</td><td>NULL</td><td>6</td><td>queso</td><td>que</td><td>5</td></tr>",
                            "<tr><td>9</td><td>Combo Fiesta</td><td>CF</td><td>{&quot;cantidad&quot;: 3, &quot;dimension&quot;: [10, 4, 40], &quot;productos&quot;: [&quot;pizza&quot;, &quot;burrito&quot;, &quot;quesadilla&quot;, &quot;calzone&quot;]}</td><td>7</td><td>aceituna</td><td>NULL</td><td>NULL</td></tr>",
                            "<tr><td>8</td><td>MIx Pack</td><td>MIX</td><td>{&quot;cantidad&quot;: 2, &quot;dimension&quot;: [5, 10, 20], &quot;productos&quot;: [&quot;pizza&quot;, &quot;burrito&quot;]}</td><td>7</td><td>aceituna</td><td>NULL</td><td>NULL</td></tr>",
                            "<tr><td>7</td><td>Burrito</td><td>brr</td><td>NULL</td><td>7</td><td>aceituna</td><td>NULL</td><td>NULL</td></tr>",
                            "<tr><td>6</td><td>Pizza</td><td>pzz</td><td>NULL</td><td>7</td><td>aceituna</td><td>NULL</td><td>NULL</td></tr>",
                            "<tr><td>5</td><td>Pizza</td><td>pzz</td><td>NULL</td><td>7</td><td>aceituna</td><td>NULL</td><td>NULL</td></tr>",
                            "<tr><td>4</td><td>Burrito</td><td>brr</td><td>NULL</td><td>7</td><td>aceituna</td><td>NULL</td><td>NULL</td></tr>",
                            "<tr><td>3</td><td>Quesadilla</td><td>qsd</td><td>NULL</td><td>7</td><td>aceituna</td><td>NULL</td><td>NULL</td></tr>",
                            "<tr><td>2</td><td>Calzone</td><td>clz</td><td>NULL</td><td>7</td><td>aceituna</td><td>NULL</td><td>NULL</td></tr>",
                            "<tr><td>1</td><td>Pizza</td><td>pzz</td><td>NULL</td><td>7</td><td>aceituna</td><td>NULL</td><td>NULL</td></tr>",
                            "<tr><td>9</td><td>Combo Fiesta</td><td>CF</td><td>{&quot;cantidad&quot;: 3, &quot;dimension&quot;: [10, 4, 40], &quot;productos&quot;: [&quot;pizza&quot;, &quot;burrito&quot;, &quot;quesadilla&quot;, &quot;calzone&quot;]}</td><td>8</td><td>manzana</td><td>man</td><td>NULL</td></tr>",
                            "<tr><td>8</td><td>MIx Pack</td><td>MIX</td><td>{&quot;cantidad&quot;: 2, &quot;dimension&quot;: [5, 10, 20], &quot;productos&quot;: [&quot;pizza&quot;, &quot;burrito&quot;]}</td><td>8</td><td>manzana</td><td>man</td><td>NULL</td></tr>",
                            "<tr><td>7</td><td>Burrito</td><td>brr</td><td>NULL</td><td>8</td><td>manzana</td><td>man</td><td>NULL</td></tr>",
                            "<tr><td>6</td><td>Pizza</td><td>pzz</td><td>NULL</td><td>8</td><td>manzana</td><td>man</td><td>NULL</td></tr>",
                            "<tr><td>5</td><td>Pizza</td><td>pzz</td><td>NULL</td><td>8</td><td>manzana</td><td>man</td><td>NULL</td></tr>",
                            "<tr><td>4</td><td>Burrito</td><td>brr</td><td>NULL</td><td>8</td><td>manzana</td><td>man</td><td>NULL</td></tr>",
                            "<tr><td>3</td><td>Quesadilla</td><td>qsd</td><td>NULL</td><td>8</td><td>manzana</td><td>man</td><td>NULL</td></tr>",
                            "<tr><td>2</td><td>Calzone</td><td>clz</td><td>NULL</td><td>8</td><td>manzana</td><td>man</td><td>NULL</td></tr>",
                            "<tr><td>1</td><td>Pizza</td><td>pzz</td><td>NULL</td><td>8</td><td>manzana</td><td>man</td><td>NULL</td></tr>",
                            "<tr><td>9</td><td>Combo Fiesta</td><td>CF</td><td>{&quot;cantidad&quot;: 3, &quot;dimension&quot;: [10, 4, 40], &quot;productos&quot;: [&quot;pizza&quot;, &quot;burrito&quot;, &quot;quesadilla&quot;, &quot;calzone&quot;]}</td><td>9</td><td>pera</td><td>per</td><td>NULL</td></tr>",
                            "<tr><td>8</td><td>MIx Pack</td><td>MIX</td><td>{&quot;cantidad&quot;: 2, &quot;dimension&quot;: [5, 10, 20], &quot;productos&quot;: [&quot;pizza&quot;, &quot;burrito&quot;]}</td><td>9</td><td>pera</td><td>per</td><td>NULL</td></tr>",
                            "<tr><td>7</td><td>Burrito</td><td>brr</td><td>NULL</td><td>9</td><td>pera</td><td>per</td><td>NULL</td></tr>",
                            "<tr><td>6</td><td>Pizza</td><td>pzz</td><td>NULL</td><td>9</td><td>pera</td><td>per</td><td>NULL</td></tr>",
                            "<tr><td>5</td><td>Pizza</td><td>pzz</td><td>NULL</td><td>9</td><td>pera</td><td>per</td><td>NULL</td></tr>",
                            "<tr><td>4</td><td>Burrito</td><td>brr</td><td>NULL</td><td>9</td><td>pera</td><td>per</td><td>NULL</td></tr>",
                            "<tr><td>3</td><td>Quesadilla</td><td>qsd</td><td>NULL</td><td>9</td><td>pera</td><td>per</td><td>NULL</td></tr>",
                            "<tr><td>2</td><td>Calzone</td><td>clz</td><td>NULL</td><td>9</td><td>pera</td><td>per</td><td>NULL</td></tr>",
                            "<tr><td>1</td><td>Pizza</td><td>pzz</td><td>NULL</td><td>9</td><td>pera</td><td>per</td><td>NULL</td></tr>",
                            "</table>"
                        ]
                    }
                }
            ],
            "execution_count": 27
        }
    ]
}