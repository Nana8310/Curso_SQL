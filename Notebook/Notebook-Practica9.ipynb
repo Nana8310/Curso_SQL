{
    "metadata": {
        "kernelspec": {
            "name": "SQL",
            "display_name": "SQL",
            "language": "sql"
        },
        "language_info": {
            "name": "sql",
            "version": ""
        }
    },
    "nbformat_minor": 2,
    "nbformat": 4,
    "cells": [
        {
            "cell_type": "markdown",
            "source": [
                "# Práctica 9 -  Agregaciones"
            ],
            "metadata": {
                "azdata_cell_guid": "b2133633-b3b0-44d2-9730-c7f4cb4c9414"
            },
            "attachments": {}
        },
        {
            "cell_type": "markdown",
            "source": [
                "## Se tiene que entregar un informe por cliente donde entregues la siguiente información:"
            ],
            "metadata": {
                "azdata_cell_guid": "72ef3449-99b2-4e95-9d78-251053853a29"
            },
            "attachments": {}
        },
        {
            "cell_type": "markdown",
            "source": [
                "### **1. ¿Cuál cliente realizó la compra máxima en el año 2018?**"
            ],
            "metadata": {
                "azdata_cell_guid": "0a08074e-e0a9-47b7-ac1a-c41f335ac83e"
            },
            "attachments": {}
        },
        {
            "cell_type": "code",
            "source": [
                "SELECT v.ID_Cliente, c.Nombre, MAX(v.Venta) AS MaxVenta\r\n",
                "FROM ventas v\r\n",
                "INNER JOIN clientes c ON v.ID_Cliente = c.ID_Cliente\r\n",
                "WHERE Fecha_venta LIKE '%18'\r\n",
                "GROUP BY c.Nombre,v.ID_Cliente\r\n",
                "LIMIT 1;"
            ],
            "metadata": {
                "azdata_cell_guid": "b6900105-af29-4a2a-999e-be4b276d2242",
                "language": "sql"
            },
            "outputs": [
                {
                    "output_type": "display_data",
                    "data": {
                        "text/html": "(1 row(s) affected)"
                    },
                    "metadata": {}
                },
                {
                    "output_type": "display_data",
                    "data": {
                        "text/html": "Total execution time: 00:00:01.062"
                    },
                    "metadata": {}
                },
                {
                    "output_type": "execute_result",
                    "execution_count": 40,
                    "data": {
                        "application/vnd.dataresource+json": {
                            "schema": {
                                "fields": [
                                    {
                                        "name": "ID_Cliente"
                                    },
                                    {
                                        "name": "Nombre"
                                    },
                                    {
                                        "name": "MaxVenta"
                                    }
                                ]
                            },
                            "data": [
                                {
                                    "ID_Cliente": "8",
                                    "Nombre": "Too & A",
                                    "MaxVenta": "2977318"
                                }
                            ]
                        },
                        "text/html": "<table><tr><th>ID_Cliente</th><th>Nombre</th><th>MaxVenta</th></tr><tr><td>8</td><td>Too &amp; A</td><td>2977318</td></tr></table>"
                    },
                    "metadata": {}
                }
            ],
            "execution_count": 40
        },
        {
            "cell_type": "markdown",
            "source": [
                "### **2. ¿Cuál fue el pago menor que recibimos en el año 2018?**"
            ],
            "metadata": {
                "azdata_cell_guid": "6444333b-a105-4f0c-b316-30d1caf60a8e"
            },
            "attachments": {}
        },
        {
            "cell_type": "code",
            "source": [
                "SELECT id_pago,fecha_pago, MIN(pago) AS MinPago\r\n",
                "FROM pagos\r\n",
                "WHERE fecha_pago LIKE '%2018'\r\n",
                "GROUP BY id_pago, fecha_pago\r\n",
                "ORDER BY MinPago ASC\r\n",
                "LIMIT 1;"
            ],
            "metadata": {
                "azdata_cell_guid": "a03188a0-a323-4d77-be77-e300fca24a8b",
                "language": "sql"
            },
            "outputs": [
                {
                    "output_type": "display_data",
                    "data": {
                        "text/html": "(1 row(s) affected)"
                    },
                    "metadata": {}
                },
                {
                    "output_type": "display_data",
                    "data": {
                        "text/html": "Total execution time: 00:00:01.032"
                    },
                    "metadata": {}
                },
                {
                    "output_type": "execute_result",
                    "execution_count": 15,
                    "data": {
                        "application/vnd.dataresource+json": {
                            "schema": {
                                "fields": [
                                    {
                                        "name": "id_pago"
                                    },
                                    {
                                        "name": "fecha_pago"
                                    },
                                    {
                                        "name": "MinPago"
                                    }
                                ]
                            },
                            "data": [
                                {
                                    "id_pago": "25676",
                                    "fecha_pago": "20/11/2018",
                                    "MinPago": "7441"
                                }
                            ]
                        },
                        "text/html": "<table><tr><th>id_pago</th><th>fecha_pago</th><th>MinPago</th></tr><tr><td>25676</td><td>20/11/2018</td><td>7441</td></tr></table>"
                    },
                    "metadata": {}
                }
            ],
            "execution_count": 15
        },
        {
            "cell_type": "markdown",
            "source": [
                "### **3. ¿Cuántas ventas se lograron en el 2do semestre del año 2018?**"
            ],
            "metadata": {
                "azdata_cell_guid": "0a95ce09-6c3b-4601-9aea-47b801c69e3b"
            },
            "attachments": {}
        },
        {
            "cell_type": "code",
            "source": [
                "SELECT COUNT(id_pago) AS NumVtas,SUM(pago) AS TotalVtas \r\n",
                "FROM pagos\r\n",
                "WHERE fecha_pago BETWEEN '01-07-2018' AND '31-12-2018';"
            ],
            "metadata": {
                "azdata_cell_guid": "8d7a38db-d7b5-4771-8409-7d85eb80f215",
                "language": "sql"
            },
            "outputs": [
                {
                    "output_type": "display_data",
                    "data": {
                        "text/html": "(1 row(s) affected)"
                    },
                    "metadata": {}
                },
                {
                    "output_type": "display_data",
                    "data": {
                        "text/html": "Total execution time: 00:00:01.025"
                    },
                    "metadata": {}
                },
                {
                    "output_type": "execute_result",
                    "execution_count": 19,
                    "data": {
                        "application/vnd.dataresource+json": {
                            "schema": {
                                "fields": [
                                    {
                                        "name": "NumVtas"
                                    },
                                    {
                                        "name": "TotalVtas"
                                    }
                                ]
                            },
                            "data": [
                                {
                                    "NumVtas": "26165",
                                    "TotalVtas": "377894134327"
                                }
                            ]
                        },
                        "text/html": "<table><tr><th>NumVtas</th><th>TotalVtas</th></tr><tr><td>26165</td><td>377894134327</td></tr></table>"
                    },
                    "metadata": {}
                }
            ],
            "execution_count": 19
        },
        {
            "cell_type": "markdown",
            "source": [
                "# **Resumir on GROUP BY**"
            ],
            "metadata": {
                "azdata_cell_guid": "645a78f9-efb4-4de9-860d-382258cc4d1d"
            },
            "attachments": {}
        },
        {
            "cell_type": "markdown",
            "source": [
                "## <span style=\"color: var(--vscode-foreground);\">Genera una vista para entregar el informe que contenga:</span>"
            ],
            "metadata": {
                "azdata_cell_guid": "558226f2-4c27-437d-8afc-39754f4ce31f"
            },
            "attachments": {}
        },
        {
            "cell_type": "markdown",
            "source": [
                "### **4. Las ventas por vendendor**"
            ],
            "metadata": {
                "azdata_cell_guid": "793b42a7-7afe-4791-a958-a48f6a41886c"
            },
            "attachments": {}
        },
        {
            "cell_type": "code",
            "source": [
                "SELECT ve.ID_Vendedor, ve.Nombre, SUM(v.Venta) AS TotalVtas\r\n",
                "FROM ventas v\r\n",
                "JOIN vendedor ve ON v.ID_Vendedor = ve.ID_Vendedor\r\n",
                "GROUP BY ve.ID_Vendedor, ve.Nombre\r\n",
                "ORDER BY ve.Nombre;"
            ],
            "metadata": {
                "azdata_cell_guid": "f1c45a33-8039-4b8d-89c9-c5bc4af715cd",
                "language": "sql"
            },
            "outputs": [
                {
                    "output_type": "display_data",
                    "data": {
                        "text/html": "(47 row(s) affected)"
                    },
                    "metadata": {}
                },
                {
                    "output_type": "display_data",
                    "data": {
                        "text/html": "Total execution time: 00:00:01.016"
                    },
                    "metadata": {}
                },
                {
                    "output_type": "execute_result",
                    "metadata": {},
                    "execution_count": 7,
                    "data": {
                        "application/vnd.dataresource+json": {
                            "schema": {
                                "fields": [
                                    {
                                        "name": "ID_Vendedor"
                                    },
                                    {
                                        "name": "Nombre"
                                    },
                                    {
                                        "name": "TotalVtas"
                                    }
                                ]
                            },
                            "data": [
                                {
                                    "ID_Vendedor": "30",
                                    "Nombre": "ADRIAN",
                                    "TotalVtas": "89162037"
                                },
                                {
                                    "ID_Vendedor": "14",
                                    "Nombre": "ALEJANDRO",
                                    "TotalVtas": "69740587"
                                },
                                {
                                    "ID_Vendedor": "29",
                                    "Nombre": "ALVARO",
                                    "TotalVtas": "69379999"
                                },
                                {
                                    "ID_Vendedor": "19",
                                    "Nombre": "ANA",
                                    "TotalVtas": "88389747"
                                },
                                {
                                    "ID_Vendedor": "40",
                                    "Nombre": "ANA BELEN",
                                    "TotalVtas": "91249412"
                                },
                                {
                                    "ID_Vendedor": "27",
                                    "Nombre": "ANTONIA",
                                    "TotalVtas": "88585429"
                                },
                                {
                                    "ID_Vendedor": "1",
                                    "Nombre": "ANTONIO",
                                    "TotalVtas": "95150197"
                                },
                                {
                                    "ID_Vendedor": "12",
                                    "Nombre": "CARLOS",
                                    "TotalVtas": "86118744"
                                },
                                {
                                    "ID_Vendedor": "20",
                                    "Nombre": "CRISTINA",
                                    "TotalVtas": "97718312"
                                },
                                {
                                    "ID_Vendedor": "9",
                                    "Nombre": "DANIEL",
                                    "TotalVtas": "94582814"
                                },
                                {
                                    "ID_Vendedor": "38",
                                    "Nombre": "DANIELA",
                                    "TotalVtas": "99072132"
                                },
                                {
                                    "ID_Vendedor": "5",
                                    "Nombre": "DAVID",
                                    "TotalVtas": "92304582"
                                },
                                {
                                    "ID_Vendedor": "28",
                                    "Nombre": "DOLORES",
                                    "TotalVtas": "81159015"
                                },
                                {
                                    "ID_Vendedor": "46",
                                    "Nombre": "EDUARDO",
                                    "TotalVtas": "84003234"
                                },
                                {
                                    "ID_Vendedor": "34",
                                    "Nombre": "EVA MARIA",
                                    "TotalVtas": "80624293"
                                },
                                {
                                    "ID_Vendedor": "23",
                                    "Nombre": "FRANCISCA",
                                    "TotalVtas": "72033306"
                                },
                                {
                                    "ID_Vendedor": "4",
                                    "Nombre": "FRANCISCO",
                                    "TotalVtas": "74757044"
                                },
                                {
                                    "ID_Vendedor": "11",
                                    "Nombre": "FRANCISCO JAVIER",
                                    "TotalVtas": "65399987"
                                },
                                {
                                    "ID_Vendedor": "35",
                                    "Nombre": "INES",
                                    "TotalVtas": "68101597"
                                },
                                {
                                    "ID_Vendedor": "49",
                                    "Nombre": "JAIME",
                                    "TotalVtas": "69999373"
                                },
                                {
                                    "ID_Vendedor": "8",
                                    "Nombre": "JAVIER",
                                    "TotalVtas": "66169369"
                                },
                                {
                                    "ID_Vendedor": "13",
                                    "Nombre": "JESUS",
                                    "TotalVtas": "78039593"
                                },
                                {
                                    "ID_Vendedor": "43",
                                    "Nombre": "JOAQUIN",
                                    "TotalVtas": "85439744"
                                },
                                {
                                    "ID_Vendedor": "3",
                                    "Nombre": "JOSE",
                                    "TotalVtas": "79989761"
                                },
                                {
                                    "ID_Vendedor": "7",
                                    "Nombre": "JOSE ANTONIO",
                                    "TotalVtas": "69182973"
                                },
                                {
                                    "ID_Vendedor": "10",
                                    "Nombre": "JOSE LUIS",
                                    "TotalVtas": "80822678"
                                },
                                {
                                    "ID_Vendedor": "6",
                                    "Nombre": "JUAN",
                                    "TotalVtas": "97930137"
                                },
                                {
                                    "ID_Vendedor": "31",
                                    "Nombre": "JUAN JOSE",
                                    "TotalVtas": "94260376"
                                },
                                {
                                    "ID_Vendedor": "42",
                                    "Nombre": "JUAN MANUEL",
                                    "TotalVtas": "87253941"
                                },
                                {
                                    "ID_Vendedor": "17",
                                    "Nombre": "LAURA",
                                    "TotalVtas": "65294584"
                                },
                                {
                                    "ID_Vendedor": "39",
                                    "Nombre": "LORENA",
                                    "TotalVtas": "85708566"
                                },
                                {
                                    "ID_Vendedor": "24",
                                    "Nombre": "LUCIA",
                                    "TotalVtas": "76008590"
                                },
                                {
                                    "ID_Vendedor": "2",
                                    "Nombre": "MANUEL",
                                    "TotalVtas": "89724463"
                                },
                                {
                                    "ID_Vendedor": "22",
                                    "Nombre": "MARIA ANGELES",
                                    "TotalVtas": "70997832"
                                },
                                {
                                    "ID_Vendedor": "16",
                                    "Nombre": "MARIA DOLORES",
                                    "TotalVtas": "66896671"
                                },
                                {
                                    "ID_Vendedor": "41",
                                    "Nombre": "MARIA ELENA",
                                    "TotalVtas": "108125861"
                                },
                                {
                                    "ID_Vendedor": "25",
                                    "Nombre": "MARIA ISABEL",
                                    "TotalVtas": "75193081"
                                },
                                {
                                    "ID_Vendedor": "26",
                                    "Nombre": "MARIA JOSE",
                                    "TotalVtas": "88292608"
                                },
                                {
                                    "ID_Vendedor": "37",
                                    "Nombre": "MARIA ROSA",
                                    "TotalVtas": "75078979"
                                },
                                {
                                    "ID_Vendedor": "18",
                                    "Nombre": "MARIA TERESA",
                                    "TotalVtas": "70605142"
                                },
                                {
                                    "ID_Vendedor": "33",
                                    "Nombre": "MARIA VICTORIA",
                                    "TotalVtas": "78816720"
                                },
                                {
                                    "ID_Vendedor": "47",
                                    "Nombre": "MARIO",
                                    "TotalVtas": "85097744"
                                },
                                {
                                    "ID_Vendedor": "21",
                                    "Nombre": "MARTA",
                                    "TotalVtas": "76810389"
                                },
                                {
                                    "ID_Vendedor": "15",
                                    "Nombre": "MIGUEL",
                                    "TotalVtas": "107346476"
                                },
                                {
                                    "ID_Vendedor": "36",
                                    "Nombre": "MIRIAM",
                                    "TotalVtas": "74039452"
                                },
                                {
                                    "ID_Vendedor": "44",
                                    "Nombre": "SANTIAGO",
                                    "TotalVtas": "87574090"
                                },
                                {
                                    "ID_Vendedor": "45",
                                    "Nombre": "VICTOR",
                                    "TotalVtas": "161068320"
                                }
                            ]
                        },
                        "text/html": [
                            "<table>",
                            "<tr><th>ID_Vendedor</th><th>Nombre</th><th>TotalVtas</th></tr>",
                            "<tr><td>30</td><td>ADRIAN</td><td>89162037</td></tr>",
                            "<tr><td>14</td><td>ALEJANDRO</td><td>69740587</td></tr>",
                            "<tr><td>29</td><td>ALVARO</td><td>69379999</td></tr>",
                            "<tr><td>19</td><td>ANA</td><td>88389747</td></tr>",
                            "<tr><td>40</td><td>ANA BELEN</td><td>91249412</td></tr>",
                            "<tr><td>27</td><td>ANTONIA</td><td>88585429</td></tr>",
                            "<tr><td>1</td><td>ANTONIO</td><td>95150197</td></tr>",
                            "<tr><td>12</td><td>CARLOS</td><td>86118744</td></tr>",
                            "<tr><td>20</td><td>CRISTINA</td><td>97718312</td></tr>",
                            "<tr><td>9</td><td>DANIEL</td><td>94582814</td></tr>",
                            "<tr><td>38</td><td>DANIELA</td><td>99072132</td></tr>",
                            "<tr><td>5</td><td>DAVID</td><td>92304582</td></tr>",
                            "<tr><td>28</td><td>DOLORES</td><td>81159015</td></tr>",
                            "<tr><td>46</td><td>EDUARDO</td><td>84003234</td></tr>",
                            "<tr><td>34</td><td>EVA MARIA</td><td>80624293</td></tr>",
                            "<tr><td>23</td><td>FRANCISCA</td><td>72033306</td></tr>",
                            "<tr><td>4</td><td>FRANCISCO</td><td>74757044</td></tr>",
                            "<tr><td>11</td><td>FRANCISCO JAVIER</td><td>65399987</td></tr>",
                            "<tr><td>35</td><td>INES</td><td>68101597</td></tr>",
                            "<tr><td>49</td><td>JAIME</td><td>69999373</td></tr>",
                            "<tr><td>8</td><td>JAVIER</td><td>66169369</td></tr>",
                            "<tr><td>13</td><td>JESUS</td><td>78039593</td></tr>",
                            "<tr><td>43</td><td>JOAQUIN</td><td>85439744</td></tr>",
                            "<tr><td>3</td><td>JOSE</td><td>79989761</td></tr>",
                            "<tr><td>7</td><td>JOSE ANTONIO</td><td>69182973</td></tr>",
                            "<tr><td>10</td><td>JOSE LUIS</td><td>80822678</td></tr>",
                            "<tr><td>6</td><td>JUAN</td><td>97930137</td></tr>",
                            "<tr><td>31</td><td>JUAN JOSE</td><td>94260376</td></tr>",
                            "<tr><td>42</td><td>JUAN MANUEL</td><td>87253941</td></tr>",
                            "<tr><td>17</td><td>LAURA</td><td>65294584</td></tr>",
                            "<tr><td>39</td><td>LORENA</td><td>85708566</td></tr>",
                            "<tr><td>24</td><td>LUCIA</td><td>76008590</td></tr>",
                            "<tr><td>2</td><td>MANUEL</td><td>89724463</td></tr>",
                            "<tr><td>22</td><td>MARIA ANGELES</td><td>70997832</td></tr>",
                            "<tr><td>16</td><td>MARIA DOLORES</td><td>66896671</td></tr>",
                            "<tr><td>41</td><td>MARIA ELENA</td><td>108125861</td></tr>",
                            "<tr><td>25</td><td>MARIA ISABEL</td><td>75193081</td></tr>",
                            "<tr><td>26</td><td>MARIA JOSE</td><td>88292608</td></tr>",
                            "<tr><td>37</td><td>MARIA ROSA</td><td>75078979</td></tr>",
                            "<tr><td>18</td><td>MARIA TERESA</td><td>70605142</td></tr>",
                            "<tr><td>33</td><td>MARIA VICTORIA</td><td>78816720</td></tr>",
                            "<tr><td>47</td><td>MARIO</td><td>85097744</td></tr>",
                            "<tr><td>21</td><td>MARTA</td><td>76810389</td></tr>",
                            "<tr><td>15</td><td>MIGUEL</td><td>107346476</td></tr>",
                            "<tr><td>36</td><td>MIRIAM</td><td>74039452</td></tr>",
                            "<tr><td>44</td><td>SANTIAGO</td><td>87574090</td></tr>",
                            "<tr><td>45</td><td>VICTOR</td><td>161068320</td></tr>",
                            "</table>"
                        ]
                    }
                }
            ],
            "execution_count": 7
        },
        {
            "cell_type": "markdown",
            "source": [
                "### **5. Ventas por producto**"
            ],
            "metadata": {
                "azdata_cell_guid": "814eed9f-2886-48bf-84d3-f856e3cbd8ce"
            },
            "attachments": {}
        },
        {
            "cell_type": "code",
            "source": [
                "SELECT v.ID_Producto,p.Producto,SUM(v.Venta) AS TtalVenPro\r\n",
                "FROM ventas v \r\n",
                "JOIN producto p ON p.ID_Producto = v.ID_Producto\r\n",
                "GROUP BY v.ID_Producto,p.Producto\r\n",
                "ORDER BY p.Producto;"
            ],
            "metadata": {
                "azdata_cell_guid": "db5adfb9-03b9-40c7-9971-08c782da6e0d",
                "language": "sql",
                "tags": []
            },
            "outputs": [
                {
                    "output_type": "display_data",
                    "data": {
                        "text/html": "(7 row(s) affected)"
                    },
                    "metadata": {}
                },
                {
                    "output_type": "display_data",
                    "data": {
                        "text/html": "Total execution time: 00:00:01.018"
                    },
                    "metadata": {}
                },
                {
                    "output_type": "execute_result",
                    "metadata": {},
                    "execution_count": 10,
                    "data": {
                        "application/vnd.dataresource+json": {
                            "schema": {
                                "fields": [
                                    {
                                        "name": "ID_Producto"
                                    },
                                    {
                                        "name": "Producto"
                                    },
                                    {
                                        "name": "TtalVenPro"
                                    }
                                ]
                            },
                            "data": [
                                {
                                    "ID_Producto": "6",
                                    "Producto": "Consultorio",
                                    "TtalVenPro": "596576595"
                                },
                                {
                                    "ID_Producto": "5",
                                    "Producto": "Isla",
                                    "TtalVenPro": "617630579"
                                },
                                {
                                    "ID_Producto": "3",
                                    "Producto": "Local",
                                    "TtalVenPro": "558719228"
                                },
                                {
                                    "ID_Producto": "4",
                                    "Producto": "Nave",
                                    "TtalVenPro": "1061183896"
                                },
                                {
                                    "ID_Producto": "2",
                                    "Producto": "Oficina",
                                    "TtalVenPro": "564420826"
                                },
                                {
                                    "ID_Producto": "7",
                                    "Producto": "Remates",
                                    "TtalVenPro": "36759596"
                                },
                                {
                                    "ID_Producto": "1",
                                    "Producto": "Terreno",
                                    "TtalVenPro": "577282718"
                                }
                            ]
                        },
                        "text/html": [
                            "<table>",
                            "<tr><th>ID_Producto</th><th>Producto</th><th>TtalVenPro</th></tr>",
                            "<tr><td>6</td><td>Consultorio</td><td>596576595</td></tr>",
                            "<tr><td>5</td><td>Isla</td><td>617630579</td></tr>",
                            "<tr><td>3</td><td>Local</td><td>558719228</td></tr>",
                            "<tr><td>4</td><td>Nave</td><td>1061183896</td></tr>",
                            "<tr><td>2</td><td>Oficina</td><td>564420826</td></tr>",
                            "<tr><td>7</td><td>Remates</td><td>36759596</td></tr>",
                            "<tr><td>1</td><td>Terreno</td><td>577282718</td></tr>",
                            "</table>"
                        ]
                    }
                }
            ],
            "execution_count": 10
        },
        {
            "cell_type": "markdown",
            "source": [
                "### **6. Resumen de compras por cliente en 2017**"
            ],
            "metadata": {
                "azdata_cell_guid": "dd50b4e9-4ec1-42ff-999e-05dfd6a3f522"
            },
            "attachments": {}
        },
        {
            "cell_type": "code",
            "source": [
                "SELECT c.Nombre, SUM(v.Venta) AS TotalCompras\r\n",
                "FROM ventas v\r\n",
                "INNER JOIN clientes c ON v.ID_Cliente = c.ID_Cliente\r\n",
                "WHERE LEFT(Fecha_venta, 2) = '17'\r\n",
                "GROUP BY c.Nombre;"
            ],
            "metadata": {
                "azdata_cell_guid": "6ef12e21-0e15-4e57-84c9-db49c0726e74",
                "language": "sql"
            },
            "outputs": [
                {
                    "output_type": "display_data",
                    "data": {
                        "text/html": "(10 row(s) affected)"
                    },
                    "metadata": {}
                },
                {
                    "output_type": "display_data",
                    "data": {
                        "text/html": "Total execution time: 00:00:01.011"
                    },
                    "metadata": {}
                },
                {
                    "output_type": "execute_result",
                    "metadata": {},
                    "execution_count": 21,
                    "data": {
                        "application/vnd.dataresource+json": {
                            "schema": {
                                "fields": [
                                    {
                                        "name": "Nombre"
                                    },
                                    {
                                        "name": "TotalCompras"
                                    }
                                ]
                            },
                            "data": [
                                {
                                    "Nombre": "Honduland",
                                    "TotalCompras": "16715098"
                                },
                                {
                                    "Nombre": "Mart B & C",
                                    "TotalCompras": "22587913"
                                },
                                {
                                    "Nombre": "Bienestar Land",
                                    "TotalCompras": "20057540"
                                },
                                {
                                    "Nombre": "Tierra y Paz",
                                    "TotalCompras": "7083835"
                                },
                                {
                                    "Nombre": "Bienes de Occidente",
                                    "TotalCompras": "10342840"
                                },
                                {
                                    "Nombre": "JKP Asesores",
                                    "TotalCompras": "9237873"
                                },
                                {
                                    "Nombre": "Too & A",
                                    "TotalCompras": "13114909"
                                },
                                {
                                    "Nombre": "Pacifico Norte & CO",
                                    "TotalCompras": "13981369"
                                },
                                {
                                    "Nombre": "The LandLord",
                                    "TotalCompras": "16174184"
                                },
                                {
                                    "Nombre": "Agora e Tudo MM",
                                    "TotalCompras": "17216209"
                                }
                            ]
                        },
                        "text/html": [
                            "<table>",
                            "<tr><th>Nombre</th><th>TotalCompras</th></tr>",
                            "<tr><td>Honduland</td><td>16715098</td></tr>",
                            "<tr><td>Mart B &amp; C</td><td>22587913</td></tr>",
                            "<tr><td>Bienestar Land</td><td>20057540</td></tr>",
                            "<tr><td>Tierra y Paz</td><td>7083835</td></tr>",
                            "<tr><td>Bienes de Occidente</td><td>10342840</td></tr>",
                            "<tr><td>JKP Asesores</td><td>9237873</td></tr>",
                            "<tr><td>Too &amp; A</td><td>13114909</td></tr>",
                            "<tr><td>Pacifico Norte &amp; CO</td><td>13981369</td></tr>",
                            "<tr><td>The LandLord</td><td>16174184</td></tr>",
                            "<tr><td>Agora e Tudo MM</td><td>17216209</td></tr>",
                            "</table>"
                        ]
                    }
                }
            ],
            "execution_count": 21
        },
        {
            "cell_type": "markdown",
            "source": [
                "# **Having**"
            ],
            "metadata": {
                "azdata_cell_guid": "87c9164e-c69e-45c4-a1f0-2367249b9ce3"
            },
            "attachments": {}
        },
        {
            "cell_type": "markdown",
            "source": [
                "## **Tomando en cuenta el ejercicio anterior:**"
            ],
            "metadata": {
                "azdata_cell_guid": "72aac73e-6c28-49f2-80da-b914a74aec6f"
            },
            "attachments": {}
        },
        {
            "cell_type": "markdown",
            "source": [
                "### **7. Resumen de compras por cliente en 2017 que hayan sido mayores a 150000**"
            ],
            "metadata": {
                "azdata_cell_guid": "6109c9c2-b981-4629-bfb0-3f6e15b1c12f"
            },
            "attachments": {}
        },
        {
            "cell_type": "code",
            "source": [
                "SELECT c.Nombre, SUM(v.Venta) AS TotalCompras\r\n",
                "FROM ventas v\r\n",
                "INNER JOIN clientes c ON v.ID_Cliente = c.ID_Cliente\r\n",
                "WHERE LEFT(Fecha_venta, 2) = '17'\r\n",
                "GROUP BY c.Nombre\r\n",
                "HAVING SUM(v.Venta) > 150000;"
            ],
            "metadata": {
                "azdata_cell_guid": "b96ce058-4ed5-4ed8-97b7-9138a68987ed",
                "language": "sql"
            },
            "outputs": [
                {
                    "output_type": "display_data",
                    "data": {
                        "text/html": "(10 row(s) affected)"
                    },
                    "metadata": {}
                },
                {
                    "output_type": "display_data",
                    "data": {
                        "text/html": "Total execution time: 00:00:01.017"
                    },
                    "metadata": {}
                },
                {
                    "output_type": "execute_result",
                    "metadata": {},
                    "execution_count": 23,
                    "data": {
                        "application/vnd.dataresource+json": {
                            "schema": {
                                "fields": [
                                    {
                                        "name": "Nombre"
                                    },
                                    {
                                        "name": "TotalCompras"
                                    }
                                ]
                            },
                            "data": [
                                {
                                    "Nombre": "Honduland",
                                    "TotalCompras": "16715098"
                                },
                                {
                                    "Nombre": "Mart B & C",
                                    "TotalCompras": "22587913"
                                },
                                {
                                    "Nombre": "Bienestar Land",
                                    "TotalCompras": "20057540"
                                },
                                {
                                    "Nombre": "Tierra y Paz",
                                    "TotalCompras": "7083835"
                                },
                                {
                                    "Nombre": "Bienes de Occidente",
                                    "TotalCompras": "10342840"
                                },
                                {
                                    "Nombre": "JKP Asesores",
                                    "TotalCompras": "9237873"
                                },
                                {
                                    "Nombre": "Too & A",
                                    "TotalCompras": "13114909"
                                },
                                {
                                    "Nombre": "Pacifico Norte & CO",
                                    "TotalCompras": "13981369"
                                },
                                {
                                    "Nombre": "The LandLord",
                                    "TotalCompras": "16174184"
                                },
                                {
                                    "Nombre": "Agora e Tudo MM",
                                    "TotalCompras": "17216209"
                                }
                            ]
                        },
                        "text/html": [
                            "<table>",
                            "<tr><th>Nombre</th><th>TotalCompras</th></tr>",
                            "<tr><td>Honduland</td><td>16715098</td></tr>",
                            "<tr><td>Mart B &amp; C</td><td>22587913</td></tr>",
                            "<tr><td>Bienestar Land</td><td>20057540</td></tr>",
                            "<tr><td>Tierra y Paz</td><td>7083835</td></tr>",
                            "<tr><td>Bienes de Occidente</td><td>10342840</td></tr>",
                            "<tr><td>JKP Asesores</td><td>9237873</td></tr>",
                            "<tr><td>Too &amp; A</td><td>13114909</td></tr>",
                            "<tr><td>Pacifico Norte &amp; CO</td><td>13981369</td></tr>",
                            "<tr><td>The LandLord</td><td>16174184</td></tr>",
                            "<tr><td>Agora e Tudo MM</td><td>17216209</td></tr>",
                            "</table>"
                        ]
                    }
                }
            ],
            "execution_count": 23
        },
        {
            "cell_type": "markdown",
            "source": [
                "# **Extra**"
            ],
            "metadata": {
                "language": "sql",
                "azdata_cell_guid": "a6ce9855-33af-4337-8a39-0c20128a6e96"
            },
            "attachments": {}
        },
        {
            "cell_type": "markdown",
            "source": [
                "### **8. Proporcione la lista de los clientes morosos**"
            ],
            "metadata": {
                "language": "sql",
                "azdata_cell_guid": "c20f5934-fd10-4388-9562-0af32d4ae437"
            },
            "attachments": {}
        },
        {
            "cell_type": "code",
            "source": [
                "SELECT c.Nombre,\r\n",
                "       SUM(v.Venta) AS TotalVentas,\r\n",
                "       SUM(p.Pago) AS TotalPagos,\r\n",
                "       SUM(v.Venta) - SUM(p.Pago) AS MontoPendiente\r\n",
                "FROM Clientes c\r\n",
                "LEFT JOIN Ventas v ON c.ID_Cliente = v.ID_Cliente\r\n",
                "LEFT JOIN Pagos p ON v.ID_Venta = p.ID_Venta\r\n",
                "GROUP BY c.Nombre\r\n",
                "HAVING SUM(v.Venta) > SUM(p.Pago);"
            ],
            "metadata": {
                "language": "sql",
                "azdata_cell_guid": "60fcc87b-8b1b-433c-9de9-0303c1c7c4cc"
            },
            "outputs": [
                {
                    "output_type": "display_data",
                    "data": {
                        "text/html": "(0 row(s) affected)"
                    },
                    "metadata": {}
                },
                {
                    "output_type": "display_data",
                    "data": {
                        "text/html": "Total execution time: 00:00:01.028"
                    },
                    "metadata": {}
                },
                {
                    "output_type": "execute_result",
                    "metadata": {},
                    "execution_count": 32,
                    "data": {
                        "application/vnd.dataresource+json": {
                            "schema": {
                                "fields": [
                                    {
                                        "name": "Nombre"
                                    },
                                    {
                                        "name": "TotalVentas"
                                    },
                                    {
                                        "name": "TotalPagos"
                                    },
                                    {
                                        "name": "MontoPendiente"
                                    }
                                ]
                            },
                            "data": []
                        },
                        "text/html": [
                            "<table>",
                            "<tr><th>Nombre</th><th>TotalVentas</th><th>TotalPagos</th><th>MontoPendiente</th></tr>",
                            "</table>"
                        ]
                    }
                }
            ],
            "execution_count": 32
        }
    ]
}