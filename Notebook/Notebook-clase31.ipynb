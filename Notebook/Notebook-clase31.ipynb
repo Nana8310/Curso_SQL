{
    "metadata": {
        "kernelspec": {
            "name": "SQL",
            "display_name": "SQL",
            "language": "sql"
        },
        "language_info": {
            "name": "sql",
            "version": ""
        }
    },
    "nbformat_minor": 2,
    "nbformat": 4,
    "cells": [
        {
            "cell_type": "markdown",
            "source": [
                "# **Clase 31**\n",
                "\n",
                "**Cláusulas**\n",
                "\n",
                "**USE; conectarte a la bbd o SCHEMA**"
            ],
            "metadata": {
                "azdata_cell_guid": "ec4dba39-afc6-4317-8dea-82709e395a1a"
            },
            "attachments": {}
        },
        {
            "cell_type": "code",
            "source": [
                "USE datos"
            ],
            "metadata": {
                "azdata_cell_guid": "47b68399-a753-4697-9f96-49ec31a39de9",
                "language": "sql"
            },
            "outputs": [
                {
                    "output_type": "display_data",
                    "data": {
                        "text/html": "Commands completed successfully"
                    },
                    "metadata": {}
                },
                {
                    "output_type": "display_data",
                    "data": {
                        "text/html": "Total execution time: 00:00:00.008"
                    },
                    "metadata": {}
                }
            ],
            "execution_count": 1
        },
        {
            "cell_type": "markdown",
            "source": [
                "SELECT: permite seleccionar datos de tablas"
            ],
            "metadata": {
                "azdata_cell_guid": "c91f5038-3ad6-4c7c-bac8-f18118540fd6"
            },
            "attachments": {}
        },
        {
            "cell_type": "code",
            "source": [
                "SELECT * \r\n",
                "FROM ventas"
            ],
            "metadata": {
                "azdata_cell_guid": "d3424060-135c-4de7-bd5f-4746de2e1655",
                "language": "sql"
            },
            "outputs": [
                {
                    "output_type": "display_data",
                    "data": {
                        "text/html": "(22 row(s) affected)"
                    },
                    "metadata": {}
                },
                {
                    "output_type": "display_data",
                    "data": {
                        "text/html": "Total execution time: 00:00:01.041"
                    },
                    "metadata": {}
                },
                {
                    "output_type": "execute_result",
                    "execution_count": 2,
                    "data": {
                        "application/vnd.dataresource+json": {
                            "schema": {
                                "fields": [
                                    {
                                        "name": "ventas_id"
                                    },
                                    {
                                        "name": "Fecha"
                                    },
                                    {
                                        "name": "ID_local"
                                    },
                                    {
                                        "name": "clave_producto"
                                    },
                                    {
                                        "name": "venta"
                                    },
                                    {
                                        "name": "venta_empleado"
                                    }
                                ]
                            },
                            "data": [
                                {
                                    "ventas_id": "1",
                                    "Fecha": "2018-11-18 00:00:00",
                                    "ID_local": "2",
                                    "clave_producto": "pzz",
                                    "venta": "1302",
                                    "venta_empleado": "2630867"
                                },
                                {
                                    "ventas_id": "2",
                                    "Fecha": "2018-09-17 00:00:00",
                                    "ID_local": "2",
                                    "clave_producto": "clz",
                                    "venta": "953",
                                    "venta_empleado": "2310967"
                                },
                                {
                                    "ventas_id": "3",
                                    "Fecha": "2018-10-18 00:00:00",
                                    "ID_local": "4",
                                    "clave_producto": "brr",
                                    "venta": "1286",
                                    "venta_empleado": "6931035"
                                },
                                {
                                    "ventas_id": "4",
                                    "Fecha": "2018-10-30 00:00:00",
                                    "ID_local": "1",
                                    "clave_producto": "brr",
                                    "venta": "889",
                                    "venta_empleado": "9922377"
                                },
                                {
                                    "ventas_id": "5",
                                    "Fecha": "2018-05-16 00:00:00",
                                    "ID_local": "1",
                                    "clave_producto": "qsd",
                                    "venta": "495",
                                    "venta_empleado": "2520477"
                                },
                                {
                                    "ventas_id": "6",
                                    "Fecha": "2018-12-15 00:00:00",
                                    "ID_local": "3",
                                    "clave_producto": "pzz",
                                    "venta": "544",
                                    "venta_empleado": "9611338"
                                },
                                {
                                    "ventas_id": "7",
                                    "Fecha": "2018-07-28 00:00:00",
                                    "ID_local": "4",
                                    "clave_producto": "pzz",
                                    "venta": "1444",
                                    "venta_empleado": "6332756"
                                },
                                {
                                    "ventas_id": "8",
                                    "Fecha": "2018-10-05 00:00:00",
                                    "ID_local": "1",
                                    "clave_producto": "pzz",
                                    "venta": "435",
                                    "venta_empleado": "2520477"
                                },
                                {
                                    "ventas_id": "9",
                                    "Fecha": "2018-04-20 00:00:00",
                                    "ID_local": "1",
                                    "clave_producto": "qsd",
                                    "venta": "1203",
                                    "venta_empleado": "9922377"
                                },
                                {
                                    "ventas_id": "10",
                                    "Fecha": "2018-06-08 00:00:00",
                                    "ID_local": "1",
                                    "clave_producto": "brr",
                                    "venta": "1038",
                                    "venta_empleado": "6332756"
                                },
                                {
                                    "ventas_id": "11",
                                    "Fecha": "2018-08-22 00:00:00",
                                    "ID_local": "1",
                                    "clave_producto": "brr",
                                    "venta": "404",
                                    "venta_empleado": "3833745"
                                },
                                {
                                    "ventas_id": "12",
                                    "Fecha": "2019-09-03 00:00:00",
                                    "ID_local": "1",
                                    "clave_producto": "pzz",
                                    "venta": "1362",
                                    "venta_empleado": "5728566"
                                },
                                {
                                    "ventas_id": "13",
                                    "Fecha": "2019-07-16 00:00:00",
                                    "ID_local": "3",
                                    "clave_producto": "qsd",
                                    "venta": "1054",
                                    "venta_empleado": "2310967"
                                },
                                {
                                    "ventas_id": "14",
                                    "Fecha": "2019-08-27 00:00:00",
                                    "ID_local": "3",
                                    "clave_producto": "clz",
                                    "venta": "303",
                                    "venta_empleado": "3833745"
                                },
                                {
                                    "ventas_id": "15",
                                    "Fecha": "2019-12-15 00:00:00",
                                    "ID_local": "1",
                                    "clave_producto": "brr",
                                    "venta": "871",
                                    "venta_empleado": "2520477"
                                },
                                {
                                    "ventas_id": "16",
                                    "Fecha": "2019-07-30 00:00:00",
                                    "ID_local": "3",
                                    "clave_producto": "brr",
                                    "venta": "1062",
                                    "venta_empleado": "5728566"
                                },
                                {
                                    "ventas_id": "17",
                                    "Fecha": "2019-10-25 00:00:00",
                                    "ID_local": "1",
                                    "clave_producto": "pzz",
                                    "venta": "1376",
                                    "venta_empleado": "6332756"
                                },
                                {
                                    "ventas_id": "18",
                                    "Fecha": "2019-12-14 00:00:00",
                                    "ID_local": "3",
                                    "clave_producto": "pzz",
                                    "venta": "957",
                                    "venta_empleado": "2310967"
                                },
                                {
                                    "ventas_id": "19",
                                    "Fecha": "2019-08-14 00:00:00",
                                    "ID_local": "2",
                                    "clave_producto": "clz",
                                    "venta": "972",
                                    "venta_empleado": "2310967"
                                },
                                {
                                    "ventas_id": "20",
                                    "Fecha": "2019-12-01 00:00:00",
                                    "ID_local": "1",
                                    "clave_producto": "pzz",
                                    "venta": "1455",
                                    "venta_empleado": "2310967"
                                },
                                {
                                    "ventas_id": "21",
                                    "Fecha": "2019-06-08 00:00:00",
                                    "ID_local": "4",
                                    "clave_producto": "qsd",
                                    "venta": "497",
                                    "venta_empleado": "5728566"
                                },
                                {
                                    "ventas_id": "22",
                                    "Fecha": "2019-07-25 00:00:00",
                                    "ID_local": "3",
                                    "clave_producto": "clz",
                                    "venta": "1179",
                                    "venta_empleado": "2310967"
                                }
                            ]
                        },
                        "text/html": "<table><tr><th>ventas_id</th><th>Fecha</th><th>ID_local</th><th>clave_producto</th><th>venta</th><th>venta_empleado</th></tr><tr><td>1</td><td>2018-11-18 00:00:00</td><td>2</td><td>pzz</td><td>1302</td><td>2630867</td></tr><tr><td>2</td><td>2018-09-17 00:00:00</td><td>2</td><td>clz</td><td>953</td><td>2310967</td></tr><tr><td>3</td><td>2018-10-18 00:00:00</td><td>4</td><td>brr</td><td>1286</td><td>6931035</td></tr><tr><td>4</td><td>2018-10-30 00:00:00</td><td>1</td><td>brr</td><td>889</td><td>9922377</td></tr><tr><td>5</td><td>2018-05-16 00:00:00</td><td>1</td><td>qsd</td><td>495</td><td>2520477</td></tr><tr><td>6</td><td>2018-12-15 00:00:00</td><td>3</td><td>pzz</td><td>544</td><td>9611338</td></tr><tr><td>7</td><td>2018-07-28 00:00:00</td><td>4</td><td>pzz</td><td>1444</td><td>6332756</td></tr><tr><td>8</td><td>2018-10-05 00:00:00</td><td>1</td><td>pzz</td><td>435</td><td>2520477</td></tr><tr><td>9</td><td>2018-04-20 00:00:00</td><td>1</td><td>qsd</td><td>1203</td><td>9922377</td></tr><tr><td>10</td><td>2018-06-08 00:00:00</td><td>1</td><td>brr</td><td>1038</td><td>6332756</td></tr><tr><td>11</td><td>2018-08-22 00:00:00</td><td>1</td><td>brr</td><td>404</td><td>3833745</td></tr><tr><td>12</td><td>2019-09-03 00:00:00</td><td>1</td><td>pzz</td><td>1362</td><td>5728566</td></tr><tr><td>13</td><td>2019-07-16 00:00:00</td><td>3</td><td>qsd</td><td>1054</td><td>2310967</td></tr><tr><td>14</td><td>2019-08-27 00:00:00</td><td>3</td><td>clz</td><td>303</td><td>3833745</td></tr><tr><td>15</td><td>2019-12-15 00:00:00</td><td>1</td><td>brr</td><td>871</td><td>2520477</td></tr><tr><td>16</td><td>2019-07-30 00:00:00</td><td>3</td><td>brr</td><td>1062</td><td>5728566</td></tr><tr><td>17</td><td>2019-10-25 00:00:00</td><td>1</td><td>pzz</td><td>1376</td><td>6332756</td></tr><tr><td>18</td><td>2019-12-14 00:00:00</td><td>3</td><td>pzz</td><td>957</td><td>2310967</td></tr><tr><td>19</td><td>2019-08-14 00:00:00</td><td>2</td><td>clz</td><td>972</td><td>2310967</td></tr><tr><td>20</td><td>2019-12-01 00:00:00</td><td>1</td><td>pzz</td><td>1455</td><td>2310967</td></tr><tr><td>21</td><td>2019-06-08 00:00:00</td><td>4</td><td>qsd</td><td>497</td><td>5728566</td></tr><tr><td>22</td><td>2019-07-25 00:00:00</td><td>3</td><td>clz</td><td>1179</td><td>2310967</td></tr></table>"
                    },
                    "metadata": {}
                }
            ],
            "execution_count": 2
        },
        {
            "cell_type": "code",
            "source": [
                "SELECT *\r\n",
                "FROM ventas\r\n",
                "WHERE ID_local = 2;\r\n",
                "\r\n",
                "\r\n",
                "SELECT fecha,ventas\r\n",
                "FROM ventas\r\n",
                "WHERE ID_local = 2\r\n",
                "\r\n",
                "\r\n",
                "\r\n",
                "\r\n",
                ""
            ],
            "metadata": {
                "azdata_cell_guid": "3ed390c7-a213-44c2-a450-483176594b59",
                "language": "sql",
                "tags": []
            },
            "outputs": [
                {
                    "output_type": "display_data",
                    "data": {
                        "text/html": "(3 row(s) affected)"
                    },
                    "metadata": {}
                },
                {
                    "output_type": "display_data",
                    "data": {
                        "text/html": "Total execution time: 00:00:01.010"
                    },
                    "metadata": {}
                },
                {
                    "output_type": "execute_result",
                    "execution_count": 8,
                    "data": {
                        "application/vnd.dataresource+json": {
                            "schema": {
                                "fields": [
                                    {
                                        "name": "ventas_id"
                                    },
                                    {
                                        "name": "Fecha"
                                    },
                                    {
                                        "name": "ID_local"
                                    },
                                    {
                                        "name": "clave_producto"
                                    },
                                    {
                                        "name": "venta"
                                    },
                                    {
                                        "name": "venta_empleado"
                                    }
                                ]
                            },
                            "data": [
                                {
                                    "ventas_id": "1",
                                    "Fecha": "2018-11-18 00:00:00",
                                    "ID_local": "2",
                                    "clave_producto": "pzz",
                                    "venta": "1302",
                                    "venta_empleado": "2630867"
                                },
                                {
                                    "ventas_id": "2",
                                    "Fecha": "2018-09-17 00:00:00",
                                    "ID_local": "2",
                                    "clave_producto": "clz",
                                    "venta": "953",
                                    "venta_empleado": "2310967"
                                },
                                {
                                    "ventas_id": "19",
                                    "Fecha": "2019-08-14 00:00:00",
                                    "ID_local": "2",
                                    "clave_producto": "clz",
                                    "venta": "972",
                                    "venta_empleado": "2310967"
                                }
                            ]
                        },
                        "text/html": "<table><tr><th>ventas_id</th><th>Fecha</th><th>ID_local</th><th>clave_producto</th><th>venta</th><th>venta_empleado</th></tr><tr><td>1</td><td>2018-11-18 00:00:00</td><td>2</td><td>pzz</td><td>1302</td><td>2630867</td></tr><tr><td>2</td><td>2018-09-17 00:00:00</td><td>2</td><td>clz</td><td>953</td><td>2310967</td></tr><tr><td>19</td><td>2019-08-14 00:00:00</td><td>2</td><td>clz</td><td>972</td><td>2310967</td></tr></table>"
                    },
                    "metadata": {}
                },
                {
                    "output_type": "error",
                    "ename": "",
                    "evalue": "1054 (42S22): Unknown column 'ventas' in 'field list'",
                    "traceback": []
                }
            ],
            "execution_count": 8
        },
        {
            "cell_type": "markdown",
            "source": [
                ""
            ],
            "metadata": {
                "azdata_cell_guid": "85cad0d1-9b07-494f-9018-04a25d9664ec"
            },
            "attachments": {}
        },
        {
            "cell_type": "markdown",
            "source": [
                ""
            ],
            "metadata": {
                "azdata_cell_guid": "ebf28422-eee9-4a89-870b-be310bd26c59"
            }
        },
        {
            "cell_type": "code",
            "source": [
                "SELECT *\r\n",
                "FROM ventas\r\n",
                "WHERE venta < 2000;"
            ],
            "metadata": {
                "azdata_cell_guid": "a1333b04-ecd8-4c1c-8c85-39fb446fcc4c",
                "language": "sql"
            },
            "outputs": [
                {
                    "output_type": "display_data",
                    "data": {
                        "text/html": "(22 row(s) affected)"
                    },
                    "metadata": {}
                },
                {
                    "output_type": "display_data",
                    "data": {
                        "text/html": "Total execution time: 00:00:01.019"
                    },
                    "metadata": {}
                },
                {
                    "output_type": "execute_result",
                    "execution_count": 10,
                    "data": {
                        "application/vnd.dataresource+json": {
                            "schema": {
                                "fields": [
                                    {
                                        "name": "ventas_id"
                                    },
                                    {
                                        "name": "Fecha"
                                    },
                                    {
                                        "name": "ID_local"
                                    },
                                    {
                                        "name": "clave_producto"
                                    },
                                    {
                                        "name": "venta"
                                    },
                                    {
                                        "name": "venta_empleado"
                                    }
                                ]
                            },
                            "data": [
                                {
                                    "ventas_id": "1",
                                    "Fecha": "2018-11-18 00:00:00",
                                    "ID_local": "2",
                                    "clave_producto": "pzz",
                                    "venta": "1302",
                                    "venta_empleado": "2630867"
                                },
                                {
                                    "ventas_id": "2",
                                    "Fecha": "2018-09-17 00:00:00",
                                    "ID_local": "2",
                                    "clave_producto": "clz",
                                    "venta": "953",
                                    "venta_empleado": "2310967"
                                },
                                {
                                    "ventas_id": "3",
                                    "Fecha": "2018-10-18 00:00:00",
                                    "ID_local": "4",
                                    "clave_producto": "brr",
                                    "venta": "1286",
                                    "venta_empleado": "6931035"
                                },
                                {
                                    "ventas_id": "4",
                                    "Fecha": "2018-10-30 00:00:00",
                                    "ID_local": "1",
                                    "clave_producto": "brr",
                                    "venta": "889",
                                    "venta_empleado": "9922377"
                                },
                                {
                                    "ventas_id": "5",
                                    "Fecha": "2018-05-16 00:00:00",
                                    "ID_local": "1",
                                    "clave_producto": "qsd",
                                    "venta": "495",
                                    "venta_empleado": "2520477"
                                },
                                {
                                    "ventas_id": "6",
                                    "Fecha": "2018-12-15 00:00:00",
                                    "ID_local": "3",
                                    "clave_producto": "pzz",
                                    "venta": "544",
                                    "venta_empleado": "9611338"
                                },
                                {
                                    "ventas_id": "7",
                                    "Fecha": "2018-07-28 00:00:00",
                                    "ID_local": "4",
                                    "clave_producto": "pzz",
                                    "venta": "1444",
                                    "venta_empleado": "6332756"
                                },
                                {
                                    "ventas_id": "8",
                                    "Fecha": "2018-10-05 00:00:00",
                                    "ID_local": "1",
                                    "clave_producto": "pzz",
                                    "venta": "435",
                                    "venta_empleado": "2520477"
                                },
                                {
                                    "ventas_id": "9",
                                    "Fecha": "2018-04-20 00:00:00",
                                    "ID_local": "1",
                                    "clave_producto": "qsd",
                                    "venta": "1203",
                                    "venta_empleado": "9922377"
                                },
                                {
                                    "ventas_id": "10",
                                    "Fecha": "2018-06-08 00:00:00",
                                    "ID_local": "1",
                                    "clave_producto": "brr",
                                    "venta": "1038",
                                    "venta_empleado": "6332756"
                                },
                                {
                                    "ventas_id": "11",
                                    "Fecha": "2018-08-22 00:00:00",
                                    "ID_local": "1",
                                    "clave_producto": "brr",
                                    "venta": "404",
                                    "venta_empleado": "3833745"
                                },
                                {
                                    "ventas_id": "12",
                                    "Fecha": "2019-09-03 00:00:00",
                                    "ID_local": "1",
                                    "clave_producto": "pzz",
                                    "venta": "1362",
                                    "venta_empleado": "5728566"
                                },
                                {
                                    "ventas_id": "13",
                                    "Fecha": "2019-07-16 00:00:00",
                                    "ID_local": "3",
                                    "clave_producto": "qsd",
                                    "venta": "1054",
                                    "venta_empleado": "2310967"
                                },
                                {
                                    "ventas_id": "14",
                                    "Fecha": "2019-08-27 00:00:00",
                                    "ID_local": "3",
                                    "clave_producto": "clz",
                                    "venta": "303",
                                    "venta_empleado": "3833745"
                                },
                                {
                                    "ventas_id": "15",
                                    "Fecha": "2019-12-15 00:00:00",
                                    "ID_local": "1",
                                    "clave_producto": "brr",
                                    "venta": "871",
                                    "venta_empleado": "2520477"
                                },
                                {
                                    "ventas_id": "16",
                                    "Fecha": "2019-07-30 00:00:00",
                                    "ID_local": "3",
                                    "clave_producto": "brr",
                                    "venta": "1062",
                                    "venta_empleado": "5728566"
                                },
                                {
                                    "ventas_id": "17",
                                    "Fecha": "2019-10-25 00:00:00",
                                    "ID_local": "1",
                                    "clave_producto": "pzz",
                                    "venta": "1376",
                                    "venta_empleado": "6332756"
                                },
                                {
                                    "ventas_id": "18",
                                    "Fecha": "2019-12-14 00:00:00",
                                    "ID_local": "3",
                                    "clave_producto": "pzz",
                                    "venta": "957",
                                    "venta_empleado": "2310967"
                                },
                                {
                                    "ventas_id": "19",
                                    "Fecha": "2019-08-14 00:00:00",
                                    "ID_local": "2",
                                    "clave_producto": "clz",
                                    "venta": "972",
                                    "venta_empleado": "2310967"
                                },
                                {
                                    "ventas_id": "20",
                                    "Fecha": "2019-12-01 00:00:00",
                                    "ID_local": "1",
                                    "clave_producto": "pzz",
                                    "venta": "1455",
                                    "venta_empleado": "2310967"
                                },
                                {
                                    "ventas_id": "21",
                                    "Fecha": "2019-06-08 00:00:00",
                                    "ID_local": "4",
                                    "clave_producto": "qsd",
                                    "venta": "497",
                                    "venta_empleado": "5728566"
                                },
                                {
                                    "ventas_id": "22",
                                    "Fecha": "2019-07-25 00:00:00",
                                    "ID_local": "3",
                                    "clave_producto": "clz",
                                    "venta": "1179",
                                    "venta_empleado": "2310967"
                                }
                            ]
                        },
                        "text/html": "<table><tr><th>ventas_id</th><th>Fecha</th><th>ID_local</th><th>clave_producto</th><th>venta</th><th>venta_empleado</th></tr><tr><td>1</td><td>2018-11-18 00:00:00</td><td>2</td><td>pzz</td><td>1302</td><td>2630867</td></tr><tr><td>2</td><td>2018-09-17 00:00:00</td><td>2</td><td>clz</td><td>953</td><td>2310967</td></tr><tr><td>3</td><td>2018-10-18 00:00:00</td><td>4</td><td>brr</td><td>1286</td><td>6931035</td></tr><tr><td>4</td><td>2018-10-30 00:00:00</td><td>1</td><td>brr</td><td>889</td><td>9922377</td></tr><tr><td>5</td><td>2018-05-16 00:00:00</td><td>1</td><td>qsd</td><td>495</td><td>2520477</td></tr><tr><td>6</td><td>2018-12-15 00:00:00</td><td>3</td><td>pzz</td><td>544</td><td>9611338</td></tr><tr><td>7</td><td>2018-07-28 00:00:00</td><td>4</td><td>pzz</td><td>1444</td><td>6332756</td></tr><tr><td>8</td><td>2018-10-05 00:00:00</td><td>1</td><td>pzz</td><td>435</td><td>2520477</td></tr><tr><td>9</td><td>2018-04-20 00:00:00</td><td>1</td><td>qsd</td><td>1203</td><td>9922377</td></tr><tr><td>10</td><td>2018-06-08 00:00:00</td><td>1</td><td>brr</td><td>1038</td><td>6332756</td></tr><tr><td>11</td><td>2018-08-22 00:00:00</td><td>1</td><td>brr</td><td>404</td><td>3833745</td></tr><tr><td>12</td><td>2019-09-03 00:00:00</td><td>1</td><td>pzz</td><td>1362</td><td>5728566</td></tr><tr><td>13</td><td>2019-07-16 00:00:00</td><td>3</td><td>qsd</td><td>1054</td><td>2310967</td></tr><tr><td>14</td><td>2019-08-27 00:00:00</td><td>3</td><td>clz</td><td>303</td><td>3833745</td></tr><tr><td>15</td><td>2019-12-15 00:00:00</td><td>1</td><td>brr</td><td>871</td><td>2520477</td></tr><tr><td>16</td><td>2019-07-30 00:00:00</td><td>3</td><td>brr</td><td>1062</td><td>5728566</td></tr><tr><td>17</td><td>2019-10-25 00:00:00</td><td>1</td><td>pzz</td><td>1376</td><td>6332756</td></tr><tr><td>18</td><td>2019-12-14 00:00:00</td><td>3</td><td>pzz</td><td>957</td><td>2310967</td></tr><tr><td>19</td><td>2019-08-14 00:00:00</td><td>2</td><td>clz</td><td>972</td><td>2310967</td></tr><tr><td>20</td><td>2019-12-01 00:00:00</td><td>1</td><td>pzz</td><td>1455</td><td>2310967</td></tr><tr><td>21</td><td>2019-06-08 00:00:00</td><td>4</td><td>qsd</td><td>497</td><td>5728566</td></tr><tr><td>22</td><td>2019-07-25 00:00:00</td><td>3</td><td>clz</td><td>1179</td><td>2310967</td></tr></table>"
                    },
                    "metadata": {}
                }
            ],
            "execution_count": 10
        },
        {
            "cell_type": "code",
            "source": [
                "SELECT *\r\n",
                "FROM ventas \r\n",
                "WHERE venta <=1000;"
            ],
            "metadata": {
                "azdata_cell_guid": "6fa8f76b-85bc-4f24-ba8d-559a3c55768b",
                "language": "sql"
            },
            "outputs": [
                {
                    "output_type": "display_data",
                    "data": {
                        "text/html": "(11 row(s) affected)"
                    },
                    "metadata": {}
                },
                {
                    "output_type": "display_data",
                    "data": {
                        "text/html": "Total execution time: 00:00:01.017"
                    },
                    "metadata": {}
                },
                {
                    "output_type": "execute_result",
                    "execution_count": 12,
                    "data": {
                        "application/vnd.dataresource+json": {
                            "schema": {
                                "fields": [
                                    {
                                        "name": "ventas_id"
                                    },
                                    {
                                        "name": "Fecha"
                                    },
                                    {
                                        "name": "ID_local"
                                    },
                                    {
                                        "name": "clave_producto"
                                    },
                                    {
                                        "name": "venta"
                                    },
                                    {
                                        "name": "venta_empleado"
                                    }
                                ]
                            },
                            "data": [
                                {
                                    "ventas_id": "14",
                                    "Fecha": "2019-08-27 00:00:00",
                                    "ID_local": "3",
                                    "clave_producto": "clz",
                                    "venta": "303",
                                    "venta_empleado": "3833745"
                                },
                                {
                                    "ventas_id": "11",
                                    "Fecha": "2018-08-22 00:00:00",
                                    "ID_local": "1",
                                    "clave_producto": "brr",
                                    "venta": "404",
                                    "venta_empleado": "3833745"
                                },
                                {
                                    "ventas_id": "8",
                                    "Fecha": "2018-10-05 00:00:00",
                                    "ID_local": "1",
                                    "clave_producto": "pzz",
                                    "venta": "435",
                                    "venta_empleado": "2520477"
                                },
                                {
                                    "ventas_id": "5",
                                    "Fecha": "2018-05-16 00:00:00",
                                    "ID_local": "1",
                                    "clave_producto": "qsd",
                                    "venta": "495",
                                    "venta_empleado": "2520477"
                                },
                                {
                                    "ventas_id": "21",
                                    "Fecha": "2019-06-08 00:00:00",
                                    "ID_local": "4",
                                    "clave_producto": "qsd",
                                    "venta": "497",
                                    "venta_empleado": "5728566"
                                },
                                {
                                    "ventas_id": "6",
                                    "Fecha": "2018-12-15 00:00:00",
                                    "ID_local": "3",
                                    "clave_producto": "pzz",
                                    "venta": "544",
                                    "venta_empleado": "9611338"
                                },
                                {
                                    "ventas_id": "15",
                                    "Fecha": "2019-12-15 00:00:00",
                                    "ID_local": "1",
                                    "clave_producto": "brr",
                                    "venta": "871",
                                    "venta_empleado": "2520477"
                                },
                                {
                                    "ventas_id": "4",
                                    "Fecha": "2018-10-30 00:00:00",
                                    "ID_local": "1",
                                    "clave_producto": "brr",
                                    "venta": "889",
                                    "venta_empleado": "9922377"
                                },
                                {
                                    "ventas_id": "2",
                                    "Fecha": "2018-09-17 00:00:00",
                                    "ID_local": "2",
                                    "clave_producto": "clz",
                                    "venta": "953",
                                    "venta_empleado": "2310967"
                                },
                                {
                                    "ventas_id": "18",
                                    "Fecha": "2019-12-14 00:00:00",
                                    "ID_local": "3",
                                    "clave_producto": "pzz",
                                    "venta": "957",
                                    "venta_empleado": "2310967"
                                },
                                {
                                    "ventas_id": "19",
                                    "Fecha": "2019-08-14 00:00:00",
                                    "ID_local": "2",
                                    "clave_producto": "clz",
                                    "venta": "972",
                                    "venta_empleado": "2310967"
                                }
                            ]
                        },
                        "text/html": "<table><tr><th>ventas_id</th><th>Fecha</th><th>ID_local</th><th>clave_producto</th><th>venta</th><th>venta_empleado</th></tr><tr><td>14</td><td>2019-08-27 00:00:00</td><td>3</td><td>clz</td><td>303</td><td>3833745</td></tr><tr><td>11</td><td>2018-08-22 00:00:00</td><td>1</td><td>brr</td><td>404</td><td>3833745</td></tr><tr><td>8</td><td>2018-10-05 00:00:00</td><td>1</td><td>pzz</td><td>435</td><td>2520477</td></tr><tr><td>5</td><td>2018-05-16 00:00:00</td><td>1</td><td>qsd</td><td>495</td><td>2520477</td></tr><tr><td>21</td><td>2019-06-08 00:00:00</td><td>4</td><td>qsd</td><td>497</td><td>5728566</td></tr><tr><td>6</td><td>2018-12-15 00:00:00</td><td>3</td><td>pzz</td><td>544</td><td>9611338</td></tr><tr><td>15</td><td>2019-12-15 00:00:00</td><td>1</td><td>brr</td><td>871</td><td>2520477</td></tr><tr><td>4</td><td>2018-10-30 00:00:00</td><td>1</td><td>brr</td><td>889</td><td>9922377</td></tr><tr><td>2</td><td>2018-09-17 00:00:00</td><td>2</td><td>clz</td><td>953</td><td>2310967</td></tr><tr><td>18</td><td>2019-12-14 00:00:00</td><td>3</td><td>pzz</td><td>957</td><td>2310967</td></tr><tr><td>19</td><td>2019-08-14 00:00:00</td><td>2</td><td>clz</td><td>972</td><td>2310967</td></tr></table>"
                    },
                    "metadata": {}
                }
            ],
            "execution_count": 12
        },
        {
            "cell_type": "code",
            "source": [
                "SELECT *\r\n",
                "FROM ventas\r\n",
                "WHERE ID_local != 2;\r\n",
                ""
            ],
            "metadata": {
                "azdata_cell_guid": "3b64dc0a-f95a-4d1a-923e-f81b6c5e74a6",
                "language": "sql"
            },
            "outputs": [
                {
                    "output_type": "display_data",
                    "data": {
                        "text/html": "(19 row(s) affected)"
                    },
                    "metadata": {}
                },
                {
                    "output_type": "display_data",
                    "data": {
                        "text/html": "Total execution time: 00:00:01.016"
                    },
                    "metadata": {}
                },
                {
                    "output_type": "execute_result",
                    "execution_count": 13,
                    "data": {
                        "application/vnd.dataresource+json": {
                            "schema": {
                                "fields": [
                                    {
                                        "name": "ventas_id"
                                    },
                                    {
                                        "name": "Fecha"
                                    },
                                    {
                                        "name": "ID_local"
                                    },
                                    {
                                        "name": "clave_producto"
                                    },
                                    {
                                        "name": "venta"
                                    },
                                    {
                                        "name": "venta_empleado"
                                    }
                                ]
                            },
                            "data": [
                                {
                                    "ventas_id": "3",
                                    "Fecha": "2018-10-18 00:00:00",
                                    "ID_local": "4",
                                    "clave_producto": "brr",
                                    "venta": "1286",
                                    "venta_empleado": "6931035"
                                },
                                {
                                    "ventas_id": "4",
                                    "Fecha": "2018-10-30 00:00:00",
                                    "ID_local": "1",
                                    "clave_producto": "brr",
                                    "venta": "889",
                                    "venta_empleado": "9922377"
                                },
                                {
                                    "ventas_id": "5",
                                    "Fecha": "2018-05-16 00:00:00",
                                    "ID_local": "1",
                                    "clave_producto": "qsd",
                                    "venta": "495",
                                    "venta_empleado": "2520477"
                                },
                                {
                                    "ventas_id": "6",
                                    "Fecha": "2018-12-15 00:00:00",
                                    "ID_local": "3",
                                    "clave_producto": "pzz",
                                    "venta": "544",
                                    "venta_empleado": "9611338"
                                },
                                {
                                    "ventas_id": "7",
                                    "Fecha": "2018-07-28 00:00:00",
                                    "ID_local": "4",
                                    "clave_producto": "pzz",
                                    "venta": "1444",
                                    "venta_empleado": "6332756"
                                },
                                {
                                    "ventas_id": "8",
                                    "Fecha": "2018-10-05 00:00:00",
                                    "ID_local": "1",
                                    "clave_producto": "pzz",
                                    "venta": "435",
                                    "venta_empleado": "2520477"
                                },
                                {
                                    "ventas_id": "9",
                                    "Fecha": "2018-04-20 00:00:00",
                                    "ID_local": "1",
                                    "clave_producto": "qsd",
                                    "venta": "1203",
                                    "venta_empleado": "9922377"
                                },
                                {
                                    "ventas_id": "10",
                                    "Fecha": "2018-06-08 00:00:00",
                                    "ID_local": "1",
                                    "clave_producto": "brr",
                                    "venta": "1038",
                                    "venta_empleado": "6332756"
                                },
                                {
                                    "ventas_id": "11",
                                    "Fecha": "2018-08-22 00:00:00",
                                    "ID_local": "1",
                                    "clave_producto": "brr",
                                    "venta": "404",
                                    "venta_empleado": "3833745"
                                },
                                {
                                    "ventas_id": "12",
                                    "Fecha": "2019-09-03 00:00:00",
                                    "ID_local": "1",
                                    "clave_producto": "pzz",
                                    "venta": "1362",
                                    "venta_empleado": "5728566"
                                },
                                {
                                    "ventas_id": "13",
                                    "Fecha": "2019-07-16 00:00:00",
                                    "ID_local": "3",
                                    "clave_producto": "qsd",
                                    "venta": "1054",
                                    "venta_empleado": "2310967"
                                },
                                {
                                    "ventas_id": "14",
                                    "Fecha": "2019-08-27 00:00:00",
                                    "ID_local": "3",
                                    "clave_producto": "clz",
                                    "venta": "303",
                                    "venta_empleado": "3833745"
                                },
                                {
                                    "ventas_id": "15",
                                    "Fecha": "2019-12-15 00:00:00",
                                    "ID_local": "1",
                                    "clave_producto": "brr",
                                    "venta": "871",
                                    "venta_empleado": "2520477"
                                },
                                {
                                    "ventas_id": "16",
                                    "Fecha": "2019-07-30 00:00:00",
                                    "ID_local": "3",
                                    "clave_producto": "brr",
                                    "venta": "1062",
                                    "venta_empleado": "5728566"
                                },
                                {
                                    "ventas_id": "17",
                                    "Fecha": "2019-10-25 00:00:00",
                                    "ID_local": "1",
                                    "clave_producto": "pzz",
                                    "venta": "1376",
                                    "venta_empleado": "6332756"
                                },
                                {
                                    "ventas_id": "18",
                                    "Fecha": "2019-12-14 00:00:00",
                                    "ID_local": "3",
                                    "clave_producto": "pzz",
                                    "venta": "957",
                                    "venta_empleado": "2310967"
                                },
                                {
                                    "ventas_id": "20",
                                    "Fecha": "2019-12-01 00:00:00",
                                    "ID_local": "1",
                                    "clave_producto": "pzz",
                                    "venta": "1455",
                                    "venta_empleado": "2310967"
                                },
                                {
                                    "ventas_id": "21",
                                    "Fecha": "2019-06-08 00:00:00",
                                    "ID_local": "4",
                                    "clave_producto": "qsd",
                                    "venta": "497",
                                    "venta_empleado": "5728566"
                                },
                                {
                                    "ventas_id": "22",
                                    "Fecha": "2019-07-25 00:00:00",
                                    "ID_local": "3",
                                    "clave_producto": "clz",
                                    "venta": "1179",
                                    "venta_empleado": "2310967"
                                }
                            ]
                        },
                        "text/html": "<table><tr><th>ventas_id</th><th>Fecha</th><th>ID_local</th><th>clave_producto</th><th>venta</th><th>venta_empleado</th></tr><tr><td>3</td><td>2018-10-18 00:00:00</td><td>4</td><td>brr</td><td>1286</td><td>6931035</td></tr><tr><td>4</td><td>2018-10-30 00:00:00</td><td>1</td><td>brr</td><td>889</td><td>9922377</td></tr><tr><td>5</td><td>2018-05-16 00:00:00</td><td>1</td><td>qsd</td><td>495</td><td>2520477</td></tr><tr><td>6</td><td>2018-12-15 00:00:00</td><td>3</td><td>pzz</td><td>544</td><td>9611338</td></tr><tr><td>7</td><td>2018-07-28 00:00:00</td><td>4</td><td>pzz</td><td>1444</td><td>6332756</td></tr><tr><td>8</td><td>2018-10-05 00:00:00</td><td>1</td><td>pzz</td><td>435</td><td>2520477</td></tr><tr><td>9</td><td>2018-04-20 00:00:00</td><td>1</td><td>qsd</td><td>1203</td><td>9922377</td></tr><tr><td>10</td><td>2018-06-08 00:00:00</td><td>1</td><td>brr</td><td>1038</td><td>6332756</td></tr><tr><td>11</td><td>2018-08-22 00:00:00</td><td>1</td><td>brr</td><td>404</td><td>3833745</td></tr><tr><td>12</td><td>2019-09-03 00:00:00</td><td>1</td><td>pzz</td><td>1362</td><td>5728566</td></tr><tr><td>13</td><td>2019-07-16 00:00:00</td><td>3</td><td>qsd</td><td>1054</td><td>2310967</td></tr><tr><td>14</td><td>2019-08-27 00:00:00</td><td>3</td><td>clz</td><td>303</td><td>3833745</td></tr><tr><td>15</td><td>2019-12-15 00:00:00</td><td>1</td><td>brr</td><td>871</td><td>2520477</td></tr><tr><td>16</td><td>2019-07-30 00:00:00</td><td>3</td><td>brr</td><td>1062</td><td>5728566</td></tr><tr><td>17</td><td>2019-10-25 00:00:00</td><td>1</td><td>pzz</td><td>1376</td><td>6332756</td></tr><tr><td>18</td><td>2019-12-14 00:00:00</td><td>3</td><td>pzz</td><td>957</td><td>2310967</td></tr><tr><td>20</td><td>2019-12-01 00:00:00</td><td>1</td><td>pzz</td><td>1455</td><td>2310967</td></tr><tr><td>21</td><td>2019-06-08 00:00:00</td><td>4</td><td>qsd</td><td>497</td><td>5728566</td></tr><tr><td>22</td><td>2019-07-25 00:00:00</td><td>3</td><td>clz</td><td>1179</td><td>2310967</td></tr></table>"
                    },
                    "metadata": {}
                }
            ],
            "execution_count": 13
        },
        {
            "cell_type": "markdown",
            "source": [
                "**AND:** Datos que cumplan con dos o más condiciones \n",
                "\n",
                "**OR:**  Datos que cumplan cualquiera de las condiciones"
            ],
            "metadata": {
                "azdata_cell_guid": "833b385c-53ea-4caa-8665-00bb5ad55b4e"
            },
            "attachments": {}
        },
        {
            "cell_type": "code",
            "source": [
                "SELECT *\r\n",
                "FROM ventas \r\n",
                "WHERE ID_local=2 AND clave_producto = \"pzz\"; "
            ],
            "metadata": {
                "azdata_cell_guid": "07221c52-7107-42bd-9994-023a6be23962",
                "language": "sql"
            },
            "outputs": [
                {
                    "output_type": "display_data",
                    "data": {
                        "text/html": "(1 row(s) affected)"
                    },
                    "metadata": {}
                },
                {
                    "output_type": "display_data",
                    "data": {
                        "text/html": "Total execution time: 00:00:01.013"
                    },
                    "metadata": {}
                },
                {
                    "output_type": "execute_result",
                    "execution_count": 14,
                    "data": {
                        "application/vnd.dataresource+json": {
                            "schema": {
                                "fields": [
                                    {
                                        "name": "ventas_id"
                                    },
                                    {
                                        "name": "Fecha"
                                    },
                                    {
                                        "name": "ID_local"
                                    },
                                    {
                                        "name": "clave_producto"
                                    },
                                    {
                                        "name": "venta"
                                    },
                                    {
                                        "name": "venta_empleado"
                                    }
                                ]
                            },
                            "data": [
                                {
                                    "ventas_id": "1",
                                    "Fecha": "2018-11-18 00:00:00",
                                    "ID_local": "2",
                                    "clave_producto": "pzz",
                                    "venta": "1302",
                                    "venta_empleado": "2630867"
                                }
                            ]
                        },
                        "text/html": "<table><tr><th>ventas_id</th><th>Fecha</th><th>ID_local</th><th>clave_producto</th><th>venta</th><th>venta_empleado</th></tr><tr><td>1</td><td>2018-11-18 00:00:00</td><td>2</td><td>pzz</td><td>1302</td><td>2630867</td></tr></table>"
                    },
                    "metadata": {}
                }
            ],
            "execution_count": 14
        },
        {
            "cell_type": "code",
            "source": [
                "SELECT *\r\n",
                "FROM ventas\r\n",
                "WHERE ID_local=2 OR ID_local=4;"
            ],
            "metadata": {
                "azdata_cell_guid": "185a05bc-d3f8-4250-b904-a1f35fb86d96",
                "language": "sql"
            },
            "outputs": [
                {
                    "output_type": "display_data",
                    "data": {
                        "text/html": "(6 row(s) affected)"
                    },
                    "metadata": {}
                },
                {
                    "output_type": "display_data",
                    "data": {
                        "text/html": "Total execution time: 00:00:01.011"
                    },
                    "metadata": {}
                },
                {
                    "output_type": "execute_result",
                    "execution_count": 15,
                    "data": {
                        "application/vnd.dataresource+json": {
                            "schema": {
                                "fields": [
                                    {
                                        "name": "ventas_id"
                                    },
                                    {
                                        "name": "Fecha"
                                    },
                                    {
                                        "name": "ID_local"
                                    },
                                    {
                                        "name": "clave_producto"
                                    },
                                    {
                                        "name": "venta"
                                    },
                                    {
                                        "name": "venta_empleado"
                                    }
                                ]
                            },
                            "data": [
                                {
                                    "ventas_id": "1",
                                    "Fecha": "2018-11-18 00:00:00",
                                    "ID_local": "2",
                                    "clave_producto": "pzz",
                                    "venta": "1302",
                                    "venta_empleado": "2630867"
                                },
                                {
                                    "ventas_id": "2",
                                    "Fecha": "2018-09-17 00:00:00",
                                    "ID_local": "2",
                                    "clave_producto": "clz",
                                    "venta": "953",
                                    "venta_empleado": "2310967"
                                },
                                {
                                    "ventas_id": "19",
                                    "Fecha": "2019-08-14 00:00:00",
                                    "ID_local": "2",
                                    "clave_producto": "clz",
                                    "venta": "972",
                                    "venta_empleado": "2310967"
                                },
                                {
                                    "ventas_id": "3",
                                    "Fecha": "2018-10-18 00:00:00",
                                    "ID_local": "4",
                                    "clave_producto": "brr",
                                    "venta": "1286",
                                    "venta_empleado": "6931035"
                                },
                                {
                                    "ventas_id": "7",
                                    "Fecha": "2018-07-28 00:00:00",
                                    "ID_local": "4",
                                    "clave_producto": "pzz",
                                    "venta": "1444",
                                    "venta_empleado": "6332756"
                                },
                                {
                                    "ventas_id": "21",
                                    "Fecha": "2019-06-08 00:00:00",
                                    "ID_local": "4",
                                    "clave_producto": "qsd",
                                    "venta": "497",
                                    "venta_empleado": "5728566"
                                }
                            ]
                        },
                        "text/html": "<table><tr><th>ventas_id</th><th>Fecha</th><th>ID_local</th><th>clave_producto</th><th>venta</th><th>venta_empleado</th></tr><tr><td>1</td><td>2018-11-18 00:00:00</td><td>2</td><td>pzz</td><td>1302</td><td>2630867</td></tr><tr><td>2</td><td>2018-09-17 00:00:00</td><td>2</td><td>clz</td><td>953</td><td>2310967</td></tr><tr><td>19</td><td>2019-08-14 00:00:00</td><td>2</td><td>clz</td><td>972</td><td>2310967</td></tr><tr><td>3</td><td>2018-10-18 00:00:00</td><td>4</td><td>brr</td><td>1286</td><td>6931035</td></tr><tr><td>7</td><td>2018-07-28 00:00:00</td><td>4</td><td>pzz</td><td>1444</td><td>6332756</td></tr><tr><td>21</td><td>2019-06-08 00:00:00</td><td>4</td><td>qsd</td><td>497</td><td>5728566</td></tr></table>"
                    },
                    "metadata": {}
                }
            ],
            "execution_count": 15
        },
        {
            "cell_type": "code",
            "source": [
                "SELECT *\r\n",
                "FROM ventas\r\n",
                "WHERE clave_producto != \"pzz\";"
            ],
            "metadata": {
                "azdata_cell_guid": "c49e3a11-c199-4441-afe8-5612ed894b74",
                "language": "sql"
            },
            "outputs": [
                {
                    "output_type": "display_data",
                    "data": {
                        "text/html": "(14 row(s) affected)"
                    },
                    "metadata": {}
                },
                {
                    "output_type": "display_data",
                    "data": {
                        "text/html": "Total execution time: 00:00:01.010"
                    },
                    "metadata": {}
                },
                {
                    "output_type": "execute_result",
                    "execution_count": 16,
                    "data": {
                        "application/vnd.dataresource+json": {
                            "schema": {
                                "fields": [
                                    {
                                        "name": "ventas_id"
                                    },
                                    {
                                        "name": "Fecha"
                                    },
                                    {
                                        "name": "ID_local"
                                    },
                                    {
                                        "name": "clave_producto"
                                    },
                                    {
                                        "name": "venta"
                                    },
                                    {
                                        "name": "venta_empleado"
                                    }
                                ]
                            },
                            "data": [
                                {
                                    "ventas_id": "2",
                                    "Fecha": "2018-09-17 00:00:00",
                                    "ID_local": "2",
                                    "clave_producto": "clz",
                                    "venta": "953",
                                    "venta_empleado": "2310967"
                                },
                                {
                                    "ventas_id": "3",
                                    "Fecha": "2018-10-18 00:00:00",
                                    "ID_local": "4",
                                    "clave_producto": "brr",
                                    "venta": "1286",
                                    "venta_empleado": "6931035"
                                },
                                {
                                    "ventas_id": "4",
                                    "Fecha": "2018-10-30 00:00:00",
                                    "ID_local": "1",
                                    "clave_producto": "brr",
                                    "venta": "889",
                                    "venta_empleado": "9922377"
                                },
                                {
                                    "ventas_id": "5",
                                    "Fecha": "2018-05-16 00:00:00",
                                    "ID_local": "1",
                                    "clave_producto": "qsd",
                                    "venta": "495",
                                    "venta_empleado": "2520477"
                                },
                                {
                                    "ventas_id": "9",
                                    "Fecha": "2018-04-20 00:00:00",
                                    "ID_local": "1",
                                    "clave_producto": "qsd",
                                    "venta": "1203",
                                    "venta_empleado": "9922377"
                                },
                                {
                                    "ventas_id": "10",
                                    "Fecha": "2018-06-08 00:00:00",
                                    "ID_local": "1",
                                    "clave_producto": "brr",
                                    "venta": "1038",
                                    "venta_empleado": "6332756"
                                },
                                {
                                    "ventas_id": "11",
                                    "Fecha": "2018-08-22 00:00:00",
                                    "ID_local": "1",
                                    "clave_producto": "brr",
                                    "venta": "404",
                                    "venta_empleado": "3833745"
                                },
                                {
                                    "ventas_id": "13",
                                    "Fecha": "2019-07-16 00:00:00",
                                    "ID_local": "3",
                                    "clave_producto": "qsd",
                                    "venta": "1054",
                                    "venta_empleado": "2310967"
                                },
                                {
                                    "ventas_id": "14",
                                    "Fecha": "2019-08-27 00:00:00",
                                    "ID_local": "3",
                                    "clave_producto": "clz",
                                    "venta": "303",
                                    "venta_empleado": "3833745"
                                },
                                {
                                    "ventas_id": "15",
                                    "Fecha": "2019-12-15 00:00:00",
                                    "ID_local": "1",
                                    "clave_producto": "brr",
                                    "venta": "871",
                                    "venta_empleado": "2520477"
                                },
                                {
                                    "ventas_id": "16",
                                    "Fecha": "2019-07-30 00:00:00",
                                    "ID_local": "3",
                                    "clave_producto": "brr",
                                    "venta": "1062",
                                    "venta_empleado": "5728566"
                                },
                                {
                                    "ventas_id": "19",
                                    "Fecha": "2019-08-14 00:00:00",
                                    "ID_local": "2",
                                    "clave_producto": "clz",
                                    "venta": "972",
                                    "venta_empleado": "2310967"
                                },
                                {
                                    "ventas_id": "21",
                                    "Fecha": "2019-06-08 00:00:00",
                                    "ID_local": "4",
                                    "clave_producto": "qsd",
                                    "venta": "497",
                                    "venta_empleado": "5728566"
                                },
                                {
                                    "ventas_id": "22",
                                    "Fecha": "2019-07-25 00:00:00",
                                    "ID_local": "3",
                                    "clave_producto": "clz",
                                    "venta": "1179",
                                    "venta_empleado": "2310967"
                                }
                            ]
                        },
                        "text/html": "<table><tr><th>ventas_id</th><th>Fecha</th><th>ID_local</th><th>clave_producto</th><th>venta</th><th>venta_empleado</th></tr><tr><td>2</td><td>2018-09-17 00:00:00</td><td>2</td><td>clz</td><td>953</td><td>2310967</td></tr><tr><td>3</td><td>2018-10-18 00:00:00</td><td>4</td><td>brr</td><td>1286</td><td>6931035</td></tr><tr><td>4</td><td>2018-10-30 00:00:00</td><td>1</td><td>brr</td><td>889</td><td>9922377</td></tr><tr><td>5</td><td>2018-05-16 00:00:00</td><td>1</td><td>qsd</td><td>495</td><td>2520477</td></tr><tr><td>9</td><td>2018-04-20 00:00:00</td><td>1</td><td>qsd</td><td>1203</td><td>9922377</td></tr><tr><td>10</td><td>2018-06-08 00:00:00</td><td>1</td><td>brr</td><td>1038</td><td>6332756</td></tr><tr><td>11</td><td>2018-08-22 00:00:00</td><td>1</td><td>brr</td><td>404</td><td>3833745</td></tr><tr><td>13</td><td>2019-07-16 00:00:00</td><td>3</td><td>qsd</td><td>1054</td><td>2310967</td></tr><tr><td>14</td><td>2019-08-27 00:00:00</td><td>3</td><td>clz</td><td>303</td><td>3833745</td></tr><tr><td>15</td><td>2019-12-15 00:00:00</td><td>1</td><td>brr</td><td>871</td><td>2520477</td></tr><tr><td>16</td><td>2019-07-30 00:00:00</td><td>3</td><td>brr</td><td>1062</td><td>5728566</td></tr><tr><td>19</td><td>2019-08-14 00:00:00</td><td>2</td><td>clz</td><td>972</td><td>2310967</td></tr><tr><td>21</td><td>2019-06-08 00:00:00</td><td>4</td><td>qsd</td><td>497</td><td>5728566</td></tr><tr><td>22</td><td>2019-07-25 00:00:00</td><td>3</td><td>clz</td><td>1179</td><td>2310967</td></tr></table>"
                    },
                    "metadata": {}
                }
            ],
            "execution_count": 16
        },
        {
            "cell_type": "code",
            "source": [
                "SELECT *\r\n",
                "FROM ventas\r\n",
                "WHERE NOT clave_producto=\"pzz\";\r\n",
                ""
            ],
            "metadata": {
                "azdata_cell_guid": "ca2c9cb9-2c1a-4588-a863-32c9707458f4",
                "language": "sql"
            },
            "outputs": [
                {
                    "output_type": "display_data",
                    "data": {
                        "text/html": "(14 row(s) affected)"
                    },
                    "metadata": {}
                },
                {
                    "output_type": "display_data",
                    "data": {
                        "text/html": "Total execution time: 00:00:01.015"
                    },
                    "metadata": {}
                },
                {
                    "output_type": "execute_result",
                    "execution_count": 17,
                    "data": {
                        "application/vnd.dataresource+json": {
                            "schema": {
                                "fields": [
                                    {
                                        "name": "ventas_id"
                                    },
                                    {
                                        "name": "Fecha"
                                    },
                                    {
                                        "name": "ID_local"
                                    },
                                    {
                                        "name": "clave_producto"
                                    },
                                    {
                                        "name": "venta"
                                    },
                                    {
                                        "name": "venta_empleado"
                                    }
                                ]
                            },
                            "data": [
                                {
                                    "ventas_id": "2",
                                    "Fecha": "2018-09-17 00:00:00",
                                    "ID_local": "2",
                                    "clave_producto": "clz",
                                    "venta": "953",
                                    "venta_empleado": "2310967"
                                },
                                {
                                    "ventas_id": "3",
                                    "Fecha": "2018-10-18 00:00:00",
                                    "ID_local": "4",
                                    "clave_producto": "brr",
                                    "venta": "1286",
                                    "venta_empleado": "6931035"
                                },
                                {
                                    "ventas_id": "4",
                                    "Fecha": "2018-10-30 00:00:00",
                                    "ID_local": "1",
                                    "clave_producto": "brr",
                                    "venta": "889",
                                    "venta_empleado": "9922377"
                                },
                                {
                                    "ventas_id": "5",
                                    "Fecha": "2018-05-16 00:00:00",
                                    "ID_local": "1",
                                    "clave_producto": "qsd",
                                    "venta": "495",
                                    "venta_empleado": "2520477"
                                },
                                {
                                    "ventas_id": "9",
                                    "Fecha": "2018-04-20 00:00:00",
                                    "ID_local": "1",
                                    "clave_producto": "qsd",
                                    "venta": "1203",
                                    "venta_empleado": "9922377"
                                },
                                {
                                    "ventas_id": "10",
                                    "Fecha": "2018-06-08 00:00:00",
                                    "ID_local": "1",
                                    "clave_producto": "brr",
                                    "venta": "1038",
                                    "venta_empleado": "6332756"
                                },
                                {
                                    "ventas_id": "11",
                                    "Fecha": "2018-08-22 00:00:00",
                                    "ID_local": "1",
                                    "clave_producto": "brr",
                                    "venta": "404",
                                    "venta_empleado": "3833745"
                                },
                                {
                                    "ventas_id": "13",
                                    "Fecha": "2019-07-16 00:00:00",
                                    "ID_local": "3",
                                    "clave_producto": "qsd",
                                    "venta": "1054",
                                    "venta_empleado": "2310967"
                                },
                                {
                                    "ventas_id": "14",
                                    "Fecha": "2019-08-27 00:00:00",
                                    "ID_local": "3",
                                    "clave_producto": "clz",
                                    "venta": "303",
                                    "venta_empleado": "3833745"
                                },
                                {
                                    "ventas_id": "15",
                                    "Fecha": "2019-12-15 00:00:00",
                                    "ID_local": "1",
                                    "clave_producto": "brr",
                                    "venta": "871",
                                    "venta_empleado": "2520477"
                                },
                                {
                                    "ventas_id": "16",
                                    "Fecha": "2019-07-30 00:00:00",
                                    "ID_local": "3",
                                    "clave_producto": "brr",
                                    "venta": "1062",
                                    "venta_empleado": "5728566"
                                },
                                {
                                    "ventas_id": "19",
                                    "Fecha": "2019-08-14 00:00:00",
                                    "ID_local": "2",
                                    "clave_producto": "clz",
                                    "venta": "972",
                                    "venta_empleado": "2310967"
                                },
                                {
                                    "ventas_id": "21",
                                    "Fecha": "2019-06-08 00:00:00",
                                    "ID_local": "4",
                                    "clave_producto": "qsd",
                                    "venta": "497",
                                    "venta_empleado": "5728566"
                                },
                                {
                                    "ventas_id": "22",
                                    "Fecha": "2019-07-25 00:00:00",
                                    "ID_local": "3",
                                    "clave_producto": "clz",
                                    "venta": "1179",
                                    "venta_empleado": "2310967"
                                }
                            ]
                        },
                        "text/html": "<table><tr><th>ventas_id</th><th>Fecha</th><th>ID_local</th><th>clave_producto</th><th>venta</th><th>venta_empleado</th></tr><tr><td>2</td><td>2018-09-17 00:00:00</td><td>2</td><td>clz</td><td>953</td><td>2310967</td></tr><tr><td>3</td><td>2018-10-18 00:00:00</td><td>4</td><td>brr</td><td>1286</td><td>6931035</td></tr><tr><td>4</td><td>2018-10-30 00:00:00</td><td>1</td><td>brr</td><td>889</td><td>9922377</td></tr><tr><td>5</td><td>2018-05-16 00:00:00</td><td>1</td><td>qsd</td><td>495</td><td>2520477</td></tr><tr><td>9</td><td>2018-04-20 00:00:00</td><td>1</td><td>qsd</td><td>1203</td><td>9922377</td></tr><tr><td>10</td><td>2018-06-08 00:00:00</td><td>1</td><td>brr</td><td>1038</td><td>6332756</td></tr><tr><td>11</td><td>2018-08-22 00:00:00</td><td>1</td><td>brr</td><td>404</td><td>3833745</td></tr><tr><td>13</td><td>2019-07-16 00:00:00</td><td>3</td><td>qsd</td><td>1054</td><td>2310967</td></tr><tr><td>14</td><td>2019-08-27 00:00:00</td><td>3</td><td>clz</td><td>303</td><td>3833745</td></tr><tr><td>15</td><td>2019-12-15 00:00:00</td><td>1</td><td>brr</td><td>871</td><td>2520477</td></tr><tr><td>16</td><td>2019-07-30 00:00:00</td><td>3</td><td>brr</td><td>1062</td><td>5728566</td></tr><tr><td>19</td><td>2019-08-14 00:00:00</td><td>2</td><td>clz</td><td>972</td><td>2310967</td></tr><tr><td>21</td><td>2019-06-08 00:00:00</td><td>4</td><td>qsd</td><td>497</td><td>5728566</td></tr><tr><td>22</td><td>2019-07-25 00:00:00</td><td>3</td><td>clz</td><td>1179</td><td>2310967</td></tr></table>"
                    },
                    "metadata": {}
                }
            ],
            "execution_count": 17
        },
        {
            "cell_type": "code",
            "source": [
                "SELECT *\r\n",
                "FROM ventas\r\n",
                "WHERE NOT clave_producto=\"pzz\" AND ID_local=2;"
            ],
            "metadata": {
                "azdata_cell_guid": "aa5c04ee-e227-4a22-a827-8beea64de35f",
                "language": "sql",
                "tags": []
            },
            "outputs": [
                {
                    "output_type": "display_data",
                    "data": {
                        "text/html": "(2 row(s) affected)"
                    },
                    "metadata": {}
                },
                {
                    "output_type": "display_data",
                    "data": {
                        "text/html": "Total execution time: 00:00:01.012"
                    },
                    "metadata": {}
                },
                {
                    "output_type": "execute_result",
                    "execution_count": 18,
                    "data": {
                        "application/vnd.dataresource+json": {
                            "schema": {
                                "fields": [
                                    {
                                        "name": "ventas_id"
                                    },
                                    {
                                        "name": "Fecha"
                                    },
                                    {
                                        "name": "ID_local"
                                    },
                                    {
                                        "name": "clave_producto"
                                    },
                                    {
                                        "name": "venta"
                                    },
                                    {
                                        "name": "venta_empleado"
                                    }
                                ]
                            },
                            "data": [
                                {
                                    "ventas_id": "2",
                                    "Fecha": "2018-09-17 00:00:00",
                                    "ID_local": "2",
                                    "clave_producto": "clz",
                                    "venta": "953",
                                    "venta_empleado": "2310967"
                                },
                                {
                                    "ventas_id": "19",
                                    "Fecha": "2019-08-14 00:00:00",
                                    "ID_local": "2",
                                    "clave_producto": "clz",
                                    "venta": "972",
                                    "venta_empleado": "2310967"
                                }
                            ]
                        },
                        "text/html": "<table><tr><th>ventas_id</th><th>Fecha</th><th>ID_local</th><th>clave_producto</th><th>venta</th><th>venta_empleado</th></tr><tr><td>2</td><td>2018-09-17 00:00:00</td><td>2</td><td>clz</td><td>953</td><td>2310967</td></tr><tr><td>19</td><td>2019-08-14 00:00:00</td><td>2</td><td>clz</td><td>972</td><td>2310967</td></tr></table>"
                    },
                    "metadata": {}
                }
            ],
            "execution_count": 18
        },
        {
            "cell_type": "code",
            "source": [
                "SELECT *\r\n",
                "FROM ventas\r\n",
                "WHERE NOT clave_producto=\"pzz\"AND NOT ID_local=2;"
            ],
            "metadata": {
                "azdata_cell_guid": "e92a5674-a592-4f13-8962-42c8e64a643f",
                "language": "sql"
            },
            "outputs": [
                {
                    "output_type": "display_data",
                    "data": {
                        "text/html": "(12 row(s) affected)"
                    },
                    "metadata": {}
                },
                {
                    "output_type": "display_data",
                    "data": {
                        "text/html": "Total execution time: 00:00:01.024"
                    },
                    "metadata": {}
                },
                {
                    "output_type": "execute_result",
                    "execution_count": 20,
                    "data": {
                        "application/vnd.dataresource+json": {
                            "schema": {
                                "fields": [
                                    {
                                        "name": "ventas_id"
                                    },
                                    {
                                        "name": "Fecha"
                                    },
                                    {
                                        "name": "ID_local"
                                    },
                                    {
                                        "name": "clave_producto"
                                    },
                                    {
                                        "name": "venta"
                                    },
                                    {
                                        "name": "venta_empleado"
                                    }
                                ]
                            },
                            "data": [
                                {
                                    "ventas_id": "3",
                                    "Fecha": "2018-10-18 00:00:00",
                                    "ID_local": "4",
                                    "clave_producto": "brr",
                                    "venta": "1286",
                                    "venta_empleado": "6931035"
                                },
                                {
                                    "ventas_id": "4",
                                    "Fecha": "2018-10-30 00:00:00",
                                    "ID_local": "1",
                                    "clave_producto": "brr",
                                    "venta": "889",
                                    "venta_empleado": "9922377"
                                },
                                {
                                    "ventas_id": "5",
                                    "Fecha": "2018-05-16 00:00:00",
                                    "ID_local": "1",
                                    "clave_producto": "qsd",
                                    "venta": "495",
                                    "venta_empleado": "2520477"
                                },
                                {
                                    "ventas_id": "9",
                                    "Fecha": "2018-04-20 00:00:00",
                                    "ID_local": "1",
                                    "clave_producto": "qsd",
                                    "venta": "1203",
                                    "venta_empleado": "9922377"
                                },
                                {
                                    "ventas_id": "10",
                                    "Fecha": "2018-06-08 00:00:00",
                                    "ID_local": "1",
                                    "clave_producto": "brr",
                                    "venta": "1038",
                                    "venta_empleado": "6332756"
                                },
                                {
                                    "ventas_id": "11",
                                    "Fecha": "2018-08-22 00:00:00",
                                    "ID_local": "1",
                                    "clave_producto": "brr",
                                    "venta": "404",
                                    "venta_empleado": "3833745"
                                },
                                {
                                    "ventas_id": "13",
                                    "Fecha": "2019-07-16 00:00:00",
                                    "ID_local": "3",
                                    "clave_producto": "qsd",
                                    "venta": "1054",
                                    "venta_empleado": "2310967"
                                },
                                {
                                    "ventas_id": "14",
                                    "Fecha": "2019-08-27 00:00:00",
                                    "ID_local": "3",
                                    "clave_producto": "clz",
                                    "venta": "303",
                                    "venta_empleado": "3833745"
                                },
                                {
                                    "ventas_id": "15",
                                    "Fecha": "2019-12-15 00:00:00",
                                    "ID_local": "1",
                                    "clave_producto": "brr",
                                    "venta": "871",
                                    "venta_empleado": "2520477"
                                },
                                {
                                    "ventas_id": "16",
                                    "Fecha": "2019-07-30 00:00:00",
                                    "ID_local": "3",
                                    "clave_producto": "brr",
                                    "venta": "1062",
                                    "venta_empleado": "5728566"
                                },
                                {
                                    "ventas_id": "21",
                                    "Fecha": "2019-06-08 00:00:00",
                                    "ID_local": "4",
                                    "clave_producto": "qsd",
                                    "venta": "497",
                                    "venta_empleado": "5728566"
                                },
                                {
                                    "ventas_id": "22",
                                    "Fecha": "2019-07-25 00:00:00",
                                    "ID_local": "3",
                                    "clave_producto": "clz",
                                    "venta": "1179",
                                    "venta_empleado": "2310967"
                                }
                            ]
                        },
                        "text/html": "<table><tr><th>ventas_id</th><th>Fecha</th><th>ID_local</th><th>clave_producto</th><th>venta</th><th>venta_empleado</th></tr><tr><td>3</td><td>2018-10-18 00:00:00</td><td>4</td><td>brr</td><td>1286</td><td>6931035</td></tr><tr><td>4</td><td>2018-10-30 00:00:00</td><td>1</td><td>brr</td><td>889</td><td>9922377</td></tr><tr><td>5</td><td>2018-05-16 00:00:00</td><td>1</td><td>qsd</td><td>495</td><td>2520477</td></tr><tr><td>9</td><td>2018-04-20 00:00:00</td><td>1</td><td>qsd</td><td>1203</td><td>9922377</td></tr><tr><td>10</td><td>2018-06-08 00:00:00</td><td>1</td><td>brr</td><td>1038</td><td>6332756</td></tr><tr><td>11</td><td>2018-08-22 00:00:00</td><td>1</td><td>brr</td><td>404</td><td>3833745</td></tr><tr><td>13</td><td>2019-07-16 00:00:00</td><td>3</td><td>qsd</td><td>1054</td><td>2310967</td></tr><tr><td>14</td><td>2019-08-27 00:00:00</td><td>3</td><td>clz</td><td>303</td><td>3833745</td></tr><tr><td>15</td><td>2019-12-15 00:00:00</td><td>1</td><td>brr</td><td>871</td><td>2520477</td></tr><tr><td>16</td><td>2019-07-30 00:00:00</td><td>3</td><td>brr</td><td>1062</td><td>5728566</td></tr><tr><td>21</td><td>2019-06-08 00:00:00</td><td>4</td><td>qsd</td><td>497</td><td>5728566</td></tr><tr><td>22</td><td>2019-07-25 00:00:00</td><td>3</td><td>clz</td><td>1179</td><td>2310967</td></tr></table>"
                    },
                    "metadata": {}
                }
            ],
            "execution_count": 20
        },
        {
            "cell_type": "markdown",
            "source": [
                "**IN**"
            ],
            "metadata": {
                "azdata_cell_guid": "bc4265b5-6704-451f-a1d6-315391291c00"
            },
            "attachments": {}
        },
        {
            "cell_type": "code",
            "source": [
                "SELECT *\r\n",
                "FROM ventas"
            ],
            "metadata": {
                "azdata_cell_guid": "9537e154-1149-42aa-bc9e-5d876e2ef5b7",
                "language": "sql"
            },
            "outputs": [
                {
                    "output_type": "display_data",
                    "data": {
                        "text/html": "(22 row(s) affected)"
                    },
                    "metadata": {}
                },
                {
                    "output_type": "display_data",
                    "data": {
                        "text/html": "Total execution time: 00:00:01.018"
                    },
                    "metadata": {}
                },
                {
                    "output_type": "execute_result",
                    "execution_count": 21,
                    "data": {
                        "application/vnd.dataresource+json": {
                            "schema": {
                                "fields": [
                                    {
                                        "name": "ventas_id"
                                    },
                                    {
                                        "name": "Fecha"
                                    },
                                    {
                                        "name": "ID_local"
                                    },
                                    {
                                        "name": "clave_producto"
                                    },
                                    {
                                        "name": "venta"
                                    },
                                    {
                                        "name": "venta_empleado"
                                    }
                                ]
                            },
                            "data": [
                                {
                                    "ventas_id": "1",
                                    "Fecha": "2018-11-18 00:00:00",
                                    "ID_local": "2",
                                    "clave_producto": "pzz",
                                    "venta": "1302",
                                    "venta_empleado": "2630867"
                                },
                                {
                                    "ventas_id": "2",
                                    "Fecha": "2018-09-17 00:00:00",
                                    "ID_local": "2",
                                    "clave_producto": "clz",
                                    "venta": "953",
                                    "venta_empleado": "2310967"
                                },
                                {
                                    "ventas_id": "3",
                                    "Fecha": "2018-10-18 00:00:00",
                                    "ID_local": "4",
                                    "clave_producto": "brr",
                                    "venta": "1286",
                                    "venta_empleado": "6931035"
                                },
                                {
                                    "ventas_id": "4",
                                    "Fecha": "2018-10-30 00:00:00",
                                    "ID_local": "1",
                                    "clave_producto": "brr",
                                    "venta": "889",
                                    "venta_empleado": "9922377"
                                },
                                {
                                    "ventas_id": "5",
                                    "Fecha": "2018-05-16 00:00:00",
                                    "ID_local": "1",
                                    "clave_producto": "qsd",
                                    "venta": "495",
                                    "venta_empleado": "2520477"
                                },
                                {
                                    "ventas_id": "6",
                                    "Fecha": "2018-12-15 00:00:00",
                                    "ID_local": "3",
                                    "clave_producto": "pzz",
                                    "venta": "544",
                                    "venta_empleado": "9611338"
                                },
                                {
                                    "ventas_id": "7",
                                    "Fecha": "2018-07-28 00:00:00",
                                    "ID_local": "4",
                                    "clave_producto": "pzz",
                                    "venta": "1444",
                                    "venta_empleado": "6332756"
                                },
                                {
                                    "ventas_id": "8",
                                    "Fecha": "2018-10-05 00:00:00",
                                    "ID_local": "1",
                                    "clave_producto": "pzz",
                                    "venta": "435",
                                    "venta_empleado": "2520477"
                                },
                                {
                                    "ventas_id": "9",
                                    "Fecha": "2018-04-20 00:00:00",
                                    "ID_local": "1",
                                    "clave_producto": "qsd",
                                    "venta": "1203",
                                    "venta_empleado": "9922377"
                                },
                                {
                                    "ventas_id": "10",
                                    "Fecha": "2018-06-08 00:00:00",
                                    "ID_local": "1",
                                    "clave_producto": "brr",
                                    "venta": "1038",
                                    "venta_empleado": "6332756"
                                },
                                {
                                    "ventas_id": "11",
                                    "Fecha": "2018-08-22 00:00:00",
                                    "ID_local": "1",
                                    "clave_producto": "brr",
                                    "venta": "404",
                                    "venta_empleado": "3833745"
                                },
                                {
                                    "ventas_id": "12",
                                    "Fecha": "2019-09-03 00:00:00",
                                    "ID_local": "1",
                                    "clave_producto": "pzz",
                                    "venta": "1362",
                                    "venta_empleado": "5728566"
                                },
                                {
                                    "ventas_id": "13",
                                    "Fecha": "2019-07-16 00:00:00",
                                    "ID_local": "3",
                                    "clave_producto": "qsd",
                                    "venta": "1054",
                                    "venta_empleado": "2310967"
                                },
                                {
                                    "ventas_id": "14",
                                    "Fecha": "2019-08-27 00:00:00",
                                    "ID_local": "3",
                                    "clave_producto": "clz",
                                    "venta": "303",
                                    "venta_empleado": "3833745"
                                },
                                {
                                    "ventas_id": "15",
                                    "Fecha": "2019-12-15 00:00:00",
                                    "ID_local": "1",
                                    "clave_producto": "brr",
                                    "venta": "871",
                                    "venta_empleado": "2520477"
                                },
                                {
                                    "ventas_id": "16",
                                    "Fecha": "2019-07-30 00:00:00",
                                    "ID_local": "3",
                                    "clave_producto": "brr",
                                    "venta": "1062",
                                    "venta_empleado": "5728566"
                                },
                                {
                                    "ventas_id": "17",
                                    "Fecha": "2019-10-25 00:00:00",
                                    "ID_local": "1",
                                    "clave_producto": "pzz",
                                    "venta": "1376",
                                    "venta_empleado": "6332756"
                                },
                                {
                                    "ventas_id": "18",
                                    "Fecha": "2019-12-14 00:00:00",
                                    "ID_local": "3",
                                    "clave_producto": "pzz",
                                    "venta": "957",
                                    "venta_empleado": "2310967"
                                },
                                {
                                    "ventas_id": "19",
                                    "Fecha": "2019-08-14 00:00:00",
                                    "ID_local": "2",
                                    "clave_producto": "clz",
                                    "venta": "972",
                                    "venta_empleado": "2310967"
                                },
                                {
                                    "ventas_id": "20",
                                    "Fecha": "2019-12-01 00:00:00",
                                    "ID_local": "1",
                                    "clave_producto": "pzz",
                                    "venta": "1455",
                                    "venta_empleado": "2310967"
                                },
                                {
                                    "ventas_id": "21",
                                    "Fecha": "2019-06-08 00:00:00",
                                    "ID_local": "4",
                                    "clave_producto": "qsd",
                                    "venta": "497",
                                    "venta_empleado": "5728566"
                                },
                                {
                                    "ventas_id": "22",
                                    "Fecha": "2019-07-25 00:00:00",
                                    "ID_local": "3",
                                    "clave_producto": "clz",
                                    "venta": "1179",
                                    "venta_empleado": "2310967"
                                }
                            ]
                        },
                        "text/html": "<table><tr><th>ventas_id</th><th>Fecha</th><th>ID_local</th><th>clave_producto</th><th>venta</th><th>venta_empleado</th></tr><tr><td>1</td><td>2018-11-18 00:00:00</td><td>2</td><td>pzz</td><td>1302</td><td>2630867</td></tr><tr><td>2</td><td>2018-09-17 00:00:00</td><td>2</td><td>clz</td><td>953</td><td>2310967</td></tr><tr><td>3</td><td>2018-10-18 00:00:00</td><td>4</td><td>brr</td><td>1286</td><td>6931035</td></tr><tr><td>4</td><td>2018-10-30 00:00:00</td><td>1</td><td>brr</td><td>889</td><td>9922377</td></tr><tr><td>5</td><td>2018-05-16 00:00:00</td><td>1</td><td>qsd</td><td>495</td><td>2520477</td></tr><tr><td>6</td><td>2018-12-15 00:00:00</td><td>3</td><td>pzz</td><td>544</td><td>9611338</td></tr><tr><td>7</td><td>2018-07-28 00:00:00</td><td>4</td><td>pzz</td><td>1444</td><td>6332756</td></tr><tr><td>8</td><td>2018-10-05 00:00:00</td><td>1</td><td>pzz</td><td>435</td><td>2520477</td></tr><tr><td>9</td><td>2018-04-20 00:00:00</td><td>1</td><td>qsd</td><td>1203</td><td>9922377</td></tr><tr><td>10</td><td>2018-06-08 00:00:00</td><td>1</td><td>brr</td><td>1038</td><td>6332756</td></tr><tr><td>11</td><td>2018-08-22 00:00:00</td><td>1</td><td>brr</td><td>404</td><td>3833745</td></tr><tr><td>12</td><td>2019-09-03 00:00:00</td><td>1</td><td>pzz</td><td>1362</td><td>5728566</td></tr><tr><td>13</td><td>2019-07-16 00:00:00</td><td>3</td><td>qsd</td><td>1054</td><td>2310967</td></tr><tr><td>14</td><td>2019-08-27 00:00:00</td><td>3</td><td>clz</td><td>303</td><td>3833745</td></tr><tr><td>15</td><td>2019-12-15 00:00:00</td><td>1</td><td>brr</td><td>871</td><td>2520477</td></tr><tr><td>16</td><td>2019-07-30 00:00:00</td><td>3</td><td>brr</td><td>1062</td><td>5728566</td></tr><tr><td>17</td><td>2019-10-25 00:00:00</td><td>1</td><td>pzz</td><td>1376</td><td>6332756</td></tr><tr><td>18</td><td>2019-12-14 00:00:00</td><td>3</td><td>pzz</td><td>957</td><td>2310967</td></tr><tr><td>19</td><td>2019-08-14 00:00:00</td><td>2</td><td>clz</td><td>972</td><td>2310967</td></tr><tr><td>20</td><td>2019-12-01 00:00:00</td><td>1</td><td>pzz</td><td>1455</td><td>2310967</td></tr><tr><td>21</td><td>2019-06-08 00:00:00</td><td>4</td><td>qsd</td><td>497</td><td>5728566</td></tr><tr><td>22</td><td>2019-07-25 00:00:00</td><td>3</td><td>clz</td><td>1179</td><td>2310967</td></tr></table>"
                    },
                    "metadata": {}
                }
            ],
            "execution_count": 21
        },
        {
            "cell_type": "code",
            "source": [
                "SELECT *\r\n",
                "FROM ventas\r\n",
                "WHERE clave_producto = \"clz\" OR clave_producto = \"pzz\" OR clave_producto=\"qsd\";"
            ],
            "metadata": {
                "azdata_cell_guid": "95dc82df-a19d-479e-b66c-5646d0ea7528",
                "language": "sql"
            },
            "outputs": [
                {
                    "output_type": "display_data",
                    "data": {
                        "text/html": "(16 row(s) affected)"
                    },
                    "metadata": {}
                },
                {
                    "output_type": "display_data",
                    "data": {
                        "text/html": "Total execution time: 00:00:01.010"
                    },
                    "metadata": {}
                },
                {
                    "output_type": "execute_result",
                    "execution_count": 22,
                    "data": {
                        "application/vnd.dataresource+json": {
                            "schema": {
                                "fields": [
                                    {
                                        "name": "ventas_id"
                                    },
                                    {
                                        "name": "Fecha"
                                    },
                                    {
                                        "name": "ID_local"
                                    },
                                    {
                                        "name": "clave_producto"
                                    },
                                    {
                                        "name": "venta"
                                    },
                                    {
                                        "name": "venta_empleado"
                                    }
                                ]
                            },
                            "data": [
                                {
                                    "ventas_id": "1",
                                    "Fecha": "2018-11-18 00:00:00",
                                    "ID_local": "2",
                                    "clave_producto": "pzz",
                                    "venta": "1302",
                                    "venta_empleado": "2630867"
                                },
                                {
                                    "ventas_id": "2",
                                    "Fecha": "2018-09-17 00:00:00",
                                    "ID_local": "2",
                                    "clave_producto": "clz",
                                    "venta": "953",
                                    "venta_empleado": "2310967"
                                },
                                {
                                    "ventas_id": "5",
                                    "Fecha": "2018-05-16 00:00:00",
                                    "ID_local": "1",
                                    "clave_producto": "qsd",
                                    "venta": "495",
                                    "venta_empleado": "2520477"
                                },
                                {
                                    "ventas_id": "6",
                                    "Fecha": "2018-12-15 00:00:00",
                                    "ID_local": "3",
                                    "clave_producto": "pzz",
                                    "venta": "544",
                                    "venta_empleado": "9611338"
                                },
                                {
                                    "ventas_id": "7",
                                    "Fecha": "2018-07-28 00:00:00",
                                    "ID_local": "4",
                                    "clave_producto": "pzz",
                                    "venta": "1444",
                                    "venta_empleado": "6332756"
                                },
                                {
                                    "ventas_id": "8",
                                    "Fecha": "2018-10-05 00:00:00",
                                    "ID_local": "1",
                                    "clave_producto": "pzz",
                                    "venta": "435",
                                    "venta_empleado": "2520477"
                                },
                                {
                                    "ventas_id": "9",
                                    "Fecha": "2018-04-20 00:00:00",
                                    "ID_local": "1",
                                    "clave_producto": "qsd",
                                    "venta": "1203",
                                    "venta_empleado": "9922377"
                                },
                                {
                                    "ventas_id": "12",
                                    "Fecha": "2019-09-03 00:00:00",
                                    "ID_local": "1",
                                    "clave_producto": "pzz",
                                    "venta": "1362",
                                    "venta_empleado": "5728566"
                                },
                                {
                                    "ventas_id": "13",
                                    "Fecha": "2019-07-16 00:00:00",
                                    "ID_local": "3",
                                    "clave_producto": "qsd",
                                    "venta": "1054",
                                    "venta_empleado": "2310967"
                                },
                                {
                                    "ventas_id": "14",
                                    "Fecha": "2019-08-27 00:00:00",
                                    "ID_local": "3",
                                    "clave_producto": "clz",
                                    "venta": "303",
                                    "venta_empleado": "3833745"
                                },
                                {
                                    "ventas_id": "17",
                                    "Fecha": "2019-10-25 00:00:00",
                                    "ID_local": "1",
                                    "clave_producto": "pzz",
                                    "venta": "1376",
                                    "venta_empleado": "6332756"
                                },
                                {
                                    "ventas_id": "18",
                                    "Fecha": "2019-12-14 00:00:00",
                                    "ID_local": "3",
                                    "clave_producto": "pzz",
                                    "venta": "957",
                                    "venta_empleado": "2310967"
                                },
                                {
                                    "ventas_id": "19",
                                    "Fecha": "2019-08-14 00:00:00",
                                    "ID_local": "2",
                                    "clave_producto": "clz",
                                    "venta": "972",
                                    "venta_empleado": "2310967"
                                },
                                {
                                    "ventas_id": "20",
                                    "Fecha": "2019-12-01 00:00:00",
                                    "ID_local": "1",
                                    "clave_producto": "pzz",
                                    "venta": "1455",
                                    "venta_empleado": "2310967"
                                },
                                {
                                    "ventas_id": "21",
                                    "Fecha": "2019-06-08 00:00:00",
                                    "ID_local": "4",
                                    "clave_producto": "qsd",
                                    "venta": "497",
                                    "venta_empleado": "5728566"
                                },
                                {
                                    "ventas_id": "22",
                                    "Fecha": "2019-07-25 00:00:00",
                                    "ID_local": "3",
                                    "clave_producto": "clz",
                                    "venta": "1179",
                                    "venta_empleado": "2310967"
                                }
                            ]
                        },
                        "text/html": "<table><tr><th>ventas_id</th><th>Fecha</th><th>ID_local</th><th>clave_producto</th><th>venta</th><th>venta_empleado</th></tr><tr><td>1</td><td>2018-11-18 00:00:00</td><td>2</td><td>pzz</td><td>1302</td><td>2630867</td></tr><tr><td>2</td><td>2018-09-17 00:00:00</td><td>2</td><td>clz</td><td>953</td><td>2310967</td></tr><tr><td>5</td><td>2018-05-16 00:00:00</td><td>1</td><td>qsd</td><td>495</td><td>2520477</td></tr><tr><td>6</td><td>2018-12-15 00:00:00</td><td>3</td><td>pzz</td><td>544</td><td>9611338</td></tr><tr><td>7</td><td>2018-07-28 00:00:00</td><td>4</td><td>pzz</td><td>1444</td><td>6332756</td></tr><tr><td>8</td><td>2018-10-05 00:00:00</td><td>1</td><td>pzz</td><td>435</td><td>2520477</td></tr><tr><td>9</td><td>2018-04-20 00:00:00</td><td>1</td><td>qsd</td><td>1203</td><td>9922377</td></tr><tr><td>12</td><td>2019-09-03 00:00:00</td><td>1</td><td>pzz</td><td>1362</td><td>5728566</td></tr><tr><td>13</td><td>2019-07-16 00:00:00</td><td>3</td><td>qsd</td><td>1054</td><td>2310967</td></tr><tr><td>14</td><td>2019-08-27 00:00:00</td><td>3</td><td>clz</td><td>303</td><td>3833745</td></tr><tr><td>17</td><td>2019-10-25 00:00:00</td><td>1</td><td>pzz</td><td>1376</td><td>6332756</td></tr><tr><td>18</td><td>2019-12-14 00:00:00</td><td>3</td><td>pzz</td><td>957</td><td>2310967</td></tr><tr><td>19</td><td>2019-08-14 00:00:00</td><td>2</td><td>clz</td><td>972</td><td>2310967</td></tr><tr><td>20</td><td>2019-12-01 00:00:00</td><td>1</td><td>pzz</td><td>1455</td><td>2310967</td></tr><tr><td>21</td><td>2019-06-08 00:00:00</td><td>4</td><td>qsd</td><td>497</td><td>5728566</td></tr><tr><td>22</td><td>2019-07-25 00:00:00</td><td>3</td><td>clz</td><td>1179</td><td>2310967</td></tr></table>"
                    },
                    "metadata": {}
                }
            ],
            "execution_count": 22
        },
        {
            "cell_type": "markdown",
            "source": [
                "La consulta anterior se puede escribir con **IN** \n",
                "\n",
                "<span style=\"color: var(--vscode-foreground);\">El IN permite espicificar multiples valores en la cláusula WHERE .</span>  \n",
                "\n",
                "Atajo para varias condiciones **OR.**"
            ],
            "metadata": {
                "azdata_cell_guid": "eafcca83-ab98-4ec7-a375-a5618048703d"
            },
            "attachments": {}
        },
        {
            "cell_type": "code",
            "source": [
                "SELECT *\r\n",
                "FROM ventas\r\n",
                "WHERE clave_producto IN (\"clz\", \"pzz\", \"qsd\")"
            ],
            "metadata": {
                "azdata_cell_guid": "c0dc031a-842c-4a91-8639-1dbc99293dd1",
                "language": "sql"
            },
            "outputs": [
                {
                    "output_type": "display_data",
                    "data": {
                        "text/html": "(16 row(s) affected)"
                    },
                    "metadata": {}
                },
                {
                    "output_type": "display_data",
                    "data": {
                        "text/html": "Total execution time: 00:00:01.023"
                    },
                    "metadata": {}
                },
                {
                    "output_type": "execute_result",
                    "execution_count": 24,
                    "data": {
                        "application/vnd.dataresource+json": {
                            "schema": {
                                "fields": [
                                    {
                                        "name": "ventas_id"
                                    },
                                    {
                                        "name": "Fecha"
                                    },
                                    {
                                        "name": "ID_local"
                                    },
                                    {
                                        "name": "clave_producto"
                                    },
                                    {
                                        "name": "venta"
                                    },
                                    {
                                        "name": "venta_empleado"
                                    }
                                ]
                            },
                            "data": [
                                {
                                    "ventas_id": "1",
                                    "Fecha": "2018-11-18 00:00:00",
                                    "ID_local": "2",
                                    "clave_producto": "pzz",
                                    "venta": "1302",
                                    "venta_empleado": "2630867"
                                },
                                {
                                    "ventas_id": "2",
                                    "Fecha": "2018-09-17 00:00:00",
                                    "ID_local": "2",
                                    "clave_producto": "clz",
                                    "venta": "953",
                                    "venta_empleado": "2310967"
                                },
                                {
                                    "ventas_id": "5",
                                    "Fecha": "2018-05-16 00:00:00",
                                    "ID_local": "1",
                                    "clave_producto": "qsd",
                                    "venta": "495",
                                    "venta_empleado": "2520477"
                                },
                                {
                                    "ventas_id": "6",
                                    "Fecha": "2018-12-15 00:00:00",
                                    "ID_local": "3",
                                    "clave_producto": "pzz",
                                    "venta": "544",
                                    "venta_empleado": "9611338"
                                },
                                {
                                    "ventas_id": "7",
                                    "Fecha": "2018-07-28 00:00:00",
                                    "ID_local": "4",
                                    "clave_producto": "pzz",
                                    "venta": "1444",
                                    "venta_empleado": "6332756"
                                },
                                {
                                    "ventas_id": "8",
                                    "Fecha": "2018-10-05 00:00:00",
                                    "ID_local": "1",
                                    "clave_producto": "pzz",
                                    "venta": "435",
                                    "venta_empleado": "2520477"
                                },
                                {
                                    "ventas_id": "9",
                                    "Fecha": "2018-04-20 00:00:00",
                                    "ID_local": "1",
                                    "clave_producto": "qsd",
                                    "venta": "1203",
                                    "venta_empleado": "9922377"
                                },
                                {
                                    "ventas_id": "12",
                                    "Fecha": "2019-09-03 00:00:00",
                                    "ID_local": "1",
                                    "clave_producto": "pzz",
                                    "venta": "1362",
                                    "venta_empleado": "5728566"
                                },
                                {
                                    "ventas_id": "13",
                                    "Fecha": "2019-07-16 00:00:00",
                                    "ID_local": "3",
                                    "clave_producto": "qsd",
                                    "venta": "1054",
                                    "venta_empleado": "2310967"
                                },
                                {
                                    "ventas_id": "14",
                                    "Fecha": "2019-08-27 00:00:00",
                                    "ID_local": "3",
                                    "clave_producto": "clz",
                                    "venta": "303",
                                    "venta_empleado": "3833745"
                                },
                                {
                                    "ventas_id": "17",
                                    "Fecha": "2019-10-25 00:00:00",
                                    "ID_local": "1",
                                    "clave_producto": "pzz",
                                    "venta": "1376",
                                    "venta_empleado": "6332756"
                                },
                                {
                                    "ventas_id": "18",
                                    "Fecha": "2019-12-14 00:00:00",
                                    "ID_local": "3",
                                    "clave_producto": "pzz",
                                    "venta": "957",
                                    "venta_empleado": "2310967"
                                },
                                {
                                    "ventas_id": "19",
                                    "Fecha": "2019-08-14 00:00:00",
                                    "ID_local": "2",
                                    "clave_producto": "clz",
                                    "venta": "972",
                                    "venta_empleado": "2310967"
                                },
                                {
                                    "ventas_id": "20",
                                    "Fecha": "2019-12-01 00:00:00",
                                    "ID_local": "1",
                                    "clave_producto": "pzz",
                                    "venta": "1455",
                                    "venta_empleado": "2310967"
                                },
                                {
                                    "ventas_id": "21",
                                    "Fecha": "2019-06-08 00:00:00",
                                    "ID_local": "4",
                                    "clave_producto": "qsd",
                                    "venta": "497",
                                    "venta_empleado": "5728566"
                                },
                                {
                                    "ventas_id": "22",
                                    "Fecha": "2019-07-25 00:00:00",
                                    "ID_local": "3",
                                    "clave_producto": "clz",
                                    "venta": "1179",
                                    "venta_empleado": "2310967"
                                }
                            ]
                        },
                        "text/html": "<table><tr><th>ventas_id</th><th>Fecha</th><th>ID_local</th><th>clave_producto</th><th>venta</th><th>venta_empleado</th></tr><tr><td>1</td><td>2018-11-18 00:00:00</td><td>2</td><td>pzz</td><td>1302</td><td>2630867</td></tr><tr><td>2</td><td>2018-09-17 00:00:00</td><td>2</td><td>clz</td><td>953</td><td>2310967</td></tr><tr><td>5</td><td>2018-05-16 00:00:00</td><td>1</td><td>qsd</td><td>495</td><td>2520477</td></tr><tr><td>6</td><td>2018-12-15 00:00:00</td><td>3</td><td>pzz</td><td>544</td><td>9611338</td></tr><tr><td>7</td><td>2018-07-28 00:00:00</td><td>4</td><td>pzz</td><td>1444</td><td>6332756</td></tr><tr><td>8</td><td>2018-10-05 00:00:00</td><td>1</td><td>pzz</td><td>435</td><td>2520477</td></tr><tr><td>9</td><td>2018-04-20 00:00:00</td><td>1</td><td>qsd</td><td>1203</td><td>9922377</td></tr><tr><td>12</td><td>2019-09-03 00:00:00</td><td>1</td><td>pzz</td><td>1362</td><td>5728566</td></tr><tr><td>13</td><td>2019-07-16 00:00:00</td><td>3</td><td>qsd</td><td>1054</td><td>2310967</td></tr><tr><td>14</td><td>2019-08-27 00:00:00</td><td>3</td><td>clz</td><td>303</td><td>3833745</td></tr><tr><td>17</td><td>2019-10-25 00:00:00</td><td>1</td><td>pzz</td><td>1376</td><td>6332756</td></tr><tr><td>18</td><td>2019-12-14 00:00:00</td><td>3</td><td>pzz</td><td>957</td><td>2310967</td></tr><tr><td>19</td><td>2019-08-14 00:00:00</td><td>2</td><td>clz</td><td>972</td><td>2310967</td></tr><tr><td>20</td><td>2019-12-01 00:00:00</td><td>1</td><td>pzz</td><td>1455</td><td>2310967</td></tr><tr><td>21</td><td>2019-06-08 00:00:00</td><td>4</td><td>qsd</td><td>497</td><td>5728566</td></tr><tr><td>22</td><td>2019-07-25 00:00:00</td><td>3</td><td>clz</td><td>1179</td><td>2310967</td></tr></table>"
                    },
                    "metadata": {}
                }
            ],
            "execution_count": 24
        },
        {
            "cell_type": "code",
            "source": [
                "SELECT *\r\n",
                "FROM ventas\r\n",
                "WHERE ID_local IN (1,2,3) AND clave_producto = \"pzz\";"
            ],
            "metadata": {
                "azdata_cell_guid": "4613e22f-fad0-45d2-918a-073bd0a86e3f",
                "language": "sql"
            },
            "outputs": [
                {
                    "output_type": "display_data",
                    "data": {
                        "text/html": "(7 row(s) affected)"
                    },
                    "metadata": {}
                },
                {
                    "output_type": "display_data",
                    "data": {
                        "text/html": "Total execution time: 00:00:01.007"
                    },
                    "metadata": {}
                },
                {
                    "output_type": "execute_result",
                    "execution_count": 25,
                    "data": {
                        "application/vnd.dataresource+json": {
                            "schema": {
                                "fields": [
                                    {
                                        "name": "ventas_id"
                                    },
                                    {
                                        "name": "Fecha"
                                    },
                                    {
                                        "name": "ID_local"
                                    },
                                    {
                                        "name": "clave_producto"
                                    },
                                    {
                                        "name": "venta"
                                    },
                                    {
                                        "name": "venta_empleado"
                                    }
                                ]
                            },
                            "data": [
                                {
                                    "ventas_id": "1",
                                    "Fecha": "2018-11-18 00:00:00",
                                    "ID_local": "2",
                                    "clave_producto": "pzz",
                                    "venta": "1302",
                                    "venta_empleado": "2630867"
                                },
                                {
                                    "ventas_id": "6",
                                    "Fecha": "2018-12-15 00:00:00",
                                    "ID_local": "3",
                                    "clave_producto": "pzz",
                                    "venta": "544",
                                    "venta_empleado": "9611338"
                                },
                                {
                                    "ventas_id": "8",
                                    "Fecha": "2018-10-05 00:00:00",
                                    "ID_local": "1",
                                    "clave_producto": "pzz",
                                    "venta": "435",
                                    "venta_empleado": "2520477"
                                },
                                {
                                    "ventas_id": "12",
                                    "Fecha": "2019-09-03 00:00:00",
                                    "ID_local": "1",
                                    "clave_producto": "pzz",
                                    "venta": "1362",
                                    "venta_empleado": "5728566"
                                },
                                {
                                    "ventas_id": "17",
                                    "Fecha": "2019-10-25 00:00:00",
                                    "ID_local": "1",
                                    "clave_producto": "pzz",
                                    "venta": "1376",
                                    "venta_empleado": "6332756"
                                },
                                {
                                    "ventas_id": "18",
                                    "Fecha": "2019-12-14 00:00:00",
                                    "ID_local": "3",
                                    "clave_producto": "pzz",
                                    "venta": "957",
                                    "venta_empleado": "2310967"
                                },
                                {
                                    "ventas_id": "20",
                                    "Fecha": "2019-12-01 00:00:00",
                                    "ID_local": "1",
                                    "clave_producto": "pzz",
                                    "venta": "1455",
                                    "venta_empleado": "2310967"
                                }
                            ]
                        },
                        "text/html": "<table><tr><th>ventas_id</th><th>Fecha</th><th>ID_local</th><th>clave_producto</th><th>venta</th><th>venta_empleado</th></tr><tr><td>1</td><td>2018-11-18 00:00:00</td><td>2</td><td>pzz</td><td>1302</td><td>2630867</td></tr><tr><td>6</td><td>2018-12-15 00:00:00</td><td>3</td><td>pzz</td><td>544</td><td>9611338</td></tr><tr><td>8</td><td>2018-10-05 00:00:00</td><td>1</td><td>pzz</td><td>435</td><td>2520477</td></tr><tr><td>12</td><td>2019-09-03 00:00:00</td><td>1</td><td>pzz</td><td>1362</td><td>5728566</td></tr><tr><td>17</td><td>2019-10-25 00:00:00</td><td>1</td><td>pzz</td><td>1376</td><td>6332756</td></tr><tr><td>18</td><td>2019-12-14 00:00:00</td><td>3</td><td>pzz</td><td>957</td><td>2310967</td></tr><tr><td>20</td><td>2019-12-01 00:00:00</td><td>1</td><td>pzz</td><td>1455</td><td>2310967</td></tr></table>"
                    },
                    "metadata": {}
                }
            ],
            "execution_count": 25
        },
        {
            "cell_type": "code",
            "source": [
                "SELECT *\r\n",
                "FROM ventas\r\n",
                "WHERE ID_local IN (1,2,3) AND clave_producto IN (\"clz\", \"pzz\");"
            ],
            "metadata": {
                "azdata_cell_guid": "fc0c6c83-4ccc-4c79-98a7-98b728274fa2",
                "language": "sql"
            },
            "outputs": [
                {
                    "output_type": "display_data",
                    "data": {
                        "text/html": "(11 row(s) affected)"
                    },
                    "metadata": {}
                },
                {
                    "output_type": "display_data",
                    "data": {
                        "text/html": "Total execution time: 00:00:01.009"
                    },
                    "metadata": {}
                },
                {
                    "output_type": "execute_result",
                    "execution_count": 26,
                    "data": {
                        "application/vnd.dataresource+json": {
                            "schema": {
                                "fields": [
                                    {
                                        "name": "ventas_id"
                                    },
                                    {
                                        "name": "Fecha"
                                    },
                                    {
                                        "name": "ID_local"
                                    },
                                    {
                                        "name": "clave_producto"
                                    },
                                    {
                                        "name": "venta"
                                    },
                                    {
                                        "name": "venta_empleado"
                                    }
                                ]
                            },
                            "data": [
                                {
                                    "ventas_id": "1",
                                    "Fecha": "2018-11-18 00:00:00",
                                    "ID_local": "2",
                                    "clave_producto": "pzz",
                                    "venta": "1302",
                                    "venta_empleado": "2630867"
                                },
                                {
                                    "ventas_id": "2",
                                    "Fecha": "2018-09-17 00:00:00",
                                    "ID_local": "2",
                                    "clave_producto": "clz",
                                    "venta": "953",
                                    "venta_empleado": "2310967"
                                },
                                {
                                    "ventas_id": "6",
                                    "Fecha": "2018-12-15 00:00:00",
                                    "ID_local": "3",
                                    "clave_producto": "pzz",
                                    "venta": "544",
                                    "venta_empleado": "9611338"
                                },
                                {
                                    "ventas_id": "8",
                                    "Fecha": "2018-10-05 00:00:00",
                                    "ID_local": "1",
                                    "clave_producto": "pzz",
                                    "venta": "435",
                                    "venta_empleado": "2520477"
                                },
                                {
                                    "ventas_id": "12",
                                    "Fecha": "2019-09-03 00:00:00",
                                    "ID_local": "1",
                                    "clave_producto": "pzz",
                                    "venta": "1362",
                                    "venta_empleado": "5728566"
                                },
                                {
                                    "ventas_id": "14",
                                    "Fecha": "2019-08-27 00:00:00",
                                    "ID_local": "3",
                                    "clave_producto": "clz",
                                    "venta": "303",
                                    "venta_empleado": "3833745"
                                },
                                {
                                    "ventas_id": "17",
                                    "Fecha": "2019-10-25 00:00:00",
                                    "ID_local": "1",
                                    "clave_producto": "pzz",
                                    "venta": "1376",
                                    "venta_empleado": "6332756"
                                },
                                {
                                    "ventas_id": "18",
                                    "Fecha": "2019-12-14 00:00:00",
                                    "ID_local": "3",
                                    "clave_producto": "pzz",
                                    "venta": "957",
                                    "venta_empleado": "2310967"
                                },
                                {
                                    "ventas_id": "19",
                                    "Fecha": "2019-08-14 00:00:00",
                                    "ID_local": "2",
                                    "clave_producto": "clz",
                                    "venta": "972",
                                    "venta_empleado": "2310967"
                                },
                                {
                                    "ventas_id": "20",
                                    "Fecha": "2019-12-01 00:00:00",
                                    "ID_local": "1",
                                    "clave_producto": "pzz",
                                    "venta": "1455",
                                    "venta_empleado": "2310967"
                                },
                                {
                                    "ventas_id": "22",
                                    "Fecha": "2019-07-25 00:00:00",
                                    "ID_local": "3",
                                    "clave_producto": "clz",
                                    "venta": "1179",
                                    "venta_empleado": "2310967"
                                }
                            ]
                        },
                        "text/html": "<table><tr><th>ventas_id</th><th>Fecha</th><th>ID_local</th><th>clave_producto</th><th>venta</th><th>venta_empleado</th></tr><tr><td>1</td><td>2018-11-18 00:00:00</td><td>2</td><td>pzz</td><td>1302</td><td>2630867</td></tr><tr><td>2</td><td>2018-09-17 00:00:00</td><td>2</td><td>clz</td><td>953</td><td>2310967</td></tr><tr><td>6</td><td>2018-12-15 00:00:00</td><td>3</td><td>pzz</td><td>544</td><td>9611338</td></tr><tr><td>8</td><td>2018-10-05 00:00:00</td><td>1</td><td>pzz</td><td>435</td><td>2520477</td></tr><tr><td>12</td><td>2019-09-03 00:00:00</td><td>1</td><td>pzz</td><td>1362</td><td>5728566</td></tr><tr><td>14</td><td>2019-08-27 00:00:00</td><td>3</td><td>clz</td><td>303</td><td>3833745</td></tr><tr><td>17</td><td>2019-10-25 00:00:00</td><td>1</td><td>pzz</td><td>1376</td><td>6332756</td></tr><tr><td>18</td><td>2019-12-14 00:00:00</td><td>3</td><td>pzz</td><td>957</td><td>2310967</td></tr><tr><td>19</td><td>2019-08-14 00:00:00</td><td>2</td><td>clz</td><td>972</td><td>2310967</td></tr><tr><td>20</td><td>2019-12-01 00:00:00</td><td>1</td><td>pzz</td><td>1455</td><td>2310967</td></tr><tr><td>22</td><td>2019-07-25 00:00:00</td><td>3</td><td>clz</td><td>1179</td><td>2310967</td></tr></table>"
                    },
                    "metadata": {}
                }
            ],
            "execution_count": 26
        },
        {
            "cell_type": "markdown",
            "source": [
                "**Between**"
            ],
            "metadata": {
                "azdata_cell_guid": "a24d1769-52a1-42b5-86e8-107ac1c15ee7"
            },
            "attachments": {}
        },
        {
            "cell_type": "code",
            "source": [
                "SELECT *\r\n",
                "FROM ventas \r\n",
                "WHERE venta>=500 AND venta <1000; "
            ],
            "metadata": {
                "azdata_cell_guid": "f2b433fd-054b-4ed0-baad-e4bcea69eef3",
                "language": "sql"
            },
            "outputs": [
                {
                    "output_type": "display_data",
                    "data": {
                        "text/html": "(6 row(s) affected)"
                    },
                    "metadata": {}
                },
                {
                    "output_type": "display_data",
                    "data": {
                        "text/html": "Total execution time: 00:00:01.026"
                    },
                    "metadata": {}
                },
                {
                    "output_type": "execute_result",
                    "execution_count": 27,
                    "data": {
                        "application/vnd.dataresource+json": {
                            "schema": {
                                "fields": [
                                    {
                                        "name": "ventas_id"
                                    },
                                    {
                                        "name": "Fecha"
                                    },
                                    {
                                        "name": "ID_local"
                                    },
                                    {
                                        "name": "clave_producto"
                                    },
                                    {
                                        "name": "venta"
                                    },
                                    {
                                        "name": "venta_empleado"
                                    }
                                ]
                            },
                            "data": [
                                {
                                    "ventas_id": "6",
                                    "Fecha": "2018-12-15 00:00:00",
                                    "ID_local": "3",
                                    "clave_producto": "pzz",
                                    "venta": "544",
                                    "venta_empleado": "9611338"
                                },
                                {
                                    "ventas_id": "15",
                                    "Fecha": "2019-12-15 00:00:00",
                                    "ID_local": "1",
                                    "clave_producto": "brr",
                                    "venta": "871",
                                    "venta_empleado": "2520477"
                                },
                                {
                                    "ventas_id": "4",
                                    "Fecha": "2018-10-30 00:00:00",
                                    "ID_local": "1",
                                    "clave_producto": "brr",
                                    "venta": "889",
                                    "venta_empleado": "9922377"
                                },
                                {
                                    "ventas_id": "2",
                                    "Fecha": "2018-09-17 00:00:00",
                                    "ID_local": "2",
                                    "clave_producto": "clz",
                                    "venta": "953",
                                    "venta_empleado": "2310967"
                                },
                                {
                                    "ventas_id": "18",
                                    "Fecha": "2019-12-14 00:00:00",
                                    "ID_local": "3",
                                    "clave_producto": "pzz",
                                    "venta": "957",
                                    "venta_empleado": "2310967"
                                },
                                {
                                    "ventas_id": "19",
                                    "Fecha": "2019-08-14 00:00:00",
                                    "ID_local": "2",
                                    "clave_producto": "clz",
                                    "venta": "972",
                                    "venta_empleado": "2310967"
                                }
                            ]
                        },
                        "text/html": "<table><tr><th>ventas_id</th><th>Fecha</th><th>ID_local</th><th>clave_producto</th><th>venta</th><th>venta_empleado</th></tr><tr><td>6</td><td>2018-12-15 00:00:00</td><td>3</td><td>pzz</td><td>544</td><td>9611338</td></tr><tr><td>15</td><td>2019-12-15 00:00:00</td><td>1</td><td>brr</td><td>871</td><td>2520477</td></tr><tr><td>4</td><td>2018-10-30 00:00:00</td><td>1</td><td>brr</td><td>889</td><td>9922377</td></tr><tr><td>2</td><td>2018-09-17 00:00:00</td><td>2</td><td>clz</td><td>953</td><td>2310967</td></tr><tr><td>18</td><td>2019-12-14 00:00:00</td><td>3</td><td>pzz</td><td>957</td><td>2310967</td></tr><tr><td>19</td><td>2019-08-14 00:00:00</td><td>2</td><td>clz</td><td>972</td><td>2310967</td></tr></table>"
                    },
                    "metadata": {}
                }
            ],
            "execution_count": 27
        },
        {
            "cell_type": "markdown",
            "source": [
                "El mismo resultado se obtiene usando Between"
            ],
            "metadata": {
                "azdata_cell_guid": "efa7b0a7-8ab3-472f-b66e-d964ea55e39f"
            },
            "attachments": {}
        },
        {
            "cell_type": "code",
            "source": [
                "SELECT *\r\n",
                "FROM ventas\r\n",
                "WHERE venta BETWEEN 500 AND 1000;"
            ],
            "metadata": {
                "azdata_cell_guid": "b4c36cf6-e856-4003-87b3-0c1d55ab2bf4",
                "language": "sql"
            },
            "outputs": [
                {
                    "output_type": "display_data",
                    "data": {
                        "text/html": "(6 row(s) affected)"
                    },
                    "metadata": {}
                },
                {
                    "output_type": "display_data",
                    "data": {
                        "text/html": "Total execution time: 00:00:01.043"
                    },
                    "metadata": {}
                },
                {
                    "output_type": "execute_result",
                    "execution_count": 28,
                    "data": {
                        "application/vnd.dataresource+json": {
                            "schema": {
                                "fields": [
                                    {
                                        "name": "ventas_id"
                                    },
                                    {
                                        "name": "Fecha"
                                    },
                                    {
                                        "name": "ID_local"
                                    },
                                    {
                                        "name": "clave_producto"
                                    },
                                    {
                                        "name": "venta"
                                    },
                                    {
                                        "name": "venta_empleado"
                                    }
                                ]
                            },
                            "data": [
                                {
                                    "ventas_id": "6",
                                    "Fecha": "2018-12-15 00:00:00",
                                    "ID_local": "3",
                                    "clave_producto": "pzz",
                                    "venta": "544",
                                    "venta_empleado": "9611338"
                                },
                                {
                                    "ventas_id": "15",
                                    "Fecha": "2019-12-15 00:00:00",
                                    "ID_local": "1",
                                    "clave_producto": "brr",
                                    "venta": "871",
                                    "venta_empleado": "2520477"
                                },
                                {
                                    "ventas_id": "4",
                                    "Fecha": "2018-10-30 00:00:00",
                                    "ID_local": "1",
                                    "clave_producto": "brr",
                                    "venta": "889",
                                    "venta_empleado": "9922377"
                                },
                                {
                                    "ventas_id": "2",
                                    "Fecha": "2018-09-17 00:00:00",
                                    "ID_local": "2",
                                    "clave_producto": "clz",
                                    "venta": "953",
                                    "venta_empleado": "2310967"
                                },
                                {
                                    "ventas_id": "18",
                                    "Fecha": "2019-12-14 00:00:00",
                                    "ID_local": "3",
                                    "clave_producto": "pzz",
                                    "venta": "957",
                                    "venta_empleado": "2310967"
                                },
                                {
                                    "ventas_id": "19",
                                    "Fecha": "2019-08-14 00:00:00",
                                    "ID_local": "2",
                                    "clave_producto": "clz",
                                    "venta": "972",
                                    "venta_empleado": "2310967"
                                }
                            ]
                        },
                        "text/html": "<table><tr><th>ventas_id</th><th>Fecha</th><th>ID_local</th><th>clave_producto</th><th>venta</th><th>venta_empleado</th></tr><tr><td>6</td><td>2018-12-15 00:00:00</td><td>3</td><td>pzz</td><td>544</td><td>9611338</td></tr><tr><td>15</td><td>2019-12-15 00:00:00</td><td>1</td><td>brr</td><td>871</td><td>2520477</td></tr><tr><td>4</td><td>2018-10-30 00:00:00</td><td>1</td><td>brr</td><td>889</td><td>9922377</td></tr><tr><td>2</td><td>2018-09-17 00:00:00</td><td>2</td><td>clz</td><td>953</td><td>2310967</td></tr><tr><td>18</td><td>2019-12-14 00:00:00</td><td>3</td><td>pzz</td><td>957</td><td>2310967</td></tr><tr><td>19</td><td>2019-08-14 00:00:00</td><td>2</td><td>clz</td><td>972</td><td>2310967</td></tr></table>"
                    },
                    "metadata": {}
                }
            ],
            "execution_count": 28
        },
        {
            "cell_type": "markdown",
            "source": [
                "**LIKE**"
            ],
            "metadata": {
                "azdata_cell_guid": "f1b8a4e5-1e10-4556-9ac2-3005be663d9f"
            },
            "attachments": {}
        },
        {
            "cell_type": "code",
            "source": [
                "SELECT *\r\n",
                "FROM ventas\r\n",
                "WHERE clave_producto=\"z\";"
            ],
            "metadata": {
                "azdata_cell_guid": "a22acdbe-381c-4565-b1ec-f9d7025632b9",
                "language": "sql"
            },
            "outputs": [
                {
                    "output_type": "display_data",
                    "data": {
                        "text/html": "(0 row(s) affected)"
                    },
                    "metadata": {}
                },
                {
                    "output_type": "display_data",
                    "data": {
                        "text/html": "Total execution time: 00:00:01.020"
                    },
                    "metadata": {}
                },
                {
                    "output_type": "execute_result",
                    "execution_count": 29,
                    "data": {
                        "application/vnd.dataresource+json": {
                            "schema": {
                                "fields": [
                                    {
                                        "name": "ventas_id"
                                    },
                                    {
                                        "name": "Fecha"
                                    },
                                    {
                                        "name": "ID_local"
                                    },
                                    {
                                        "name": "clave_producto"
                                    },
                                    {
                                        "name": "venta"
                                    },
                                    {
                                        "name": "venta_empleado"
                                    }
                                ]
                            },
                            "data": []
                        },
                        "text/html": "<table><tr><th>ventas_id</th><th>Fecha</th><th>ID_local</th><th>clave_producto</th><th>venta</th><th>venta_empleado</th></tr></table>"
                    },
                    "metadata": {}
                }
            ],
            "execution_count": 29
        },
        {
            "cell_type": "code",
            "source": [
                "SELECT *\r\n",
                "FROM ventas\r\n",
                "WHERE clave_producto LIKE \"%z\""
            ],
            "metadata": {
                "azdata_cell_guid": "16e2fc00-bb67-407f-8ae8-f208e4406c07",
                "language": "sql"
            },
            "outputs": [
                {
                    "output_type": "display_data",
                    "data": {
                        "text/html": "(12 row(s) affected)"
                    },
                    "metadata": {}
                },
                {
                    "output_type": "display_data",
                    "data": {
                        "text/html": "Total execution time: 00:00:01.004"
                    },
                    "metadata": {}
                },
                {
                    "output_type": "execute_result",
                    "execution_count": 30,
                    "data": {
                        "application/vnd.dataresource+json": {
                            "schema": {
                                "fields": [
                                    {
                                        "name": "ventas_id"
                                    },
                                    {
                                        "name": "Fecha"
                                    },
                                    {
                                        "name": "ID_local"
                                    },
                                    {
                                        "name": "clave_producto"
                                    },
                                    {
                                        "name": "venta"
                                    },
                                    {
                                        "name": "venta_empleado"
                                    }
                                ]
                            },
                            "data": [
                                {
                                    "ventas_id": "1",
                                    "Fecha": "2018-11-18 00:00:00",
                                    "ID_local": "2",
                                    "clave_producto": "pzz",
                                    "venta": "1302",
                                    "venta_empleado": "2630867"
                                },
                                {
                                    "ventas_id": "2",
                                    "Fecha": "2018-09-17 00:00:00",
                                    "ID_local": "2",
                                    "clave_producto": "clz",
                                    "venta": "953",
                                    "venta_empleado": "2310967"
                                },
                                {
                                    "ventas_id": "6",
                                    "Fecha": "2018-12-15 00:00:00",
                                    "ID_local": "3",
                                    "clave_producto": "pzz",
                                    "venta": "544",
                                    "venta_empleado": "9611338"
                                },
                                {
                                    "ventas_id": "7",
                                    "Fecha": "2018-07-28 00:00:00",
                                    "ID_local": "4",
                                    "clave_producto": "pzz",
                                    "venta": "1444",
                                    "venta_empleado": "6332756"
                                },
                                {
                                    "ventas_id": "8",
                                    "Fecha": "2018-10-05 00:00:00",
                                    "ID_local": "1",
                                    "clave_producto": "pzz",
                                    "venta": "435",
                                    "venta_empleado": "2520477"
                                },
                                {
                                    "ventas_id": "12",
                                    "Fecha": "2019-09-03 00:00:00",
                                    "ID_local": "1",
                                    "clave_producto": "pzz",
                                    "venta": "1362",
                                    "venta_empleado": "5728566"
                                },
                                {
                                    "ventas_id": "14",
                                    "Fecha": "2019-08-27 00:00:00",
                                    "ID_local": "3",
                                    "clave_producto": "clz",
                                    "venta": "303",
                                    "venta_empleado": "3833745"
                                },
                                {
                                    "ventas_id": "17",
                                    "Fecha": "2019-10-25 00:00:00",
                                    "ID_local": "1",
                                    "clave_producto": "pzz",
                                    "venta": "1376",
                                    "venta_empleado": "6332756"
                                },
                                {
                                    "ventas_id": "18",
                                    "Fecha": "2019-12-14 00:00:00",
                                    "ID_local": "3",
                                    "clave_producto": "pzz",
                                    "venta": "957",
                                    "venta_empleado": "2310967"
                                },
                                {
                                    "ventas_id": "19",
                                    "Fecha": "2019-08-14 00:00:00",
                                    "ID_local": "2",
                                    "clave_producto": "clz",
                                    "venta": "972",
                                    "venta_empleado": "2310967"
                                },
                                {
                                    "ventas_id": "20",
                                    "Fecha": "2019-12-01 00:00:00",
                                    "ID_local": "1",
                                    "clave_producto": "pzz",
                                    "venta": "1455",
                                    "venta_empleado": "2310967"
                                },
                                {
                                    "ventas_id": "22",
                                    "Fecha": "2019-07-25 00:00:00",
                                    "ID_local": "3",
                                    "clave_producto": "clz",
                                    "venta": "1179",
                                    "venta_empleado": "2310967"
                                }
                            ]
                        },
                        "text/html": "<table><tr><th>ventas_id</th><th>Fecha</th><th>ID_local</th><th>clave_producto</th><th>venta</th><th>venta_empleado</th></tr><tr><td>1</td><td>2018-11-18 00:00:00</td><td>2</td><td>pzz</td><td>1302</td><td>2630867</td></tr><tr><td>2</td><td>2018-09-17 00:00:00</td><td>2</td><td>clz</td><td>953</td><td>2310967</td></tr><tr><td>6</td><td>2018-12-15 00:00:00</td><td>3</td><td>pzz</td><td>544</td><td>9611338</td></tr><tr><td>7</td><td>2018-07-28 00:00:00</td><td>4</td><td>pzz</td><td>1444</td><td>6332756</td></tr><tr><td>8</td><td>2018-10-05 00:00:00</td><td>1</td><td>pzz</td><td>435</td><td>2520477</td></tr><tr><td>12</td><td>2019-09-03 00:00:00</td><td>1</td><td>pzz</td><td>1362</td><td>5728566</td></tr><tr><td>14</td><td>2019-08-27 00:00:00</td><td>3</td><td>clz</td><td>303</td><td>3833745</td></tr><tr><td>17</td><td>2019-10-25 00:00:00</td><td>1</td><td>pzz</td><td>1376</td><td>6332756</td></tr><tr><td>18</td><td>2019-12-14 00:00:00</td><td>3</td><td>pzz</td><td>957</td><td>2310967</td></tr><tr><td>19</td><td>2019-08-14 00:00:00</td><td>2</td><td>clz</td><td>972</td><td>2310967</td></tr><tr><td>20</td><td>2019-12-01 00:00:00</td><td>1</td><td>pzz</td><td>1455</td><td>2310967</td></tr><tr><td>22</td><td>2019-07-25 00:00:00</td><td>3</td><td>clz</td><td>1179</td><td>2310967</td></tr></table>"
                    },
                    "metadata": {}
                }
            ],
            "execution_count": 30
        },
        {
            "cell_type": "markdown",
            "source": [
                "% representa el cero, uno o multiples caracteres"
            ],
            "metadata": {
                "azdata_cell_guid": "10695d57-53c0-4495-b954-66af03ff3cd9"
            },
            "attachments": {}
        },
        {
            "cell_type": "code",
            "source": [
                "SELECT*\r\n",
                "FROM ventas\r\n",
                "WHERE clave_producto LIKE \"Z%\";"
            ],
            "metadata": {
                "azdata_cell_guid": "a69da292-9f0f-480a-947c-99cce5f249b1",
                "language": "sql"
            },
            "outputs": [
                {
                    "output_type": "display_data",
                    "data": {
                        "text/html": "(0 row(s) affected)"
                    },
                    "metadata": {}
                },
                {
                    "output_type": "display_data",
                    "data": {
                        "text/html": "Total execution time: 00:00:01.012"
                    },
                    "metadata": {}
                },
                {
                    "output_type": "execute_result",
                    "execution_count": 31,
                    "data": {
                        "application/vnd.dataresource+json": {
                            "schema": {
                                "fields": [
                                    {
                                        "name": "ventas_id"
                                    },
                                    {
                                        "name": "Fecha"
                                    },
                                    {
                                        "name": "ID_local"
                                    },
                                    {
                                        "name": "clave_producto"
                                    },
                                    {
                                        "name": "venta"
                                    },
                                    {
                                        "name": "venta_empleado"
                                    }
                                ]
                            },
                            "data": []
                        },
                        "text/html": "<table><tr><th>ventas_id</th><th>Fecha</th><th>ID_local</th><th>clave_producto</th><th>venta</th><th>venta_empleado</th></tr></table>"
                    },
                    "metadata": {}
                }
            ],
            "execution_count": 31
        },
        {
            "cell_type": "code",
            "source": [
                "SELECT *\r\n",
                "FROM ventas\r\n",
                "WHERE clave_producto LIKE \"c%\""
            ],
            "metadata": {
                "azdata_cell_guid": "4d952b93-52fa-4a2e-b243-fbf3cc494f43",
                "language": "sql"
            },
            "outputs": [
                {
                    "output_type": "display_data",
                    "data": {
                        "text/html": "(4 row(s) affected)"
                    },
                    "metadata": {}
                },
                {
                    "output_type": "display_data",
                    "data": {
                        "text/html": "Total execution time: 00:00:01.010"
                    },
                    "metadata": {}
                },
                {
                    "output_type": "execute_result",
                    "execution_count": 32,
                    "data": {
                        "application/vnd.dataresource+json": {
                            "schema": {
                                "fields": [
                                    {
                                        "name": "ventas_id"
                                    },
                                    {
                                        "name": "Fecha"
                                    },
                                    {
                                        "name": "ID_local"
                                    },
                                    {
                                        "name": "clave_producto"
                                    },
                                    {
                                        "name": "venta"
                                    },
                                    {
                                        "name": "venta_empleado"
                                    }
                                ]
                            },
                            "data": [
                                {
                                    "ventas_id": "2",
                                    "Fecha": "2018-09-17 00:00:00",
                                    "ID_local": "2",
                                    "clave_producto": "clz",
                                    "venta": "953",
                                    "venta_empleado": "2310967"
                                },
                                {
                                    "ventas_id": "14",
                                    "Fecha": "2019-08-27 00:00:00",
                                    "ID_local": "3",
                                    "clave_producto": "clz",
                                    "venta": "303",
                                    "venta_empleado": "3833745"
                                },
                                {
                                    "ventas_id": "19",
                                    "Fecha": "2019-08-14 00:00:00",
                                    "ID_local": "2",
                                    "clave_producto": "clz",
                                    "venta": "972",
                                    "venta_empleado": "2310967"
                                },
                                {
                                    "ventas_id": "22",
                                    "Fecha": "2019-07-25 00:00:00",
                                    "ID_local": "3",
                                    "clave_producto": "clz",
                                    "venta": "1179",
                                    "venta_empleado": "2310967"
                                }
                            ]
                        },
                        "text/html": "<table><tr><th>ventas_id</th><th>Fecha</th><th>ID_local</th><th>clave_producto</th><th>venta</th><th>venta_empleado</th></tr><tr><td>2</td><td>2018-09-17 00:00:00</td><td>2</td><td>clz</td><td>953</td><td>2310967</td></tr><tr><td>14</td><td>2019-08-27 00:00:00</td><td>3</td><td>clz</td><td>303</td><td>3833745</td></tr><tr><td>19</td><td>2019-08-14 00:00:00</td><td>2</td><td>clz</td><td>972</td><td>2310967</td></tr><tr><td>22</td><td>2019-07-25 00:00:00</td><td>3</td><td>clz</td><td>1179</td><td>2310967</td></tr></table>"
                    },
                    "metadata": {}
                }
            ],
            "execution_count": 32
        },
        {
            "cell_type": "code",
            "source": [
                "SELECT *\r\n",
                "FROM ventas\r\n",
                "WHERE clave_producto LIKE \"%d\""
            ],
            "metadata": {
                "azdata_cell_guid": "e5e5184f-2e7f-4f75-a796-e7ee38540618",
                "language": "sql"
            },
            "outputs": [
                {
                    "output_type": "display_data",
                    "data": {
                        "text/html": "(4 row(s) affected)"
                    },
                    "metadata": {}
                },
                {
                    "output_type": "display_data",
                    "data": {
                        "text/html": "Total execution time: 00:00:01.019"
                    },
                    "metadata": {}
                },
                {
                    "output_type": "execute_result",
                    "execution_count": 33,
                    "data": {
                        "application/vnd.dataresource+json": {
                            "schema": {
                                "fields": [
                                    {
                                        "name": "ventas_id"
                                    },
                                    {
                                        "name": "Fecha"
                                    },
                                    {
                                        "name": "ID_local"
                                    },
                                    {
                                        "name": "clave_producto"
                                    },
                                    {
                                        "name": "venta"
                                    },
                                    {
                                        "name": "venta_empleado"
                                    }
                                ]
                            },
                            "data": [
                                {
                                    "ventas_id": "5",
                                    "Fecha": "2018-05-16 00:00:00",
                                    "ID_local": "1",
                                    "clave_producto": "qsd",
                                    "venta": "495",
                                    "venta_empleado": "2520477"
                                },
                                {
                                    "ventas_id": "9",
                                    "Fecha": "2018-04-20 00:00:00",
                                    "ID_local": "1",
                                    "clave_producto": "qsd",
                                    "venta": "1203",
                                    "venta_empleado": "9922377"
                                },
                                {
                                    "ventas_id": "13",
                                    "Fecha": "2019-07-16 00:00:00",
                                    "ID_local": "3",
                                    "clave_producto": "qsd",
                                    "venta": "1054",
                                    "venta_empleado": "2310967"
                                },
                                {
                                    "ventas_id": "21",
                                    "Fecha": "2019-06-08 00:00:00",
                                    "ID_local": "4",
                                    "clave_producto": "qsd",
                                    "venta": "497",
                                    "venta_empleado": "5728566"
                                }
                            ]
                        },
                        "text/html": "<table><tr><th>ventas_id</th><th>Fecha</th><th>ID_local</th><th>clave_producto</th><th>venta</th><th>venta_empleado</th></tr><tr><td>5</td><td>2018-05-16 00:00:00</td><td>1</td><td>qsd</td><td>495</td><td>2520477</td></tr><tr><td>9</td><td>2018-04-20 00:00:00</td><td>1</td><td>qsd</td><td>1203</td><td>9922377</td></tr><tr><td>13</td><td>2019-07-16 00:00:00</td><td>3</td><td>qsd</td><td>1054</td><td>2310967</td></tr><tr><td>21</td><td>2019-06-08 00:00:00</td><td>4</td><td>qsd</td><td>497</td><td>5728566</td></tr></table>"
                    },
                    "metadata": {}
                }
            ],
            "execution_count": 33
        },
        {
            "cell_type": "markdown",
            "source": [
                "Un caracter en frente y luego la \"z\""
            ],
            "metadata": {
                "azdata_cell_guid": "c703b2bf-91ad-4db5-9f3b-e7644b26a549"
            },
            "attachments": {}
        },
        {
            "cell_type": "code",
            "source": [
                "SELECT *\r\n",
                "FROM ventas \r\n",
                "WHERE clave_producto LIKE \"_z\";"
            ],
            "metadata": {
                "azdata_cell_guid": "43231f06-2a84-476a-89ed-f328c9295c54",
                "language": "sql"
            },
            "outputs": [
                {
                    "output_type": "display_data",
                    "data": {
                        "text/html": "(0 row(s) affected)"
                    },
                    "metadata": {}
                },
                {
                    "output_type": "display_data",
                    "data": {
                        "text/html": "Total execution time: 00:00:01.018"
                    },
                    "metadata": {}
                },
                {
                    "output_type": "execute_result",
                    "execution_count": 34,
                    "data": {
                        "application/vnd.dataresource+json": {
                            "schema": {
                                "fields": [
                                    {
                                        "name": "ventas_id"
                                    },
                                    {
                                        "name": "Fecha"
                                    },
                                    {
                                        "name": "ID_local"
                                    },
                                    {
                                        "name": "clave_producto"
                                    },
                                    {
                                        "name": "venta"
                                    },
                                    {
                                        "name": "venta_empleado"
                                    }
                                ]
                            },
                            "data": []
                        },
                        "text/html": "<table><tr><th>ventas_id</th><th>Fecha</th><th>ID_local</th><th>clave_producto</th><th>venta</th><th>venta_empleado</th></tr></table>"
                    },
                    "metadata": {}
                }
            ],
            "execution_count": 34
        },
        {
            "cell_type": "markdown",
            "source": [
                "**\\_** representa un solo caracter"
            ],
            "metadata": {
                "azdata_cell_guid": "cd103595-dd4b-447a-a8cf-5fad6b493642"
            },
            "attachments": {}
        },
        {
            "cell_type": "code",
            "source": [
                "SELECT *\r\n",
                "FROM ventas\r\n",
                "WHERE clave_producto LIKE \"_Z_\";"
            ],
            "metadata": {
                "azdata_cell_guid": "8eb32041-3614-4873-ad2c-da3af2a499f3",
                "language": "sql"
            },
            "outputs": [
                {
                    "output_type": "display_data",
                    "data": {
                        "text/html": "(8 row(s) affected)"
                    },
                    "metadata": {}
                },
                {
                    "output_type": "display_data",
                    "data": {
                        "text/html": "Total execution time: 00:00:01.023"
                    },
                    "metadata": {}
                },
                {
                    "output_type": "execute_result",
                    "execution_count": 35,
                    "data": {
                        "application/vnd.dataresource+json": {
                            "schema": {
                                "fields": [
                                    {
                                        "name": "ventas_id"
                                    },
                                    {
                                        "name": "Fecha"
                                    },
                                    {
                                        "name": "ID_local"
                                    },
                                    {
                                        "name": "clave_producto"
                                    },
                                    {
                                        "name": "venta"
                                    },
                                    {
                                        "name": "venta_empleado"
                                    }
                                ]
                            },
                            "data": [
                                {
                                    "ventas_id": "1",
                                    "Fecha": "2018-11-18 00:00:00",
                                    "ID_local": "2",
                                    "clave_producto": "pzz",
                                    "venta": "1302",
                                    "venta_empleado": "2630867"
                                },
                                {
                                    "ventas_id": "6",
                                    "Fecha": "2018-12-15 00:00:00",
                                    "ID_local": "3",
                                    "clave_producto": "pzz",
                                    "venta": "544",
                                    "venta_empleado": "9611338"
                                },
                                {
                                    "ventas_id": "7",
                                    "Fecha": "2018-07-28 00:00:00",
                                    "ID_local": "4",
                                    "clave_producto": "pzz",
                                    "venta": "1444",
                                    "venta_empleado": "6332756"
                                },
                                {
                                    "ventas_id": "8",
                                    "Fecha": "2018-10-05 00:00:00",
                                    "ID_local": "1",
                                    "clave_producto": "pzz",
                                    "venta": "435",
                                    "venta_empleado": "2520477"
                                },
                                {
                                    "ventas_id": "12",
                                    "Fecha": "2019-09-03 00:00:00",
                                    "ID_local": "1",
                                    "clave_producto": "pzz",
                                    "venta": "1362",
                                    "venta_empleado": "5728566"
                                },
                                {
                                    "ventas_id": "17",
                                    "Fecha": "2019-10-25 00:00:00",
                                    "ID_local": "1",
                                    "clave_producto": "pzz",
                                    "venta": "1376",
                                    "venta_empleado": "6332756"
                                },
                                {
                                    "ventas_id": "18",
                                    "Fecha": "2019-12-14 00:00:00",
                                    "ID_local": "3",
                                    "clave_producto": "pzz",
                                    "venta": "957",
                                    "venta_empleado": "2310967"
                                },
                                {
                                    "ventas_id": "20",
                                    "Fecha": "2019-12-01 00:00:00",
                                    "ID_local": "1",
                                    "clave_producto": "pzz",
                                    "venta": "1455",
                                    "venta_empleado": "2310967"
                                }
                            ]
                        },
                        "text/html": "<table><tr><th>ventas_id</th><th>Fecha</th><th>ID_local</th><th>clave_producto</th><th>venta</th><th>venta_empleado</th></tr><tr><td>1</td><td>2018-11-18 00:00:00</td><td>2</td><td>pzz</td><td>1302</td><td>2630867</td></tr><tr><td>6</td><td>2018-12-15 00:00:00</td><td>3</td><td>pzz</td><td>544</td><td>9611338</td></tr><tr><td>7</td><td>2018-07-28 00:00:00</td><td>4</td><td>pzz</td><td>1444</td><td>6332756</td></tr><tr><td>8</td><td>2018-10-05 00:00:00</td><td>1</td><td>pzz</td><td>435</td><td>2520477</td></tr><tr><td>12</td><td>2019-09-03 00:00:00</td><td>1</td><td>pzz</td><td>1362</td><td>5728566</td></tr><tr><td>17</td><td>2019-10-25 00:00:00</td><td>1</td><td>pzz</td><td>1376</td><td>6332756</td></tr><tr><td>18</td><td>2019-12-14 00:00:00</td><td>3</td><td>pzz</td><td>957</td><td>2310967</td></tr><tr><td>20</td><td>2019-12-01 00:00:00</td><td>1</td><td>pzz</td><td>1455</td><td>2310967</td></tr></table>"
                    },
                    "metadata": {}
                }
            ],
            "execution_count": 35
        },
        {
            "cell_type": "markdown",
            "source": [
                "Dos caracteres  en frente  y luego  la z"
            ],
            "metadata": {
                "azdata_cell_guid": "fd7700c6-83a1-4221-8e61-36281ce30cf6"
            },
            "attachments": {}
        },
        {
            "cell_type": "code",
            "source": [
                "SELECT *\r\n",
                "FROM ventas\r\n",
                "WHERE clave_producto LIKE \"__z\";"
            ],
            "metadata": {
                "azdata_cell_guid": "5dcb6023-8077-40ab-b832-b30dfa89eece",
                "language": "sql"
            },
            "outputs": [
                {
                    "output_type": "display_data",
                    "data": {
                        "text/html": "(12 row(s) affected)"
                    },
                    "metadata": {}
                },
                {
                    "output_type": "display_data",
                    "data": {
                        "text/html": "Total execution time: 00:00:01.006"
                    },
                    "metadata": {}
                },
                {
                    "output_type": "execute_result",
                    "execution_count": 36,
                    "data": {
                        "application/vnd.dataresource+json": {
                            "schema": {
                                "fields": [
                                    {
                                        "name": "ventas_id"
                                    },
                                    {
                                        "name": "Fecha"
                                    },
                                    {
                                        "name": "ID_local"
                                    },
                                    {
                                        "name": "clave_producto"
                                    },
                                    {
                                        "name": "venta"
                                    },
                                    {
                                        "name": "venta_empleado"
                                    }
                                ]
                            },
                            "data": [
                                {
                                    "ventas_id": "1",
                                    "Fecha": "2018-11-18 00:00:00",
                                    "ID_local": "2",
                                    "clave_producto": "pzz",
                                    "venta": "1302",
                                    "venta_empleado": "2630867"
                                },
                                {
                                    "ventas_id": "2",
                                    "Fecha": "2018-09-17 00:00:00",
                                    "ID_local": "2",
                                    "clave_producto": "clz",
                                    "venta": "953",
                                    "venta_empleado": "2310967"
                                },
                                {
                                    "ventas_id": "6",
                                    "Fecha": "2018-12-15 00:00:00",
                                    "ID_local": "3",
                                    "clave_producto": "pzz",
                                    "venta": "544",
                                    "venta_empleado": "9611338"
                                },
                                {
                                    "ventas_id": "7",
                                    "Fecha": "2018-07-28 00:00:00",
                                    "ID_local": "4",
                                    "clave_producto": "pzz",
                                    "venta": "1444",
                                    "venta_empleado": "6332756"
                                },
                                {
                                    "ventas_id": "8",
                                    "Fecha": "2018-10-05 00:00:00",
                                    "ID_local": "1",
                                    "clave_producto": "pzz",
                                    "venta": "435",
                                    "venta_empleado": "2520477"
                                },
                                {
                                    "ventas_id": "12",
                                    "Fecha": "2019-09-03 00:00:00",
                                    "ID_local": "1",
                                    "clave_producto": "pzz",
                                    "venta": "1362",
                                    "venta_empleado": "5728566"
                                },
                                {
                                    "ventas_id": "14",
                                    "Fecha": "2019-08-27 00:00:00",
                                    "ID_local": "3",
                                    "clave_producto": "clz",
                                    "venta": "303",
                                    "venta_empleado": "3833745"
                                },
                                {
                                    "ventas_id": "17",
                                    "Fecha": "2019-10-25 00:00:00",
                                    "ID_local": "1",
                                    "clave_producto": "pzz",
                                    "venta": "1376",
                                    "venta_empleado": "6332756"
                                },
                                {
                                    "ventas_id": "18",
                                    "Fecha": "2019-12-14 00:00:00",
                                    "ID_local": "3",
                                    "clave_producto": "pzz",
                                    "venta": "957",
                                    "venta_empleado": "2310967"
                                },
                                {
                                    "ventas_id": "19",
                                    "Fecha": "2019-08-14 00:00:00",
                                    "ID_local": "2",
                                    "clave_producto": "clz",
                                    "venta": "972",
                                    "venta_empleado": "2310967"
                                },
                                {
                                    "ventas_id": "20",
                                    "Fecha": "2019-12-01 00:00:00",
                                    "ID_local": "1",
                                    "clave_producto": "pzz",
                                    "venta": "1455",
                                    "venta_empleado": "2310967"
                                },
                                {
                                    "ventas_id": "22",
                                    "Fecha": "2019-07-25 00:00:00",
                                    "ID_local": "3",
                                    "clave_producto": "clz",
                                    "venta": "1179",
                                    "venta_empleado": "2310967"
                                }
                            ]
                        },
                        "text/html": "<table><tr><th>ventas_id</th><th>Fecha</th><th>ID_local</th><th>clave_producto</th><th>venta</th><th>venta_empleado</th></tr><tr><td>1</td><td>2018-11-18 00:00:00</td><td>2</td><td>pzz</td><td>1302</td><td>2630867</td></tr><tr><td>2</td><td>2018-09-17 00:00:00</td><td>2</td><td>clz</td><td>953</td><td>2310967</td></tr><tr><td>6</td><td>2018-12-15 00:00:00</td><td>3</td><td>pzz</td><td>544</td><td>9611338</td></tr><tr><td>7</td><td>2018-07-28 00:00:00</td><td>4</td><td>pzz</td><td>1444</td><td>6332756</td></tr><tr><td>8</td><td>2018-10-05 00:00:00</td><td>1</td><td>pzz</td><td>435</td><td>2520477</td></tr><tr><td>12</td><td>2019-09-03 00:00:00</td><td>1</td><td>pzz</td><td>1362</td><td>5728566</td></tr><tr><td>14</td><td>2019-08-27 00:00:00</td><td>3</td><td>clz</td><td>303</td><td>3833745</td></tr><tr><td>17</td><td>2019-10-25 00:00:00</td><td>1</td><td>pzz</td><td>1376</td><td>6332756</td></tr><tr><td>18</td><td>2019-12-14 00:00:00</td><td>3</td><td>pzz</td><td>957</td><td>2310967</td></tr><tr><td>19</td><td>2019-08-14 00:00:00</td><td>2</td><td>clz</td><td>972</td><td>2310967</td></tr><tr><td>20</td><td>2019-12-01 00:00:00</td><td>1</td><td>pzz</td><td>1455</td><td>2310967</td></tr><tr><td>22</td><td>2019-07-25 00:00:00</td><td>3</td><td>clz</td><td>1179</td><td>2310967</td></tr></table>"
                    },
                    "metadata": {}
                }
            ],
            "execution_count": 36
        },
        {
            "cell_type": "markdown",
            "source": [
                "muestra todos los nombres que empiezan con **A**"
            ],
            "metadata": {
                "azdata_cell_guid": "73d92202-b4c2-4053-aa68-bd57ff646a27"
            },
            "attachments": {}
        },
        {
            "cell_type": "code",
            "source": [
                "SELECT *\r\n",
                "FROM empleados\r\n",
                "WHERE nombre LIKE \"A%\";"
            ],
            "metadata": {
                "azdata_cell_guid": "2853fa71-d87d-41b6-b350-b003cf3e3dcb",
                "language": "sql"
            },
            "outputs": [
                {
                    "output_type": "display_data",
                    "data": {
                        "text/html": "(4 row(s) affected)"
                    },
                    "metadata": {}
                },
                {
                    "output_type": "display_data",
                    "data": {
                        "text/html": "Total execution time: 00:00:01.078"
                    },
                    "metadata": {}
                },
                {
                    "output_type": "execute_result",
                    "execution_count": 37,
                    "data": {
                        "application/vnd.dataresource+json": {
                            "schema": {
                                "fields": [
                                    {
                                        "name": "ID_empleado"
                                    },
                                    {
                                        "name": "Nombre"
                                    },
                                    {
                                        "name": "Apellido"
                                    },
                                    {
                                        "name": "Telefono"
                                    },
                                    {
                                        "name": "Edad"
                                    },
                                    {
                                        "name": "Domicilio"
                                    },
                                    {
                                        "name": "ID_Gerente"
                                    }
                                ]
                            },
                            "data": [
                                {
                                    "ID_empleado": "1111222",
                                    "Nombre": "Alberto",
                                    "Apellido": "Barrientos",
                                    "Telefono": "34766613",
                                    "Edad": "26",
                                    "Domicilio": "Federal 233",
                                    "ID_Gerente": "5942572"
                                },
                                {
                                    "ID_empleado": "4245367",
                                    "Nombre": "Alexandra",
                                    "Apellido": "Zapata",
                                    "Telefono": "33467136",
                                    "Edad": "31",
                                    "Domicilio": "Ingenieros 234",
                                    "ID_Gerente": "5942572"
                                },
                                {
                                    "ID_empleado": "6931035",
                                    "Nombre": "Albeiro",
                                    "Apellido": "Villa",
                                    "Telefono": "33631010",
                                    "Edad": "39",
                                    "Domicilio": "Carniceros 233",
                                    "ID_Gerente": "5942572"
                                },
                                {
                                    "ID_empleado": "9922377",
                                    "Nombre": "Alexander",
                                    "Apellido": "Martinez",
                                    "Telefono": "36554872",
                                    "Edad": "28",
                                    "Domicilio": "Camino viejo 123",
                                    "ID_Gerente": "5942572"
                                }
                            ]
                        },
                        "text/html": "<table><tr><th>ID_empleado</th><th>Nombre</th><th>Apellido</th><th>Telefono</th><th>Edad</th><th>Domicilio</th><th>ID_Gerente</th></tr><tr><td>1111222</td><td>Alberto</td><td>Barrientos</td><td>34766613</td><td>26</td><td>Federal 233</td><td>5942572</td></tr><tr><td>4245367</td><td>Alexandra</td><td>Zapata</td><td>33467136</td><td>31</td><td>Ingenieros 234</td><td>5942572</td></tr><tr><td>6931035</td><td>Albeiro</td><td>Villa</td><td>33631010</td><td>39</td><td>Carniceros 233</td><td>5942572</td></tr><tr><td>9922377</td><td>Alexander</td><td>Martinez</td><td>36554872</td><td>28</td><td>Camino viejo 123</td><td>5942572</td></tr></table>"
                    },
                    "metadata": {}
                }
            ],
            "execution_count": 37
        },
        {
            "cell_type": "markdown",
            "source": [
                "TODOS LOS QUE TIENEN UNA “a” en su nombre. O también todos los nombres que tienen caracteres antes y luego la “a”"
            ],
            "metadata": {
                "azdata_cell_guid": "1eebce40-347a-44f5-aa7b-c71b07dfa878"
            },
            "attachments": {}
        },
        {
            "cell_type": "code",
            "source": [
                "SELECT *\r\n",
                "FROM empleados\r\n",
                "WHERE nombre LIKE \"%a\";"
            ],
            "metadata": {
                "azdata_cell_guid": "d41da0cf-56cd-4289-b466-c4b345e7ca97",
                "language": "sql"
            },
            "outputs": [
                {
                    "output_type": "display_data",
                    "data": {
                        "text/html": "(3 row(s) affected)"
                    },
                    "metadata": {}
                },
                {
                    "output_type": "display_data",
                    "data": {
                        "text/html": "Total execution time: 00:00:01.008"
                    },
                    "metadata": {}
                },
                {
                    "output_type": "execute_result",
                    "execution_count": 38,
                    "data": {
                        "application/vnd.dataresource+json": {
                            "schema": {
                                "fields": [
                                    {
                                        "name": "ID_empleado"
                                    },
                                    {
                                        "name": "Nombre"
                                    },
                                    {
                                        "name": "Apellido"
                                    },
                                    {
                                        "name": "Telefono"
                                    },
                                    {
                                        "name": "Edad"
                                    },
                                    {
                                        "name": "Domicilio"
                                    },
                                    {
                                        "name": "ID_Gerente"
                                    }
                                ]
                            },
                            "data": [
                                {
                                    "ID_empleado": "2630867",
                                    "Nombre": "Elena",
                                    "Apellido": "Atehortua",
                                    "Telefono": "35581732",
                                    "Edad": "37",
                                    "Domicilio": "Sierra del tigre 299",
                                    "ID_Gerente": "5942572"
                                },
                                {
                                    "ID_empleado": "3833745",
                                    "Nombre": "Maria",
                                    "Apellido": "Zapata",
                                    "Telefono": "35354455",
                                    "Edad": "34",
                                    "Domicilio": "Boulevard 85",
                                    "ID_Gerente": "5942572"
                                },
                                {
                                    "ID_empleado": "4245367",
                                    "Nombre": "Alexandra",
                                    "Apellido": "Zapata",
                                    "Telefono": "33467136",
                                    "Edad": "31",
                                    "Domicilio": "Ingenieros 234",
                                    "ID_Gerente": "5942572"
                                }
                            ]
                        },
                        "text/html": "<table><tr><th>ID_empleado</th><th>Nombre</th><th>Apellido</th><th>Telefono</th><th>Edad</th><th>Domicilio</th><th>ID_Gerente</th></tr><tr><td>2630867</td><td>Elena</td><td>Atehortua</td><td>35581732</td><td>37</td><td>Sierra del tigre 299</td><td>5942572</td></tr><tr><td>3833745</td><td>Maria</td><td>Zapata</td><td>35354455</td><td>34</td><td>Boulevard 85</td><td>5942572</td></tr><tr><td>4245367</td><td>Alexandra</td><td>Zapata</td><td>33467136</td><td>31</td><td>Ingenieros 234</td><td>5942572</td></tr></table>"
                    },
                    "metadata": {}
                }
            ],
            "execution_count": 38
        },
        {
            "cell_type": "markdown",
            "source": [
                "Expresiones regulares : comumente llamadas  regex son patrones de simbolo y carateres utilizados para hacer match con una busqueda"
            ],
            "metadata": {
                "azdata_cell_guid": "d3f1999b-0a93-417a-b86a-d96c2a10cad5"
            },
            "attachments": {}
        },
        {
            "cell_type": "code",
            "source": [
                "SELECT *\r\n",
                "FROM empleados\r\n",
                "WHERE apellido REGEXP \"ez\";\r\n",
                "\r\n",
                "\r\n",
                "USE datos;"
            ],
            "metadata": {
                "azdata_cell_guid": "4ed4be48-9303-4c6a-be7f-0b0e53742070",
                "language": "sql"
            },
            "outputs": [
                {
                    "output_type": "display_data",
                    "data": {
                        "text/html": "Total execution time: 00:00:00"
                    },
                    "metadata": {}
                },
                {
                    "output_type": "error",
                    "ename": "",
                    "evalue": "1046 (3D000): No database selected",
                    "traceback": []
                }
            ],
            "execution_count": 5
        },
        {
            "cell_type": "code",
            "source": [
                "USE datos;"
            ],
            "metadata": {
                "azdata_cell_guid": "20c4be24-e2b5-4ab3-9e1c-cad4078e5041",
                "language": "sql"
            },
            "outputs": [
                {
                    "output_type": "display_data",
                    "data": {
                        "text/html": "Commands completed successfully"
                    },
                    "metadata": {}
                },
                {
                    "output_type": "display_data",
                    "data": {
                        "text/html": "Total execution time: 00:00:00.008"
                    },
                    "metadata": {}
                }
            ],
            "execution_count": 6
        },
        {
            "cell_type": "code",
            "source": [
                "SELECT *\r\n",
                "FROM empleados\r\n",
                "WHERE apellido REGEXP \"ez\";"
            ],
            "metadata": {
                "azdata_cell_guid": "934bce01-97e5-4bbc-aa5c-9bf5d56386a0",
                "language": "sql"
            },
            "outputs": [
                {
                    "output_type": "display_data",
                    "data": {
                        "text/html": "(3 row(s) affected)"
                    },
                    "metadata": {}
                },
                {
                    "output_type": "display_data",
                    "data": {
                        "text/html": "Total execution time: 00:00:01.059"
                    },
                    "metadata": {}
                },
                {
                    "output_type": "execute_result",
                    "execution_count": 7,
                    "data": {
                        "application/vnd.dataresource+json": {
                            "schema": {
                                "fields": [
                                    {
                                        "name": "ID_empleado"
                                    },
                                    {
                                        "name": "Nombre"
                                    },
                                    {
                                        "name": "Apellido"
                                    },
                                    {
                                        "name": "Telefono"
                                    },
                                    {
                                        "name": "Edad"
                                    },
                                    {
                                        "name": "Domicilio"
                                    },
                                    {
                                        "name": "ID_Gerente"
                                    }
                                ]
                            },
                            "data": [
                                {
                                    "ID_empleado": "2520477",
                                    "Nombre": "Egidio",
                                    "Apellido": "Lopez",
                                    "Telefono": "33444383",
                                    "Edad": "24",
                                    "Domicilio": "Rosas 996",
                                    "ID_Gerente": "5942572"
                                },
                                {
                                    "ID_empleado": "6332756",
                                    "Nombre": "Reinaldo",
                                    "Apellido": "Gonzalez",
                                    "Telefono": "36642727",
                                    "Edad": "43",
                                    "Domicilio": "Vallarta 711",
                                    "ID_Gerente": "5942572"
                                },
                                {
                                    "ID_empleado": "9922377",
                                    "Nombre": "Alexander",
                                    "Apellido": "Martinez",
                                    "Telefono": "36554872",
                                    "Edad": "28",
                                    "Domicilio": "Camino viejo 123",
                                    "ID_Gerente": "5942572"
                                }
                            ]
                        },
                        "text/html": "<table><tr><th>ID_empleado</th><th>Nombre</th><th>Apellido</th><th>Telefono</th><th>Edad</th><th>Domicilio</th><th>ID_Gerente</th></tr><tr><td>2520477</td><td>Egidio</td><td>Lopez</td><td>33444383</td><td>24</td><td>Rosas 996</td><td>5942572</td></tr><tr><td>6332756</td><td>Reinaldo</td><td>Gonzalez</td><td>36642727</td><td>43</td><td>Vallarta 711</td><td>5942572</td></tr><tr><td>9922377</td><td>Alexander</td><td>Martinez</td><td>36554872</td><td>28</td><td>Camino viejo 123</td><td>5942572</td></tr></table>"
                    },
                    "metadata": {}
                }
            ],
            "execution_count": 7
        },
        {
            "cell_type": "markdown",
            "source": [
                "Mostro todo lo que tenia \"ez\" en algún lado\n",
                "\n",
                "**Regexp:** Trae como retorno los registros que coincidan con el patrón realizado con expresiones regulares."
            ],
            "metadata": {
                "azdata_cell_guid": "65a09ee5-8e94-4264-9c78-5ec611451b65"
            },
            "attachments": {}
        },
        {
            "cell_type": "code",
            "source": [
                "SELECT *\r\n",
                "FROM empleados\r\n",
                "WHERE apellido REGEXP \"e\";"
            ],
            "metadata": {
                "azdata_cell_guid": "53044f8c-53da-4cc6-be40-48db714aae54",
                "language": "sql"
            },
            "outputs": [
                {
                    "output_type": "display_data",
                    "data": {
                        "text/html": "(6 row(s) affected)"
                    },
                    "metadata": {}
                },
                {
                    "output_type": "display_data",
                    "data": {
                        "text/html": "Total execution time: 00:00:01.021"
                    },
                    "metadata": {}
                },
                {
                    "output_type": "execute_result",
                    "execution_count": 8,
                    "data": {
                        "application/vnd.dataresource+json": {
                            "schema": {
                                "fields": [
                                    {
                                        "name": "ID_empleado"
                                    },
                                    {
                                        "name": "Nombre"
                                    },
                                    {
                                        "name": "Apellido"
                                    },
                                    {
                                        "name": "Telefono"
                                    },
                                    {
                                        "name": "Edad"
                                    },
                                    {
                                        "name": "Domicilio"
                                    },
                                    {
                                        "name": "ID_Gerente"
                                    }
                                ]
                            },
                            "data": [
                                {
                                    "ID_empleado": "1111222",
                                    "Nombre": "Alberto",
                                    "Apellido": "Barrientos",
                                    "Telefono": "34766613",
                                    "Edad": "26",
                                    "Domicilio": "Federal 233",
                                    "ID_Gerente": "5942572"
                                },
                                {
                                    "ID_empleado": "2520477",
                                    "Nombre": "Egidio",
                                    "Apellido": "Lopez",
                                    "Telefono": "33444383",
                                    "Edad": "24",
                                    "Domicilio": "Rosas 996",
                                    "ID_Gerente": "5942572"
                                },
                                {
                                    "ID_empleado": "2630867",
                                    "Nombre": "Elena",
                                    "Apellido": "Atehortua",
                                    "Telefono": "35581732",
                                    "Edad": "37",
                                    "Domicilio": "Sierra del tigre 299",
                                    "ID_Gerente": "5942572"
                                },
                                {
                                    "ID_empleado": "5942572",
                                    "Nombre": "Jesus",
                                    "Apellido": "Agudelo",
                                    "Telefono": "34616222",
                                    "Edad": "35",
                                    "Domicilio": "NULL",
                                    "ID_Gerente": "NULL"
                                },
                                {
                                    "ID_empleado": "6332756",
                                    "Nombre": "Reinaldo",
                                    "Apellido": "Gonzalez",
                                    "Telefono": "36642727",
                                    "Edad": "43",
                                    "Domicilio": "Vallarta 711",
                                    "ID_Gerente": "5942572"
                                },
                                {
                                    "ID_empleado": "9922377",
                                    "Nombre": "Alexander",
                                    "Apellido": "Martinez",
                                    "Telefono": "36554872",
                                    "Edad": "28",
                                    "Domicilio": "Camino viejo 123",
                                    "ID_Gerente": "5942572"
                                }
                            ]
                        },
                        "text/html": "<table><tr><th>ID_empleado</th><th>Nombre</th><th>Apellido</th><th>Telefono</th><th>Edad</th><th>Domicilio</th><th>ID_Gerente</th></tr><tr><td>1111222</td><td>Alberto</td><td>Barrientos</td><td>34766613</td><td>26</td><td>Federal 233</td><td>5942572</td></tr><tr><td>2520477</td><td>Egidio</td><td>Lopez</td><td>33444383</td><td>24</td><td>Rosas 996</td><td>5942572</td></tr><tr><td>2630867</td><td>Elena</td><td>Atehortua</td><td>35581732</td><td>37</td><td>Sierra del tigre 299</td><td>5942572</td></tr><tr><td>5942572</td><td>Jesus</td><td>Agudelo</td><td>34616222</td><td>35</td><td>NULL</td><td>NULL</td></tr><tr><td>6332756</td><td>Reinaldo</td><td>Gonzalez</td><td>36642727</td><td>43</td><td>Vallarta 711</td><td>5942572</td></tr><tr><td>9922377</td><td>Alexander</td><td>Martinez</td><td>36554872</td><td>28</td><td>Camino viejo 123</td><td>5942572</td></tr></table>"
                    },
                    "metadata": {}
                }
            ],
            "execution_count": 8
        },
        {
            "cell_type": "markdown",
            "source": [
                "mostro todo lo que tenia \"**e\"**  en el apellido"
            ],
            "metadata": {
                "azdata_cell_guid": "6f1022cc-6932-449b-9adb-d38bcc220d92"
            },
            "attachments": {}
        },
        {
            "cell_type": "code",
            "source": [
                "SELECT *\r\n",
                "FROM empleados\r\n",
                "WHERE apellido REGEXP \"^L\";"
            ],
            "metadata": {
                "azdata_cell_guid": "c24a95c3-0967-4e0c-bc25-0456fc009b50",
                "language": "sql"
            },
            "outputs": [
                {
                    "output_type": "display_data",
                    "data": {
                        "text/html": "(1 row(s) affected)"
                    },
                    "metadata": {}
                },
                {
                    "output_type": "display_data",
                    "data": {
                        "text/html": "Total execution time: 00:00:01.023"
                    },
                    "metadata": {}
                },
                {
                    "output_type": "execute_result",
                    "execution_count": 9,
                    "data": {
                        "application/vnd.dataresource+json": {
                            "schema": {
                                "fields": [
                                    {
                                        "name": "ID_empleado"
                                    },
                                    {
                                        "name": "Nombre"
                                    },
                                    {
                                        "name": "Apellido"
                                    },
                                    {
                                        "name": "Telefono"
                                    },
                                    {
                                        "name": "Edad"
                                    },
                                    {
                                        "name": "Domicilio"
                                    },
                                    {
                                        "name": "ID_Gerente"
                                    }
                                ]
                            },
                            "data": [
                                {
                                    "ID_empleado": "2520477",
                                    "Nombre": "Egidio",
                                    "Apellido": "Lopez",
                                    "Telefono": "33444383",
                                    "Edad": "24",
                                    "Domicilio": "Rosas 996",
                                    "ID_Gerente": "5942572"
                                }
                            ]
                        },
                        "text/html": "<table><tr><th>ID_empleado</th><th>Nombre</th><th>Apellido</th><th>Telefono</th><th>Edad</th><th>Domicilio</th><th>ID_Gerente</th></tr><tr><td>2520477</td><td>Egidio</td><td>Lopez</td><td>33444383</td><td>24</td><td>Rosas 996</td><td>5942572</td></tr></table>"
                    },
                    "metadata": {}
                }
            ],
            "execution_count": 9
        },
        {
            "cell_type": "markdown",
            "source": [
                "traeme lo que sea que empiece con **\"L\"** en apellido\n",
                "\n",
                "El operador **^ muestra la coincidencia** con el principio del string"
            ],
            "metadata": {
                "azdata_cell_guid": "23435e55-d5d3-4d93-8c2a-bd487ddb4b3e"
            },
            "attachments": {}
        },
        {
            "cell_type": "code",
            "source": [
                "SELECT *\r\n",
                "FROM empleados\r\n",
                "WHERE apellido REGEXP \"^Lo\";"
            ],
            "metadata": {
                "azdata_cell_guid": "5dcb3624-1513-49a6-a144-4e2093c45a38",
                "language": "sql"
            },
            "outputs": [
                {
                    "output_type": "display_data",
                    "data": {
                        "text/html": "(1 row(s) affected)"
                    },
                    "metadata": {}
                },
                {
                    "output_type": "display_data",
                    "data": {
                        "text/html": "Total execution time: 00:00:01.010"
                    },
                    "metadata": {}
                },
                {
                    "output_type": "execute_result",
                    "execution_count": 10,
                    "data": {
                        "application/vnd.dataresource+json": {
                            "schema": {
                                "fields": [
                                    {
                                        "name": "ID_empleado"
                                    },
                                    {
                                        "name": "Nombre"
                                    },
                                    {
                                        "name": "Apellido"
                                    },
                                    {
                                        "name": "Telefono"
                                    },
                                    {
                                        "name": "Edad"
                                    },
                                    {
                                        "name": "Domicilio"
                                    },
                                    {
                                        "name": "ID_Gerente"
                                    }
                                ]
                            },
                            "data": [
                                {
                                    "ID_empleado": "2520477",
                                    "Nombre": "Egidio",
                                    "Apellido": "Lopez",
                                    "Telefono": "33444383",
                                    "Edad": "24",
                                    "Domicilio": "Rosas 996",
                                    "ID_Gerente": "5942572"
                                }
                            ]
                        },
                        "text/html": "<table><tr><th>ID_empleado</th><th>Nombre</th><th>Apellido</th><th>Telefono</th><th>Edad</th><th>Domicilio</th><th>ID_Gerente</th></tr><tr><td>2520477</td><td>Egidio</td><td>Lopez</td><td>33444383</td><td>24</td><td>Rosas 996</td><td>5942572</td></tr></table>"
                    },
                    "metadata": {}
                }
            ],
            "execution_count": 10
        },
        {
            "cell_type": "markdown",
            "source": [
                "traeme lo que sea que termine con \"ez$\" en apellido \n",
                "\n",
                "**operador \"$\"** busca las **coincidencias** con el final del string"
            ],
            "metadata": {
                "azdata_cell_guid": "b0de3105-d62e-4ec6-ab20-9a29b91f2a9d"
            },
            "attachments": {}
        },
        {
            "cell_type": "code",
            "source": [
                "SELECT *\r\n",
                "FROM empleados\r\n",
                "WHERE apellido REGEXP \"ez$\";"
            ],
            "metadata": {
                "azdata_cell_guid": "7fa6397c-9915-499f-a28e-21098f9705fd",
                "language": "sql"
            },
            "outputs": [
                {
                    "output_type": "display_data",
                    "data": {
                        "text/html": "(3 row(s) affected)"
                    },
                    "metadata": {}
                },
                {
                    "output_type": "display_data",
                    "data": {
                        "text/html": "Total execution time: 00:00:01.026"
                    },
                    "metadata": {}
                },
                {
                    "output_type": "execute_result",
                    "execution_count": 11,
                    "data": {
                        "application/vnd.dataresource+json": {
                            "schema": {
                                "fields": [
                                    {
                                        "name": "ID_empleado"
                                    },
                                    {
                                        "name": "Nombre"
                                    },
                                    {
                                        "name": "Apellido"
                                    },
                                    {
                                        "name": "Telefono"
                                    },
                                    {
                                        "name": "Edad"
                                    },
                                    {
                                        "name": "Domicilio"
                                    },
                                    {
                                        "name": "ID_Gerente"
                                    }
                                ]
                            },
                            "data": [
                                {
                                    "ID_empleado": "2520477",
                                    "Nombre": "Egidio",
                                    "Apellido": "Lopez",
                                    "Telefono": "33444383",
                                    "Edad": "24",
                                    "Domicilio": "Rosas 996",
                                    "ID_Gerente": "5942572"
                                },
                                {
                                    "ID_empleado": "6332756",
                                    "Nombre": "Reinaldo",
                                    "Apellido": "Gonzalez",
                                    "Telefono": "36642727",
                                    "Edad": "43",
                                    "Domicilio": "Vallarta 711",
                                    "ID_Gerente": "5942572"
                                },
                                {
                                    "ID_empleado": "9922377",
                                    "Nombre": "Alexander",
                                    "Apellido": "Martinez",
                                    "Telefono": "36554872",
                                    "Edad": "28",
                                    "Domicilio": "Camino viejo 123",
                                    "ID_Gerente": "5942572"
                                }
                            ]
                        },
                        "text/html": "<table><tr><th>ID_empleado</th><th>Nombre</th><th>Apellido</th><th>Telefono</th><th>Edad</th><th>Domicilio</th><th>ID_Gerente</th></tr><tr><td>2520477</td><td>Egidio</td><td>Lopez</td><td>33444383</td><td>24</td><td>Rosas 996</td><td>5942572</td></tr><tr><td>6332756</td><td>Reinaldo</td><td>Gonzalez</td><td>36642727</td><td>43</td><td>Vallarta 711</td><td>5942572</td></tr><tr><td>9922377</td><td>Alexander</td><td>Martinez</td><td>36554872</td><td>28</td><td>Camino viejo 123</td><td>5942572</td></tr></table>"
                    },
                    "metadata": {}
                }
            ],
            "execution_count": 11
        },
        {
            "cell_type": "markdown",
            "source": [
                "Tráeme lo que sea que tenga “ez” o tenga“iz” en apellido"
            ],
            "metadata": {
                "azdata_cell_guid": "cd861d7a-4d14-4ae5-969b-8495b9599c24"
            },
            "attachments": {}
        },
        {
            "cell_type": "code",
            "source": [
                "SELECT *\r\n",
                "FROM empleados\r\n",
                "WHERE apellido REGEXP \"ez|iz\";"
            ],
            "metadata": {
                "azdata_cell_guid": "e40ff7f2-b0a0-40b1-94e9-e8429ad492c5",
                "language": "sql"
            },
            "outputs": [
                {
                    "output_type": "display_data",
                    "data": {
                        "text/html": "(4 row(s) affected)"
                    },
                    "metadata": {}
                },
                {
                    "output_type": "display_data",
                    "data": {
                        "text/html": "Total execution time: 00:00:01.009"
                    },
                    "metadata": {}
                },
                {
                    "output_type": "execute_result",
                    "execution_count": 12,
                    "data": {
                        "application/vnd.dataresource+json": {
                            "schema": {
                                "fields": [
                                    {
                                        "name": "ID_empleado"
                                    },
                                    {
                                        "name": "Nombre"
                                    },
                                    {
                                        "name": "Apellido"
                                    },
                                    {
                                        "name": "Telefono"
                                    },
                                    {
                                        "name": "Edad"
                                    },
                                    {
                                        "name": "Domicilio"
                                    },
                                    {
                                        "name": "ID_Gerente"
                                    }
                                ]
                            },
                            "data": [
                                {
                                    "ID_empleado": "2520477",
                                    "Nombre": "Egidio",
                                    "Apellido": "Lopez",
                                    "Telefono": "33444383",
                                    "Edad": "24",
                                    "Domicilio": "Rosas 996",
                                    "ID_Gerente": "5942572"
                                },
                                {
                                    "ID_empleado": "6332756",
                                    "Nombre": "Reinaldo",
                                    "Apellido": "Gonzalez",
                                    "Telefono": "36642727",
                                    "Edad": "43",
                                    "Domicilio": "Vallarta 711",
                                    "ID_Gerente": "5942572"
                                },
                                {
                                    "ID_empleado": "9611338",
                                    "Nombre": "Haygnes",
                                    "Apellido": "Ortiz",
                                    "Telefono": "35400189",
                                    "Edad": "27",
                                    "Domicilio": "General Diaz 343",
                                    "ID_Gerente": "5942572"
                                },
                                {
                                    "ID_empleado": "9922377",
                                    "Nombre": "Alexander",
                                    "Apellido": "Martinez",
                                    "Telefono": "36554872",
                                    "Edad": "28",
                                    "Domicilio": "Camino viejo 123",
                                    "ID_Gerente": "5942572"
                                }
                            ]
                        },
                        "text/html": "<table><tr><th>ID_empleado</th><th>Nombre</th><th>Apellido</th><th>Telefono</th><th>Edad</th><th>Domicilio</th><th>ID_Gerente</th></tr><tr><td>2520477</td><td>Egidio</td><td>Lopez</td><td>33444383</td><td>24</td><td>Rosas 996</td><td>5942572</td></tr><tr><td>6332756</td><td>Reinaldo</td><td>Gonzalez</td><td>36642727</td><td>43</td><td>Vallarta 711</td><td>5942572</td></tr><tr><td>9611338</td><td>Haygnes</td><td>Ortiz</td><td>35400189</td><td>27</td><td>General Diaz 343</td><td>5942572</td></tr><tr><td>9922377</td><td>Alexander</td><td>Martinez</td><td>36554872</td><td>28</td><td>Camino viejo 123</td><td>5942572</td></tr></table>"
                    },
                    "metadata": {}
                }
            ],
            "execution_count": 12
        },
        {
            "cell_type": "markdown",
            "source": [
                "El operado | Busca las coincidencias en cualquier carárter cadena de caracteres o subexpresiones de manera separada."
            ],
            "metadata": {
                "azdata_cell_guid": "9d2c763e-067d-40e0-8885-84e19f6d2476"
            },
            "attachments": {}
        },
        {
            "cell_type": "code",
            "source": [
                "SELECT *\r\n",
                "FROM empleados\r\n",
                "WHERE apellido REGEXP \"ez|iz|b\";"
            ],
            "metadata": {
                "azdata_cell_guid": "2c0e97f0-9626-4ea8-8366-1ef59b036bce",
                "language": "sql"
            },
            "outputs": [
                {
                    "output_type": "display_data",
                    "data": {
                        "text/html": "(5 row(s) affected)"
                    },
                    "metadata": {}
                },
                {
                    "output_type": "display_data",
                    "data": {
                        "text/html": "Total execution time: 00:00:01.017"
                    },
                    "metadata": {}
                },
                {
                    "output_type": "execute_result",
                    "execution_count": 13,
                    "data": {
                        "application/vnd.dataresource+json": {
                            "schema": {
                                "fields": [
                                    {
                                        "name": "ID_empleado"
                                    },
                                    {
                                        "name": "Nombre"
                                    },
                                    {
                                        "name": "Apellido"
                                    },
                                    {
                                        "name": "Telefono"
                                    },
                                    {
                                        "name": "Edad"
                                    },
                                    {
                                        "name": "Domicilio"
                                    },
                                    {
                                        "name": "ID_Gerente"
                                    }
                                ]
                            },
                            "data": [
                                {
                                    "ID_empleado": "1111222",
                                    "Nombre": "Alberto",
                                    "Apellido": "Barrientos",
                                    "Telefono": "34766613",
                                    "Edad": "26",
                                    "Domicilio": "Federal 233",
                                    "ID_Gerente": "5942572"
                                },
                                {
                                    "ID_empleado": "2520477",
                                    "Nombre": "Egidio",
                                    "Apellido": "Lopez",
                                    "Telefono": "33444383",
                                    "Edad": "24",
                                    "Domicilio": "Rosas 996",
                                    "ID_Gerente": "5942572"
                                },
                                {
                                    "ID_empleado": "6332756",
                                    "Nombre": "Reinaldo",
                                    "Apellido": "Gonzalez",
                                    "Telefono": "36642727",
                                    "Edad": "43",
                                    "Domicilio": "Vallarta 711",
                                    "ID_Gerente": "5942572"
                                },
                                {
                                    "ID_empleado": "9611338",
                                    "Nombre": "Haygnes",
                                    "Apellido": "Ortiz",
                                    "Telefono": "35400189",
                                    "Edad": "27",
                                    "Domicilio": "General Diaz 343",
                                    "ID_Gerente": "5942572"
                                },
                                {
                                    "ID_empleado": "9922377",
                                    "Nombre": "Alexander",
                                    "Apellido": "Martinez",
                                    "Telefono": "36554872",
                                    "Edad": "28",
                                    "Domicilio": "Camino viejo 123",
                                    "ID_Gerente": "5942572"
                                }
                            ]
                        },
                        "text/html": "<table><tr><th>ID_empleado</th><th>Nombre</th><th>Apellido</th><th>Telefono</th><th>Edad</th><th>Domicilio</th><th>ID_Gerente</th></tr><tr><td>1111222</td><td>Alberto</td><td>Barrientos</td><td>34766613</td><td>26</td><td>Federal 233</td><td>5942572</td></tr><tr><td>2520477</td><td>Egidio</td><td>Lopez</td><td>33444383</td><td>24</td><td>Rosas 996</td><td>5942572</td></tr><tr><td>6332756</td><td>Reinaldo</td><td>Gonzalez</td><td>36642727</td><td>43</td><td>Vallarta 711</td><td>5942572</td></tr><tr><td>9611338</td><td>Haygnes</td><td>Ortiz</td><td>35400189</td><td>27</td><td>General Diaz 343</td><td>5942572</td></tr><tr><td>9922377</td><td>Alexander</td><td>Martinez</td><td>36554872</td><td>28</td><td>Camino viejo 123</td><td>5942572</td></tr></table>"
                    },
                    "metadata": {}
                }
            ],
            "execution_count": 13
        },
        {
            "cell_type": "code",
            "source": [
                "SELECT *\r\n",
                "FROM empleados\r\n",
                "WHERE apellido REGEXP \"ez|iz|b$\";"
            ],
            "metadata": {
                "azdata_cell_guid": "28ccd01f-821f-47f4-90cf-d5454eded783",
                "language": "sql"
            },
            "outputs": [
                {
                    "output_type": "display_data",
                    "data": {
                        "text/html": "(4 row(s) affected)"
                    },
                    "metadata": {}
                },
                {
                    "output_type": "display_data",
                    "data": {
                        "text/html": "Total execution time: 00:00:01.021"
                    },
                    "metadata": {}
                },
                {
                    "output_type": "execute_result",
                    "execution_count": 14,
                    "data": {
                        "application/vnd.dataresource+json": {
                            "schema": {
                                "fields": [
                                    {
                                        "name": "ID_empleado"
                                    },
                                    {
                                        "name": "Nombre"
                                    },
                                    {
                                        "name": "Apellido"
                                    },
                                    {
                                        "name": "Telefono"
                                    },
                                    {
                                        "name": "Edad"
                                    },
                                    {
                                        "name": "Domicilio"
                                    },
                                    {
                                        "name": "ID_Gerente"
                                    }
                                ]
                            },
                            "data": [
                                {
                                    "ID_empleado": "2520477",
                                    "Nombre": "Egidio",
                                    "Apellido": "Lopez",
                                    "Telefono": "33444383",
                                    "Edad": "24",
                                    "Domicilio": "Rosas 996",
                                    "ID_Gerente": "5942572"
                                },
                                {
                                    "ID_empleado": "6332756",
                                    "Nombre": "Reinaldo",
                                    "Apellido": "Gonzalez",
                                    "Telefono": "36642727",
                                    "Edad": "43",
                                    "Domicilio": "Vallarta 711",
                                    "ID_Gerente": "5942572"
                                },
                                {
                                    "ID_empleado": "9611338",
                                    "Nombre": "Haygnes",
                                    "Apellido": "Ortiz",
                                    "Telefono": "35400189",
                                    "Edad": "27",
                                    "Domicilio": "General Diaz 343",
                                    "ID_Gerente": "5942572"
                                },
                                {
                                    "ID_empleado": "9922377",
                                    "Nombre": "Alexander",
                                    "Apellido": "Martinez",
                                    "Telefono": "36554872",
                                    "Edad": "28",
                                    "Domicilio": "Camino viejo 123",
                                    "ID_Gerente": "5942572"
                                }
                            ]
                        },
                        "text/html": "<table><tr><th>ID_empleado</th><th>Nombre</th><th>Apellido</th><th>Telefono</th><th>Edad</th><th>Domicilio</th><th>ID_Gerente</th></tr><tr><td>2520477</td><td>Egidio</td><td>Lopez</td><td>33444383</td><td>24</td><td>Rosas 996</td><td>5942572</td></tr><tr><td>6332756</td><td>Reinaldo</td><td>Gonzalez</td><td>36642727</td><td>43</td><td>Vallarta 711</td><td>5942572</td></tr><tr><td>9611338</td><td>Haygnes</td><td>Ortiz</td><td>35400189</td><td>27</td><td>General Diaz 343</td><td>5942572</td></tr><tr><td>9922377</td><td>Alexander</td><td>Martinez</td><td>36554872</td><td>28</td><td>Camino viejo 123</td><td>5942572</td></tr></table>"
                    },
                    "metadata": {}
                }
            ],
            "execution_count": 14
        },
        {
            "cell_type": "markdown",
            "source": [
                "**ORDER BY: Se utiliza para ordenar los registros**"
            ],
            "metadata": {
                "azdata_cell_guid": "2226fee0-800c-44f3-803c-a430cc40ca56"
            },
            "attachments": {}
        },
        {
            "cell_type": "code",
            "source": [
                "SELECT *\r\n",
                "FROM empleados\r\n",
                "ORDER BY nombre;"
            ],
            "metadata": {
                "azdata_cell_guid": "fcd6e8c3-0f8a-45ea-87d9-f7a5dbbc83bd",
                "language": "sql"
            },
            "outputs": [
                {
                    "output_type": "display_data",
                    "data": {
                        "text/html": "(11 row(s) affected)"
                    },
                    "metadata": {}
                },
                {
                    "output_type": "display_data",
                    "data": {
                        "text/html": "Total execution time: 00:00:01.028"
                    },
                    "metadata": {}
                },
                {
                    "output_type": "execute_result",
                    "execution_count": 16,
                    "data": {
                        "application/vnd.dataresource+json": {
                            "schema": {
                                "fields": [
                                    {
                                        "name": "ID_empleado"
                                    },
                                    {
                                        "name": "Nombre"
                                    },
                                    {
                                        "name": "Apellido"
                                    },
                                    {
                                        "name": "Telefono"
                                    },
                                    {
                                        "name": "Edad"
                                    },
                                    {
                                        "name": "Domicilio"
                                    },
                                    {
                                        "name": "ID_Gerente"
                                    }
                                ]
                            },
                            "data": [
                                {
                                    "ID_empleado": "6931035",
                                    "Nombre": "Albeiro",
                                    "Apellido": "Villa",
                                    "Telefono": "33631010",
                                    "Edad": "39",
                                    "Domicilio": "Carniceros 233",
                                    "ID_Gerente": "5942572"
                                },
                                {
                                    "ID_empleado": "1111222",
                                    "Nombre": "Alberto",
                                    "Apellido": "Barrientos",
                                    "Telefono": "34766613",
                                    "Edad": "26",
                                    "Domicilio": "Federal 233",
                                    "ID_Gerente": "5942572"
                                },
                                {
                                    "ID_empleado": "9922377",
                                    "Nombre": "Alexander",
                                    "Apellido": "Martinez",
                                    "Telefono": "36554872",
                                    "Edad": "28",
                                    "Domicilio": "Camino viejo 123",
                                    "ID_Gerente": "5942572"
                                },
                                {
                                    "ID_empleado": "4245367",
                                    "Nombre": "Alexandra",
                                    "Apellido": "Zapata",
                                    "Telefono": "33467136",
                                    "Edad": "31",
                                    "Domicilio": "Ingenieros 234",
                                    "ID_Gerente": "5942572"
                                },
                                {
                                    "ID_empleado": "2520477",
                                    "Nombre": "Egidio",
                                    "Apellido": "Lopez",
                                    "Telefono": "33444383",
                                    "Edad": "24",
                                    "Domicilio": "Rosas 996",
                                    "ID_Gerente": "5942572"
                                },
                                {
                                    "ID_empleado": "2630867",
                                    "Nombre": "Elena",
                                    "Apellido": "Atehortua",
                                    "Telefono": "35581732",
                                    "Edad": "37",
                                    "Domicilio": "Sierra del tigre 299",
                                    "ID_Gerente": "5942572"
                                },
                                {
                                    "ID_empleado": "9611338",
                                    "Nombre": "Haygnes",
                                    "Apellido": "Ortiz",
                                    "Telefono": "35400189",
                                    "Edad": "27",
                                    "Domicilio": "General Diaz 343",
                                    "ID_Gerente": "5942572"
                                },
                                {
                                    "ID_empleado": "2310967",
                                    "Nombre": "Jairo",
                                    "Apellido": "Mira",
                                    "Telefono": "36403810",
                                    "Edad": "29",
                                    "Domicilio": "Calle 25 interior 2",
                                    "ID_Gerente": "5942572"
                                },
                                {
                                    "ID_empleado": "5942572",
                                    "Nombre": "Jesus",
                                    "Apellido": "Agudelo",
                                    "Telefono": "34616222",
                                    "Edad": "35",
                                    "Domicilio": "NULL",
                                    "ID_Gerente": "NULL"
                                },
                                {
                                    "ID_empleado": "3833745",
                                    "Nombre": "Maria",
                                    "Apellido": "Zapata",
                                    "Telefono": "35354455",
                                    "Edad": "34",
                                    "Domicilio": "Boulevard 85",
                                    "ID_Gerente": "5942572"
                                },
                                {
                                    "ID_empleado": "6332756",
                                    "Nombre": "Reinaldo",
                                    "Apellido": "Gonzalez",
                                    "Telefono": "36642727",
                                    "Edad": "43",
                                    "Domicilio": "Vallarta 711",
                                    "ID_Gerente": "5942572"
                                }
                            ]
                        },
                        "text/html": "<table><tr><th>ID_empleado</th><th>Nombre</th><th>Apellido</th><th>Telefono</th><th>Edad</th><th>Domicilio</th><th>ID_Gerente</th></tr><tr><td>6931035</td><td>Albeiro</td><td>Villa</td><td>33631010</td><td>39</td><td>Carniceros 233</td><td>5942572</td></tr><tr><td>1111222</td><td>Alberto</td><td>Barrientos</td><td>34766613</td><td>26</td><td>Federal 233</td><td>5942572</td></tr><tr><td>9922377</td><td>Alexander</td><td>Martinez</td><td>36554872</td><td>28</td><td>Camino viejo 123</td><td>5942572</td></tr><tr><td>4245367</td><td>Alexandra</td><td>Zapata</td><td>33467136</td><td>31</td><td>Ingenieros 234</td><td>5942572</td></tr><tr><td>2520477</td><td>Egidio</td><td>Lopez</td><td>33444383</td><td>24</td><td>Rosas 996</td><td>5942572</td></tr><tr><td>2630867</td><td>Elena</td><td>Atehortua</td><td>35581732</td><td>37</td><td>Sierra del tigre 299</td><td>5942572</td></tr><tr><td>9611338</td><td>Haygnes</td><td>Ortiz</td><td>35400189</td><td>27</td><td>General Diaz 343</td><td>5942572</td></tr><tr><td>2310967</td><td>Jairo</td><td>Mira</td><td>36403810</td><td>29</td><td>Calle 25 interior 2</td><td>5942572</td></tr><tr><td>5942572</td><td>Jesus</td><td>Agudelo</td><td>34616222</td><td>35</td><td>NULL</td><td>NULL</td></tr><tr><td>3833745</td><td>Maria</td><td>Zapata</td><td>35354455</td><td>34</td><td>Boulevard 85</td><td>5942572</td></tr><tr><td>6332756</td><td>Reinaldo</td><td>Gonzalez</td><td>36642727</td><td>43</td><td>Vallarta 711</td><td>5942572</td></tr></table>"
                    },
                    "metadata": {}
                }
            ],
            "execution_count": 16
        },
        {
            "cell_type": "code",
            "source": [
                "SELECT *\r\n",
                "FROM empleados\r\n",
                "ORDER BY nombre DESC;"
            ],
            "metadata": {
                "azdata_cell_guid": "4a8c6d15-f3b5-486c-88a4-f11f682a9c9b",
                "language": "sql"
            },
            "outputs": [
                {
                    "output_type": "display_data",
                    "data": {
                        "text/html": "(11 row(s) affected)"
                    },
                    "metadata": {}
                },
                {
                    "output_type": "display_data",
                    "data": {
                        "text/html": "Total execution time: 00:00:01.021"
                    },
                    "metadata": {}
                },
                {
                    "output_type": "execute_result",
                    "execution_count": 18,
                    "data": {
                        "application/vnd.dataresource+json": {
                            "schema": {
                                "fields": [
                                    {
                                        "name": "ID_empleado"
                                    },
                                    {
                                        "name": "Nombre"
                                    },
                                    {
                                        "name": "Apellido"
                                    },
                                    {
                                        "name": "Telefono"
                                    },
                                    {
                                        "name": "Edad"
                                    },
                                    {
                                        "name": "Domicilio"
                                    },
                                    {
                                        "name": "ID_Gerente"
                                    }
                                ]
                            },
                            "data": [
                                {
                                    "ID_empleado": "6332756",
                                    "Nombre": "Reinaldo",
                                    "Apellido": "Gonzalez",
                                    "Telefono": "36642727",
                                    "Edad": "43",
                                    "Domicilio": "Vallarta 711",
                                    "ID_Gerente": "5942572"
                                },
                                {
                                    "ID_empleado": "3833745",
                                    "Nombre": "Maria",
                                    "Apellido": "Zapata",
                                    "Telefono": "35354455",
                                    "Edad": "34",
                                    "Domicilio": "Boulevard 85",
                                    "ID_Gerente": "5942572"
                                },
                                {
                                    "ID_empleado": "5942572",
                                    "Nombre": "Jesus",
                                    "Apellido": "Agudelo",
                                    "Telefono": "34616222",
                                    "Edad": "35",
                                    "Domicilio": "NULL",
                                    "ID_Gerente": "NULL"
                                },
                                {
                                    "ID_empleado": "2310967",
                                    "Nombre": "Jairo",
                                    "Apellido": "Mira",
                                    "Telefono": "36403810",
                                    "Edad": "29",
                                    "Domicilio": "Calle 25 interior 2",
                                    "ID_Gerente": "5942572"
                                },
                                {
                                    "ID_empleado": "9611338",
                                    "Nombre": "Haygnes",
                                    "Apellido": "Ortiz",
                                    "Telefono": "35400189",
                                    "Edad": "27",
                                    "Domicilio": "General Diaz 343",
                                    "ID_Gerente": "5942572"
                                },
                                {
                                    "ID_empleado": "2630867",
                                    "Nombre": "Elena",
                                    "Apellido": "Atehortua",
                                    "Telefono": "35581732",
                                    "Edad": "37",
                                    "Domicilio": "Sierra del tigre 299",
                                    "ID_Gerente": "5942572"
                                },
                                {
                                    "ID_empleado": "2520477",
                                    "Nombre": "Egidio",
                                    "Apellido": "Lopez",
                                    "Telefono": "33444383",
                                    "Edad": "24",
                                    "Domicilio": "Rosas 996",
                                    "ID_Gerente": "5942572"
                                },
                                {
                                    "ID_empleado": "4245367",
                                    "Nombre": "Alexandra",
                                    "Apellido": "Zapata",
                                    "Telefono": "33467136",
                                    "Edad": "31",
                                    "Domicilio": "Ingenieros 234",
                                    "ID_Gerente": "5942572"
                                },
                                {
                                    "ID_empleado": "9922377",
                                    "Nombre": "Alexander",
                                    "Apellido": "Martinez",
                                    "Telefono": "36554872",
                                    "Edad": "28",
                                    "Domicilio": "Camino viejo 123",
                                    "ID_Gerente": "5942572"
                                },
                                {
                                    "ID_empleado": "1111222",
                                    "Nombre": "Alberto",
                                    "Apellido": "Barrientos",
                                    "Telefono": "34766613",
                                    "Edad": "26",
                                    "Domicilio": "Federal 233",
                                    "ID_Gerente": "5942572"
                                },
                                {
                                    "ID_empleado": "6931035",
                                    "Nombre": "Albeiro",
                                    "Apellido": "Villa",
                                    "Telefono": "33631010",
                                    "Edad": "39",
                                    "Domicilio": "Carniceros 233",
                                    "ID_Gerente": "5942572"
                                }
                            ]
                        },
                        "text/html": "<table><tr><th>ID_empleado</th><th>Nombre</th><th>Apellido</th><th>Telefono</th><th>Edad</th><th>Domicilio</th><th>ID_Gerente</th></tr><tr><td>6332756</td><td>Reinaldo</td><td>Gonzalez</td><td>36642727</td><td>43</td><td>Vallarta 711</td><td>5942572</td></tr><tr><td>3833745</td><td>Maria</td><td>Zapata</td><td>35354455</td><td>34</td><td>Boulevard 85</td><td>5942572</td></tr><tr><td>5942572</td><td>Jesus</td><td>Agudelo</td><td>34616222</td><td>35</td><td>NULL</td><td>NULL</td></tr><tr><td>2310967</td><td>Jairo</td><td>Mira</td><td>36403810</td><td>29</td><td>Calle 25 interior 2</td><td>5942572</td></tr><tr><td>9611338</td><td>Haygnes</td><td>Ortiz</td><td>35400189</td><td>27</td><td>General Diaz 343</td><td>5942572</td></tr><tr><td>2630867</td><td>Elena</td><td>Atehortua</td><td>35581732</td><td>37</td><td>Sierra del tigre 299</td><td>5942572</td></tr><tr><td>2520477</td><td>Egidio</td><td>Lopez</td><td>33444383</td><td>24</td><td>Rosas 996</td><td>5942572</td></tr><tr><td>4245367</td><td>Alexandra</td><td>Zapata</td><td>33467136</td><td>31</td><td>Ingenieros 234</td><td>5942572</td></tr><tr><td>9922377</td><td>Alexander</td><td>Martinez</td><td>36554872</td><td>28</td><td>Camino viejo 123</td><td>5942572</td></tr><tr><td>1111222</td><td>Alberto</td><td>Barrientos</td><td>34766613</td><td>26</td><td>Federal 233</td><td>5942572</td></tr><tr><td>6931035</td><td>Albeiro</td><td>Villa</td><td>33631010</td><td>39</td><td>Carniceros 233</td><td>5942572</td></tr></table>"
                    },
                    "metadata": {}
                }
            ],
            "execution_count": 18
        },
        {
            "cell_type": "code",
            "source": [
                ""
            ],
            "metadata": {
                "azdata_cell_guid": "fbf9d21c-9467-438b-87be-8c0fe0a37be7",
                "language": "sql"
            },
            "outputs": [],
            "execution_count": null
        },
        {
            "cell_type": "code",
            "source": [
                "SELECT *\r\n",
                "FROM empleados\r\n",
                "ORDER BY apellido DESC;"
            ],
            "metadata": {
                "azdata_cell_guid": "7491be4a-04e9-421d-91a9-ca72ab82e97b",
                "language": "sql"
            },
            "outputs": [
                {
                    "output_type": "display_data",
                    "data": {
                        "text/html": "(11 row(s) affected)"
                    },
                    "metadata": {}
                },
                {
                    "output_type": "display_data",
                    "data": {
                        "text/html": "Total execution time: 00:00:01.016"
                    },
                    "metadata": {}
                },
                {
                    "output_type": "execute_result",
                    "execution_count": 20,
                    "data": {
                        "application/vnd.dataresource+json": {
                            "schema": {
                                "fields": [
                                    {
                                        "name": "ID_empleado"
                                    },
                                    {
                                        "name": "Nombre"
                                    },
                                    {
                                        "name": "Apellido"
                                    },
                                    {
                                        "name": "Telefono"
                                    },
                                    {
                                        "name": "Edad"
                                    },
                                    {
                                        "name": "Domicilio"
                                    },
                                    {
                                        "name": "ID_Gerente"
                                    }
                                ]
                            },
                            "data": [
                                {
                                    "ID_empleado": "3833745",
                                    "Nombre": "Maria",
                                    "Apellido": "Zapata",
                                    "Telefono": "35354455",
                                    "Edad": "34",
                                    "Domicilio": "Boulevard 85",
                                    "ID_Gerente": "5942572"
                                },
                                {
                                    "ID_empleado": "4245367",
                                    "Nombre": "Alexandra",
                                    "Apellido": "Zapata",
                                    "Telefono": "33467136",
                                    "Edad": "31",
                                    "Domicilio": "Ingenieros 234",
                                    "ID_Gerente": "5942572"
                                },
                                {
                                    "ID_empleado": "6931035",
                                    "Nombre": "Albeiro",
                                    "Apellido": "Villa",
                                    "Telefono": "33631010",
                                    "Edad": "39",
                                    "Domicilio": "Carniceros 233",
                                    "ID_Gerente": "5942572"
                                },
                                {
                                    "ID_empleado": "9611338",
                                    "Nombre": "Haygnes",
                                    "Apellido": "Ortiz",
                                    "Telefono": "35400189",
                                    "Edad": "27",
                                    "Domicilio": "General Diaz 343",
                                    "ID_Gerente": "5942572"
                                },
                                {
                                    "ID_empleado": "2310967",
                                    "Nombre": "Jairo",
                                    "Apellido": "Mira",
                                    "Telefono": "36403810",
                                    "Edad": "29",
                                    "Domicilio": "Calle 25 interior 2",
                                    "ID_Gerente": "5942572"
                                },
                                {
                                    "ID_empleado": "9922377",
                                    "Nombre": "Alexander",
                                    "Apellido": "Martinez",
                                    "Telefono": "36554872",
                                    "Edad": "28",
                                    "Domicilio": "Camino viejo 123",
                                    "ID_Gerente": "5942572"
                                },
                                {
                                    "ID_empleado": "2520477",
                                    "Nombre": "Egidio",
                                    "Apellido": "Lopez",
                                    "Telefono": "33444383",
                                    "Edad": "24",
                                    "Domicilio": "Rosas 996",
                                    "ID_Gerente": "5942572"
                                },
                                {
                                    "ID_empleado": "6332756",
                                    "Nombre": "Reinaldo",
                                    "Apellido": "Gonzalez",
                                    "Telefono": "36642727",
                                    "Edad": "43",
                                    "Domicilio": "Vallarta 711",
                                    "ID_Gerente": "5942572"
                                },
                                {
                                    "ID_empleado": "1111222",
                                    "Nombre": "Alberto",
                                    "Apellido": "Barrientos",
                                    "Telefono": "34766613",
                                    "Edad": "26",
                                    "Domicilio": "Federal 233",
                                    "ID_Gerente": "5942572"
                                },
                                {
                                    "ID_empleado": "2630867",
                                    "Nombre": "Elena",
                                    "Apellido": "Atehortua",
                                    "Telefono": "35581732",
                                    "Edad": "37",
                                    "Domicilio": "Sierra del tigre 299",
                                    "ID_Gerente": "5942572"
                                },
                                {
                                    "ID_empleado": "5942572",
                                    "Nombre": "Jesus",
                                    "Apellido": "Agudelo",
                                    "Telefono": "34616222",
                                    "Edad": "35",
                                    "Domicilio": "NULL",
                                    "ID_Gerente": "NULL"
                                }
                            ]
                        },
                        "text/html": "<table><tr><th>ID_empleado</th><th>Nombre</th><th>Apellido</th><th>Telefono</th><th>Edad</th><th>Domicilio</th><th>ID_Gerente</th></tr><tr><td>3833745</td><td>Maria</td><td>Zapata</td><td>35354455</td><td>34</td><td>Boulevard 85</td><td>5942572</td></tr><tr><td>4245367</td><td>Alexandra</td><td>Zapata</td><td>33467136</td><td>31</td><td>Ingenieros 234</td><td>5942572</td></tr><tr><td>6931035</td><td>Albeiro</td><td>Villa</td><td>33631010</td><td>39</td><td>Carniceros 233</td><td>5942572</td></tr><tr><td>9611338</td><td>Haygnes</td><td>Ortiz</td><td>35400189</td><td>27</td><td>General Diaz 343</td><td>5942572</td></tr><tr><td>2310967</td><td>Jairo</td><td>Mira</td><td>36403810</td><td>29</td><td>Calle 25 interior 2</td><td>5942572</td></tr><tr><td>9922377</td><td>Alexander</td><td>Martinez</td><td>36554872</td><td>28</td><td>Camino viejo 123</td><td>5942572</td></tr><tr><td>2520477</td><td>Egidio</td><td>Lopez</td><td>33444383</td><td>24</td><td>Rosas 996</td><td>5942572</td></tr><tr><td>6332756</td><td>Reinaldo</td><td>Gonzalez</td><td>36642727</td><td>43</td><td>Vallarta 711</td><td>5942572</td></tr><tr><td>1111222</td><td>Alberto</td><td>Barrientos</td><td>34766613</td><td>26</td><td>Federal 233</td><td>5942572</td></tr><tr><td>2630867</td><td>Elena</td><td>Atehortua</td><td>35581732</td><td>37</td><td>Sierra del tigre 299</td><td>5942572</td></tr><tr><td>5942572</td><td>Jesus</td><td>Agudelo</td><td>34616222</td><td>35</td><td>NULL</td><td>NULL</td></tr></table>"
                    },
                    "metadata": {}
                }
            ],
            "execution_count": 20
        },
        {
            "cell_type": "code",
            "source": [
                "SELECT *\r\n",
                "FROM empleados\r\n",
                "ORDER BY telefono DESC;"
            ],
            "metadata": {
                "azdata_cell_guid": "e926a3d1-c2e0-431d-b2f2-6836ad0d5d45",
                "language": "sql"
            },
            "outputs": [
                {
                    "output_type": "display_data",
                    "data": {
                        "text/html": "(11 row(s) affected)"
                    },
                    "metadata": {}
                },
                {
                    "output_type": "display_data",
                    "data": {
                        "text/html": "Total execution time: 00:00:01.011"
                    },
                    "metadata": {}
                },
                {
                    "output_type": "execute_result",
                    "execution_count": 21,
                    "data": {
                        "application/vnd.dataresource+json": {
                            "schema": {
                                "fields": [
                                    {
                                        "name": "ID_empleado"
                                    },
                                    {
                                        "name": "Nombre"
                                    },
                                    {
                                        "name": "Apellido"
                                    },
                                    {
                                        "name": "Telefono"
                                    },
                                    {
                                        "name": "Edad"
                                    },
                                    {
                                        "name": "Domicilio"
                                    },
                                    {
                                        "name": "ID_Gerente"
                                    }
                                ]
                            },
                            "data": [
                                {
                                    "ID_empleado": "6332756",
                                    "Nombre": "Reinaldo",
                                    "Apellido": "Gonzalez",
                                    "Telefono": "36642727",
                                    "Edad": "43",
                                    "Domicilio": "Vallarta 711",
                                    "ID_Gerente": "5942572"
                                },
                                {
                                    "ID_empleado": "9922377",
                                    "Nombre": "Alexander",
                                    "Apellido": "Martinez",
                                    "Telefono": "36554872",
                                    "Edad": "28",
                                    "Domicilio": "Camino viejo 123",
                                    "ID_Gerente": "5942572"
                                },
                                {
                                    "ID_empleado": "2310967",
                                    "Nombre": "Jairo",
                                    "Apellido": "Mira",
                                    "Telefono": "36403810",
                                    "Edad": "29",
                                    "Domicilio": "Calle 25 interior 2",
                                    "ID_Gerente": "5942572"
                                },
                                {
                                    "ID_empleado": "2630867",
                                    "Nombre": "Elena",
                                    "Apellido": "Atehortua",
                                    "Telefono": "35581732",
                                    "Edad": "37",
                                    "Domicilio": "Sierra del tigre 299",
                                    "ID_Gerente": "5942572"
                                },
                                {
                                    "ID_empleado": "9611338",
                                    "Nombre": "Haygnes",
                                    "Apellido": "Ortiz",
                                    "Telefono": "35400189",
                                    "Edad": "27",
                                    "Domicilio": "General Diaz 343",
                                    "ID_Gerente": "5942572"
                                },
                                {
                                    "ID_empleado": "3833745",
                                    "Nombre": "Maria",
                                    "Apellido": "Zapata",
                                    "Telefono": "35354455",
                                    "Edad": "34",
                                    "Domicilio": "Boulevard 85",
                                    "ID_Gerente": "5942572"
                                },
                                {
                                    "ID_empleado": "1111222",
                                    "Nombre": "Alberto",
                                    "Apellido": "Barrientos",
                                    "Telefono": "34766613",
                                    "Edad": "26",
                                    "Domicilio": "Federal 233",
                                    "ID_Gerente": "5942572"
                                },
                                {
                                    "ID_empleado": "5942572",
                                    "Nombre": "Jesus",
                                    "Apellido": "Agudelo",
                                    "Telefono": "34616222",
                                    "Edad": "35",
                                    "Domicilio": "NULL",
                                    "ID_Gerente": "NULL"
                                },
                                {
                                    "ID_empleado": "6931035",
                                    "Nombre": "Albeiro",
                                    "Apellido": "Villa",
                                    "Telefono": "33631010",
                                    "Edad": "39",
                                    "Domicilio": "Carniceros 233",
                                    "ID_Gerente": "5942572"
                                },
                                {
                                    "ID_empleado": "4245367",
                                    "Nombre": "Alexandra",
                                    "Apellido": "Zapata",
                                    "Telefono": "33467136",
                                    "Edad": "31",
                                    "Domicilio": "Ingenieros 234",
                                    "ID_Gerente": "5942572"
                                },
                                {
                                    "ID_empleado": "2520477",
                                    "Nombre": "Egidio",
                                    "Apellido": "Lopez",
                                    "Telefono": "33444383",
                                    "Edad": "24",
                                    "Domicilio": "Rosas 996",
                                    "ID_Gerente": "5942572"
                                }
                            ]
                        },
                        "text/html": "<table><tr><th>ID_empleado</th><th>Nombre</th><th>Apellido</th><th>Telefono</th><th>Edad</th><th>Domicilio</th><th>ID_Gerente</th></tr><tr><td>6332756</td><td>Reinaldo</td><td>Gonzalez</td><td>36642727</td><td>43</td><td>Vallarta 711</td><td>5942572</td></tr><tr><td>9922377</td><td>Alexander</td><td>Martinez</td><td>36554872</td><td>28</td><td>Camino viejo 123</td><td>5942572</td></tr><tr><td>2310967</td><td>Jairo</td><td>Mira</td><td>36403810</td><td>29</td><td>Calle 25 interior 2</td><td>5942572</td></tr><tr><td>2630867</td><td>Elena</td><td>Atehortua</td><td>35581732</td><td>37</td><td>Sierra del tigre 299</td><td>5942572</td></tr><tr><td>9611338</td><td>Haygnes</td><td>Ortiz</td><td>35400189</td><td>27</td><td>General Diaz 343</td><td>5942572</td></tr><tr><td>3833745</td><td>Maria</td><td>Zapata</td><td>35354455</td><td>34</td><td>Boulevard 85</td><td>5942572</td></tr><tr><td>1111222</td><td>Alberto</td><td>Barrientos</td><td>34766613</td><td>26</td><td>Federal 233</td><td>5942572</td></tr><tr><td>5942572</td><td>Jesus</td><td>Agudelo</td><td>34616222</td><td>35</td><td>NULL</td><td>NULL</td></tr><tr><td>6931035</td><td>Albeiro</td><td>Villa</td><td>33631010</td><td>39</td><td>Carniceros 233</td><td>5942572</td></tr><tr><td>4245367</td><td>Alexandra</td><td>Zapata</td><td>33467136</td><td>31</td><td>Ingenieros 234</td><td>5942572</td></tr><tr><td>2520477</td><td>Egidio</td><td>Lopez</td><td>33444383</td><td>24</td><td>Rosas 996</td><td>5942572</td></tr></table>"
                    },
                    "metadata": {}
                }
            ],
            "execution_count": 21
        },
        {
            "cell_type": "code",
            "source": [
                "SELECT *\r\n",
                "FROM empleados\r\n",
                "WHERE apellido like \"%ez\"\r\n",
                "ORDER BY apellido DESC;"
            ],
            "metadata": {
                "azdata_cell_guid": "91252c8d-8543-434c-8534-77610dcd62ab",
                "language": "sql"
            },
            "outputs": [
                {
                    "output_type": "display_data",
                    "data": {
                        "text/html": "(3 row(s) affected)"
                    },
                    "metadata": {}
                },
                {
                    "output_type": "display_data",
                    "data": {
                        "text/html": "Total execution time: 00:00:01.008"
                    },
                    "metadata": {}
                },
                {
                    "output_type": "execute_result",
                    "execution_count": 22,
                    "data": {
                        "application/vnd.dataresource+json": {
                            "schema": {
                                "fields": [
                                    {
                                        "name": "ID_empleado"
                                    },
                                    {
                                        "name": "Nombre"
                                    },
                                    {
                                        "name": "Apellido"
                                    },
                                    {
                                        "name": "Telefono"
                                    },
                                    {
                                        "name": "Edad"
                                    },
                                    {
                                        "name": "Domicilio"
                                    },
                                    {
                                        "name": "ID_Gerente"
                                    }
                                ]
                            },
                            "data": [
                                {
                                    "ID_empleado": "9922377",
                                    "Nombre": "Alexander",
                                    "Apellido": "Martinez",
                                    "Telefono": "36554872",
                                    "Edad": "28",
                                    "Domicilio": "Camino viejo 123",
                                    "ID_Gerente": "5942572"
                                },
                                {
                                    "ID_empleado": "2520477",
                                    "Nombre": "Egidio",
                                    "Apellido": "Lopez",
                                    "Telefono": "33444383",
                                    "Edad": "24",
                                    "Domicilio": "Rosas 996",
                                    "ID_Gerente": "5942572"
                                },
                                {
                                    "ID_empleado": "6332756",
                                    "Nombre": "Reinaldo",
                                    "Apellido": "Gonzalez",
                                    "Telefono": "36642727",
                                    "Edad": "43",
                                    "Domicilio": "Vallarta 711",
                                    "ID_Gerente": "5942572"
                                }
                            ]
                        },
                        "text/html": "<table><tr><th>ID_empleado</th><th>Nombre</th><th>Apellido</th><th>Telefono</th><th>Edad</th><th>Domicilio</th><th>ID_Gerente</th></tr><tr><td>9922377</td><td>Alexander</td><td>Martinez</td><td>36554872</td><td>28</td><td>Camino viejo 123</td><td>5942572</td></tr><tr><td>2520477</td><td>Egidio</td><td>Lopez</td><td>33444383</td><td>24</td><td>Rosas 996</td><td>5942572</td></tr><tr><td>6332756</td><td>Reinaldo</td><td>Gonzalez</td><td>36642727</td><td>43</td><td>Vallarta 711</td><td>5942572</td></tr></table>"
                    },
                    "metadata": {}
                }
            ],
            "execution_count": 22
        },
        {
            "cell_type": "code",
            "source": [
                "SELECT *\r\n",
                "FROM empleados\r\n",
                "WHERE apellido like \"%ez\"\r\n",
                "ORDER BY nombre DESC;"
            ],
            "metadata": {
                "azdata_cell_guid": "b97010e9-8d5f-4109-b68a-b1871544f627",
                "language": "sql"
            },
            "outputs": [
                {
                    "output_type": "display_data",
                    "data": {
                        "text/html": "(3 row(s) affected)"
                    },
                    "metadata": {}
                },
                {
                    "output_type": "display_data",
                    "data": {
                        "text/html": "Total execution time: 00:00:01.020"
                    },
                    "metadata": {}
                },
                {
                    "output_type": "execute_result",
                    "execution_count": 23,
                    "data": {
                        "application/vnd.dataresource+json": {
                            "schema": {
                                "fields": [
                                    {
                                        "name": "ID_empleado"
                                    },
                                    {
                                        "name": "Nombre"
                                    },
                                    {
                                        "name": "Apellido"
                                    },
                                    {
                                        "name": "Telefono"
                                    },
                                    {
                                        "name": "Edad"
                                    },
                                    {
                                        "name": "Domicilio"
                                    },
                                    {
                                        "name": "ID_Gerente"
                                    }
                                ]
                            },
                            "data": [
                                {
                                    "ID_empleado": "6332756",
                                    "Nombre": "Reinaldo",
                                    "Apellido": "Gonzalez",
                                    "Telefono": "36642727",
                                    "Edad": "43",
                                    "Domicilio": "Vallarta 711",
                                    "ID_Gerente": "5942572"
                                },
                                {
                                    "ID_empleado": "2520477",
                                    "Nombre": "Egidio",
                                    "Apellido": "Lopez",
                                    "Telefono": "33444383",
                                    "Edad": "24",
                                    "Domicilio": "Rosas 996",
                                    "ID_Gerente": "5942572"
                                },
                                {
                                    "ID_empleado": "9922377",
                                    "Nombre": "Alexander",
                                    "Apellido": "Martinez",
                                    "Telefono": "36554872",
                                    "Edad": "28",
                                    "Domicilio": "Camino viejo 123",
                                    "ID_Gerente": "5942572"
                                }
                            ]
                        },
                        "text/html": "<table><tr><th>ID_empleado</th><th>Nombre</th><th>Apellido</th><th>Telefono</th><th>Edad</th><th>Domicilio</th><th>ID_Gerente</th></tr><tr><td>6332756</td><td>Reinaldo</td><td>Gonzalez</td><td>36642727</td><td>43</td><td>Vallarta 711</td><td>5942572</td></tr><tr><td>2520477</td><td>Egidio</td><td>Lopez</td><td>33444383</td><td>24</td><td>Rosas 996</td><td>5942572</td></tr><tr><td>9922377</td><td>Alexander</td><td>Martinez</td><td>36554872</td><td>28</td><td>Camino viejo 123</td><td>5942572</td></tr></table>"
                    },
                    "metadata": {}
                }
            ],
            "execution_count": 23
        },
        {
            "cell_type": "code",
            "source": [
                "SELECT telefono, edad\r\n",
                "FROM empleados\r\n",
                "WHERE apellido like \"%ez\"\r\n",
                "ORDER BY nombre DESC;"
            ],
            "metadata": {
                "azdata_cell_guid": "778d6080-e7a0-42ac-bc69-61cf0687b232",
                "language": "sql"
            },
            "outputs": [
                {
                    "output_type": "display_data",
                    "data": {
                        "text/html": "(3 row(s) affected)"
                    },
                    "metadata": {}
                },
                {
                    "output_type": "display_data",
                    "data": {
                        "text/html": "Total execution time: 00:00:01.012"
                    },
                    "metadata": {}
                },
                {
                    "output_type": "execute_result",
                    "execution_count": 24,
                    "data": {
                        "application/vnd.dataresource+json": {
                            "schema": {
                                "fields": [
                                    {
                                        "name": "telefono"
                                    },
                                    {
                                        "name": "edad"
                                    }
                                ]
                            },
                            "data": [
                                {
                                    "telefono": "36642727",
                                    "edad": "43"
                                },
                                {
                                    "telefono": "33444383",
                                    "edad": "24"
                                },
                                {
                                    "telefono": "36554872",
                                    "edad": "28"
                                }
                            ]
                        },
                        "text/html": "<table><tr><th>telefono</th><th>edad</th></tr><tr><td>36642727</td><td>43</td></tr><tr><td>33444383</td><td>24</td></tr><tr><td>36554872</td><td>28</td></tr></table>"
                    },
                    "metadata": {}
                }
            ],
            "execution_count": 24
        },
        {
            "cell_type": "markdown",
            "source": [
                "**IS NULL :** Comando utilizado para probar valores vacios."
            ],
            "metadata": {
                "azdata_cell_guid": "a8365fa7-4b0d-4908-88bb-77d6bb22c3d3"
            },
            "attachments": {}
        },
        {
            "cell_type": "code",
            "source": [
                "SELECT *\r\n",
                "FROM empleados;"
            ],
            "metadata": {
                "azdata_cell_guid": "ab0e723a-feff-48ae-87ee-e8ea55ab8208",
                "language": "sql"
            },
            "outputs": [
                {
                    "output_type": "display_data",
                    "data": {
                        "text/html": "(11 row(s) affected)"
                    },
                    "metadata": {}
                },
                {
                    "output_type": "display_data",
                    "data": {
                        "text/html": "Total execution time: 00:00:01.015"
                    },
                    "metadata": {}
                },
                {
                    "output_type": "execute_result",
                    "execution_count": 25,
                    "data": {
                        "application/vnd.dataresource+json": {
                            "schema": {
                                "fields": [
                                    {
                                        "name": "ID_empleado"
                                    },
                                    {
                                        "name": "Nombre"
                                    },
                                    {
                                        "name": "Apellido"
                                    },
                                    {
                                        "name": "Telefono"
                                    },
                                    {
                                        "name": "Edad"
                                    },
                                    {
                                        "name": "Domicilio"
                                    },
                                    {
                                        "name": "ID_Gerente"
                                    }
                                ]
                            },
                            "data": [
                                {
                                    "ID_empleado": "1111222",
                                    "Nombre": "Alberto",
                                    "Apellido": "Barrientos",
                                    "Telefono": "34766613",
                                    "Edad": "26",
                                    "Domicilio": "Federal 233",
                                    "ID_Gerente": "5942572"
                                },
                                {
                                    "ID_empleado": "2310967",
                                    "Nombre": "Jairo",
                                    "Apellido": "Mira",
                                    "Telefono": "36403810",
                                    "Edad": "29",
                                    "Domicilio": "Calle 25 interior 2",
                                    "ID_Gerente": "5942572"
                                },
                                {
                                    "ID_empleado": "2520477",
                                    "Nombre": "Egidio",
                                    "Apellido": "Lopez",
                                    "Telefono": "33444383",
                                    "Edad": "24",
                                    "Domicilio": "Rosas 996",
                                    "ID_Gerente": "5942572"
                                },
                                {
                                    "ID_empleado": "2630867",
                                    "Nombre": "Elena",
                                    "Apellido": "Atehortua",
                                    "Telefono": "35581732",
                                    "Edad": "37",
                                    "Domicilio": "Sierra del tigre 299",
                                    "ID_Gerente": "5942572"
                                },
                                {
                                    "ID_empleado": "3833745",
                                    "Nombre": "Maria",
                                    "Apellido": "Zapata",
                                    "Telefono": "35354455",
                                    "Edad": "34",
                                    "Domicilio": "Boulevard 85",
                                    "ID_Gerente": "5942572"
                                },
                                {
                                    "ID_empleado": "4245367",
                                    "Nombre": "Alexandra",
                                    "Apellido": "Zapata",
                                    "Telefono": "33467136",
                                    "Edad": "31",
                                    "Domicilio": "Ingenieros 234",
                                    "ID_Gerente": "5942572"
                                },
                                {
                                    "ID_empleado": "5942572",
                                    "Nombre": "Jesus",
                                    "Apellido": "Agudelo",
                                    "Telefono": "34616222",
                                    "Edad": "35",
                                    "Domicilio": "NULL",
                                    "ID_Gerente": "NULL"
                                },
                                {
                                    "ID_empleado": "6332756",
                                    "Nombre": "Reinaldo",
                                    "Apellido": "Gonzalez",
                                    "Telefono": "36642727",
                                    "Edad": "43",
                                    "Domicilio": "Vallarta 711",
                                    "ID_Gerente": "5942572"
                                },
                                {
                                    "ID_empleado": "6931035",
                                    "Nombre": "Albeiro",
                                    "Apellido": "Villa",
                                    "Telefono": "33631010",
                                    "Edad": "39",
                                    "Domicilio": "Carniceros 233",
                                    "ID_Gerente": "5942572"
                                },
                                {
                                    "ID_empleado": "9611338",
                                    "Nombre": "Haygnes",
                                    "Apellido": "Ortiz",
                                    "Telefono": "35400189",
                                    "Edad": "27",
                                    "Domicilio": "General Diaz 343",
                                    "ID_Gerente": "5942572"
                                },
                                {
                                    "ID_empleado": "9922377",
                                    "Nombre": "Alexander",
                                    "Apellido": "Martinez",
                                    "Telefono": "36554872",
                                    "Edad": "28",
                                    "Domicilio": "Camino viejo 123",
                                    "ID_Gerente": "5942572"
                                }
                            ]
                        },
                        "text/html": "<table><tr><th>ID_empleado</th><th>Nombre</th><th>Apellido</th><th>Telefono</th><th>Edad</th><th>Domicilio</th><th>ID_Gerente</th></tr><tr><td>1111222</td><td>Alberto</td><td>Barrientos</td><td>34766613</td><td>26</td><td>Federal 233</td><td>5942572</td></tr><tr><td>2310967</td><td>Jairo</td><td>Mira</td><td>36403810</td><td>29</td><td>Calle 25 interior 2</td><td>5942572</td></tr><tr><td>2520477</td><td>Egidio</td><td>Lopez</td><td>33444383</td><td>24</td><td>Rosas 996</td><td>5942572</td></tr><tr><td>2630867</td><td>Elena</td><td>Atehortua</td><td>35581732</td><td>37</td><td>Sierra del tigre 299</td><td>5942572</td></tr><tr><td>3833745</td><td>Maria</td><td>Zapata</td><td>35354455</td><td>34</td><td>Boulevard 85</td><td>5942572</td></tr><tr><td>4245367</td><td>Alexandra</td><td>Zapata</td><td>33467136</td><td>31</td><td>Ingenieros 234</td><td>5942572</td></tr><tr><td>5942572</td><td>Jesus</td><td>Agudelo</td><td>34616222</td><td>35</td><td>NULL</td><td>NULL</td></tr><tr><td>6332756</td><td>Reinaldo</td><td>Gonzalez</td><td>36642727</td><td>43</td><td>Vallarta 711</td><td>5942572</td></tr><tr><td>6931035</td><td>Albeiro</td><td>Villa</td><td>33631010</td><td>39</td><td>Carniceros 233</td><td>5942572</td></tr><tr><td>9611338</td><td>Haygnes</td><td>Ortiz</td><td>35400189</td><td>27</td><td>General Diaz 343</td><td>5942572</td></tr><tr><td>9922377</td><td>Alexander</td><td>Martinez</td><td>36554872</td><td>28</td><td>Camino viejo 123</td><td>5942572</td></tr></table>"
                    },
                    "metadata": {}
                }
            ],
            "execution_count": 25
        },
        {
            "cell_type": "code",
            "source": [
                "SELECT *\r\n",
                "FROM empleados;\r\n",
                ""
            ],
            "metadata": {
                "azdata_cell_guid": "148de6a6-3136-4060-bc15-7f9e9d554ebd",
                "language": "sql"
            },
            "outputs": [
                {
                    "output_type": "display_data",
                    "data": {
                        "text/html": "(11 row(s) affected)"
                    },
                    "metadata": {}
                },
                {
                    "output_type": "display_data",
                    "data": {
                        "text/html": "Total execution time: 00:00:01.018"
                    },
                    "metadata": {}
                },
                {
                    "output_type": "execute_result",
                    "execution_count": 26,
                    "data": {
                        "application/vnd.dataresource+json": {
                            "schema": {
                                "fields": [
                                    {
                                        "name": "ID_empleado"
                                    },
                                    {
                                        "name": "Nombre"
                                    },
                                    {
                                        "name": "Apellido"
                                    },
                                    {
                                        "name": "Telefono"
                                    },
                                    {
                                        "name": "Edad"
                                    },
                                    {
                                        "name": "Domicilio"
                                    },
                                    {
                                        "name": "ID_Gerente"
                                    }
                                ]
                            },
                            "data": [
                                {
                                    "ID_empleado": "1111222",
                                    "Nombre": "Alberto",
                                    "Apellido": "Barrientos",
                                    "Telefono": "34766613",
                                    "Edad": "26",
                                    "Domicilio": "Federal 233",
                                    "ID_Gerente": "5942572"
                                },
                                {
                                    "ID_empleado": "2310967",
                                    "Nombre": "Jairo",
                                    "Apellido": "Mira",
                                    "Telefono": "36403810",
                                    "Edad": "29",
                                    "Domicilio": "Calle 25 interior 2",
                                    "ID_Gerente": "5942572"
                                },
                                {
                                    "ID_empleado": "2520477",
                                    "Nombre": "Egidio",
                                    "Apellido": "Lopez",
                                    "Telefono": "33444383",
                                    "Edad": "24",
                                    "Domicilio": "Rosas 996",
                                    "ID_Gerente": "5942572"
                                },
                                {
                                    "ID_empleado": "2630867",
                                    "Nombre": "Elena",
                                    "Apellido": "Atehortua",
                                    "Telefono": "35581732",
                                    "Edad": "37",
                                    "Domicilio": "Sierra del tigre 299",
                                    "ID_Gerente": "5942572"
                                },
                                {
                                    "ID_empleado": "3833745",
                                    "Nombre": "Maria",
                                    "Apellido": "Zapata",
                                    "Telefono": "35354455",
                                    "Edad": "34",
                                    "Domicilio": "Boulevard 85",
                                    "ID_Gerente": "5942572"
                                },
                                {
                                    "ID_empleado": "4245367",
                                    "Nombre": "Alexandra",
                                    "Apellido": "Zapata",
                                    "Telefono": "33467136",
                                    "Edad": "31",
                                    "Domicilio": "Ingenieros 234",
                                    "ID_Gerente": "5942572"
                                },
                                {
                                    "ID_empleado": "5942572",
                                    "Nombre": "Jesus",
                                    "Apellido": "Agudelo",
                                    "Telefono": "34616222",
                                    "Edad": "35",
                                    "Domicilio": "NULL",
                                    "ID_Gerente": "NULL"
                                },
                                {
                                    "ID_empleado": "6332756",
                                    "Nombre": "Reinaldo",
                                    "Apellido": "Gonzalez",
                                    "Telefono": "36642727",
                                    "Edad": "43",
                                    "Domicilio": "Vallarta 711",
                                    "ID_Gerente": "5942572"
                                },
                                {
                                    "ID_empleado": "6931035",
                                    "Nombre": "Albeiro",
                                    "Apellido": "Villa",
                                    "Telefono": "33631010",
                                    "Edad": "39",
                                    "Domicilio": "Carniceros 233",
                                    "ID_Gerente": "5942572"
                                },
                                {
                                    "ID_empleado": "9611338",
                                    "Nombre": "Haygnes",
                                    "Apellido": "Ortiz",
                                    "Telefono": "35400189",
                                    "Edad": "27",
                                    "Domicilio": "General Diaz 343",
                                    "ID_Gerente": "5942572"
                                },
                                {
                                    "ID_empleado": "9922377",
                                    "Nombre": "Alexander",
                                    "Apellido": "Martinez",
                                    "Telefono": "36554872",
                                    "Edad": "28",
                                    "Domicilio": "Camino viejo 123",
                                    "ID_Gerente": "5942572"
                                }
                            ]
                        },
                        "text/html": "<table><tr><th>ID_empleado</th><th>Nombre</th><th>Apellido</th><th>Telefono</th><th>Edad</th><th>Domicilio</th><th>ID_Gerente</th></tr><tr><td>1111222</td><td>Alberto</td><td>Barrientos</td><td>34766613</td><td>26</td><td>Federal 233</td><td>5942572</td></tr><tr><td>2310967</td><td>Jairo</td><td>Mira</td><td>36403810</td><td>29</td><td>Calle 25 interior 2</td><td>5942572</td></tr><tr><td>2520477</td><td>Egidio</td><td>Lopez</td><td>33444383</td><td>24</td><td>Rosas 996</td><td>5942572</td></tr><tr><td>2630867</td><td>Elena</td><td>Atehortua</td><td>35581732</td><td>37</td><td>Sierra del tigre 299</td><td>5942572</td></tr><tr><td>3833745</td><td>Maria</td><td>Zapata</td><td>35354455</td><td>34</td><td>Boulevard 85</td><td>5942572</td></tr><tr><td>4245367</td><td>Alexandra</td><td>Zapata</td><td>33467136</td><td>31</td><td>Ingenieros 234</td><td>5942572</td></tr><tr><td>5942572</td><td>Jesus</td><td>Agudelo</td><td>34616222</td><td>35</td><td>NULL</td><td>NULL</td></tr><tr><td>6332756</td><td>Reinaldo</td><td>Gonzalez</td><td>36642727</td><td>43</td><td>Vallarta 711</td><td>5942572</td></tr><tr><td>6931035</td><td>Albeiro</td><td>Villa</td><td>33631010</td><td>39</td><td>Carniceros 233</td><td>5942572</td></tr><tr><td>9611338</td><td>Haygnes</td><td>Ortiz</td><td>35400189</td><td>27</td><td>General Diaz 343</td><td>5942572</td></tr><tr><td>9922377</td><td>Alexander</td><td>Martinez</td><td>36554872</td><td>28</td><td>Camino viejo 123</td><td>5942572</td></tr></table>"
                    },
                    "metadata": {}
                },
                {
                    "output_type": "error",
                    "ename": "",
                    "evalue": "1064 (42000): You have an error in your SQL syntax; check the manual that corresponds to your MySQL server version for the right syntax to use near 'WHERE domicilio IS NULL' at line 1",
                    "traceback": []
                }
            ],
            "execution_count": 26
        },
        {
            "cell_type": "code",
            "source": [
                "SELECT *\r\n",
                "FROM empleados\r\n",
                "WHERE domicilio IS NULL"
            ],
            "metadata": {
                "azdata_cell_guid": "fa120b20-b194-4116-8523-f20a428583bc",
                "language": "sql"
            },
            "outputs": [
                {
                    "output_type": "display_data",
                    "data": {
                        "text/html": "(1 row(s) affected)"
                    },
                    "metadata": {}
                },
                {
                    "output_type": "display_data",
                    "data": {
                        "text/html": "Total execution time: 00:00:01.008"
                    },
                    "metadata": {}
                },
                {
                    "output_type": "execute_result",
                    "execution_count": 29,
                    "data": {
                        "application/vnd.dataresource+json": {
                            "schema": {
                                "fields": [
                                    {
                                        "name": "ID_empleado"
                                    },
                                    {
                                        "name": "Nombre"
                                    },
                                    {
                                        "name": "Apellido"
                                    },
                                    {
                                        "name": "Telefono"
                                    },
                                    {
                                        "name": "Edad"
                                    },
                                    {
                                        "name": "Domicilio"
                                    },
                                    {
                                        "name": "ID_Gerente"
                                    }
                                ]
                            },
                            "data": [
                                {
                                    "ID_empleado": "5942572",
                                    "Nombre": "Jesus",
                                    "Apellido": "Agudelo",
                                    "Telefono": "34616222",
                                    "Edad": "35",
                                    "Domicilio": "NULL",
                                    "ID_Gerente": "NULL"
                                }
                            ]
                        },
                        "text/html": "<table><tr><th>ID_empleado</th><th>Nombre</th><th>Apellido</th><th>Telefono</th><th>Edad</th><th>Domicilio</th><th>ID_Gerente</th></tr><tr><td>5942572</td><td>Jesus</td><td>Agudelo</td><td>34616222</td><td>35</td><td>NULL</td><td>NULL</td></tr></table>"
                    },
                    "metadata": {}
                }
            ],
            "execution_count": 29
        },
        {
            "cell_type": "code",
            "source": [
                "SELECT *\r\n",
                "FROM empleados\r\n",
                "WHERE domicilio IS NOT NULL"
            ],
            "metadata": {
                "azdata_cell_guid": "f5dfde76-a8ff-4f99-b946-28caba23d3eb",
                "language": "sql"
            },
            "outputs": [
                {
                    "output_type": "display_data",
                    "data": {
                        "text/html": "(10 row(s) affected)"
                    },
                    "metadata": {}
                },
                {
                    "output_type": "display_data",
                    "data": {
                        "text/html": "Total execution time: 00:00:01.004"
                    },
                    "metadata": {}
                },
                {
                    "output_type": "execute_result",
                    "execution_count": 28,
                    "data": {
                        "application/vnd.dataresource+json": {
                            "schema": {
                                "fields": [
                                    {
                                        "name": "ID_empleado"
                                    },
                                    {
                                        "name": "Nombre"
                                    },
                                    {
                                        "name": "Apellido"
                                    },
                                    {
                                        "name": "Telefono"
                                    },
                                    {
                                        "name": "Edad"
                                    },
                                    {
                                        "name": "Domicilio"
                                    },
                                    {
                                        "name": "ID_Gerente"
                                    }
                                ]
                            },
                            "data": [
                                {
                                    "ID_empleado": "1111222",
                                    "Nombre": "Alberto",
                                    "Apellido": "Barrientos",
                                    "Telefono": "34766613",
                                    "Edad": "26",
                                    "Domicilio": "Federal 233",
                                    "ID_Gerente": "5942572"
                                },
                                {
                                    "ID_empleado": "2310967",
                                    "Nombre": "Jairo",
                                    "Apellido": "Mira",
                                    "Telefono": "36403810",
                                    "Edad": "29",
                                    "Domicilio": "Calle 25 interior 2",
                                    "ID_Gerente": "5942572"
                                },
                                {
                                    "ID_empleado": "2520477",
                                    "Nombre": "Egidio",
                                    "Apellido": "Lopez",
                                    "Telefono": "33444383",
                                    "Edad": "24",
                                    "Domicilio": "Rosas 996",
                                    "ID_Gerente": "5942572"
                                },
                                {
                                    "ID_empleado": "2630867",
                                    "Nombre": "Elena",
                                    "Apellido": "Atehortua",
                                    "Telefono": "35581732",
                                    "Edad": "37",
                                    "Domicilio": "Sierra del tigre 299",
                                    "ID_Gerente": "5942572"
                                },
                                {
                                    "ID_empleado": "3833745",
                                    "Nombre": "Maria",
                                    "Apellido": "Zapata",
                                    "Telefono": "35354455",
                                    "Edad": "34",
                                    "Domicilio": "Boulevard 85",
                                    "ID_Gerente": "5942572"
                                },
                                {
                                    "ID_empleado": "4245367",
                                    "Nombre": "Alexandra",
                                    "Apellido": "Zapata",
                                    "Telefono": "33467136",
                                    "Edad": "31",
                                    "Domicilio": "Ingenieros 234",
                                    "ID_Gerente": "5942572"
                                },
                                {
                                    "ID_empleado": "6332756",
                                    "Nombre": "Reinaldo",
                                    "Apellido": "Gonzalez",
                                    "Telefono": "36642727",
                                    "Edad": "43",
                                    "Domicilio": "Vallarta 711",
                                    "ID_Gerente": "5942572"
                                },
                                {
                                    "ID_empleado": "6931035",
                                    "Nombre": "Albeiro",
                                    "Apellido": "Villa",
                                    "Telefono": "33631010",
                                    "Edad": "39",
                                    "Domicilio": "Carniceros 233",
                                    "ID_Gerente": "5942572"
                                },
                                {
                                    "ID_empleado": "9611338",
                                    "Nombre": "Haygnes",
                                    "Apellido": "Ortiz",
                                    "Telefono": "35400189",
                                    "Edad": "27",
                                    "Domicilio": "General Diaz 343",
                                    "ID_Gerente": "5942572"
                                },
                                {
                                    "ID_empleado": "9922377",
                                    "Nombre": "Alexander",
                                    "Apellido": "Martinez",
                                    "Telefono": "36554872",
                                    "Edad": "28",
                                    "Domicilio": "Camino viejo 123",
                                    "ID_Gerente": "5942572"
                                }
                            ]
                        },
                        "text/html": "<table><tr><th>ID_empleado</th><th>Nombre</th><th>Apellido</th><th>Telefono</th><th>Edad</th><th>Domicilio</th><th>ID_Gerente</th></tr><tr><td>1111222</td><td>Alberto</td><td>Barrientos</td><td>34766613</td><td>26</td><td>Federal 233</td><td>5942572</td></tr><tr><td>2310967</td><td>Jairo</td><td>Mira</td><td>36403810</td><td>29</td><td>Calle 25 interior 2</td><td>5942572</td></tr><tr><td>2520477</td><td>Egidio</td><td>Lopez</td><td>33444383</td><td>24</td><td>Rosas 996</td><td>5942572</td></tr><tr><td>2630867</td><td>Elena</td><td>Atehortua</td><td>35581732</td><td>37</td><td>Sierra del tigre 299</td><td>5942572</td></tr><tr><td>3833745</td><td>Maria</td><td>Zapata</td><td>35354455</td><td>34</td><td>Boulevard 85</td><td>5942572</td></tr><tr><td>4245367</td><td>Alexandra</td><td>Zapata</td><td>33467136</td><td>31</td><td>Ingenieros 234</td><td>5942572</td></tr><tr><td>6332756</td><td>Reinaldo</td><td>Gonzalez</td><td>36642727</td><td>43</td><td>Vallarta 711</td><td>5942572</td></tr><tr><td>6931035</td><td>Albeiro</td><td>Villa</td><td>33631010</td><td>39</td><td>Carniceros 233</td><td>5942572</td></tr><tr><td>9611338</td><td>Haygnes</td><td>Ortiz</td><td>35400189</td><td>27</td><td>General Diaz 343</td><td>5942572</td></tr><tr><td>9922377</td><td>Alexander</td><td>Martinez</td><td>36554872</td><td>28</td><td>Camino viejo 123</td><td>5942572</td></tr></table>"
                    },
                    "metadata": {}
                }
            ],
            "execution_count": 28
        },
        {
            "cell_type": "markdown",
            "source": [
                "**LIMIT :** Utilizado para espedificar el numero de registros que obtenemos como retorno al ejecutar la consulta"
            ],
            "metadata": {
                "azdata_cell_guid": "27b2fd6d-01a2-45e2-aa71-742ee5cf16de"
            },
            "attachments": {}
        },
        {
            "cell_type": "code",
            "source": [
                "SELECT *\r\n",
                "FROM ventas;"
            ],
            "metadata": {
                "azdata_cell_guid": "30e0f18a-1e35-45f5-bac3-60ab0e57b817",
                "language": "sql"
            },
            "outputs": [
                {
                    "output_type": "display_data",
                    "data": {
                        "text/html": "(22 row(s) affected)"
                    },
                    "metadata": {}
                },
                {
                    "output_type": "display_data",
                    "data": {
                        "text/html": "Total execution time: 00:00:01.007"
                    },
                    "metadata": {}
                },
                {
                    "output_type": "execute_result",
                    "execution_count": 30,
                    "data": {
                        "application/vnd.dataresource+json": {
                            "schema": {
                                "fields": [
                                    {
                                        "name": "ventas_id"
                                    },
                                    {
                                        "name": "Fecha"
                                    },
                                    {
                                        "name": "ID_local"
                                    },
                                    {
                                        "name": "clave_producto"
                                    },
                                    {
                                        "name": "venta"
                                    },
                                    {
                                        "name": "venta_empleado"
                                    }
                                ]
                            },
                            "data": [
                                {
                                    "ventas_id": "1",
                                    "Fecha": "2018-11-18 00:00:00",
                                    "ID_local": "2",
                                    "clave_producto": "pzz",
                                    "venta": "1302",
                                    "venta_empleado": "2630867"
                                },
                                {
                                    "ventas_id": "2",
                                    "Fecha": "2018-09-17 00:00:00",
                                    "ID_local": "2",
                                    "clave_producto": "clz",
                                    "venta": "953",
                                    "venta_empleado": "2310967"
                                },
                                {
                                    "ventas_id": "3",
                                    "Fecha": "2018-10-18 00:00:00",
                                    "ID_local": "4",
                                    "clave_producto": "brr",
                                    "venta": "1286",
                                    "venta_empleado": "6931035"
                                },
                                {
                                    "ventas_id": "4",
                                    "Fecha": "2018-10-30 00:00:00",
                                    "ID_local": "1",
                                    "clave_producto": "brr",
                                    "venta": "889",
                                    "venta_empleado": "9922377"
                                },
                                {
                                    "ventas_id": "5",
                                    "Fecha": "2018-05-16 00:00:00",
                                    "ID_local": "1",
                                    "clave_producto": "qsd",
                                    "venta": "495",
                                    "venta_empleado": "2520477"
                                },
                                {
                                    "ventas_id": "6",
                                    "Fecha": "2018-12-15 00:00:00",
                                    "ID_local": "3",
                                    "clave_producto": "pzz",
                                    "venta": "544",
                                    "venta_empleado": "9611338"
                                },
                                {
                                    "ventas_id": "7",
                                    "Fecha": "2018-07-28 00:00:00",
                                    "ID_local": "4",
                                    "clave_producto": "pzz",
                                    "venta": "1444",
                                    "venta_empleado": "6332756"
                                },
                                {
                                    "ventas_id": "8",
                                    "Fecha": "2018-10-05 00:00:00",
                                    "ID_local": "1",
                                    "clave_producto": "pzz",
                                    "venta": "435",
                                    "venta_empleado": "2520477"
                                },
                                {
                                    "ventas_id": "9",
                                    "Fecha": "2018-04-20 00:00:00",
                                    "ID_local": "1",
                                    "clave_producto": "qsd",
                                    "venta": "1203",
                                    "venta_empleado": "9922377"
                                },
                                {
                                    "ventas_id": "10",
                                    "Fecha": "2018-06-08 00:00:00",
                                    "ID_local": "1",
                                    "clave_producto": "brr",
                                    "venta": "1038",
                                    "venta_empleado": "6332756"
                                },
                                {
                                    "ventas_id": "11",
                                    "Fecha": "2018-08-22 00:00:00",
                                    "ID_local": "1",
                                    "clave_producto": "brr",
                                    "venta": "404",
                                    "venta_empleado": "3833745"
                                },
                                {
                                    "ventas_id": "12",
                                    "Fecha": "2019-09-03 00:00:00",
                                    "ID_local": "1",
                                    "clave_producto": "pzz",
                                    "venta": "1362",
                                    "venta_empleado": "5728566"
                                },
                                {
                                    "ventas_id": "13",
                                    "Fecha": "2019-07-16 00:00:00",
                                    "ID_local": "3",
                                    "clave_producto": "qsd",
                                    "venta": "1054",
                                    "venta_empleado": "2310967"
                                },
                                {
                                    "ventas_id": "14",
                                    "Fecha": "2019-08-27 00:00:00",
                                    "ID_local": "3",
                                    "clave_producto": "clz",
                                    "venta": "303",
                                    "venta_empleado": "3833745"
                                },
                                {
                                    "ventas_id": "15",
                                    "Fecha": "2019-12-15 00:00:00",
                                    "ID_local": "1",
                                    "clave_producto": "brr",
                                    "venta": "871",
                                    "venta_empleado": "2520477"
                                },
                                {
                                    "ventas_id": "16",
                                    "Fecha": "2019-07-30 00:00:00",
                                    "ID_local": "3",
                                    "clave_producto": "brr",
                                    "venta": "1062",
                                    "venta_empleado": "5728566"
                                },
                                {
                                    "ventas_id": "17",
                                    "Fecha": "2019-10-25 00:00:00",
                                    "ID_local": "1",
                                    "clave_producto": "pzz",
                                    "venta": "1376",
                                    "venta_empleado": "6332756"
                                },
                                {
                                    "ventas_id": "18",
                                    "Fecha": "2019-12-14 00:00:00",
                                    "ID_local": "3",
                                    "clave_producto": "pzz",
                                    "venta": "957",
                                    "venta_empleado": "2310967"
                                },
                                {
                                    "ventas_id": "19",
                                    "Fecha": "2019-08-14 00:00:00",
                                    "ID_local": "2",
                                    "clave_producto": "clz",
                                    "venta": "972",
                                    "venta_empleado": "2310967"
                                },
                                {
                                    "ventas_id": "20",
                                    "Fecha": "2019-12-01 00:00:00",
                                    "ID_local": "1",
                                    "clave_producto": "pzz",
                                    "venta": "1455",
                                    "venta_empleado": "2310967"
                                },
                                {
                                    "ventas_id": "21",
                                    "Fecha": "2019-06-08 00:00:00",
                                    "ID_local": "4",
                                    "clave_producto": "qsd",
                                    "venta": "497",
                                    "venta_empleado": "5728566"
                                },
                                {
                                    "ventas_id": "22",
                                    "Fecha": "2019-07-25 00:00:00",
                                    "ID_local": "3",
                                    "clave_producto": "clz",
                                    "venta": "1179",
                                    "venta_empleado": "2310967"
                                }
                            ]
                        },
                        "text/html": "<table><tr><th>ventas_id</th><th>Fecha</th><th>ID_local</th><th>clave_producto</th><th>venta</th><th>venta_empleado</th></tr><tr><td>1</td><td>2018-11-18 00:00:00</td><td>2</td><td>pzz</td><td>1302</td><td>2630867</td></tr><tr><td>2</td><td>2018-09-17 00:00:00</td><td>2</td><td>clz</td><td>953</td><td>2310967</td></tr><tr><td>3</td><td>2018-10-18 00:00:00</td><td>4</td><td>brr</td><td>1286</td><td>6931035</td></tr><tr><td>4</td><td>2018-10-30 00:00:00</td><td>1</td><td>brr</td><td>889</td><td>9922377</td></tr><tr><td>5</td><td>2018-05-16 00:00:00</td><td>1</td><td>qsd</td><td>495</td><td>2520477</td></tr><tr><td>6</td><td>2018-12-15 00:00:00</td><td>3</td><td>pzz</td><td>544</td><td>9611338</td></tr><tr><td>7</td><td>2018-07-28 00:00:00</td><td>4</td><td>pzz</td><td>1444</td><td>6332756</td></tr><tr><td>8</td><td>2018-10-05 00:00:00</td><td>1</td><td>pzz</td><td>435</td><td>2520477</td></tr><tr><td>9</td><td>2018-04-20 00:00:00</td><td>1</td><td>qsd</td><td>1203</td><td>9922377</td></tr><tr><td>10</td><td>2018-06-08 00:00:00</td><td>1</td><td>brr</td><td>1038</td><td>6332756</td></tr><tr><td>11</td><td>2018-08-22 00:00:00</td><td>1</td><td>brr</td><td>404</td><td>3833745</td></tr><tr><td>12</td><td>2019-09-03 00:00:00</td><td>1</td><td>pzz</td><td>1362</td><td>5728566</td></tr><tr><td>13</td><td>2019-07-16 00:00:00</td><td>3</td><td>qsd</td><td>1054</td><td>2310967</td></tr><tr><td>14</td><td>2019-08-27 00:00:00</td><td>3</td><td>clz</td><td>303</td><td>3833745</td></tr><tr><td>15</td><td>2019-12-15 00:00:00</td><td>1</td><td>brr</td><td>871</td><td>2520477</td></tr><tr><td>16</td><td>2019-07-30 00:00:00</td><td>3</td><td>brr</td><td>1062</td><td>5728566</td></tr><tr><td>17</td><td>2019-10-25 00:00:00</td><td>1</td><td>pzz</td><td>1376</td><td>6332756</td></tr><tr><td>18</td><td>2019-12-14 00:00:00</td><td>3</td><td>pzz</td><td>957</td><td>2310967</td></tr><tr><td>19</td><td>2019-08-14 00:00:00</td><td>2</td><td>clz</td><td>972</td><td>2310967</td></tr><tr><td>20</td><td>2019-12-01 00:00:00</td><td>1</td><td>pzz</td><td>1455</td><td>2310967</td></tr><tr><td>21</td><td>2019-06-08 00:00:00</td><td>4</td><td>qsd</td><td>497</td><td>5728566</td></tr><tr><td>22</td><td>2019-07-25 00:00:00</td><td>3</td><td>clz</td><td>1179</td><td>2310967</td></tr></table>"
                    },
                    "metadata": {}
                }
            ],
            "execution_count": 30
        },
        {
            "cell_type": "code",
            "source": [
                "SELECT *\r\n",
                "FROM ventas \r\n",
                "LIMIT 5;"
            ],
            "metadata": {
                "azdata_cell_guid": "8083df1d-0766-494f-8367-27944d15c291",
                "language": "sql"
            },
            "outputs": [
                {
                    "output_type": "display_data",
                    "data": {
                        "text/html": "(5 row(s) affected)"
                    },
                    "metadata": {}
                },
                {
                    "output_type": "display_data",
                    "data": {
                        "text/html": "Total execution time: 00:00:01.046"
                    },
                    "metadata": {}
                },
                {
                    "output_type": "execute_result",
                    "execution_count": 32,
                    "data": {
                        "application/vnd.dataresource+json": {
                            "schema": {
                                "fields": [
                                    {
                                        "name": "ventas_id"
                                    },
                                    {
                                        "name": "Fecha"
                                    },
                                    {
                                        "name": "ID_local"
                                    },
                                    {
                                        "name": "clave_producto"
                                    },
                                    {
                                        "name": "venta"
                                    },
                                    {
                                        "name": "venta_empleado"
                                    }
                                ]
                            },
                            "data": [
                                {
                                    "ventas_id": "1",
                                    "Fecha": "2018-11-18 00:00:00",
                                    "ID_local": "2",
                                    "clave_producto": "pzz",
                                    "venta": "1302",
                                    "venta_empleado": "2630867"
                                },
                                {
                                    "ventas_id": "2",
                                    "Fecha": "2018-09-17 00:00:00",
                                    "ID_local": "2",
                                    "clave_producto": "clz",
                                    "venta": "953",
                                    "venta_empleado": "2310967"
                                },
                                {
                                    "ventas_id": "3",
                                    "Fecha": "2018-10-18 00:00:00",
                                    "ID_local": "4",
                                    "clave_producto": "brr",
                                    "venta": "1286",
                                    "venta_empleado": "6931035"
                                },
                                {
                                    "ventas_id": "4",
                                    "Fecha": "2018-10-30 00:00:00",
                                    "ID_local": "1",
                                    "clave_producto": "brr",
                                    "venta": "889",
                                    "venta_empleado": "9922377"
                                },
                                {
                                    "ventas_id": "5",
                                    "Fecha": "2018-05-16 00:00:00",
                                    "ID_local": "1",
                                    "clave_producto": "qsd",
                                    "venta": "495",
                                    "venta_empleado": "2520477"
                                }
                            ]
                        },
                        "text/html": "<table><tr><th>ventas_id</th><th>Fecha</th><th>ID_local</th><th>clave_producto</th><th>venta</th><th>venta_empleado</th></tr><tr><td>1</td><td>2018-11-18 00:00:00</td><td>2</td><td>pzz</td><td>1302</td><td>2630867</td></tr><tr><td>2</td><td>2018-09-17 00:00:00</td><td>2</td><td>clz</td><td>953</td><td>2310967</td></tr><tr><td>3</td><td>2018-10-18 00:00:00</td><td>4</td><td>brr</td><td>1286</td><td>6931035</td></tr><tr><td>4</td><td>2018-10-30 00:00:00</td><td>1</td><td>brr</td><td>889</td><td>9922377</td></tr><tr><td>5</td><td>2018-05-16 00:00:00</td><td>1</td><td>qsd</td><td>495</td><td>2520477</td></tr></table>"
                    },
                    "metadata": {}
                }
            ],
            "execution_count": 32
        },
        {
            "cell_type": "code",
            "source": [
                "SELECT *\r\n",
                "FROM ventas \r\n",
                "LIMIT 5,9;"
            ],
            "metadata": {
                "azdata_cell_guid": "3861611b-dffa-4a02-923a-952cd26e4f21",
                "language": "sql"
            },
            "outputs": [
                {
                    "output_type": "display_data",
                    "data": {
                        "text/html": "(9 row(s) affected)"
                    },
                    "metadata": {}
                },
                {
                    "output_type": "display_data",
                    "data": {
                        "text/html": "Total execution time: 00:00:01.021"
                    },
                    "metadata": {}
                },
                {
                    "output_type": "execute_result",
                    "execution_count": 33,
                    "data": {
                        "application/vnd.dataresource+json": {
                            "schema": {
                                "fields": [
                                    {
                                        "name": "ventas_id"
                                    },
                                    {
                                        "name": "Fecha"
                                    },
                                    {
                                        "name": "ID_local"
                                    },
                                    {
                                        "name": "clave_producto"
                                    },
                                    {
                                        "name": "venta"
                                    },
                                    {
                                        "name": "venta_empleado"
                                    }
                                ]
                            },
                            "data": [
                                {
                                    "ventas_id": "6",
                                    "Fecha": "2018-12-15 00:00:00",
                                    "ID_local": "3",
                                    "clave_producto": "pzz",
                                    "venta": "544",
                                    "venta_empleado": "9611338"
                                },
                                {
                                    "ventas_id": "7",
                                    "Fecha": "2018-07-28 00:00:00",
                                    "ID_local": "4",
                                    "clave_producto": "pzz",
                                    "venta": "1444",
                                    "venta_empleado": "6332756"
                                },
                                {
                                    "ventas_id": "8",
                                    "Fecha": "2018-10-05 00:00:00",
                                    "ID_local": "1",
                                    "clave_producto": "pzz",
                                    "venta": "435",
                                    "venta_empleado": "2520477"
                                },
                                {
                                    "ventas_id": "9",
                                    "Fecha": "2018-04-20 00:00:00",
                                    "ID_local": "1",
                                    "clave_producto": "qsd",
                                    "venta": "1203",
                                    "venta_empleado": "9922377"
                                },
                                {
                                    "ventas_id": "10",
                                    "Fecha": "2018-06-08 00:00:00",
                                    "ID_local": "1",
                                    "clave_producto": "brr",
                                    "venta": "1038",
                                    "venta_empleado": "6332756"
                                },
                                {
                                    "ventas_id": "11",
                                    "Fecha": "2018-08-22 00:00:00",
                                    "ID_local": "1",
                                    "clave_producto": "brr",
                                    "venta": "404",
                                    "venta_empleado": "3833745"
                                },
                                {
                                    "ventas_id": "12",
                                    "Fecha": "2019-09-03 00:00:00",
                                    "ID_local": "1",
                                    "clave_producto": "pzz",
                                    "venta": "1362",
                                    "venta_empleado": "5728566"
                                },
                                {
                                    "ventas_id": "13",
                                    "Fecha": "2019-07-16 00:00:00",
                                    "ID_local": "3",
                                    "clave_producto": "qsd",
                                    "venta": "1054",
                                    "venta_empleado": "2310967"
                                },
                                {
                                    "ventas_id": "14",
                                    "Fecha": "2019-08-27 00:00:00",
                                    "ID_local": "3",
                                    "clave_producto": "clz",
                                    "venta": "303",
                                    "venta_empleado": "3833745"
                                }
                            ]
                        },
                        "text/html": "<table><tr><th>ventas_id</th><th>Fecha</th><th>ID_local</th><th>clave_producto</th><th>venta</th><th>venta_empleado</th></tr><tr><td>6</td><td>2018-12-15 00:00:00</td><td>3</td><td>pzz</td><td>544</td><td>9611338</td></tr><tr><td>7</td><td>2018-07-28 00:00:00</td><td>4</td><td>pzz</td><td>1444</td><td>6332756</td></tr><tr><td>8</td><td>2018-10-05 00:00:00</td><td>1</td><td>pzz</td><td>435</td><td>2520477</td></tr><tr><td>9</td><td>2018-04-20 00:00:00</td><td>1</td><td>qsd</td><td>1203</td><td>9922377</td></tr><tr><td>10</td><td>2018-06-08 00:00:00</td><td>1</td><td>brr</td><td>1038</td><td>6332756</td></tr><tr><td>11</td><td>2018-08-22 00:00:00</td><td>1</td><td>brr</td><td>404</td><td>3833745</td></tr><tr><td>12</td><td>2019-09-03 00:00:00</td><td>1</td><td>pzz</td><td>1362</td><td>5728566</td></tr><tr><td>13</td><td>2019-07-16 00:00:00</td><td>3</td><td>qsd</td><td>1054</td><td>2310967</td></tr><tr><td>14</td><td>2019-08-27 00:00:00</td><td>3</td><td>clz</td><td>303</td><td>3833745</td></tr></table>"
                    },
                    "metadata": {}
                }
            ],
            "execution_count": 33
        },
        {
            "cell_type": "code",
            "source": [
                ""
            ],
            "metadata": {
                "azdata_cell_guid": "88af1c0d-428d-4bf5-8595-7102275ed051",
                "language": "sql"
            },
            "outputs": [],
            "execution_count": null
        },
        {
            "cell_type": "markdown",
            "source": [
                "Los primero cinco datos no los va a mostrar, sino que muestra los siguientes nueve"
            ],
            "metadata": {
                "azdata_cell_guid": "6ccf5292-45bd-447a-9d46-f9f70ac4252d"
            },
            "attachments": {}
        }
    ]
}