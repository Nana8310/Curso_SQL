{
    "metadata": {
        "kernelspec": {
            "name": "SQL",
            "display_name": "SQL",
            "language": "sql"
        },
        "language_info": {
            "name": "sql",
            "version": ""
        }
    },
    "nbformat_minor": 2,
    "nbformat": 4,
    "cells": [
        {
            "cell_type": "markdown",
            "source": [
                "# Practica 10"
            ],
            "metadata": {
                "azdata_cell_guid": "9d8c75b4-287a-4eb8-b3c6-920707d3f126"
            },
            "attachments": {}
        },
        {
            "cell_type": "markdown",
            "source": [
                "## Operador IN"
            ],
            "metadata": {
                "azdata_cell_guid": "09aeda61-cce3-4720-a3f3-703b960dee88"
            },
            "attachments": {}
        },
        {
            "cell_type": "markdown",
            "source": [
                "### Crea un subquery para generar una vista con:"
            ],
            "metadata": {
                "azdata_cell_guid": "212d2bdb-5734-42f9-aa68-9ce85933c47a"
            },
            "attachments": {}
        },
        {
            "cell_type": "markdown",
            "source": [
                "**1 Los vendedores que no vendieron en 2018**"
            ],
            "metadata": {
                "azdata_cell_guid": "91e35023-dd97-4e4f-bdf8-f2d3b2b8a2b3"
            },
            "attachments": {}
        },
        {
            "cell_type": "code",
            "source": [
                "SELECT v.Nombre\r\n",
                "FROM vendedor AS v\r\n",
                "WHERE v.ID_Vendedor NOT IN (\r\n",
                "    SELECT ve.ID_Vendedor\r\n",
                "    FROM ventas AS ve\r\n",
                "    WHERE YEAR(ve.fecha_nueva) = 2018\r\n",
                ");"
            ],
            "metadata": {
                "azdata_cell_guid": "dd5b82db-9863-45a6-80dc-a5f707bd2f72",
                "language": "sql"
            },
            "outputs": [
                {
                    "output_type": "display_data",
                    "data": {
                        "text/html": "(1 row(s) affected)"
                    },
                    "metadata": {}
                },
                {
                    "output_type": "display_data",
                    "data": {
                        "text/html": "Total execution time: 00:00:01.027"
                    },
                    "metadata": {}
                },
                {
                    "output_type": "execute_result",
                    "metadata": {},
                    "execution_count": 3,
                    "data": {
                        "application/vnd.dataresource+json": {
                            "schema": {
                                "fields": [
                                    {
                                        "name": "Nombre"
                                    }
                                ]
                            },
                            "data": [
                                {
                                    "Nombre": "ROBERTO"
                                }
                            ]
                        },
                        "text/html": [
                            "<table>",
                            "<tr><th>Nombre</th></tr>",
                            "<tr><td>ROBERTO</td></tr>",
                            "</table>"
                        ]
                    }
                }
            ],
            "execution_count": 3
        },
        {
            "cell_type": "markdown",
            "source": [
                "**2 Productos que no se vendieron en marzo del 2017**"
            ],
            "metadata": {
                "language": "sql",
                "azdata_cell_guid": "58fef5bf-c696-42e0-aa14-e5d69607dfaf"
            },
            "attachments": {}
        },
        {
            "cell_type": "code",
            "source": [
                "SELECT p.Producto\r\n",
                "FROM producto AS p\r\n",
                "WHERE p.id_producto NOT IN (\r\n",
                "    SELECT ve.id_producto\r\n",
                "    FROM ventas AS ve\r\n",
                "    WHERE YEAR(ve.fecha_nueva) = 2017 AND MONTH(ve.fecha_nueva) = 3\r\n",
                ");"
            ],
            "metadata": {
                "azdata_cell_guid": "45771bd9-2df5-4f2f-ab19-37d9969bc6a2",
                "language": "sql"
            },
            "outputs": [
                {
                    "output_type": "display_data",
                    "data": {
                        "text/html": "(1 row(s) affected)"
                    },
                    "metadata": {}
                },
                {
                    "output_type": "display_data",
                    "data": {
                        "text/html": "Total execution time: 00:00:01.007"
                    },
                    "metadata": {}
                },
                {
                    "output_type": "execute_result",
                    "metadata": {},
                    "execution_count": 7,
                    "data": {
                        "application/vnd.dataresource+json": {
                            "schema": {
                                "fields": [
                                    {
                                        "name": "Producto"
                                    }
                                ]
                            },
                            "data": [
                                {
                                    "Producto": "Remates"
                                }
                            ]
                        },
                        "text/html": [
                            "<table>",
                            "<tr><th>Producto</th></tr>",
                            "<tr><td>Remates</td></tr>",
                            "</table>"
                        ]
                    }
                }
            ],
            "execution_count": 7
        },
        {
            "cell_type": "markdown",
            "source": [
                "**3. Clientes que compraron propiedas de remates Bancarios en el primer cuarto de 2016**"
            ],
            "metadata": {
                "language": "sql",
                "azdata_cell_guid": "576cb8c7-eb68-4f3a-87d8-5497571b0c2d"
            },
            "attachments": {}
        },
        {
            "cell_type": "code",
            "source": [
                "SELECT c.Nombre\r\n",
                "FROM clientes AS c\r\n",
                "JOIN ventas AS v ON c.ID_Cliente = v.ID_Cliente\r\n",
                "JOIN producto AS p ON v.ID_Producto = p.ID_Producto\r\n",
                "WHERE v.fecha_nueva >= '2016-01-01'\r\n",
                "AND v.fecha_nueva <= '2016-03-31'\r\n",
                "AND p.Producto = 'Remates'\r\n",
                "GROUP BY c.Nombre;"
            ],
            "metadata": {
                "azdata_cell_guid": "373a4222-d825-4be2-85f0-3a14d9a943e6",
                "language": "sql",
                "tags": []
            },
            "outputs": [
                {
                    "output_type": "display_data",
                    "data": {
                        "text/html": "(6 row(s) affected)"
                    },
                    "metadata": {}
                },
                {
                    "output_type": "display_data",
                    "data": {
                        "text/html": "Total execution time: 00:00:01.018"
                    },
                    "metadata": {}
                },
                {
                    "output_type": "execute_result",
                    "metadata": {},
                    "execution_count": 8,
                    "data": {
                        "application/vnd.dataresource+json": {
                            "schema": {
                                "fields": [
                                    {
                                        "name": "Nombre"
                                    }
                                ]
                            },
                            "data": [
                                {
                                    "Nombre": "Tierra y Paz"
                                },
                                {
                                    "Nombre": "The LandLord"
                                },
                                {
                                    "Nombre": "Mart B & C"
                                },
                                {
                                    "Nombre": "Agora e Tudo MM"
                                },
                                {
                                    "Nombre": "Bienestar Land"
                                },
                                {
                                    "Nombre": "JKP Asesores"
                                }
                            ]
                        },
                        "text/html": [
                            "<table>",
                            "<tr><th>Nombre</th></tr>",
                            "<tr><td>Tierra y Paz</td></tr>",
                            "<tr><td>The LandLord</td></tr>",
                            "<tr><td>Mart B &amp; C</td></tr>",
                            "<tr><td>Agora e Tudo MM</td></tr>",
                            "<tr><td>Bienestar Land</td></tr>",
                            "<tr><td>JKP Asesores</td></tr>",
                            "</table>"
                        ]
                    }
                }
            ],
            "execution_count": 8
        },
        {
            "cell_type": "code",
            "source": [
                "ALTER TABLE ventas\r\n",
                "ADD fecha_nueva DATE;"
            ],
            "metadata": {
                "azdata_cell_guid": "99d17474-e095-4418-bee5-898fb9b992bb",
                "language": "sql",
                "tags": []
            },
            "outputs": [
                {
                    "output_type": "display_data",
                    "data": {
                        "text/html": "Commands completed successfully"
                    },
                    "metadata": {}
                },
                {
                    "output_type": "display_data",
                    "data": {
                        "text/html": "Total execution time: 00:00:00.048"
                    },
                    "metadata": {}
                }
            ],
            "execution_count": 3
        },
        {
            "cell_type": "code",
            "source": [
                "UPDATE ventas\r\n",
                "SET fecha_nueva = STR_TO_DATE(Fecha_venta, '%d-%b-%y');"
            ],
            "metadata": {
                "azdata_cell_guid": "a1a08358-c0bc-43aa-9dfe-cba52fd11167",
                "language": "sql"
            },
            "outputs": [
                {
                    "output_type": "display_data",
                    "data": {
                        "text/html": "Commands completed successfully"
                    },
                    "metadata": {}
                },
                {
                    "output_type": "display_data",
                    "data": {
                        "text/html": "Total execution time: 00:00:00.143"
                    },
                    "metadata": {}
                }
            ],
            "execution_count": 5
        },
        {
            "cell_type": "code",
            "source": [
                "UPDATE ventas\r\n",
                "SET fecha_nueva = STR_TO_DATE(Fecha_venta, '%d-%b-%y');\r\n",
                "\r\n",
                "\r\n",
                "UPDATE ventas\r\n",
                "SET fecha_nueva = DATE_FORMAT(fecha_nueva, '%d-%m-%Y');"
            ],
            "metadata": {
                "azdata_cell_guid": "0e5029a7-94d9-4077-9176-7db4dc89d0cd",
                "language": "sql"
            },
            "outputs": [
                {
                    "output_type": "display_data",
                    "data": {
                        "text/html": "Commands completed successfully"
                    },
                    "metadata": {}
                },
                {
                    "output_type": "display_data",
                    "data": {
                        "text/html": "Total execution time: 00:00:00.004"
                    },
                    "metadata": {}
                },
                {
                    "output_type": "error",
                    "ename": "",
                    "evalue": "1292 (22007): Incorrect date value: '29-12-2015' for column 'fecha_nueva' at row 1",
                    "traceback": []
                }
            ],
            "execution_count": 8
        },
        {
            "cell_type": "markdown",
            "source": [
                "### <span style=\"font-size: 16.38px;\">Uso de ALL &amp; ANY</span>"
            ],
            "metadata": {
                "language": "sql",
                "azdata_cell_guid": "189178dc-907f-4dcb-8828-e9f6798fd5f1"
            },
            "attachments": {}
        },
        {
            "cell_type": "markdown",
            "source": [
                "### <span style=\"font-size: 16.38px;\">Genera una vista para entregar el informe que contenga:</span>"
            ],
            "metadata": {
                "language": "sql",
                "azdata_cell_guid": "aa0b693b-99a3-483d-aa2d-e4ae70ca3652"
            },
            "attachments": {}
        },
        {
            "cell_type": "markdown",
            "source": [
                "**4. Todas las ventas superiores a la venta más cara de una oficina**"
            ],
            "metadata": {
                "language": "sql",
                "azdata_cell_guid": "e3446a7d-efd1-4618-8beb-19978a16b343"
            },
            "attachments": {}
        },
        {
            "cell_type": "code",
            "source": [
                "SELECT ID_Venta,ID_Producto, Venta\r\n",
                "FROM ventas\r\n",
                "WHERE Venta > ALL (SELECT Venta FROM ventas WHERE ID_Producto = 2);"
            ],
            "metadata": {
                "language": "sql",
                "azdata_cell_guid": "b143f804-d972-43db-a8e4-d0813b162bab",
                "tags": [
                    "hide_input"
                ]
            },
            "outputs": [
                {
                    "output_type": "display_data",
                    "data": {
                        "text/html": "(7 row(s) affected)"
                    },
                    "metadata": {}
                },
                {
                    "output_type": "display_data",
                    "data": {
                        "text/html": "Total execution time: 00:00:01.024"
                    },
                    "metadata": {}
                },
                {
                    "output_type": "execute_result",
                    "metadata": {},
                    "execution_count": 19,
                    "data": {
                        "application/vnd.dataresource+json": {
                            "schema": {
                                "fields": [
                                    {
                                        "name": "ID_Venta"
                                    },
                                    {
                                        "name": "ID_Producto"
                                    },
                                    {
                                        "name": "Venta"
                                    }
                                ]
                            },
                            "data": [
                                {
                                    "ID_Venta": "13",
                                    "ID_Producto": "1",
                                    "Venta": "2937300"
                                },
                                {
                                    "ID_Venta": "873",
                                    "ID_Producto": "5",
                                    "Venta": "2923155"
                                },
                                {
                                    "ID_Venta": "2654",
                                    "ID_Producto": "6",
                                    "Venta": "2909412"
                                },
                                {
                                    "ID_Venta": "2697",
                                    "ID_Producto": "3",
                                    "Venta": "2977318"
                                },
                                {
                                    "ID_Venta": "3126",
                                    "ID_Producto": "3",
                                    "Venta": "2902284"
                                },
                                {
                                    "ID_Venta": "3268",
                                    "ID_Producto": "5",
                                    "Venta": "2908500"
                                },
                                {
                                    "ID_Venta": "3289",
                                    "ID_Producto": "1",
                                    "Venta": "2914416"
                                }
                            ]
                        },
                        "text/html": [
                            "<table>",
                            "<tr><th>ID_Venta</th><th>ID_Producto</th><th>Venta</th></tr>",
                            "<tr><td>13</td><td>1</td><td>2937300</td></tr>",
                            "<tr><td>873</td><td>5</td><td>2923155</td></tr>",
                            "<tr><td>2654</td><td>6</td><td>2909412</td></tr>",
                            "<tr><td>2697</td><td>3</td><td>2977318</td></tr>",
                            "<tr><td>3126</td><td>3</td><td>2902284</td></tr>",
                            "<tr><td>3268</td><td>5</td><td>2908500</td></tr>",
                            "<tr><td>3289</td><td>1</td><td>2914416</td></tr>",
                            "</table>"
                        ]
                    }
                }
            ],
            "execution_count": 19
        },
        {
            "cell_type": "markdown",
            "source": [
                "**5. Cualquier venta mayor al de una oficina**"
            ],
            "metadata": {
                "language": "sql",
                "azdata_cell_guid": "c37d6fd0-2ca4-4181-a278-0acfca0870bc"
            },
            "attachments": {}
        },
        {
            "cell_type": "code",
            "source": [
                "SELECT ID_Venta,ID_Producto, Venta\r\n",
                "FROM ventas\r\n",
                "WHERE Venta > ALL (SELECT Venta FROM ventas WHERE ID_Producto = 2)\r\n",
                "   AND ID_Producto IN (2, 3); "
            ],
            "metadata": {
                "language": "sql",
                "azdata_cell_guid": "84bcc79e-e15d-409d-bc1c-2193635bb655"
            },
            "outputs": [
                {
                    "output_type": "display_data",
                    "data": {
                        "text/html": "(2 row(s) affected)"
                    },
                    "metadata": {}
                },
                {
                    "output_type": "display_data",
                    "data": {
                        "text/html": "Total execution time: 00:00:01.022"
                    },
                    "metadata": {}
                },
                {
                    "output_type": "execute_result",
                    "metadata": {},
                    "execution_count": 22,
                    "data": {
                        "application/vnd.dataresource+json": {
                            "schema": {
                                "fields": [
                                    {
                                        "name": "ID_Venta"
                                    },
                                    {
                                        "name": "ID_Producto"
                                    },
                                    {
                                        "name": "Venta"
                                    }
                                ]
                            },
                            "data": [
                                {
                                    "ID_Venta": "2697",
                                    "ID_Producto": "3",
                                    "Venta": "2977318"
                                },
                                {
                                    "ID_Venta": "3126",
                                    "ID_Producto": "3",
                                    "Venta": "2902284"
                                }
                            ]
                        },
                        "text/html": [
                            "<table>",
                            "<tr><th>ID_Venta</th><th>ID_Producto</th><th>Venta</th></tr>",
                            "<tr><td>2697</td><td>3</td><td>2977318</td></tr>",
                            "<tr><td>3126</td><td>3</td><td>2902284</td></tr>",
                            "</table>"
                        ]
                    }
                }
            ],
            "execution_count": 22
        },
        {
            "cell_type": "markdown",
            "source": [
                "## EXISTS"
            ],
            "metadata": {
                "language": "sql",
                "azdata_cell_guid": "78d01d67-89d0-4b2e-bb78-2bb9e6072171"
            },
            "attachments": {}
        },
        {
            "cell_type": "markdown",
            "source": [
                "## Buscaremos a todos los vendedores que no vendieron usando EXISTS y el uso de un query correlacionado:"
            ],
            "metadata": {
                "language": "sql",
                "azdata_cell_guid": "d3d6a176-4893-4a8c-bfff-af776ab074a4"
            },
            "attachments": {}
        },
        {
            "cell_type": "markdown",
            "source": [
                "**6. Todos los vendedores que no han vendido nada**"
            ],
            "metadata": {
                "language": "sql",
                "azdata_cell_guid": "982d6af5-0833-4e9c-9c1d-817dbf02ef23"
            },
            "attachments": {}
        },
        {
            "cell_type": "code",
            "source": [
                "SELECT v.Nombre\r\n",
                "FROM vendedor v\r\n",
                "WHERE NOT EXISTS (\r\n",
                "    SELECT *\r\n",
                "    FROM ventas ve\r\n",
                "    WHERE ve.ID_Vendedor = v.ID_Vendedor\r\n",
                ");"
            ],
            "metadata": {
                "language": "sql",
                "azdata_cell_guid": "9d7c6d2c-1e68-4a57-8b50-c710034f97b6",
                "tags": []
            },
            "outputs": [
                {
                    "output_type": "display_data",
                    "data": {
                        "text/html": "(1 row(s) affected)"
                    },
                    "metadata": {}
                },
                {
                    "output_type": "display_data",
                    "data": {
                        "text/html": "Total execution time: 00:00:01.019"
                    },
                    "metadata": {}
                },
                {
                    "output_type": "execute_result",
                    "execution_count": 85,
                    "data": {
                        "application/vnd.dataresource+json": {
                            "schema": {
                                "fields": [
                                    {
                                        "name": "Nombre"
                                    }
                                ]
                            },
                            "data": [
                                {
                                    "Nombre": "ROBERTO"
                                }
                            ]
                        },
                        "text/html": "<table><tr><th>Nombre</th></tr><tr><td>ROBERTO</td></tr></table>"
                    },
                    "metadata": {}
                }
            ],
            "execution_count": 85
        },
        {
            "cell_type": "markdown",
            "source": [
                "## Subqueries en SELECT"
            ],
            "metadata": {
                "language": "sql",
                "azdata_cell_guid": "5d3e12c9-8781-4f4a-b80a-f7a2dc6ce19b"
            },
            "attachments": {}
        },
        {
            "cell_type": "markdown",
            "source": [
                "## Crea un subquery en SELECT para:"
            ],
            "metadata": {
                "language": "sql",
                "azdata_cell_guid": "ccf76291-e48e-4a14-abd0-27b02242a299"
            },
            "attachments": {}
        },
        {
            "cell_type": "markdown",
            "source": [
                "**7. Obtener el % que representa cada venta del total por cliente**"
            ],
            "metadata": {
                "language": "sql",
                "azdata_cell_guid": "4b873944-0d1e-451f-b0ff-b5587b0a8625"
            },
            "attachments": {}
        },
        {
            "cell_type": "code",
            "source": [
                "SELECT\r\n",
                "    c.Nombre AS Nombre_Cliente,\r\n",
                "    SUM(v.Venta) AS Total_Ventas,\r\n",
                "    (SUM(v.Venta) / SUM(SUM(v.Venta)) OVER ()) * 100 AS Porcentaje_del_Total\r\n",
                "FROM\r\n",
                "    ventas v\r\n",
                "JOIN\r\n",
                "    clientes c ON v.ID_Cliente = c.ID_Cliente\r\n",
                "GROUP BY\r\n",
                "    c.Nombre;\r\n",
                "\r\n",
                "    \r\n",
                ""
            ],
            "metadata": {
                "azdata_cell_guid": "c3d76b87-f35d-48d6-acaf-ccdc4c4ee978",
                "language": "sql",
                "tags": []
            },
            "outputs": [
                {
                    "output_type": "display_data",
                    "data": {
                        "text/html": "(10 row(s) affected)"
                    },
                    "metadata": {}
                },
                {
                    "output_type": "display_data",
                    "data": {
                        "text/html": "Total execution time: 00:00:01.030"
                    },
                    "metadata": {}
                },
                {
                    "output_type": "execute_result",
                    "metadata": {},
                    "execution_count": 29,
                    "data": {
                        "application/vnd.dataresource+json": {
                            "schema": {
                                "fields": [
                                    {
                                        "name": "Nombre_Cliente"
                                    },
                                    {
                                        "name": "Total_Ventas"
                                    },
                                    {
                                        "name": "Porcentaje_del_Total"
                                    }
                                ]
                            },
                            "data": [
                                {
                                    "Nombre_Cliente": "Tierra y Paz",
                                    "Total_Ventas": "396773900",
                                    "Porcentaje_del_Total": "9.8883"
                                },
                                {
                                    "Nombre_Cliente": "Mart B & C",
                                    "Total_Ventas": "388887215",
                                    "Porcentaje_del_Total": "9.6917"
                                },
                                {
                                    "Nombre_Cliente": "Bienestar Land",
                                    "Total_Ventas": "398732515",
                                    "Porcentaje_del_Total": "9.9371"
                                },
                                {
                                    "Nombre_Cliente": "JKP Asesores",
                                    "Total_Ventas": "406166520",
                                    "Porcentaje_del_Total": "10.1223"
                                },
                                {
                                    "Nombre_Cliente": "Too & A",
                                    "Total_Ventas": "384384462",
                                    "Porcentaje_del_Total": "9.5795"
                                },
                                {
                                    "Nombre_Cliente": "Pacifico Norte & CO",
                                    "Total_Ventas": "412591534",
                                    "Porcentaje_del_Total": "10.2825"
                                },
                                {
                                    "Nombre_Cliente": "The LandLord",
                                    "Total_Ventas": "396058173",
                                    "Porcentaje_del_Total": "9.8704"
                                },
                                {
                                    "Nombre_Cliente": "Bienes de Occidente",
                                    "Total_Ventas": "426258240",
                                    "Porcentaje_del_Total": "10.6231"
                                },
                                {
                                    "Nombre_Cliente": "Honduland",
                                    "Total_Ventas": "399943647",
                                    "Porcentaje_del_Total": "9.9673"
                                },
                                {
                                    "Nombre_Cliente": "Agora e Tudo MM",
                                    "Total_Ventas": "402777232",
                                    "Porcentaje_del_Total": "10.0379"
                                }
                            ]
                        },
                        "text/html": [
                            "<table>",
                            "<tr><th>Nombre_Cliente</th><th>Total_Ventas</th><th>Porcentaje_del_Total</th></tr>",
                            "<tr><td>Tierra y Paz</td><td>396773900</td><td>9.8883</td></tr>",
                            "<tr><td>Mart B &amp; C</td><td>388887215</td><td>9.6917</td></tr>",
                            "<tr><td>Bienestar Land</td><td>398732515</td><td>9.9371</td></tr>",
                            "<tr><td>JKP Asesores</td><td>406166520</td><td>10.1223</td></tr>",
                            "<tr><td>Too &amp; A</td><td>384384462</td><td>9.5795</td></tr>",
                            "<tr><td>Pacifico Norte &amp; CO</td><td>412591534</td><td>10.2825</td></tr>",
                            "<tr><td>The LandLord</td><td>396058173</td><td>9.8704</td></tr>",
                            "<tr><td>Bienes de Occidente</td><td>426258240</td><td>10.6231</td></tr>",
                            "<tr><td>Honduland</td><td>399943647</td><td>9.9673</td></tr>",
                            "<tr><td>Agora e Tudo MM</td><td>402777232</td><td>10.0379</td></tr>",
                            "</table>"
                        ]
                    }
                }
            ],
            "execution_count": 29
        },
        {
            "cell_type": "markdown",
            "source": [
                "- `SUM(v.Venta)` calcula el total de ventas para cada cliente.\n",
                "- `SUM(SUM(v.Venta)) OVER ()` calcula el total general de ventas.\n",
                "- `(SUM(v.Venta) / SUM(SUM(v.Venta)) OVER ()) * 100` calcula el porcentaje del total para cada cliente."
            ],
            "metadata": {
                "azdata_cell_guid": "6020ead0-baf8-4187-b8ed-b3d7a6c811fa"
            },
            "attachments": {}
        }
    ]
}