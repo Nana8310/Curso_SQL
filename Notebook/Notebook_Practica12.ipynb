{
    "metadata": {
        "kernelspec": {
            "name": "SQL",
            "display_name": "SQL",
            "language": "sql"
        },
        "language_info": {
            "name": "sql",
            "version": ""
        }
    },
    "nbformat_minor": 2,
    "nbformat": 4,
    "cells": [
        {
            "cell_type": "markdown",
            "source": [
                "# Practica 12 - Funciones esenciales en SQL"
            ],
            "metadata": {
                "azdata_cell_guid": "340994e9-49a9-469b-ae0b-edbfb84e7052"
            },
            "attachments": {}
        },
        {
            "cell_type": "markdown",
            "source": [
                "## Parte 1. Responder utilizando el schema **base.sql**"
            ],
            "metadata": {
                "azdata_cell_guid": "7d5c20f0-61e7-4846-94db-5bb6c9154d1a"
            },
            "attachments": {}
        },
        {
            "cell_type": "markdown",
            "source": [
                "## Funciones String & Fecha"
            ],
            "metadata": {
                "azdata_cell_guid": "6ed64a62-e15f-43ed-b81b-3a159413d8de"
            },
            "attachments": {}
        },
        {
            "cell_type": "markdown",
            "source": [
                "**1\\. ¿Cuál es el nombre y apellido más largo de nuestros vendedores?**"
            ],
            "metadata": {
                "azdata_cell_guid": "d1a88cf2-a322-4ebe-a9b9-decc60f2cdda"
            },
            "attachments": {}
        },
        {
            "cell_type": "code",
            "source": [
                "SELECT Nombre, Apellido\r\n",
                "FROM vendedor\r\n",
                "ORDER BY LENGTH(Nombre) DESC, Apellido\r\n",
                "LIMIT 1;"
            ],
            "metadata": {
                "azdata_cell_guid": "dd12b97c-e864-42de-82cb-d8666dae007d",
                "language": "sql"
            },
            "outputs": [
                {
                    "output_type": "display_data",
                    "data": {
                        "text/html": "(1 row(s) affected)"
                    },
                    "metadata": {}
                },
                {
                    "output_type": "display_data",
                    "data": {
                        "text/html": "Total execution time: 00:00:01.033"
                    },
                    "metadata": {}
                },
                {
                    "output_type": "execute_result",
                    "metadata": {},
                    "execution_count": 4,
                    "data": {
                        "application/vnd.dataresource+json": {
                            "schema": {
                                "fields": [
                                    {
                                        "name": "Nombre"
                                    },
                                    {
                                        "name": "Apellido"
                                    }
                                ]
                            },
                            "data": [
                                {
                                    "Nombre": "FRANCISCO JAVIER",
                                    "Apellido": "GARCIA"
                                }
                            ]
                        },
                        "text/html": [
                            "<table>",
                            "<tr><th>Nombre</th><th>Apellido</th></tr>",
                            "<tr><td>FRANCISCO JAVIER</td><td>GARCIA</td></tr>",
                            "</table>"
                        ]
                    }
                }
            ],
            "execution_count": 4
        },
        {
            "cell_type": "markdown",
            "source": [
                "**2\\. Obtener las ventas totales para los últimos 3 años**"
            ],
            "metadata": {
                "language": "sql",
                "azdata_cell_guid": "945251e9-3b9a-4ca3-b879-85741d25ea5b"
            },
            "attachments": {}
        },
        {
            "cell_type": "code",
            "source": [
                "SELECT YEAR(Fecha_venta) AS Año,\r\n",
                "       SUM(Venta) AS Ventas_Totales\r\n",
                "FROM ventas\r\n",
                "WHERE YEAR(Fecha_venta) >= YEAR(CURRENT_DATE) - 2\r\n",
                "GROUP BY YEAR(Fecha_venta)\r\n",
                "ORDER BY Año;"
            ],
            "metadata": {
                "language": "sql",
                "azdata_cell_guid": "7c0804ce-0af2-4d6d-88c0-dac7bd100847"
            },
            "outputs": [
                {
                    "output_type": "display_data",
                    "data": {
                        "text/html": "(0 row(s) affected)"
                    },
                    "metadata": {}
                },
                {
                    "output_type": "display_data",
                    "data": {
                        "text/html": "Total execution time: 00:00:01.020"
                    },
                    "metadata": {}
                },
                {
                    "output_type": "execute_result",
                    "metadata": {},
                    "execution_count": 5,
                    "data": {
                        "application/vnd.dataresource+json": {
                            "schema": {
                                "fields": [
                                    {
                                        "name": "Año"
                                    },
                                    {
                                        "name": "Ventas_Totales"
                                    }
                                ]
                            },
                            "data": []
                        },
                        "text/html": [
                            "<table>",
                            "<tr><th>Año</th><th>Ventas_Totales</th></tr>",
                            "</table>"
                        ]
                    }
                }
            ],
            "execution_count": 5
        },
        {
            "cell_type": "markdown",
            "source": [
                "## Condicional IF"
            ],
            "metadata": {
                "language": "sql",
                "azdata_cell_guid": "58b9ed6b-9884-4c56-a813-8d731646fb70"
            },
            "attachments": {}
        },
        {
            "cell_type": "markdown",
            "source": [
                "**3\\. Genera una lista para dar seguimiento a las ventas mayores a $ 2.9 M en 2019**"
            ],
            "metadata": {
                "language": "sql",
                "azdata_cell_guid": "11763f1c-809f-4847-9b31-5ff0d0d8d177"
            },
            "attachments": {}
        },
        {
            "cell_type": "code",
            "source": [
                "SELECT Fecha_venta, Venta\r\n",
                "FROM ventas\r\n",
                "WHERE Fecha_venta LIKE '%-19'\r\n",
                "  AND Venta > 2900000;"
            ],
            "metadata": {
                "language": "sql",
                "azdata_cell_guid": "28e3062e-2fcd-4f84-bf36-601d7c70f178"
            },
            "outputs": [
                {
                    "output_type": "display_data",
                    "data": {
                        "text/html": "(3 row(s) affected)"
                    },
                    "metadata": {}
                },
                {
                    "output_type": "display_data",
                    "data": {
                        "text/html": "Total execution time: 00:00:01.039"
                    },
                    "metadata": {}
                },
                {
                    "output_type": "execute_result",
                    "metadata": {},
                    "execution_count": 8,
                    "data": {
                        "application/vnd.dataresource+json": {
                            "schema": {
                                "fields": [
                                    {
                                        "name": "Fecha_venta"
                                    },
                                    {
                                        "name": "Venta"
                                    }
                                ]
                            },
                            "data": [
                                {
                                    "Fecha_venta": "2-Jul-19",
                                    "Venta": "2902284"
                                },
                                {
                                    "Fecha_venta": "29-Mar-19",
                                    "Venta": "2908500"
                                },
                                {
                                    "Fecha_venta": "4-Jun-19",
                                    "Venta": "2914416"
                                }
                            ]
                        },
                        "text/html": [
                            "<table>",
                            "<tr><th>Fecha_venta</th><th>Venta</th></tr>",
                            "<tr><td>2-Jul-19</td><td>2902284</td></tr>",
                            "<tr><td>29-Mar-19</td><td>2908500</td></tr>",
                            "<tr><td>4-Jun-19</td><td>2914416</td></tr>",
                            "</table>"
                        ]
                    }
                }
            ],
            "execution_count": 8
        },
        {
            "cell_type": "markdown",
            "source": [
                "## Parte 2. Uso de IF y CASE. Responder usando otra base de datos que se creará a continuación:"
            ],
            "metadata": {
                "language": "sql",
                "azdata_cell_guid": "7fcc3630-8bc0-4383-be50-70a2a1239de7"
            },
            "attachments": {}
        },
        {
            "cell_type": "markdown",
            "source": [
                "-  <span style=\"color: var(--cib-color-syntax-gray); font-family: Menlo, Monaco, Consolas, &quot;Droid Sans Mono&quot;, &quot;Courier New&quot;, monospace, &quot;Droid Sans Fallback&quot;; font-size: var(--cib-type-body1-font-size); font-weight: var(--cib-type-body1-font-weight); white-space-collapse: preserve;\">Crear la base de datos 'market' si no existe:</span>"
            ],
            "metadata": {
                "language": "sql",
                "azdata_cell_guid": "9368c130-8b6d-4705-8d7a-7680025d47d6"
            },
            "attachments": {}
        },
        {
            "cell_type": "code",
            "source": [
                "CREATE DATABASE IF NOT EXISTS market;\r\n",
                "USE market;"
            ],
            "metadata": {
                "language": "sql",
                "azdata_cell_guid": "45580aeb-3fe8-401c-9328-9621da5e71f6",
                "tags": [
                    "hide_input"
                ]
            },
            "outputs": [
                {
                    "output_type": "display_data",
                    "data": {
                        "text/html": "Commands completed successfully"
                    },
                    "metadata": {}
                },
                {
                    "output_type": "display_data",
                    "data": {
                        "text/html": "Commands completed successfully"
                    },
                    "metadata": {}
                },
                {
                    "output_type": "display_data",
                    "data": {
                        "text/html": "Total execution time: 00:00:00.034"
                    },
                    "metadata": {}
                }
            ],
            "execution_count": 9
        },
        {
            "cell_type": "markdown",
            "source": [
                "- Crear la tabla 'Ventas'"
            ],
            "metadata": {
                "language": "sql",
                "azdata_cell_guid": "0cf1937c-a5cc-4c6b-b9ef-cdb8252eeea0"
            },
            "attachments": {}
        },
        {
            "cell_type": "code",
            "source": [
                "CREATE TABLE Ventas (\r\n",
                "    ID INT AUTO_INCREMENT PRIMARY KEY,\r\n",
                "    Producto VARCHAR(100),\r\n",
                "    Cantidad INT,\r\n",
                "    Precio DECIMAL(10,2),\r\n",
                "    Descuento DECIMAL(5,2)\r\n",
                ");"
            ],
            "metadata": {
                "language": "sql",
                "azdata_cell_guid": "dcdfd2ab-9822-41b5-90d0-6e374e3f055b"
            },
            "outputs": [
                {
                    "output_type": "display_data",
                    "data": {
                        "text/html": "Commands completed successfully"
                    },
                    "metadata": {}
                },
                {
                    "output_type": "display_data",
                    "data": {
                        "text/html": "Total execution time: 00:00:00.046"
                    },
                    "metadata": {}
                }
            ],
            "execution_count": 10
        },
        {
            "cell_type": "markdown",
            "source": [
                "- Insertar 10 registros en 'Ventas'"
            ],
            "metadata": {
                "language": "sql",
                "azdata_cell_guid": "4f96d700-ff32-49b5-9da1-3ec376cfc611"
            },
            "attachments": {}
        },
        {
            "cell_type": "code",
            "source": [
                "INSERT INTO Ventas (Producto, Cantidad, Precio, Descuento) VALUES\r\n",
                "('Laptop', 1, 1200.00, 0),\r\n",
                "('Smartphone', 2, 300.00, 15.00),\r\n",
                "('Teclado', 5, 50.00, 5.00),\r\n",
                "('Monitor', 2, 200.00, 10.00),\r\n",
                "('Mouse', 10, 20.00, 2.00),\r\n",
                "('Cámara Web', 3, 70.00, 5.00),\r\n",
                "('Altavoces', 4, 35.00, 3.50),\r\n",
                "('Impresora', 1, 85.00, 0),\r\n",
                "('Router', 2, 60.00, 0),\r\n",
                "('Tablet', 5, 250.00, 12.50);"
            ],
            "metadata": {
                "language": "sql",
                "azdata_cell_guid": "9a9722ea-eb80-4751-91d9-de0c8c186ce8"
            },
            "outputs": [
                {
                    "output_type": "display_data",
                    "data": {
                        "text/html": "Commands completed successfully"
                    },
                    "metadata": {}
                },
                {
                    "output_type": "display_data",
                    "data": {
                        "text/html": "Total execution time: 00:00:00.062"
                    },
                    "metadata": {}
                }
            ],
            "execution_count": 11
        },
        {
            "cell_type": "markdown",
            "source": [
                "### _Una vez creada la base de datos y la tabla responder las siguientes preguntas usando IF y/o CASE_"
            ],
            "metadata": {
                "language": "sql",
                "azdata_cell_guid": "0c960f01-2b69-4e63-8692-b673f89ae3f9"
            },
            "attachments": {}
        },
        {
            "cell_type": "markdown",
            "source": [
                "**4.**  <span style=\"color: var(--cib-color-syntax-gray); font-family: Menlo, Monaco, Consolas, &quot;Droid Sans Mono&quot;, &quot;Courier New&quot;, monospace, &quot;Droid Sans Fallback&quot;; font-size: var(--cib-type-body1-font-size); white-space-collapse: preserve;\"><b>Aplicar descuento si la cantidad es mayor a 3</b></span>"
            ],
            "metadata": {
                "language": "sql",
                "azdata_cell_guid": "79da35c0-46e3-4a33-a24f-62d4883fbe3f"
            },
            "attachments": {}
        },
        {
            "cell_type": "code",
            "source": [
                ""
            ],
            "metadata": {
                "language": "sql",
                "azdata_cell_guid": "24b4f8c8-9c50-45f6-b754-df5d54cf4bb9"
            },
            "outputs": [],
            "execution_count": null
        },
        {
            "cell_type": "markdown",
            "source": [
                "**5.** <span style=\"color: var(--cib-color-syntax-gray); font-family: Menlo, Monaco, Consolas, &quot;Droid Sans Mono&quot;, &quot;Courier New&quot;, monospace, &quot;Droid Sans Fallback&quot;; font-size: var(--cib-type-body1-font-size); white-space-collapse: preserve;\"><b>Clasificar productos como 'Caro' o 'Barato' basado en el precio. Establezca usted mismo el criterio de 'Caro' y 'Barato'</b></span>"
            ],
            "metadata": {
                "language": "sql",
                "azdata_cell_guid": "e7ad562d-09a6-4417-9b17-a2bd5a6f06cc"
            },
            "attachments": {}
        },
        {
            "cell_type": "code",
            "source": [
                ""
            ],
            "metadata": {
                "language": "sql",
                "azdata_cell_guid": "5f0bd861-67c4-4688-8451-1cf5ce09b673"
            },
            "outputs": [],
            "execution_count": null
        },
        {
            "cell_type": "markdown",
            "source": [
                "**6.** <span style=\"color: var(--cib-color-syntax-gray); font-family: Menlo, Monaco, Consolas, &quot;Droid Sans Mono&quot;, &quot;Courier New&quot;, monospace, &quot;Droid Sans Fallback&quot;; font-size: var(--cib-type-body1-font-size); white-space-collapse: preserve;\"><b>Calcular el total de ventas con y sin descuento</b></span>"
            ],
            "metadata": {
                "language": "sql",
                "azdata_cell_guid": "8f064a70-41a5-449e-8a46-052a2627d897"
            },
            "attachments": {}
        },
        {
            "cell_type": "code",
            "source": [
                ""
            ],
            "metadata": {
                "language": "sql",
                "azdata_cell_guid": "e8bd708c-dfad-460e-845a-0d41bba21746"
            },
            "outputs": [],
            "execution_count": null
        },
        {
            "cell_type": "markdown",
            "source": [
                "**7.** <span style=\"color: var(--cib-color-syntax-gray); font-family: Menlo, Monaco, Consolas, &quot;Droid Sans Mono&quot;, &quot;Courier New&quot;, monospace, &quot;Droid Sans Fallback&quot;; font-size: var(--cib-type-body1-font-size); white-space-collapse: preserve;\"><b>Aplicar un descuento adicional del 10% a los productos que ya tienen descuento</b></span>"
            ],
            "metadata": {
                "language": "sql",
                "azdata_cell_guid": "7164efcb-8e88-4310-9408-e9bee7fdaf79"
            },
            "attachments": {}
        },
        {
            "cell_type": "code",
            "source": [
                ""
            ],
            "metadata": {
                "language": "sql",
                "azdata_cell_guid": "4373f678-0f79-4490-917d-76a7ffc410d8"
            },
            "outputs": [],
            "execution_count": null
        },
        {
            "cell_type": "markdown",
            "source": [
                "**8.** <span style=\"color: var(--cib-color-syntax-gray); font-family: Menlo, Monaco, Consolas, &quot;Droid Sans Mono&quot;, &quot;Courier New&quot;, monospace, &quot;Droid Sans Fallback&quot;; font-size: var(--cib-type-body1-font-size); white-space-collapse: preserve;\"><b>Aumentar el precio de los productos en un 20% si se venden menos de 3 unidades</b></span>"
            ],
            "metadata": {
                "language": "sql",
                "azdata_cell_guid": "5bfac967-7f23-46f1-b9cb-771848bf797f"
            },
            "attachments": {}
        },
        {
            "cell_type": "code",
            "source": [
                ""
            ],
            "metadata": {
                "language": "sql",
                "azdata_cell_guid": "df0d953a-dac0-43c5-9258-ef9f4e8a1f02"
            },
            "outputs": [],
            "execution_count": null
        },
        {
            "cell_type": "markdown",
            "source": [
                "**9. <span style=\"color: var(--cib-color-syntax-gray); font-family: Menlo, Monaco, Consolas, &quot;Droid Sans Mono&quot;, &quot;Courier New&quot;, monospace, &quot;Droid Sans Fallback&quot;; font-size: var(--cib-type-body1-font-size); white-space-collapse: preserve;\">Asignar un rango de ventas basado en la cantidad vendida. Establezca usted mismo los criterios, por ejemplo: ALTO, MEDIO o BAJO según en valor que consideres.</span>**"
            ],
            "metadata": {
                "language": "sql",
                "azdata_cell_guid": "36319839-fff7-450e-b1dc-717faebe2db0"
            },
            "attachments": {}
        },
        {
            "cell_type": "code",
            "source": [
                ""
            ],
            "metadata": {
                "language": "sql",
                "azdata_cell_guid": "b39682cb-6ae2-4a51-a354-73431fb87ee1"
            },
            "outputs": [],
            "execution_count": null
        },
        {
            "cell_type": "markdown",
            "source": [
                "**10.** <span style=\"color: var(--cib-color-syntax-gray); font-family: Menlo, Monaco, Consolas, &quot;Droid Sans Mono&quot;, &quot;Courier New&quot;, monospace, &quot;Droid Sans Fallback&quot;; font-size: var(--cib-type-body1-font-size); white-space-collapse: preserve;\"><b>Determinar la categoría del producto basado en el precio</b></span>"
            ],
            "metadata": {
                "language": "sql",
                "azdata_cell_guid": "521ef5f6-5b1d-423f-b6ca-ab1db1c5a6ca"
            },
            "attachments": {}
        },
        {
            "cell_type": "code",
            "source": [
                "SELECT\r\n",
                "    ProductId,\r\n",
                "    ProductName,\r\n",
                "    Price,\r\n",
                "    CASE\r\n",
                "        WHEN Price < 100 THEN 'Categoría Baja'\r\n",
                "        WHEN Price >= 100 AND Price < 500 THEN 'Categoría Media'\r\n",
                "        ELSE 'Categoría Alta'\r\n",
                "    END AS Categoria\r\n",
                "FROM ventas;"
            ],
            "metadata": {
                "language": "sql",
                "azdata_cell_guid": "e6183f4d-d35d-437f-8027-0fad1e857e38"
            },
            "outputs": [
                {
                    "output_type": "display_data",
                    "data": {
                        "text/html": "Total execution time: 00:00:00"
                    },
                    "metadata": {}
                },
                {
                    "output_type": "error",
                    "evalue": "1054 (42S22): Unknown column 'ProductId' in 'field list'",
                    "ename": "",
                    "traceback": []
                }
            ],
            "execution_count": 15
        },
        {
            "cell_type": "markdown",
            "source": [
                "**11.**  <span style=\"color: var(--cib-color-syntax-gray); font-family: Menlo, Monaco, Consolas, &quot;Droid Sans Mono&quot;, &quot;Courier New&quot;, monospace, &quot;Droid Sans Fallback&quot;; font-size: var(--cib-type-body1-font-size); white-space-collapse: preserve;\"><b>Aplicar un impuesto adicional para productos caros</b></span>"
            ],
            "metadata": {
                "language": "sql",
                "azdata_cell_guid": "d40e15dc-862c-4116-8e01-19b00438c775"
            },
            "attachments": {}
        },
        {
            "cell_type": "code",
            "source": [
                "SELECT producto,\r\n",
                "       cantidad,\r\n",
                "       precio,\r\n",
                "       descuento,\r\n",
                "       CASE \r\n",
                "           WHEN precio > [precio_limite] THEN precio * [tasa_impuesto_adicional]\r\n",
                "           ELSE 0\r\n",
                "       END AS impuesto_adicional\r\n",
                "FROM ventas;"
            ],
            "metadata": {
                "language": "sql",
                "azdata_cell_guid": "b88e4243-79dc-4c96-9ff7-5a0c5c3e80e4"
            },
            "outputs": [
                {
                    "output_type": "display_data",
                    "data": {
                        "text/html": "Total execution time: 00:00:00"
                    },
                    "metadata": {}
                },
                {
                    "output_type": "error",
                    "evalue": "1064 (42000): You have an error in your SQL syntax; check the manual that corresponds to your MySQL server version for the right syntax to use near '[precio_limite] THEN precio * [tasa_impuesto_adicional]\n           ELSE 0\n      ' at line 6",
                    "ename": "",
                    "traceback": []
                }
            ],
            "execution_count": 14
        },
        {
            "cell_type": "markdown",
            "source": [
                "**12.** <span style=\"color: var(--cib-color-syntax-gray); font-family: Menlo, Monaco, Consolas, &quot;Droid Sans Mono&quot;, &quot;Courier New&quot;, monospace, &quot;Droid Sans Fallback&quot;; font-size: var(--cib-type-body1-font-size); white-space-collapse: preserve;\"><b>Asignar un nivel de stock basado en la cantidad. Establece tu mismo los criterios, por ejemplo: Sobrestock, stock adecuado, bajo stock.</b></span>"
            ],
            "metadata": {
                "language": "sql",
                "azdata_cell_guid": "fc74d4b7-9e5d-44bf-bb47-81eecf095707"
            },
            "attachments": {}
        },
        {
            "cell_type": "code",
            "source": [
                "SELECT producto,\r\n",
                "       cantidad,\r\n",
                "       precio,\r\n",
                "       descuento,\r\n",
                "       CASE\r\n",
                "           WHEN cantidad > 10 THEN 'Sobrestock'\r\n",
                "           WHEN cantidad BETWEEN 5 AND 10 THEN 'Stock adecuado'\r\n",
                "           WHEN cantidad < 5 THEN 'Bajo stock'\r\n",
                "       END AS nivel_de_stock\r\n",
                "FROM ventas;"
            ],
            "metadata": {
                "language": "sql",
                "azdata_cell_guid": "d15ff687-2124-4e8d-969a-fa9455a68cd7"
            },
            "outputs": [
                {
                    "output_type": "display_data",
                    "data": {
                        "text/html": "(10 row(s) affected)"
                    },
                    "metadata": {}
                },
                {
                    "output_type": "display_data",
                    "data": {
                        "text/html": "Total execution time: 00:00:01.013"
                    },
                    "metadata": {}
                },
                {
                    "output_type": "execute_result",
                    "metadata": {},
                    "execution_count": 13,
                    "data": {
                        "application/vnd.dataresource+json": {
                            "schema": {
                                "fields": [
                                    {
                                        "name": "producto"
                                    },
                                    {
                                        "name": "cantidad"
                                    },
                                    {
                                        "name": "precio"
                                    },
                                    {
                                        "name": "descuento"
                                    },
                                    {
                                        "name": "nivel_de_stock"
                                    }
                                ]
                            },
                            "data": [
                                {
                                    "producto": "Laptop",
                                    "cantidad": "1",
                                    "precio": "1200.00",
                                    "descuento": "0.00",
                                    "nivel_de_stock": "Bajo stock"
                                },
                                {
                                    "producto": "Smartphone",
                                    "cantidad": "2",
                                    "precio": "300.00",
                                    "descuento": "15.00",
                                    "nivel_de_stock": "Bajo stock"
                                },
                                {
                                    "producto": "Teclado",
                                    "cantidad": "5",
                                    "precio": "50.00",
                                    "descuento": "5.00",
                                    "nivel_de_stock": "Stock adecuado"
                                },
                                {
                                    "producto": "Monitor",
                                    "cantidad": "2",
                                    "precio": "200.00",
                                    "descuento": "10.00",
                                    "nivel_de_stock": "Bajo stock"
                                },
                                {
                                    "producto": "Mouse",
                                    "cantidad": "10",
                                    "precio": "20.00",
                                    "descuento": "2.00",
                                    "nivel_de_stock": "Stock adecuado"
                                },
                                {
                                    "producto": "Cámara Web",
                                    "cantidad": "3",
                                    "precio": "70.00",
                                    "descuento": "5.00",
                                    "nivel_de_stock": "Bajo stock"
                                },
                                {
                                    "producto": "Altavoces",
                                    "cantidad": "4",
                                    "precio": "35.00",
                                    "descuento": "3.50",
                                    "nivel_de_stock": "Bajo stock"
                                },
                                {
                                    "producto": "Impresora",
                                    "cantidad": "1",
                                    "precio": "85.00",
                                    "descuento": "0.00",
                                    "nivel_de_stock": "Bajo stock"
                                },
                                {
                                    "producto": "Router",
                                    "cantidad": "2",
                                    "precio": "60.00",
                                    "descuento": "0.00",
                                    "nivel_de_stock": "Bajo stock"
                                },
                                {
                                    "producto": "Tablet",
                                    "cantidad": "5",
                                    "precio": "250.00",
                                    "descuento": "12.50",
                                    "nivel_de_stock": "Stock adecuado"
                                }
                            ]
                        },
                        "text/html": [
                            "<table>",
                            "<tr><th>producto</th><th>cantidad</th><th>precio</th><th>descuento</th><th>nivel_de_stock</th></tr>",
                            "<tr><td>Laptop</td><td>1</td><td>1200.00</td><td>0.00</td><td>Bajo stock</td></tr>",
                            "<tr><td>Smartphone</td><td>2</td><td>300.00</td><td>15.00</td><td>Bajo stock</td></tr>",
                            "<tr><td>Teclado</td><td>5</td><td>50.00</td><td>5.00</td><td>Stock adecuado</td></tr>",
                            "<tr><td>Monitor</td><td>2</td><td>200.00</td><td>10.00</td><td>Bajo stock</td></tr>",
                            "<tr><td>Mouse</td><td>10</td><td>20.00</td><td>2.00</td><td>Stock adecuado</td></tr>",
                            "<tr><td>Cámara Web</td><td>3</td><td>70.00</td><td>5.00</td><td>Bajo stock</td></tr>",
                            "<tr><td>Altavoces</td><td>4</td><td>35.00</td><td>3.50</td><td>Bajo stock</td></tr>",
                            "<tr><td>Impresora</td><td>1</td><td>85.00</td><td>0.00</td><td>Bajo stock</td></tr>",
                            "<tr><td>Router</td><td>2</td><td>60.00</td><td>0.00</td><td>Bajo stock</td></tr>",
                            "<tr><td>Tablet</td><td>5</td><td>250.00</td><td>12.50</td><td>Stock adecuado</td></tr>",
                            "</table>"
                        ]
                    }
                }
            ],
            "execution_count": 13
        },
        {
            "cell_type": "markdown",
            "source": [
                "<span style=\"color: rgb(17, 17, 17); font-family: -apple-system, Roboto, SegoeUI, &quot;Segoe UI&quot;, &quot;Helvetica Neue&quot;, Helvetica, &quot;Microsoft YaHei&quot;, &quot;Meiryo UI&quot;, Meiryo, &quot;Arial Unicode MS&quot;, sans-serif; font-size: 16px; background-color: rgb(255, 255, 255);\">La nueva columna llamada&nbsp;</span> `nivel_de_stock` <span style=\"color: rgb(17, 17, 17); font-family: -apple-system, Roboto, SegoeUI, &quot;Segoe UI&quot;, &quot;Helvetica Neue&quot;, Helvetica, &quot;Microsoft YaHei&quot;, &quot;Meiryo UI&quot;, Meiryo, &quot;Arial Unicode MS&quot;, sans-serif; font-size: 16px; background-color: rgb(255, 255, 255);\">en la salida, donde se categorizará el nivel de stock de cada producto según su cantidad: más de diez unidades se considerarán “Sobrestock”, entre cinco y diez unidades serán “Stock adecuado” y menos de cinco unidades se considerarán “Bajo stock”.&nbsp;</span>"
            ],
            "metadata": {
                "azdata_cell_guid": "8bd892ea-6110-4e67-bb39-6489bd87bfe3"
            },
            "attachments": {}
        }
    ]
}