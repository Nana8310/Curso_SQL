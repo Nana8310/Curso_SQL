{
    "metadata": {
        "kernelspec": {
            "name": "SQL",
            "display_name": "SQL",
            "language": "sql"
        },
        "language_info": {
            "name": "sql",
            "version": ""
        }
    },
    "nbformat_minor": 2,
    "nbformat": 4,
    "cells": [
        {
            "cell_type": "markdown",
            "source": [
                "# Practica 12 - Funciones esenciales en SQL"
            ],
            "metadata": {
                "azdata_cell_guid": "340994e9-49a9-469b-ae0b-edbfb84e7052"
            },
            "attachments": {}
        },
        {
            "cell_type": "markdown",
            "source": [
                "## Parte 1. Responder utilizando el schema **base.sql**"
            ],
            "metadata": {
                "azdata_cell_guid": "7d5c20f0-61e7-4846-94db-5bb6c9154d1a"
            },
            "attachments": {}
        },
        {
            "cell_type": "markdown",
            "source": [
                "## Funciones String & Fecha"
            ],
            "metadata": {
                "azdata_cell_guid": "6ed64a62-e15f-43ed-b81b-3a159413d8de"
            },
            "attachments": {}
        },
        {
            "cell_type": "markdown",
            "source": [
                "**1\\. ¿Cuál es el nombre y apellido más largo de nuestros vendedores?**"
            ],
            "metadata": {
                "azdata_cell_guid": "d1a88cf2-a322-4ebe-a9b9-decc60f2cdda"
            },
            "attachments": {}
        },
        {
            "cell_type": "code",
            "source": [
                "SELECT Nombre, Apellido\r\n",
                "FROM vendedor\r\n",
                "ORDER BY LENGTH(Nombre) DESC, Apellido\r\n",
                "LIMIT 1;"
            ],
            "metadata": {
                "azdata_cell_guid": "dd12b97c-e864-42de-82cb-d8666dae007d",
                "language": "sql"
            },
            "outputs": [
                {
                    "output_type": "display_data",
                    "data": {
                        "text/html": "(1 row(s) affected)"
                    },
                    "metadata": {}
                },
                {
                    "output_type": "display_data",
                    "data": {
                        "text/html": "Total execution time: 00:00:01.033"
                    },
                    "metadata": {}
                },
                {
                    "output_type": "execute_result",
                    "execution_count": 4,
                    "data": {
                        "application/vnd.dataresource+json": {
                            "schema": {
                                "fields": [
                                    {
                                        "name": "Nombre"
                                    },
                                    {
                                        "name": "Apellido"
                                    }
                                ]
                            },
                            "data": [
                                {
                                    "Nombre": "FRANCISCO JAVIER",
                                    "Apellido": "GARCIA"
                                }
                            ]
                        },
                        "text/html": "<table><tr><th>Nombre</th><th>Apellido</th></tr><tr><td>FRANCISCO JAVIER</td><td>GARCIA</td></tr></table>"
                    },
                    "metadata": {}
                }
            ],
            "execution_count": 4
        },
        {
            "cell_type": "markdown",
            "source": [
                "**2\\. Obtener las ventas totales para los últimos 3 años**"
            ],
            "metadata": {
                "language": "sql",
                "azdata_cell_guid": "945251e9-3b9a-4ca3-b879-85741d25ea5b"
            },
            "attachments": {}
        },
        {
            "cell_type": "code",
            "source": [
                "SELECT YEAR(Fecha_venta) AS Año,\r\n",
                "       SUM(Venta) AS Ventas_Totales\r\n",
                "FROM ventas\r\n",
                "WHERE YEAR(Fecha_venta) >= YEAR(CURRENT_DATE) - 2\r\n",
                "GROUP BY YEAR(Fecha_venta)\r\n",
                "ORDER BY Año;"
            ],
            "metadata": {
                "language": "sql",
                "azdata_cell_guid": "7c0804ce-0af2-4d6d-88c0-dac7bd100847"
            },
            "outputs": [
                {
                    "output_type": "display_data",
                    "data": {
                        "text/html": "(0 row(s) affected)"
                    },
                    "metadata": {}
                },
                {
                    "output_type": "display_data",
                    "data": {
                        "text/html": "Total execution time: 00:00:01.020"
                    },
                    "metadata": {}
                },
                {
                    "output_type": "execute_result",
                    "execution_count": 5,
                    "data": {
                        "application/vnd.dataresource+json": {
                            "schema": {
                                "fields": [
                                    {
                                        "name": "Año"
                                    },
                                    {
                                        "name": "Ventas_Totales"
                                    }
                                ]
                            },
                            "data": []
                        },
                        "text/html": "<table><tr><th>Año</th><th>Ventas_Totales</th></tr></table>"
                    },
                    "metadata": {}
                }
            ],
            "execution_count": 5
        },
        {
            "cell_type": "markdown",
            "source": [
                "## Condicional IF"
            ],
            "metadata": {
                "language": "sql",
                "azdata_cell_guid": "58b9ed6b-9884-4c56-a813-8d731646fb70"
            },
            "attachments": {}
        },
        {
            "cell_type": "markdown",
            "source": [
                "**3\\. Genera una lista para dar seguimiento a las ventas mayores a $ 2.9 M en 2019**"
            ],
            "metadata": {
                "language": "sql",
                "azdata_cell_guid": "11763f1c-809f-4847-9b31-5ff0d0d8d177"
            },
            "attachments": {}
        },
        {
            "cell_type": "code",
            "source": [
                "SELECT Fecha_venta, Venta\r\n",
                "FROM ventas\r\n",
                "WHERE Fecha_venta LIKE '%-19'\r\n",
                "  AND Venta > 2900000;"
            ],
            "metadata": {
                "language": "sql",
                "azdata_cell_guid": "28e3062e-2fcd-4f84-bf36-601d7c70f178"
            },
            "outputs": [
                {
                    "output_type": "display_data",
                    "data": {
                        "text/html": "(3 row(s) affected)"
                    },
                    "metadata": {}
                },
                {
                    "output_type": "display_data",
                    "data": {
                        "text/html": "Total execution time: 00:00:01.039"
                    },
                    "metadata": {}
                },
                {
                    "output_type": "execute_result",
                    "execution_count": 8,
                    "data": {
                        "application/vnd.dataresource+json": {
                            "schema": {
                                "fields": [
                                    {
                                        "name": "Fecha_venta"
                                    },
                                    {
                                        "name": "Venta"
                                    }
                                ]
                            },
                            "data": [
                                {
                                    "Fecha_venta": "2-Jul-19",
                                    "Venta": "2902284"
                                },
                                {
                                    "Fecha_venta": "29-Mar-19",
                                    "Venta": "2908500"
                                },
                                {
                                    "Fecha_venta": "4-Jun-19",
                                    "Venta": "2914416"
                                }
                            ]
                        },
                        "text/html": "<table><tr><th>Fecha_venta</th><th>Venta</th></tr><tr><td>2-Jul-19</td><td>2902284</td></tr><tr><td>29-Mar-19</td><td>2908500</td></tr><tr><td>4-Jun-19</td><td>2914416</td></tr></table>"
                    },
                    "metadata": {}
                }
            ],
            "execution_count": 8
        },
        {
            "cell_type": "markdown",
            "source": [
                "## Parte 2. Uso de IF y CASE. Responder usando otra base de datos que se creará a continuación:"
            ],
            "metadata": {
                "language": "sql",
                "azdata_cell_guid": "7fcc3630-8bc0-4383-be50-70a2a1239de7"
            },
            "attachments": {}
        },
        {
            "cell_type": "markdown",
            "source": [
                "-  <span style=\"color: var(--cib-color-syntax-gray); font-family: Menlo, Monaco, Consolas, &quot;Droid Sans Mono&quot;, &quot;Courier New&quot;, monospace, &quot;Droid Sans Fallback&quot;; font-size: var(--cib-type-body1-font-size); font-weight: var(--cib-type-body1-font-weight); white-space-collapse: preserve;\">Crear la base de datos 'market' si no existe:</span>"
            ],
            "metadata": {
                "language": "sql",
                "azdata_cell_guid": "9368c130-8b6d-4705-8d7a-7680025d47d6"
            },
            "attachments": {}
        },
        {
            "cell_type": "code",
            "source": [
                "CREATE DATABASE IF NOT EXISTS market;\r\n",
                "USE market;"
            ],
            "metadata": {
                "language": "sql",
                "azdata_cell_guid": "45580aeb-3fe8-401c-9328-9621da5e71f6",
                "tags": [
                    "hide_input"
                ]
            },
            "outputs": [
                {
                    "output_type": "display_data",
                    "data": {
                        "text/html": "Commands completed successfully"
                    },
                    "metadata": {}
                },
                {
                    "output_type": "display_data",
                    "data": {
                        "text/html": "Commands completed successfully"
                    },
                    "metadata": {}
                },
                {
                    "output_type": "display_data",
                    "data": {
                        "text/html": "Total execution time: 00:00:00.034"
                    },
                    "metadata": {}
                }
            ],
            "execution_count": 9
        },
        {
            "cell_type": "markdown",
            "source": [
                "- Crear la tabla 'Ventas'"
            ],
            "metadata": {
                "language": "sql",
                "azdata_cell_guid": "0cf1937c-a5cc-4c6b-b9ef-cdb8252eeea0"
            },
            "attachments": {}
        },
        {
            "cell_type": "code",
            "source": [
                "CREATE TABLE Ventas (\r\n",
                "    ID INT AUTO_INCREMENT PRIMARY KEY,\r\n",
                "    Producto VARCHAR(100),\r\n",
                "    Cantidad INT,\r\n",
                "    Precio DECIMAL(10,2),\r\n",
                "    Descuento DECIMAL(5,2)\r\n",
                ");"
            ],
            "metadata": {
                "language": "sql",
                "azdata_cell_guid": "dcdfd2ab-9822-41b5-90d0-6e374e3f055b"
            },
            "outputs": [
                {
                    "output_type": "display_data",
                    "data": {
                        "text/html": "Commands completed successfully"
                    },
                    "metadata": {}
                },
                {
                    "output_type": "display_data",
                    "data": {
                        "text/html": "Total execution time: 00:00:00.046"
                    },
                    "metadata": {}
                }
            ],
            "execution_count": 10
        },
        {
            "cell_type": "markdown",
            "source": [
                "- Insertar 10 registros en 'Ventas'"
            ],
            "metadata": {
                "language": "sql",
                "azdata_cell_guid": "4f96d700-ff32-49b5-9da1-3ec376cfc611"
            },
            "attachments": {}
        },
        {
            "cell_type": "code",
            "source": [
                "INSERT INTO Ventas (Producto, Cantidad, Precio, Descuento) VALUES\r\n",
                "('Laptop', 1, 1200.00, 0),\r\n",
                "('Smartphone', 2, 300.00, 15.00),\r\n",
                "('Teclado', 5, 50.00, 5.00),\r\n",
                "('Monitor', 2, 200.00, 10.00),\r\n",
                "('Mouse', 10, 20.00, 2.00),\r\n",
                "('Cámara Web', 3, 70.00, 5.00),\r\n",
                "('Altavoces', 4, 35.00, 3.50),\r\n",
                "('Impresora', 1, 85.00, 0),\r\n",
                "('Router', 2, 60.00, 0),\r\n",
                "('Tablet', 5, 250.00, 12.50);"
            ],
            "metadata": {
                "language": "sql",
                "azdata_cell_guid": "9a9722ea-eb80-4751-91d9-de0c8c186ce8"
            },
            "outputs": [
                {
                    "output_type": "display_data",
                    "data": {
                        "text/html": "Commands completed successfully"
                    },
                    "metadata": {}
                },
                {
                    "output_type": "display_data",
                    "data": {
                        "text/html": "Total execution time: 00:00:00.062"
                    },
                    "metadata": {}
                }
            ],
            "execution_count": 11
        },
        {
            "cell_type": "markdown",
            "source": [
                "### _Una vez creada la base de datos y la tabla responder las siguientes preguntas usando IF y/o CASE_"
            ],
            "metadata": {
                "language": "sql",
                "azdata_cell_guid": "0c960f01-2b69-4e63-8692-b673f89ae3f9"
            },
            "attachments": {}
        },
        {
            "cell_type": "markdown",
            "source": [
                "**4.**  <span style=\"color: var(--cib-color-syntax-gray); font-family: Menlo, Monaco, Consolas, &quot;Droid Sans Mono&quot;, &quot;Courier New&quot;, monospace, &quot;Droid Sans Fallback&quot;; font-size: var(--cib-type-body1-font-size); white-space-collapse: preserve;\"><b>Aplicar descuento si la cantidad es mayor a 3</b></span>"
            ],
            "metadata": {
                "language": "sql",
                "azdata_cell_guid": "79da35c0-46e3-4a33-a24f-62d4883fbe3f"
            },
            "attachments": {}
        },
        {
            "cell_type": "code",
            "source": [
                "SELECT Producto,Cantidad,Precio,\r\n",
                "    ROUND(\r\n",
                "        CASE \r\n",
                "            WHEN Cantidad > 3 THEN (Cantidad * Precio) * (1 - Descuento / 100)\r\n",
                "            ELSE Cantidad * Precio\r\n",
                "        END, 2) AS TotalConDescuento\r\n",
                "FROM ventas;"
            ],
            "metadata": {
                "language": "sql",
                "azdata_cell_guid": "24b4f8c8-9c50-45f6-b754-df5d54cf4bb9"
            },
            "outputs": [
                {
                    "output_type": "display_data",
                    "data": {
                        "text/html": "(10 row(s) affected)"
                    },
                    "metadata": {}
                },
                {
                    "output_type": "display_data",
                    "data": {
                        "text/html": "Total execution time: 00:00:01.026"
                    },
                    "metadata": {}
                },
                {
                    "output_type": "execute_result",
                    "metadata": {},
                    "execution_count": 90,
                    "data": {
                        "application/vnd.dataresource+json": {
                            "schema": {
                                "fields": [
                                    {
                                        "name": "Producto"
                                    },
                                    {
                                        "name": "Cantidad"
                                    },
                                    {
                                        "name": "Precio"
                                    },
                                    {
                                        "name": "TotalConDescuento"
                                    }
                                ]
                            },
                            "data": [
                                {
                                    "Producto": "Laptop",
                                    "Cantidad": "1",
                                    "Precio": "1200.00",
                                    "TotalConDescuento": "1200.00"
                                },
                                {
                                    "Producto": "Smartphone",
                                    "Cantidad": "2",
                                    "Precio": "300.00",
                                    "TotalConDescuento": "600.00"
                                },
                                {
                                    "Producto": "Teclado",
                                    "Cantidad": "5",
                                    "Precio": "50.00",
                                    "TotalConDescuento": "237.50"
                                },
                                {
                                    "Producto": "Monitor",
                                    "Cantidad": "2",
                                    "Precio": "200.00",
                                    "TotalConDescuento": "400.00"
                                },
                                {
                                    "Producto": "Mouse",
                                    "Cantidad": "10",
                                    "Precio": "20.00",
                                    "TotalConDescuento": "196.00"
                                },
                                {
                                    "Producto": "Cámara Web",
                                    "Cantidad": "3",
                                    "Precio": "70.00",
                                    "TotalConDescuento": "210.00"
                                },
                                {
                                    "Producto": "Altavoces",
                                    "Cantidad": "4",
                                    "Precio": "35.00",
                                    "TotalConDescuento": "135.10"
                                },
                                {
                                    "Producto": "Impresora",
                                    "Cantidad": "1",
                                    "Precio": "85.00",
                                    "TotalConDescuento": "85.00"
                                },
                                {
                                    "Producto": "Router",
                                    "Cantidad": "2",
                                    "Precio": "60.00",
                                    "TotalConDescuento": "120.00"
                                },
                                {
                                    "Producto": "Tablet",
                                    "Cantidad": "5",
                                    "Precio": "250.00",
                                    "TotalConDescuento": "1093.75"
                                }
                            ]
                        },
                        "text/html": [
                            "<table>",
                            "<tr><th>Producto</th><th>Cantidad</th><th>Precio</th><th>TotalConDescuento</th></tr>",
                            "<tr><td>Laptop</td><td>1</td><td>1200.00</td><td>1200.00</td></tr>",
                            "<tr><td>Smartphone</td><td>2</td><td>300.00</td><td>600.00</td></tr>",
                            "<tr><td>Teclado</td><td>5</td><td>50.00</td><td>237.50</td></tr>",
                            "<tr><td>Monitor</td><td>2</td><td>200.00</td><td>400.00</td></tr>",
                            "<tr><td>Mouse</td><td>10</td><td>20.00</td><td>196.00</td></tr>",
                            "<tr><td>Cámara Web</td><td>3</td><td>70.00</td><td>210.00</td></tr>",
                            "<tr><td>Altavoces</td><td>4</td><td>35.00</td><td>135.10</td></tr>",
                            "<tr><td>Impresora</td><td>1</td><td>85.00</td><td>85.00</td></tr>",
                            "<tr><td>Router</td><td>2</td><td>60.00</td><td>120.00</td></tr>",
                            "<tr><td>Tablet</td><td>5</td><td>250.00</td><td>1093.75</td></tr>",
                            "</table>"
                        ]
                    }
                }
            ],
            "execution_count": 90
        },
        {
            "cell_type": "code",
            "source": [
                "SELECT Producto,Cantidad,Precio,\r\n",
                "    ROUND(IF(Cantidad > 3, (Cantidad * Precio) * (1 - Descuento / 100), Cantidad * Precio),2) AS TotalConDescuento\r\n",
                "FROM ventas;"
            ],
            "metadata": {
                "azdata_cell_guid": "b5a172d2-1ac4-4427-8433-216a3c4fdc0a",
                "language": "sql"
            },
            "outputs": [
                {
                    "output_type": "display_data",
                    "data": {
                        "text/html": "(10 row(s) affected)"
                    },
                    "metadata": {}
                },
                {
                    "output_type": "display_data",
                    "data": {
                        "text/html": "Total execution time: 00:00:01.012"
                    },
                    "metadata": {}
                },
                {
                    "output_type": "execute_result",
                    "metadata": {},
                    "execution_count": 93,
                    "data": {
                        "application/vnd.dataresource+json": {
                            "schema": {
                                "fields": [
                                    {
                                        "name": "Producto"
                                    },
                                    {
                                        "name": "Cantidad"
                                    },
                                    {
                                        "name": "Precio"
                                    },
                                    {
                                        "name": "TotalConDescuento"
                                    }
                                ]
                            },
                            "data": [
                                {
                                    "Producto": "Laptop",
                                    "Cantidad": "1",
                                    "Precio": "1200.00",
                                    "TotalConDescuento": "1200.00"
                                },
                                {
                                    "Producto": "Smartphone",
                                    "Cantidad": "2",
                                    "Precio": "300.00",
                                    "TotalConDescuento": "600.00"
                                },
                                {
                                    "Producto": "Teclado",
                                    "Cantidad": "5",
                                    "Precio": "50.00",
                                    "TotalConDescuento": "237.50"
                                },
                                {
                                    "Producto": "Monitor",
                                    "Cantidad": "2",
                                    "Precio": "200.00",
                                    "TotalConDescuento": "400.00"
                                },
                                {
                                    "Producto": "Mouse",
                                    "Cantidad": "10",
                                    "Precio": "20.00",
                                    "TotalConDescuento": "196.00"
                                },
                                {
                                    "Producto": "Cámara Web",
                                    "Cantidad": "3",
                                    "Precio": "70.00",
                                    "TotalConDescuento": "210.00"
                                },
                                {
                                    "Producto": "Altavoces",
                                    "Cantidad": "4",
                                    "Precio": "35.00",
                                    "TotalConDescuento": "135.10"
                                },
                                {
                                    "Producto": "Impresora",
                                    "Cantidad": "1",
                                    "Precio": "85.00",
                                    "TotalConDescuento": "85.00"
                                },
                                {
                                    "Producto": "Router",
                                    "Cantidad": "2",
                                    "Precio": "60.00",
                                    "TotalConDescuento": "120.00"
                                },
                                {
                                    "Producto": "Tablet",
                                    "Cantidad": "5",
                                    "Precio": "250.00",
                                    "TotalConDescuento": "1093.75"
                                }
                            ]
                        },
                        "text/html": [
                            "<table>",
                            "<tr><th>Producto</th><th>Cantidad</th><th>Precio</th><th>TotalConDescuento</th></tr>",
                            "<tr><td>Laptop</td><td>1</td><td>1200.00</td><td>1200.00</td></tr>",
                            "<tr><td>Smartphone</td><td>2</td><td>300.00</td><td>600.00</td></tr>",
                            "<tr><td>Teclado</td><td>5</td><td>50.00</td><td>237.50</td></tr>",
                            "<tr><td>Monitor</td><td>2</td><td>200.00</td><td>400.00</td></tr>",
                            "<tr><td>Mouse</td><td>10</td><td>20.00</td><td>196.00</td></tr>",
                            "<tr><td>Cámara Web</td><td>3</td><td>70.00</td><td>210.00</td></tr>",
                            "<tr><td>Altavoces</td><td>4</td><td>35.00</td><td>135.10</td></tr>",
                            "<tr><td>Impresora</td><td>1</td><td>85.00</td><td>85.00</td></tr>",
                            "<tr><td>Router</td><td>2</td><td>60.00</td><td>120.00</td></tr>",
                            "<tr><td>Tablet</td><td>5</td><td>250.00</td><td>1093.75</td></tr>",
                            "</table>"
                        ]
                    }
                }
            ],
            "execution_count": 93
        },
        {
            "cell_type": "markdown",
            "source": [
                "**5.** <span style=\"color: var(--cib-color-syntax-gray); font-family: Menlo, Monaco, Consolas, &quot;Droid Sans Mono&quot;, &quot;Courier New&quot;, monospace, &quot;Droid Sans Fallback&quot;; font-size: var(--cib-type-body1-font-size); white-space-collapse: preserve;\"><b>Clasificar productos como 'Caro' o 'Barato' basado en el precio. Establezca usted mismo el criterio de 'Caro' y 'Barato'</b></span>"
            ],
            "metadata": {
                "language": "sql",
                "azdata_cell_guid": "e7ad562d-09a6-4417-9b17-a2bd5a6f06cc"
            },
            "attachments": {}
        },
        {
            "cell_type": "code",
            "source": [
                "SELECT \r\n",
                "    Producto,\r\n",
                "    Precio,\r\n",
                "    CASE \r\n",
                "        WHEN Precio > 500 THEN 'Caro'\r\n",
                "        ELSE 'Barato'\r\n",
                "    END AS Clasificacion\r\n",
                "FROM ventas;"
            ],
            "metadata": {
                "language": "sql",
                "azdata_cell_guid": "5f0bd861-67c4-4688-8451-1cf5ce09b673"
            },
            "outputs": [
                {
                    "output_type": "display_data",
                    "data": {
                        "text/html": "(10 row(s) affected)"
                    },
                    "metadata": {}
                },
                {
                    "output_type": "display_data",
                    "data": {
                        "text/html": "Total execution time: 00:00:01.034"
                    },
                    "metadata": {}
                },
                {
                    "output_type": "execute_result",
                    "metadata": {},
                    "execution_count": 84,
                    "data": {
                        "application/vnd.dataresource+json": {
                            "schema": {
                                "fields": [
                                    {
                                        "name": "Producto"
                                    },
                                    {
                                        "name": "Precio"
                                    },
                                    {
                                        "name": "Clasificacion"
                                    }
                                ]
                            },
                            "data": [
                                {
                                    "Producto": "Laptop",
                                    "Precio": "1200.00",
                                    "Clasificacion": "Caro"
                                },
                                {
                                    "Producto": "Smartphone",
                                    "Precio": "300.00",
                                    "Clasificacion": "Barato"
                                },
                                {
                                    "Producto": "Teclado",
                                    "Precio": "50.00",
                                    "Clasificacion": "Barato"
                                },
                                {
                                    "Producto": "Monitor",
                                    "Precio": "200.00",
                                    "Clasificacion": "Barato"
                                },
                                {
                                    "Producto": "Mouse",
                                    "Precio": "20.00",
                                    "Clasificacion": "Barato"
                                },
                                {
                                    "Producto": "Cámara Web",
                                    "Precio": "70.00",
                                    "Clasificacion": "Barato"
                                },
                                {
                                    "Producto": "Altavoces",
                                    "Precio": "35.00",
                                    "Clasificacion": "Barato"
                                },
                                {
                                    "Producto": "Impresora",
                                    "Precio": "85.00",
                                    "Clasificacion": "Barato"
                                },
                                {
                                    "Producto": "Router",
                                    "Precio": "60.00",
                                    "Clasificacion": "Barato"
                                },
                                {
                                    "Producto": "Tablet",
                                    "Precio": "250.00",
                                    "Clasificacion": "Barato"
                                }
                            ]
                        },
                        "text/html": [
                            "<table>",
                            "<tr><th>Producto</th><th>Precio</th><th>Clasificacion</th></tr>",
                            "<tr><td>Laptop</td><td>1200.00</td><td>Caro</td></tr>",
                            "<tr><td>Smartphone</td><td>300.00</td><td>Barato</td></tr>",
                            "<tr><td>Teclado</td><td>50.00</td><td>Barato</td></tr>",
                            "<tr><td>Monitor</td><td>200.00</td><td>Barato</td></tr>",
                            "<tr><td>Mouse</td><td>20.00</td><td>Barato</td></tr>",
                            "<tr><td>Cámara Web</td><td>70.00</td><td>Barato</td></tr>",
                            "<tr><td>Altavoces</td><td>35.00</td><td>Barato</td></tr>",
                            "<tr><td>Impresora</td><td>85.00</td><td>Barato</td></tr>",
                            "<tr><td>Router</td><td>60.00</td><td>Barato</td></tr>",
                            "<tr><td>Tablet</td><td>250.00</td><td>Barato</td></tr>",
                            "</table>"
                        ]
                    }
                }
            ],
            "execution_count": 84
        },
        {
            "cell_type": "markdown",
            "source": [
                "**6.** <span style=\"color: var(--cib-color-syntax-gray); font-family: Menlo, Monaco, Consolas, &quot;Droid Sans Mono&quot;, &quot;Courier New&quot;, monospace, &quot;Droid Sans Fallback&quot;; font-size: var(--cib-type-body1-font-size); white-space-collapse: preserve;\"><b>Calcular el total de ventas con y sin descuento</b></span>"
            ],
            "metadata": {
                "language": "sql",
                "azdata_cell_guid": "8f064a70-41a5-449e-8a46-052a2627d897"
            },
            "attachments": {}
        },
        {
            "cell_type": "code",
            "source": [
                "SELECT Producto,\r\n",
                "SUM(CASE WHEN Descuento > 0 THEN (Cantidad * Precio) - (Cantidad * Descuento)\r\n",
                "    ELSE Cantidad * Precio\r\n",
                "    END) AS TotalConDescuento,\r\n",
                "    SUM(Cantidad * Precio) AS TotalSinDescuento\r\n",
                "FROM ventas\r\n",
                "GROUP BY Producto;"
            ],
            "metadata": {
                "language": "sql",
                "azdata_cell_guid": "e8bd708c-dfad-460e-845a-0d41bba21746"
            },
            "outputs": [
                {
                    "output_type": "display_data",
                    "data": {
                        "text/html": "(10 row(s) affected)"
                    },
                    "metadata": {}
                },
                {
                    "output_type": "display_data",
                    "data": {
                        "text/html": "Total execution time: 00:00:01.011"
                    },
                    "metadata": {}
                },
                {
                    "output_type": "execute_result",
                    "metadata": {},
                    "execution_count": 97,
                    "data": {
                        "application/vnd.dataresource+json": {
                            "schema": {
                                "fields": [
                                    {
                                        "name": "Producto"
                                    },
                                    {
                                        "name": "TotalConDescuento"
                                    },
                                    {
                                        "name": "TotalSinDescuento"
                                    }
                                ]
                            },
                            "data": [
                                {
                                    "Producto": "Laptop",
                                    "TotalConDescuento": "1200.00",
                                    "TotalSinDescuento": "1200.00"
                                },
                                {
                                    "Producto": "Smartphone",
                                    "TotalConDescuento": "570.00",
                                    "TotalSinDescuento": "600.00"
                                },
                                {
                                    "Producto": "Teclado",
                                    "TotalConDescuento": "225.00",
                                    "TotalSinDescuento": "250.00"
                                },
                                {
                                    "Producto": "Monitor",
                                    "TotalConDescuento": "380.00",
                                    "TotalSinDescuento": "400.00"
                                },
                                {
                                    "Producto": "Mouse",
                                    "TotalConDescuento": "180.00",
                                    "TotalSinDescuento": "200.00"
                                },
                                {
                                    "Producto": "Cámara Web",
                                    "TotalConDescuento": "195.00",
                                    "TotalSinDescuento": "210.00"
                                },
                                {
                                    "Producto": "Altavoces",
                                    "TotalConDescuento": "126.00",
                                    "TotalSinDescuento": "140.00"
                                },
                                {
                                    "Producto": "Impresora",
                                    "TotalConDescuento": "85.00",
                                    "TotalSinDescuento": "85.00"
                                },
                                {
                                    "Producto": "Router",
                                    "TotalConDescuento": "120.00",
                                    "TotalSinDescuento": "120.00"
                                },
                                {
                                    "Producto": "Tablet",
                                    "TotalConDescuento": "1187.50",
                                    "TotalSinDescuento": "1250.00"
                                }
                            ]
                        },
                        "text/html": [
                            "<table>",
                            "<tr><th>Producto</th><th>TotalConDescuento</th><th>TotalSinDescuento</th></tr>",
                            "<tr><td>Laptop</td><td>1200.00</td><td>1200.00</td></tr>",
                            "<tr><td>Smartphone</td><td>570.00</td><td>600.00</td></tr>",
                            "<tr><td>Teclado</td><td>225.00</td><td>250.00</td></tr>",
                            "<tr><td>Monitor</td><td>380.00</td><td>400.00</td></tr>",
                            "<tr><td>Mouse</td><td>180.00</td><td>200.00</td></tr>",
                            "<tr><td>Cámara Web</td><td>195.00</td><td>210.00</td></tr>",
                            "<tr><td>Altavoces</td><td>126.00</td><td>140.00</td></tr>",
                            "<tr><td>Impresora</td><td>85.00</td><td>85.00</td></tr>",
                            "<tr><td>Router</td><td>120.00</td><td>120.00</td></tr>",
                            "<tr><td>Tablet</td><td>1187.50</td><td>1250.00</td></tr>",
                            "</table>"
                        ]
                    }
                }
            ],
            "execution_count": 97
        },
        {
            "cell_type": "markdown",
            "source": [
                "**7.** <span style=\"color: var(--cib-color-syntax-gray); font-family: Menlo, Monaco, Consolas, &quot;Droid Sans Mono&quot;, &quot;Courier New&quot;, monospace, &quot;Droid Sans Fallback&quot;; font-size: var(--cib-type-body1-font-size); white-space-collapse: preserve;\"><b>Aplicar un descuento adicional del 10% a los productos que ya tienen descuento</b></span>"
            ],
            "metadata": {
                "language": "sql",
                "azdata_cell_guid": "7164efcb-8e88-4310-9408-e9bee7fdaf79"
            },
            "attachments": {}
        },
        {
            "cell_type": "code",
            "source": [
                "SELECT ID,Producto,Precio,Descuento,\r\n",
                "    ROUND(\r\n",
                "        CASE \r\n",
                "            WHEN Descuento > 0 THEN Precio * (1 - (Descuento + 10)/100 ) \r\n",
                "            ELSE Precio\r\n",
                "        END, 2) AS NuevoPrecio\r\n",
                "FROM \r\n",
                "    ventas;"
            ],
            "metadata": {
                "azdata_cell_guid": "ca86ea7a-6268-43f5-bb58-9a3ccd456363",
                "language": "sql"
            },
            "outputs": [
                {
                    "output_type": "display_data",
                    "data": {
                        "text/html": "(10 row(s) affected)"
                    },
                    "metadata": {}
                },
                {
                    "output_type": "display_data",
                    "data": {
                        "text/html": "Total execution time: 00:00:01.013"
                    },
                    "metadata": {}
                },
                {
                    "output_type": "execute_result",
                    "metadata": {},
                    "execution_count": 79,
                    "data": {
                        "application/vnd.dataresource+json": {
                            "schema": {
                                "fields": [
                                    {
                                        "name": "ID"
                                    },
                                    {
                                        "name": "Producto"
                                    },
                                    {
                                        "name": "Precio"
                                    },
                                    {
                                        "name": "Descuento"
                                    },
                                    {
                                        "name": "NuevoPrecio"
                                    }
                                ]
                            },
                            "data": [
                                {
                                    "ID": "1",
                                    "Producto": "Laptop",
                                    "Precio": "1200.00",
                                    "Descuento": "0.00",
                                    "NuevoPrecio": "1200.00"
                                },
                                {
                                    "ID": "2",
                                    "Producto": "Smartphone",
                                    "Precio": "300.00",
                                    "Descuento": "15.00",
                                    "NuevoPrecio": "225.00"
                                },
                                {
                                    "ID": "3",
                                    "Producto": "Teclado",
                                    "Precio": "50.00",
                                    "Descuento": "5.00",
                                    "NuevoPrecio": "42.50"
                                },
                                {
                                    "ID": "4",
                                    "Producto": "Monitor",
                                    "Precio": "200.00",
                                    "Descuento": "10.00",
                                    "NuevoPrecio": "160.00"
                                },
                                {
                                    "ID": "5",
                                    "Producto": "Mouse",
                                    "Precio": "20.00",
                                    "Descuento": "2.00",
                                    "NuevoPrecio": "17.60"
                                },
                                {
                                    "ID": "6",
                                    "Producto": "Cámara Web",
                                    "Precio": "70.00",
                                    "Descuento": "5.00",
                                    "NuevoPrecio": "59.50"
                                },
                                {
                                    "ID": "7",
                                    "Producto": "Altavoces",
                                    "Precio": "35.00",
                                    "Descuento": "3.50",
                                    "NuevoPrecio": "30.28"
                                },
                                {
                                    "ID": "8",
                                    "Producto": "Impresora",
                                    "Precio": "85.00",
                                    "Descuento": "0.00",
                                    "NuevoPrecio": "85.00"
                                },
                                {
                                    "ID": "9",
                                    "Producto": "Router",
                                    "Precio": "60.00",
                                    "Descuento": "0.00",
                                    "NuevoPrecio": "60.00"
                                },
                                {
                                    "ID": "10",
                                    "Producto": "Tablet",
                                    "Precio": "250.00",
                                    "Descuento": "12.50",
                                    "NuevoPrecio": "193.75"
                                }
                            ]
                        },
                        "text/html": [
                            "<table>",
                            "<tr><th>ID</th><th>Producto</th><th>Precio</th><th>Descuento</th><th>NuevoPrecio</th></tr>",
                            "<tr><td>1</td><td>Laptop</td><td>1200.00</td><td>0.00</td><td>1200.00</td></tr>",
                            "<tr><td>2</td><td>Smartphone</td><td>300.00</td><td>15.00</td><td>225.00</td></tr>",
                            "<tr><td>3</td><td>Teclado</td><td>50.00</td><td>5.00</td><td>42.50</td></tr>",
                            "<tr><td>4</td><td>Monitor</td><td>200.00</td><td>10.00</td><td>160.00</td></tr>",
                            "<tr><td>5</td><td>Mouse</td><td>20.00</td><td>2.00</td><td>17.60</td></tr>",
                            "<tr><td>6</td><td>Cámara Web</td><td>70.00</td><td>5.00</td><td>59.50</td></tr>",
                            "<tr><td>7</td><td>Altavoces</td><td>35.00</td><td>3.50</td><td>30.28</td></tr>",
                            "<tr><td>8</td><td>Impresora</td><td>85.00</td><td>0.00</td><td>85.00</td></tr>",
                            "<tr><td>9</td><td>Router</td><td>60.00</td><td>0.00</td><td>60.00</td></tr>",
                            "<tr><td>10</td><td>Tablet</td><td>250.00</td><td>12.50</td><td>193.75</td></tr>",
                            "</table>"
                        ]
                    }
                }
            ],
            "execution_count": 79
        },
        {
            "cell_type": "markdown",
            "source": [
                "**8.** <span style=\"color: var(--cib-color-syntax-gray); font-family: Menlo, Monaco, Consolas, &quot;Droid Sans Mono&quot;, &quot;Courier New&quot;, monospace, &quot;Droid Sans Fallback&quot;; font-size: var(--cib-type-body1-font-size); white-space-collapse: preserve;\"><b>Aumentar el precio de los productos en un 20% si se venden menos de 3 unidades</b></span>"
            ],
            "metadata": {
                "language": "sql",
                "azdata_cell_guid": "5bfac967-7f23-46f1-b9cb-771848bf797f"
            },
            "attachments": {}
        },
        {
            "cell_type": "code",
            "source": [
                "SELECT ID,Producto,Cantidad,Precio,\r\n",
                "    ROUND(\r\n",
                "        CASE \r\n",
                "            WHEN Cantidad < 3 THEN Precio * 1.20\r\n",
                "            ELSE Precio\r\n",
                "        END, 2) AS NuevoPrecio,\r\n",
                "    Descuento\r\n",
                "FROM \r\n",
                "    ventas;"
            ],
            "metadata": {
                "azdata_cell_guid": "00b25631-418a-4408-8efe-05fe2ad810d2",
                "language": "sql"
            },
            "outputs": [
                {
                    "output_type": "display_data",
                    "data": {
                        "text/html": "(10 row(s) affected)"
                    },
                    "metadata": {}
                },
                {
                    "output_type": "display_data",
                    "data": {
                        "text/html": "Total execution time: 00:00:01.017"
                    },
                    "metadata": {}
                },
                {
                    "output_type": "execute_result",
                    "metadata": {},
                    "execution_count": 96,
                    "data": {
                        "application/vnd.dataresource+json": {
                            "schema": {
                                "fields": [
                                    {
                                        "name": "ID"
                                    },
                                    {
                                        "name": "Producto"
                                    },
                                    {
                                        "name": "Cantidad"
                                    },
                                    {
                                        "name": "Precio"
                                    },
                                    {
                                        "name": "NuevoPrecio"
                                    },
                                    {
                                        "name": "Descuento"
                                    }
                                ]
                            },
                            "data": [
                                {
                                    "ID": "1",
                                    "Producto": "Laptop",
                                    "Cantidad": "1",
                                    "Precio": "1200.00",
                                    "NuevoPrecio": "1440.00",
                                    "Descuento": "0.00"
                                },
                                {
                                    "ID": "2",
                                    "Producto": "Smartphone",
                                    "Cantidad": "2",
                                    "Precio": "300.00",
                                    "NuevoPrecio": "360.00",
                                    "Descuento": "15.00"
                                },
                                {
                                    "ID": "3",
                                    "Producto": "Teclado",
                                    "Cantidad": "5",
                                    "Precio": "50.00",
                                    "NuevoPrecio": "50.00",
                                    "Descuento": "5.00"
                                },
                                {
                                    "ID": "4",
                                    "Producto": "Monitor",
                                    "Cantidad": "2",
                                    "Precio": "200.00",
                                    "NuevoPrecio": "240.00",
                                    "Descuento": "10.00"
                                },
                                {
                                    "ID": "5",
                                    "Producto": "Mouse",
                                    "Cantidad": "10",
                                    "Precio": "20.00",
                                    "NuevoPrecio": "20.00",
                                    "Descuento": "2.00"
                                },
                                {
                                    "ID": "6",
                                    "Producto": "Cámara Web",
                                    "Cantidad": "3",
                                    "Precio": "70.00",
                                    "NuevoPrecio": "70.00",
                                    "Descuento": "5.00"
                                },
                                {
                                    "ID": "7",
                                    "Producto": "Altavoces",
                                    "Cantidad": "4",
                                    "Precio": "35.00",
                                    "NuevoPrecio": "35.00",
                                    "Descuento": "3.50"
                                },
                                {
                                    "ID": "8",
                                    "Producto": "Impresora",
                                    "Cantidad": "1",
                                    "Precio": "85.00",
                                    "NuevoPrecio": "102.00",
                                    "Descuento": "0.00"
                                },
                                {
                                    "ID": "9",
                                    "Producto": "Router",
                                    "Cantidad": "2",
                                    "Precio": "60.00",
                                    "NuevoPrecio": "72.00",
                                    "Descuento": "0.00"
                                },
                                {
                                    "ID": "10",
                                    "Producto": "Tablet",
                                    "Cantidad": "5",
                                    "Precio": "250.00",
                                    "NuevoPrecio": "250.00",
                                    "Descuento": "12.50"
                                }
                            ]
                        },
                        "text/html": [
                            "<table>",
                            "<tr><th>ID</th><th>Producto</th><th>Cantidad</th><th>Precio</th><th>NuevoPrecio</th><th>Descuento</th></tr>",
                            "<tr><td>1</td><td>Laptop</td><td>1</td><td>1200.00</td><td>1440.00</td><td>0.00</td></tr>",
                            "<tr><td>2</td><td>Smartphone</td><td>2</td><td>300.00</td><td>360.00</td><td>15.00</td></tr>",
                            "<tr><td>3</td><td>Teclado</td><td>5</td><td>50.00</td><td>50.00</td><td>5.00</td></tr>",
                            "<tr><td>4</td><td>Monitor</td><td>2</td><td>200.00</td><td>240.00</td><td>10.00</td></tr>",
                            "<tr><td>5</td><td>Mouse</td><td>10</td><td>20.00</td><td>20.00</td><td>2.00</td></tr>",
                            "<tr><td>6</td><td>Cámara Web</td><td>3</td><td>70.00</td><td>70.00</td><td>5.00</td></tr>",
                            "<tr><td>7</td><td>Altavoces</td><td>4</td><td>35.00</td><td>35.00</td><td>3.50</td></tr>",
                            "<tr><td>8</td><td>Impresora</td><td>1</td><td>85.00</td><td>102.00</td><td>0.00</td></tr>",
                            "<tr><td>9</td><td>Router</td><td>2</td><td>60.00</td><td>72.00</td><td>0.00</td></tr>",
                            "<tr><td>10</td><td>Tablet</td><td>5</td><td>250.00</td><td>250.00</td><td>12.50</td></tr>",
                            "</table>"
                        ]
                    }
                }
            ],
            "execution_count": 96
        },
        {
            "cell_type": "markdown",
            "source": [
                "**9. <span style=\"color: var(--cib-color-syntax-gray); font-family: Menlo, Monaco, Consolas, &quot;Droid Sans Mono&quot;, &quot;Courier New&quot;, monospace, &quot;Droid Sans Fallback&quot;; font-size: var(--cib-type-body1-font-size); white-space-collapse: preserve;\">Asignar un rango de ventas basado en la cantidad vendida. Establezca usted mismo los criterios, por ejemplo: ALTO, MEDIO o BAJO según en valor que consideres.</span>**"
            ],
            "metadata": {
                "language": "sql",
                "azdata_cell_guid": "36319839-fff7-450e-b1dc-717faebe2db0"
            },
            "attachments": {}
        },
        {
            "cell_type": "code",
            "source": [
                "SELECT Producto,Cantidad,\r\n",
                "    CASE\r\n",
                "        WHEN Cantidad BETWEEN 8 AND 10 THEN 'ALTO'\r\n",
                "        WHEN Cantidad BETWEEN 4 AND 7 THEN 'MEDIO'\r\n",
                "        ELSE 'BAJO'\r\n",
                "    END AS Rango_Ventas\r\n",
                "FROM\r\n",
                "    ventas;"
            ],
            "metadata": {
                "language": "sql",
                "azdata_cell_guid": "b39682cb-6ae2-4a51-a354-73431fb87ee1",
                "tags": []
            },
            "outputs": [
                {
                    "output_type": "display_data",
                    "data": {
                        "text/html": "(10 row(s) affected)"
                    },
                    "metadata": {}
                },
                {
                    "output_type": "display_data",
                    "data": {
                        "text/html": "Total execution time: 00:00:01.004"
                    },
                    "metadata": {}
                },
                {
                    "output_type": "execute_result",
                    "metadata": {},
                    "execution_count": 95,
                    "data": {
                        "application/vnd.dataresource+json": {
                            "schema": {
                                "fields": [
                                    {
                                        "name": "Producto"
                                    },
                                    {
                                        "name": "Cantidad"
                                    },
                                    {
                                        "name": "Rango_Ventas"
                                    }
                                ]
                            },
                            "data": [
                                {
                                    "Producto": "Laptop",
                                    "Cantidad": "1",
                                    "Rango_Ventas": "BAJO"
                                },
                                {
                                    "Producto": "Smartphone",
                                    "Cantidad": "2",
                                    "Rango_Ventas": "BAJO"
                                },
                                {
                                    "Producto": "Teclado",
                                    "Cantidad": "5",
                                    "Rango_Ventas": "MEDIO"
                                },
                                {
                                    "Producto": "Monitor",
                                    "Cantidad": "2",
                                    "Rango_Ventas": "BAJO"
                                },
                                {
                                    "Producto": "Mouse",
                                    "Cantidad": "10",
                                    "Rango_Ventas": "ALTO"
                                },
                                {
                                    "Producto": "Cámara Web",
                                    "Cantidad": "3",
                                    "Rango_Ventas": "BAJO"
                                },
                                {
                                    "Producto": "Altavoces",
                                    "Cantidad": "4",
                                    "Rango_Ventas": "MEDIO"
                                },
                                {
                                    "Producto": "Impresora",
                                    "Cantidad": "1",
                                    "Rango_Ventas": "BAJO"
                                },
                                {
                                    "Producto": "Router",
                                    "Cantidad": "2",
                                    "Rango_Ventas": "BAJO"
                                },
                                {
                                    "Producto": "Tablet",
                                    "Cantidad": "5",
                                    "Rango_Ventas": "MEDIO"
                                }
                            ]
                        },
                        "text/html": [
                            "<table>",
                            "<tr><th>Producto</th><th>Cantidad</th><th>Rango_Ventas</th></tr>",
                            "<tr><td>Laptop</td><td>1</td><td>BAJO</td></tr>",
                            "<tr><td>Smartphone</td><td>2</td><td>BAJO</td></tr>",
                            "<tr><td>Teclado</td><td>5</td><td>MEDIO</td></tr>",
                            "<tr><td>Monitor</td><td>2</td><td>BAJO</td></tr>",
                            "<tr><td>Mouse</td><td>10</td><td>ALTO</td></tr>",
                            "<tr><td>Cámara Web</td><td>3</td><td>BAJO</td></tr>",
                            "<tr><td>Altavoces</td><td>4</td><td>MEDIO</td></tr>",
                            "<tr><td>Impresora</td><td>1</td><td>BAJO</td></tr>",
                            "<tr><td>Router</td><td>2</td><td>BAJO</td></tr>",
                            "<tr><td>Tablet</td><td>5</td><td>MEDIO</td></tr>",
                            "</table>"
                        ]
                    }
                }
            ],
            "execution_count": 95
        },
        {
            "cell_type": "markdown",
            "source": [
                "**10.** <span style=\"color: var(--cib-color-syntax-gray); font-family: Menlo, Monaco, Consolas, &quot;Droid Sans Mono&quot;, &quot;Courier New&quot;, monospace, &quot;Droid Sans Fallback&quot;; font-size: var(--cib-type-body1-font-size); white-space-collapse: preserve;\"><b>Determinar la categoría del producto basado en el precio</b></span>"
            ],
            "metadata": {
                "language": "sql",
                "azdata_cell_guid": "521ef5f6-5b1d-423f-b6ca-ab1db1c5a6ca"
            },
            "attachments": {}
        },
        {
            "cell_type": "code",
            "source": [
                "SELECT ID,Producto,Precio,\r\n",
                "    CASE\r\n",
                "        WHEN Precio < 100 THEN 'Categoría Baja'\r\n",
                "        WHEN Precio >= 100 AND Precio < 500 THEN 'Categoría Media'\r\n",
                "        ELSE 'Categoría Alta'\r\n",
                "    END AS Categoria\r\n",
                "FROM ventas;"
            ],
            "metadata": {
                "language": "sql",
                "azdata_cell_guid": "e6183f4d-d35d-437f-8027-0fad1e857e38",
                "tags": []
            },
            "outputs": [
                {
                    "output_type": "display_data",
                    "data": {
                        "text/html": "(10 row(s) affected)"
                    },
                    "metadata": {}
                },
                {
                    "output_type": "display_data",
                    "data": {
                        "text/html": "Total execution time: 00:00:01.025"
                    },
                    "metadata": {}
                },
                {
                    "output_type": "execute_result",
                    "metadata": {},
                    "execution_count": 94,
                    "data": {
                        "application/vnd.dataresource+json": {
                            "schema": {
                                "fields": [
                                    {
                                        "name": "ID"
                                    },
                                    {
                                        "name": "Producto"
                                    },
                                    {
                                        "name": "Precio"
                                    },
                                    {
                                        "name": "Categoria"
                                    }
                                ]
                            },
                            "data": [
                                {
                                    "ID": "1",
                                    "Producto": "Laptop",
                                    "Precio": "1200.00",
                                    "Categoria": "Categoría Alta"
                                },
                                {
                                    "ID": "2",
                                    "Producto": "Smartphone",
                                    "Precio": "300.00",
                                    "Categoria": "Categoría Media"
                                },
                                {
                                    "ID": "3",
                                    "Producto": "Teclado",
                                    "Precio": "50.00",
                                    "Categoria": "Categoría Baja"
                                },
                                {
                                    "ID": "4",
                                    "Producto": "Monitor",
                                    "Precio": "200.00",
                                    "Categoria": "Categoría Media"
                                },
                                {
                                    "ID": "5",
                                    "Producto": "Mouse",
                                    "Precio": "20.00",
                                    "Categoria": "Categoría Baja"
                                },
                                {
                                    "ID": "6",
                                    "Producto": "Cámara Web",
                                    "Precio": "70.00",
                                    "Categoria": "Categoría Baja"
                                },
                                {
                                    "ID": "7",
                                    "Producto": "Altavoces",
                                    "Precio": "35.00",
                                    "Categoria": "Categoría Baja"
                                },
                                {
                                    "ID": "8",
                                    "Producto": "Impresora",
                                    "Precio": "85.00",
                                    "Categoria": "Categoría Baja"
                                },
                                {
                                    "ID": "9",
                                    "Producto": "Router",
                                    "Precio": "60.00",
                                    "Categoria": "Categoría Baja"
                                },
                                {
                                    "ID": "10",
                                    "Producto": "Tablet",
                                    "Precio": "250.00",
                                    "Categoria": "Categoría Media"
                                }
                            ]
                        },
                        "text/html": [
                            "<table>",
                            "<tr><th>ID</th><th>Producto</th><th>Precio</th><th>Categoria</th></tr>",
                            "<tr><td>1</td><td>Laptop</td><td>1200.00</td><td>Categoría Alta</td></tr>",
                            "<tr><td>2</td><td>Smartphone</td><td>300.00</td><td>Categoría Media</td></tr>",
                            "<tr><td>3</td><td>Teclado</td><td>50.00</td><td>Categoría Baja</td></tr>",
                            "<tr><td>4</td><td>Monitor</td><td>200.00</td><td>Categoría Media</td></tr>",
                            "<tr><td>5</td><td>Mouse</td><td>20.00</td><td>Categoría Baja</td></tr>",
                            "<tr><td>6</td><td>Cámara Web</td><td>70.00</td><td>Categoría Baja</td></tr>",
                            "<tr><td>7</td><td>Altavoces</td><td>35.00</td><td>Categoría Baja</td></tr>",
                            "<tr><td>8</td><td>Impresora</td><td>85.00</td><td>Categoría Baja</td></tr>",
                            "<tr><td>9</td><td>Router</td><td>60.00</td><td>Categoría Baja</td></tr>",
                            "<tr><td>10</td><td>Tablet</td><td>250.00</td><td>Categoría Media</td></tr>",
                            "</table>"
                        ]
                    }
                }
            ],
            "execution_count": 94
        },
        {
            "cell_type": "markdown",
            "source": [
                "**11.**  <span style=\"color: var(--cib-color-syntax-gray); font-family: Menlo, Monaco, Consolas, &quot;Droid Sans Mono&quot;, &quot;Courier New&quot;, monospace, &quot;Droid Sans Fallback&quot;; font-size: var(--cib-type-body1-font-size); white-space-collapse: preserve;\"><b>Aplicar un impuesto adicional para productos caros</b></span>"
            ],
            "metadata": {
                "language": "sql",
                "azdata_cell_guid": "d40e15dc-862c-4116-8e01-19b00438c775"
            },
            "attachments": {}
        },
        {
            "cell_type": "code",
            "source": [
                "SELECT Producto,Precio,\r\n",
                "    CASE\r\n",
                "        WHEN Precio > 100 THEN Precio * 0.05\r\n",
                "        ELSE 0\r\n",
                "    END AS Impuesto_Adicional\r\n",
                "FROM\r\n",
                "    ventas;"
            ],
            "metadata": {
                "language": "sql",
                "azdata_cell_guid": "b88e4243-79dc-4c96-9ff7-5a0c5c3e80e4",
                "tags": []
            },
            "outputs": [
                {
                    "output_type": "display_data",
                    "data": {
                        "text/html": "(10 row(s) affected)"
                    },
                    "metadata": {}
                },
                {
                    "output_type": "display_data",
                    "data": {
                        "text/html": "Total execution time: 00:00:01.011"
                    },
                    "metadata": {}
                },
                {
                    "output_type": "execute_result",
                    "metadata": {},
                    "execution_count": 5,
                    "data": {
                        "application/vnd.dataresource+json": {
                            "schema": {
                                "fields": [
                                    {
                                        "name": "Producto"
                                    },
                                    {
                                        "name": "Precio"
                                    },
                                    {
                                        "name": "Impuesto_Adicional"
                                    }
                                ]
                            },
                            "data": [
                                {
                                    "Producto": "Laptop",
                                    "Precio": "1200.00",
                                    "Impuesto_Adicional": "60.0000"
                                },
                                {
                                    "Producto": "Smartphone",
                                    "Precio": "300.00",
                                    "Impuesto_Adicional": "15.0000"
                                },
                                {
                                    "Producto": "Teclado",
                                    "Precio": "50.00",
                                    "Impuesto_Adicional": "0"
                                },
                                {
                                    "Producto": "Monitor",
                                    "Precio": "200.00",
                                    "Impuesto_Adicional": "10.0000"
                                },
                                {
                                    "Producto": "Mouse",
                                    "Precio": "20.00",
                                    "Impuesto_Adicional": "0"
                                },
                                {
                                    "Producto": "Cámara Web",
                                    "Precio": "70.00",
                                    "Impuesto_Adicional": "0"
                                },
                                {
                                    "Producto": "Altavoces",
                                    "Precio": "35.00",
                                    "Impuesto_Adicional": "0"
                                },
                                {
                                    "Producto": "Impresora",
                                    "Precio": "85.00",
                                    "Impuesto_Adicional": "0"
                                },
                                {
                                    "Producto": "Router",
                                    "Precio": "60.00",
                                    "Impuesto_Adicional": "0"
                                },
                                {
                                    "Producto": "Tablet",
                                    "Precio": "250.00",
                                    "Impuesto_Adicional": "12.5000"
                                }
                            ]
                        },
                        "text/html": [
                            "<table>",
                            "<tr><th>Producto</th><th>Precio</th><th>Impuesto_Adicional</th></tr>",
                            "<tr><td>Laptop</td><td>1200.00</td><td>60.0000</td></tr>",
                            "<tr><td>Smartphone</td><td>300.00</td><td>15.0000</td></tr>",
                            "<tr><td>Teclado</td><td>50.00</td><td>0</td></tr>",
                            "<tr><td>Monitor</td><td>200.00</td><td>10.0000</td></tr>",
                            "<tr><td>Mouse</td><td>20.00</td><td>0</td></tr>",
                            "<tr><td>Cámara Web</td><td>70.00</td><td>0</td></tr>",
                            "<tr><td>Altavoces</td><td>35.00</td><td>0</td></tr>",
                            "<tr><td>Impresora</td><td>85.00</td><td>0</td></tr>",
                            "<tr><td>Router</td><td>60.00</td><td>0</td></tr>",
                            "<tr><td>Tablet</td><td>250.00</td><td>12.5000</td></tr>",
                            "</table>"
                        ]
                    }
                }
            ],
            "execution_count": 5
        },
        {
            "cell_type": "markdown",
            "source": [
                "- `Producto` y `Precio` son las columnas de tu tabla “ventas”.\n",
                "- El `CASE` verifica si el precio es mayor que $100.\n",
                "- Si es así, calcula el impuesto como el 5% del precio.\n",
                "- De lo contrario, establece el impuesto en 0."
            ],
            "metadata": {
                "azdata_cell_guid": "e8367776-b19f-4aa5-8079-b1b68dce1990"
            },
            "attachments": {}
        },
        {
            "cell_type": "markdown",
            "source": [
                "**12.** <span style=\"color: var(--cib-color-syntax-gray); font-family: Menlo, Monaco, Consolas, &quot;Droid Sans Mono&quot;, &quot;Courier New&quot;, monospace, &quot;Droid Sans Fallback&quot;; font-size: var(--cib-type-body1-font-size); white-space-collapse: preserve;\"><b>Asignar un nivel de stock basado en la cantidad. Establece tu mismo los criterios, por ejemplo: Sobrestock, stock adecuado, bajo stock.</b></span>"
            ],
            "metadata": {
                "language": "sql",
                "azdata_cell_guid": "fc74d4b7-9e5d-44bf-bb47-81eecf095707"
            },
            "attachments": {}
        },
        {
            "cell_type": "code",
            "source": [
                "SELECT producto,cantidad,precio,descuento,\r\n",
                "       CASE\r\n",
                "           WHEN cantidad > 10 THEN 'Sobrestock'\r\n",
                "           WHEN cantidad BETWEEN 5 AND 10 THEN 'Stock adecuado'\r\n",
                "           WHEN cantidad < 5 THEN 'Bajo stock'\r\n",
                "       END AS nivel_de_stock\r\n",
                "FROM ventas;"
            ],
            "metadata": {
                "language": "sql",
                "azdata_cell_guid": "d15ff687-2124-4e8d-969a-fa9455a68cd7",
                "tags": []
            },
            "outputs": [
                {
                    "output_type": "display_data",
                    "data": {
                        "text/html": "(10 row(s) affected)"
                    },
                    "metadata": {}
                },
                {
                    "output_type": "display_data",
                    "data": {
                        "text/html": "Total execution time: 00:00:01.013"
                    },
                    "metadata": {}
                },
                {
                    "output_type": "execute_result",
                    "execution_count": 13,
                    "data": {
                        "application/vnd.dataresource+json": {
                            "schema": {
                                "fields": [
                                    {
                                        "name": "producto"
                                    },
                                    {
                                        "name": "cantidad"
                                    },
                                    {
                                        "name": "precio"
                                    },
                                    {
                                        "name": "descuento"
                                    },
                                    {
                                        "name": "nivel_de_stock"
                                    }
                                ]
                            },
                            "data": [
                                {
                                    "producto": "Laptop",
                                    "cantidad": "1",
                                    "precio": "1200.00",
                                    "descuento": "0.00",
                                    "nivel_de_stock": "Bajo stock"
                                },
                                {
                                    "producto": "Smartphone",
                                    "cantidad": "2",
                                    "precio": "300.00",
                                    "descuento": "15.00",
                                    "nivel_de_stock": "Bajo stock"
                                },
                                {
                                    "producto": "Teclado",
                                    "cantidad": "5",
                                    "precio": "50.00",
                                    "descuento": "5.00",
                                    "nivel_de_stock": "Stock adecuado"
                                },
                                {
                                    "producto": "Monitor",
                                    "cantidad": "2",
                                    "precio": "200.00",
                                    "descuento": "10.00",
                                    "nivel_de_stock": "Bajo stock"
                                },
                                {
                                    "producto": "Mouse",
                                    "cantidad": "10",
                                    "precio": "20.00",
                                    "descuento": "2.00",
                                    "nivel_de_stock": "Stock adecuado"
                                },
                                {
                                    "producto": "Cámara Web",
                                    "cantidad": "3",
                                    "precio": "70.00",
                                    "descuento": "5.00",
                                    "nivel_de_stock": "Bajo stock"
                                },
                                {
                                    "producto": "Altavoces",
                                    "cantidad": "4",
                                    "precio": "35.00",
                                    "descuento": "3.50",
                                    "nivel_de_stock": "Bajo stock"
                                },
                                {
                                    "producto": "Impresora",
                                    "cantidad": "1",
                                    "precio": "85.00",
                                    "descuento": "0.00",
                                    "nivel_de_stock": "Bajo stock"
                                },
                                {
                                    "producto": "Router",
                                    "cantidad": "2",
                                    "precio": "60.00",
                                    "descuento": "0.00",
                                    "nivel_de_stock": "Bajo stock"
                                },
                                {
                                    "producto": "Tablet",
                                    "cantidad": "5",
                                    "precio": "250.00",
                                    "descuento": "12.50",
                                    "nivel_de_stock": "Stock adecuado"
                                }
                            ]
                        },
                        "text/html": "<table><tr><th>producto</th><th>cantidad</th><th>precio</th><th>descuento</th><th>nivel_de_stock</th></tr><tr><td>Laptop</td><td>1</td><td>1200.00</td><td>0.00</td><td>Bajo stock</td></tr><tr><td>Smartphone</td><td>2</td><td>300.00</td><td>15.00</td><td>Bajo stock</td></tr><tr><td>Teclado</td><td>5</td><td>50.00</td><td>5.00</td><td>Stock adecuado</td></tr><tr><td>Monitor</td><td>2</td><td>200.00</td><td>10.00</td><td>Bajo stock</td></tr><tr><td>Mouse</td><td>10</td><td>20.00</td><td>2.00</td><td>Stock adecuado</td></tr><tr><td>Cámara Web</td><td>3</td><td>70.00</td><td>5.00</td><td>Bajo stock</td></tr><tr><td>Altavoces</td><td>4</td><td>35.00</td><td>3.50</td><td>Bajo stock</td></tr><tr><td>Impresora</td><td>1</td><td>85.00</td><td>0.00</td><td>Bajo stock</td></tr><tr><td>Router</td><td>2</td><td>60.00</td><td>0.00</td><td>Bajo stock</td></tr><tr><td>Tablet</td><td>5</td><td>250.00</td><td>12.50</td><td>Stock adecuado</td></tr></table>"
                    },
                    "metadata": {}
                }
            ],
            "execution_count": 13
        },
        {
            "cell_type": "markdown",
            "source": [
                "<span style=\"color: rgb(17, 17, 17); font-family: -apple-system, Roboto, SegoeUI, &quot;Segoe UI&quot;, &quot;Helvetica Neue&quot;, Helvetica, &quot;Microsoft YaHei&quot;, &quot;Meiryo UI&quot;, Meiryo, &quot;Arial Unicode MS&quot;, sans-serif; font-size: 16px; background-color: rgb(255, 255, 255);\">La nueva columna llamada&nbsp;</span> `nivel_de_stock` <span style=\"color: rgb(17, 17, 17); font-family: -apple-system, Roboto, SegoeUI, &quot;Segoe UI&quot;, &quot;Helvetica Neue&quot;, Helvetica, &quot;Microsoft YaHei&quot;, &quot;Meiryo UI&quot;, Meiryo, &quot;Arial Unicode MS&quot;, sans-serif; font-size: 16px; background-color: rgb(255, 255, 255);\">en la salida, donde se categorizará el nivel de stock de cada producto según su cantidad: más de diez unidades se considerarán “Sobrestock”, entre cinco y diez unidades serán “Stock adecuado” y menos de cinco unidades se considerarán “Bajo stock”.&nbsp;</span>"
            ],
            "metadata": {
                "azdata_cell_guid": "8bd892ea-6110-4e67-bb39-6489bd87bfe3"
            },
            "attachments": {}
        }
    ]
}